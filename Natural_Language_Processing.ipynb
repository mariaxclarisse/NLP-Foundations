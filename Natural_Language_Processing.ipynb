{
  "cells": [
    {
      "cell_type": "markdown",
      "metadata": {
        "id": "view-in-github",
        "colab_type": "text"
      },
      "source": [
        "<a href=\"https://colab.research.google.com/github/mariaxclarisse/NLP-Foundations/blob/main/Natural_Language_Processing.ipynb\" target=\"_parent\"><img src=\"https://colab.research.google.com/assets/colab-badge.svg\" alt=\"Open In Colab\"/></a>"
      ]
    },
    {
      "cell_type": "markdown",
      "metadata": {
        "papermill": {
          "duration": 0.051323,
          "end_time": "2021-04-17T06:47:31.282287",
          "exception": false,
          "start_time": "2021-04-17T06:47:31.230964",
          "status": "completed"
        },
        "tags": [],
        "id": "JgMEuf1bNxpl"
      },
      "source": [
        "# **NATURAL LANGUAGE PROCESSING**"
      ]
    },
    {
      "cell_type": "markdown",
      "metadata": {
        "papermill": {
          "duration": 0.049228,
          "end_time": "2021-04-17T06:47:31.512683",
          "exception": false,
          "start_time": "2021-04-17T06:47:31.463455",
          "status": "completed"
        },
        "tags": [],
        "id": "uvR-oW4YNxpr"
      },
      "source": [
        "## **Outline**\n",
        "\n",
        "* **ENVIRONMENT SETUP**\n",
        "    * Install Packages\n",
        "    * Import Packages\n",
        "    \n",
        "\n",
        "* **DATA PREPROCESSING**\n",
        "    * Data Loading\n",
        "    * Preliminary Analysis\n",
        "    * Sentence Tokenization\n",
        "    * Word Tokenization\n",
        "    * Stopword Removal\n",
        "    * Removal of Tags\n",
        "    * Delimiter Removal\n",
        "    * Spell Check\n",
        "    * Stemming\n",
        "    * Lemmatization\n",
        "    \n",
        "    \n",
        "* **FEATURE ENGINEERING**\n",
        "    * Encoding    \n",
        "    * POS Tagger\n",
        "    * N-GRAM\n",
        "    * Bag Of Words\n",
        "    * TF\n",
        "    * TF-IDF\n",
        "    * Dependency Parser\n",
        "    * Named Entity Recognition\n",
        "    * Word Embedding\n",
        "    * Sentiment Analysis\n",
        "    * Subjectivity Detection"
      ]
    },
    {
      "cell_type": "markdown",
      "metadata": {
        "papermill": {
          "duration": 0.048848,
          "end_time": "2021-04-17T06:47:31.610942",
          "exception": false,
          "start_time": "2021-04-17T06:47:31.562094",
          "status": "completed"
        },
        "tags": [],
        "id": "AlUwYLQYNxps"
      },
      "source": [
        "# **ENVIRONMENT SETUP**"
      ]
    },
    {
      "cell_type": "markdown",
      "metadata": {
        "papermill": {
          "duration": 0.048941,
          "end_time": "2021-04-17T06:47:31.709294",
          "exception": false,
          "start_time": "2021-04-17T06:47:31.660353",
          "status": "completed"
        },
        "tags": [],
        "id": "-JBoWdTFNxpt"
      },
      "source": [
        "## **Install Packages**"
      ]
    },
    {
      "cell_type": "code",
      "execution_count": null,
      "metadata": {
        "_kg_hide-output": true,
        "execution": {
          "iopub.execute_input": "2021-04-17T06:47:31.814334Z",
          "iopub.status.busy": "2021-04-17T06:47:31.813669Z",
          "iopub.status.idle": "2021-04-17T06:47:41.705811Z",
          "shell.execute_reply": "2021-04-17T06:47:41.705017Z"
        },
        "papermill": {
          "duration": 9.947352,
          "end_time": "2021-04-17T06:47:41.705919",
          "exception": false,
          "start_time": "2021-04-17T06:47:31.758567",
          "status": "completed"
        },
        "tags": [],
        "id": "LvG1qsOTNxpt"
      },
      "outputs": [],
      "source": [
        "pip install autocorrect"
      ]
    },
    {
      "cell_type": "markdown",
      "metadata": {
        "papermill": {
          "duration": 0.054131,
          "end_time": "2021-04-17T06:47:41.816380",
          "exception": false,
          "start_time": "2021-04-17T06:47:41.762249",
          "status": "completed"
        },
        "tags": [],
        "id": "ePmcTSrrNxpw"
      },
      "source": [
        "<div class = \"alert alert-success\" style='color:black'> 🌟 SpaCy Version 3.0! </div>"
      ]
    },
    {
      "cell_type": "code",
      "execution_count": null,
      "metadata": {
        "_kg_hide-output": true,
        "execution": {
          "iopub.execute_input": "2021-04-17T06:47:41.929968Z",
          "iopub.status.busy": "2021-04-17T06:47:41.929162Z",
          "iopub.status.idle": "2021-04-17T06:48:12.969694Z",
          "shell.execute_reply": "2021-04-17T06:48:12.969018Z"
        },
        "papermill": {
          "duration": 31.099483,
          "end_time": "2021-04-17T06:48:12.969826",
          "exception": false,
          "start_time": "2021-04-17T06:47:41.870343",
          "status": "completed"
        },
        "tags": [],
        "id": "WexSScLLNxpx"
      },
      "outputs": [],
      "source": [
        "pip install spacy==3.0.5"
      ]
    },
    {
      "cell_type": "code",
      "execution_count": null,
      "metadata": {
        "_kg_hide-output": true,
        "execution": {
          "iopub.execute_input": "2021-04-17T06:48:13.143043Z",
          "iopub.status.busy": "2021-04-17T06:48:13.142224Z",
          "iopub.status.idle": "2021-04-17T06:48:33.763705Z",
          "shell.execute_reply": "2021-04-17T06:48:33.762672Z"
        },
        "papermill": {
          "duration": 20.709422,
          "end_time": "2021-04-17T06:48:33.763824",
          "exception": false,
          "start_time": "2021-04-17T06:48:13.054402",
          "status": "completed"
        },
        "tags": [],
        "id": "Y65IriLnNxp1"
      },
      "outputs": [],
      "source": [
        "!python -m spacy download en_core_web_sm"
      ]
    },
    {
      "cell_type": "code",
      "execution_count": null,
      "metadata": {
        "_kg_hide-output": true,
        "execution": {
          "iopub.execute_input": "2021-04-17T06:48:33.968669Z",
          "iopub.status.busy": "2021-04-17T06:48:33.967848Z",
          "iopub.status.idle": "2021-04-17T06:48:40.706239Z",
          "shell.execute_reply": "2021-04-17T06:48:40.705621Z"
        },
        "papermill": {
          "duration": 6.844276,
          "end_time": "2021-04-17T06:48:40.706370",
          "exception": false,
          "start_time": "2021-04-17T06:48:33.862094",
          "status": "completed"
        },
        "tags": [],
        "id": "coJRjFOwNxp2"
      },
      "outputs": [],
      "source": [
        "pip install spacytextblob"
      ]
    },
    {
      "cell_type": "markdown",
      "metadata": {
        "papermill": {
          "duration": 0.097036,
          "end_time": "2021-04-17T06:48:40.901217",
          "exception": false,
          "start_time": "2021-04-17T06:48:40.804181",
          "status": "completed"
        },
        "tags": [],
        "id": "XFNY5Zp0Nxp3"
      },
      "source": [
        "## **Import Packages**"
      ]
    },
    {
      "cell_type": "code",
      "execution_count": null,
      "metadata": {
        "_kg_hide-output": true,
        "execution": {
          "iopub.execute_input": "2021-04-17T06:48:41.110858Z",
          "iopub.status.busy": "2021-04-17T06:48:41.109988Z",
          "iopub.status.idle": "2021-04-17T06:48:46.391981Z",
          "shell.execute_reply": "2021-04-17T06:48:46.392729Z"
        },
        "papermill": {
          "duration": 5.394515,
          "end_time": "2021-04-17T06:48:46.392892",
          "exception": false,
          "start_time": "2021-04-17T06:48:40.998377",
          "status": "completed"
        },
        "tags": [],
        "id": "kZ4JJnU9Nxp3"
      },
      "outputs": [],
      "source": [
        "import warnings\n",
        "import numpy as np\n",
        "import pandas as pd\n",
        "import os\n",
        "import re\n",
        "import nltk\n",
        "from nltk.corpus import abc\n",
        "from nltk.tokenize import sent_tokenize, word_tokenize\n",
        "from nltk.corpus import stopwords\n",
        "from nltk.stem import WordNetLemmatizer\n",
        "from nltk.stem.porter import *\n",
        "from nltk.stem.snowball import *\n",
        "from nltk.util import ngrams\n",
        "import string\n",
        "import spacy\n",
        "from spacy import displacy\n",
        "from spacytextblob.spacytextblob import SpacyTextBlob\n",
        "from autocorrect import Speller\n",
        "from sklearn import preprocessing\n",
        "from sklearn.feature_extraction.text import CountVectorizer, TfidfVectorizer\n",
        "from sklearn.decomposition import PCA\n",
        "from wordcloud import WordCloud, STOPWORDS\n",
        "import gensim\n",
        "from gensim.models.word2vec import Text8Corpus\n",
        "from gensim.models import KeyedVectors\n",
        "from gensim.scripts.glove2word2vec import glove2word2vec\n",
        "from nltk.sentiment import SentimentIntensityAnalyzer\n",
        "from textblob import TextBlob\n",
        "from IPython.core.display import HTML\n",
        "import seaborn as sns\n",
        "import matplotlib.pyplot as plt\n",
        "%matplotlib inline"
      ]
    },
    {
      "cell_type": "markdown",
      "metadata": {
        "papermill": {
          "duration": 0.095665,
          "end_time": "2021-04-17T06:48:46.586833",
          "exception": false,
          "start_time": "2021-04-17T06:48:46.491168",
          "status": "completed"
        },
        "tags": [],
        "id": "j_Auf-cZNxp3"
      },
      "source": [
        "# **DATA PREPROCESSING**"
      ]
    },
    {
      "cell_type": "markdown",
      "metadata": {
        "papermill": {
          "duration": 0.097299,
          "end_time": "2021-04-17T06:48:46.782530",
          "exception": false,
          "start_time": "2021-04-17T06:48:46.685231",
          "status": "completed"
        },
        "tags": [],
        "id": "Z3itTmEjNxp4"
      },
      "source": [
        "## **Data Loading**"
      ]
    },
    {
      "cell_type": "code",
      "execution_count": null,
      "metadata": {
        "_cell_guid": "b1076dfc-b9ad-4769-8c92-a6c4dae69d19",
        "_kg_hide-input": true,
        "_kg_hide-output": true,
        "_uuid": "8f2839f25d086af736a60e9eeb907d3b93b6e0e5",
        "execution": {
          "iopub.execute_input": "2021-04-17T06:48:46.986972Z",
          "iopub.status.busy": "2021-04-17T06:48:46.986366Z",
          "iopub.status.idle": "2021-04-17T06:48:46.997578Z",
          "shell.execute_reply": "2021-04-17T06:48:46.998301Z"
        },
        "papermill": {
          "duration": 0.117767,
          "end_time": "2021-04-17T06:48:46.998450",
          "exception": false,
          "start_time": "2021-04-17T06:48:46.880683",
          "status": "completed"
        },
        "tags": [],
        "id": "EHg1KsMiNxp4"
      },
      "outputs": [],
      "source": [
        "for dirname, _, filenames in os.walk('/kaggle/input'):\n",
        "    for filename in filenames:\n",
        "        print(os.path.join(dirname, filename))"
      ]
    },
    {
      "cell_type": "code",
      "execution_count": null,
      "metadata": {
        "_cell_guid": "79c7e3d0-c299-4dcb-8224-4455121ee9b0",
        "_uuid": "d629ff2d2480ee46fbb7e2d37f6b5fab8052498a",
        "execution": {
          "iopub.execute_input": "2021-04-17T06:48:47.199917Z",
          "iopub.status.busy": "2021-04-17T06:48:47.199352Z",
          "iopub.status.idle": "2021-04-17T06:48:47.248858Z",
          "shell.execute_reply": "2021-04-17T06:48:47.249244Z"
        },
        "papermill": {
          "duration": 0.153518,
          "end_time": "2021-04-17T06:48:47.249360",
          "exception": false,
          "start_time": "2021-04-17T06:48:47.095842",
          "status": "completed"
        },
        "tags": [],
        "id": "dMJPOReWNxp4",
        "outputId": "b8477d25-10ab-494d-9d55-73850cc48b6e"
      },
      "outputs": [
        {
          "name": "stdout",
          "output_type": "stream",
          "text": [
            "Total number of entries in the train dataset are: 7613\n"
          ]
        },
        {
          "data": {
            "text/html": [
              "<div>\n",
              "<style scoped>\n",
              "    .dataframe tbody tr th:only-of-type {\n",
              "        vertical-align: middle;\n",
              "    }\n",
              "\n",
              "    .dataframe tbody tr th {\n",
              "        vertical-align: top;\n",
              "    }\n",
              "\n",
              "    .dataframe thead th {\n",
              "        text-align: right;\n",
              "    }\n",
              "</style>\n",
              "<table border=\"1\" class=\"dataframe\">\n",
              "  <thead>\n",
              "    <tr style=\"text-align: right;\">\n",
              "      <th></th>\n",
              "      <th>id</th>\n",
              "      <th>keyword</th>\n",
              "      <th>location</th>\n",
              "      <th>text</th>\n",
              "      <th>target</th>\n",
              "    </tr>\n",
              "  </thead>\n",
              "  <tbody>\n",
              "    <tr>\n",
              "      <th>0</th>\n",
              "      <td>1</td>\n",
              "      <td>NaN</td>\n",
              "      <td>NaN</td>\n",
              "      <td>Our Deeds are the Reason of this #earthquake M...</td>\n",
              "      <td>1</td>\n",
              "    </tr>\n",
              "    <tr>\n",
              "      <th>1</th>\n",
              "      <td>4</td>\n",
              "      <td>NaN</td>\n",
              "      <td>NaN</td>\n",
              "      <td>Forest fire near La Ronge Sask. Canada</td>\n",
              "      <td>1</td>\n",
              "    </tr>\n",
              "    <tr>\n",
              "      <th>2</th>\n",
              "      <td>5</td>\n",
              "      <td>NaN</td>\n",
              "      <td>NaN</td>\n",
              "      <td>All residents asked to 'shelter in place' are ...</td>\n",
              "      <td>1</td>\n",
              "    </tr>\n",
              "    <tr>\n",
              "      <th>3</th>\n",
              "      <td>6</td>\n",
              "      <td>NaN</td>\n",
              "      <td>NaN</td>\n",
              "      <td>13,000 people receive #wildfires evacuation or...</td>\n",
              "      <td>1</td>\n",
              "    </tr>\n",
              "    <tr>\n",
              "      <th>4</th>\n",
              "      <td>7</td>\n",
              "      <td>NaN</td>\n",
              "      <td>NaN</td>\n",
              "      <td>Just got sent this photo from Ruby #Alaska as ...</td>\n",
              "      <td>1</td>\n",
              "    </tr>\n",
              "  </tbody>\n",
              "</table>\n",
              "</div>"
            ],
            "text/plain": [
              "   id keyword location                                               text  \\\n",
              "0   1     NaN      NaN  Our Deeds are the Reason of this #earthquake M...   \n",
              "1   4     NaN      NaN             Forest fire near La Ronge Sask. Canada   \n",
              "2   5     NaN      NaN  All residents asked to 'shelter in place' are ...   \n",
              "3   6     NaN      NaN  13,000 people receive #wildfires evacuation or...   \n",
              "4   7     NaN      NaN  Just got sent this photo from Ruby #Alaska as ...   \n",
              "\n",
              "   target  \n",
              "0       1  \n",
              "1       1  \n",
              "2       1  \n",
              "3       1  \n",
              "4       1  "
            ]
          },
          "execution_count": 7,
          "metadata": {},
          "output_type": "execute_result"
        }
      ],
      "source": [
        "data = pd.read_csv('/kaggle/input/nlp-getting-started/train.csv')\n",
        "print('Total number of entries in the train dataset are:', len(data))\n",
        "data.head()"
      ]
    },
    {
      "cell_type": "markdown",
      "metadata": {
        "papermill": {
          "duration": 0.098348,
          "end_time": "2021-04-17T06:48:47.446282",
          "exception": false,
          "start_time": "2021-04-17T06:48:47.347934",
          "status": "completed"
        },
        "tags": [],
        "id": "N6EnkAH-Nxp5"
      },
      "source": [
        "## **Preliminary Analysis**"
      ]
    },
    {
      "cell_type": "code",
      "execution_count": null,
      "metadata": {
        "execution": {
          "iopub.execute_input": "2021-04-17T06:48:47.646099Z",
          "iopub.status.busy": "2021-04-17T06:48:47.645310Z",
          "iopub.status.idle": "2021-04-17T06:48:47.649016Z",
          "shell.execute_reply": "2021-04-17T06:48:47.648514Z"
        },
        "papermill": {
          "duration": 0.105338,
          "end_time": "2021-04-17T06:48:47.649102",
          "exception": false,
          "start_time": "2021-04-17T06:48:47.543764",
          "status": "completed"
        },
        "tags": [],
        "id": "gUCBvoWJNxp5",
        "outputId": "620a041f-35b7-4b38-fcb7-30a1f5f1d13a"
      },
      "outputs": [
        {
          "data": {
            "text/plain": [
              "(7613, 5)"
            ]
          },
          "execution_count": 8,
          "metadata": {},
          "output_type": "execute_result"
        }
      ],
      "source": [
        "data.shape"
      ]
    },
    {
      "cell_type": "code",
      "execution_count": null,
      "metadata": {
        "execution": {
          "iopub.execute_input": "2021-04-17T06:48:47.851442Z",
          "iopub.status.busy": "2021-04-17T06:48:47.850620Z",
          "iopub.status.idle": "2021-04-17T06:48:47.860748Z",
          "shell.execute_reply": "2021-04-17T06:48:47.861264Z"
        },
        "papermill": {
          "duration": 0.114816,
          "end_time": "2021-04-17T06:48:47.861373",
          "exception": false,
          "start_time": "2021-04-17T06:48:47.746557",
          "status": "completed"
        },
        "tags": [],
        "id": "dxwFjIj6Nxp5",
        "outputId": "50efb3e6-b583-4750-c610-bdd03b51c9e1"
      },
      "outputs": [
        {
          "name": "stdout",
          "output_type": "stream",
          "text": [
            "<class 'pandas.core.frame.DataFrame'>\n",
            "RangeIndex: 7613 entries, 0 to 7612\n",
            "Data columns (total 5 columns):\n",
            " #   Column    Non-Null Count  Dtype \n",
            "---  ------    --------------  ----- \n",
            " 0   id        7613 non-null   int64 \n",
            " 1   keyword   7552 non-null   object\n",
            " 2   location  5080 non-null   object\n",
            " 3   text      7613 non-null   object\n",
            " 4   target    7613 non-null   int64 \n",
            "dtypes: int64(2), object(3)\n",
            "memory usage: 297.5+ KB\n"
          ]
        }
      ],
      "source": [
        "data.info()"
      ]
    },
    {
      "cell_type": "code",
      "execution_count": null,
      "metadata": {
        "execution": {
          "iopub.execute_input": "2021-04-17T06:48:48.065962Z",
          "iopub.status.busy": "2021-04-17T06:48:48.065192Z",
          "iopub.status.idle": "2021-04-17T06:48:48.068887Z",
          "shell.execute_reply": "2021-04-17T06:48:48.068434Z"
        },
        "papermill": {
          "duration": 0.107881,
          "end_time": "2021-04-17T06:48:48.068981",
          "exception": false,
          "start_time": "2021-04-17T06:48:47.961100",
          "status": "completed"
        },
        "tags": [],
        "id": "IP5iOL1nNxp6",
        "outputId": "ea5bcd58-77af-4cb7-aba5-eeeadfc49d73"
      },
      "outputs": [
        {
          "data": {
            "text/plain": [
              "id           int64\n",
              "keyword     object\n",
              "location    object\n",
              "text        object\n",
              "target       int64\n",
              "dtype: object"
            ]
          },
          "execution_count": 10,
          "metadata": {},
          "output_type": "execute_result"
        }
      ],
      "source": [
        "data.dtypes"
      ]
    },
    {
      "cell_type": "code",
      "execution_count": null,
      "metadata": {
        "execution": {
          "iopub.execute_input": "2021-04-17T06:48:48.276047Z",
          "iopub.status.busy": "2021-04-17T06:48:48.275235Z",
          "iopub.status.idle": "2021-04-17T06:48:48.281487Z",
          "shell.execute_reply": "2021-04-17T06:48:48.281078Z"
        },
        "papermill": {
          "duration": 0.111547,
          "end_time": "2021-04-17T06:48:48.281595",
          "exception": false,
          "start_time": "2021-04-17T06:48:48.170048",
          "status": "completed"
        },
        "tags": [],
        "id": "2cMuXx66Nxp6",
        "outputId": "8131b63c-f778-48c2-e46f-4d9609cd4b10"
      },
      "outputs": [
        {
          "data": {
            "text/plain": [
              "id             0\n",
              "keyword       61\n",
              "location    2533\n",
              "text           0\n",
              "target         0\n",
              "dtype: int64"
            ]
          },
          "execution_count": 11,
          "metadata": {},
          "output_type": "execute_result"
        }
      ],
      "source": [
        "data.isnull().sum()"
      ]
    },
    {
      "cell_type": "code",
      "execution_count": null,
      "metadata": {
        "execution": {
          "iopub.execute_input": "2021-04-17T06:48:48.496549Z",
          "iopub.status.busy": "2021-04-17T06:48:48.495672Z",
          "iopub.status.idle": "2021-04-17T06:48:48.499756Z",
          "shell.execute_reply": "2021-04-17T06:48:48.499261Z"
        },
        "papermill": {
          "duration": 0.119952,
          "end_time": "2021-04-17T06:48:48.499853",
          "exception": false,
          "start_time": "2021-04-17T06:48:48.379901",
          "status": "completed"
        },
        "tags": [],
        "id": "4fzuxb7eNxp7",
        "outputId": "ed48a8e2-3004-47a5-e886-b3d147507a0c"
      },
      "outputs": [
        {
          "data": {
            "text/html": [
              "<div>\n",
              "<style scoped>\n",
              "    .dataframe tbody tr th:only-of-type {\n",
              "        vertical-align: middle;\n",
              "    }\n",
              "\n",
              "    .dataframe tbody tr th {\n",
              "        vertical-align: top;\n",
              "    }\n",
              "\n",
              "    .dataframe thead th {\n",
              "        text-align: right;\n",
              "    }\n",
              "</style>\n",
              "<table border=\"1\" class=\"dataframe\">\n",
              "  <thead>\n",
              "    <tr style=\"text-align: right;\">\n",
              "      <th></th>\n",
              "      <th>id</th>\n",
              "      <th>keyword</th>\n",
              "      <th>location</th>\n",
              "      <th>text</th>\n",
              "      <th>target</th>\n",
              "    </tr>\n",
              "  </thead>\n",
              "  <tbody>\n",
              "    <tr>\n",
              "      <th>0</th>\n",
              "      <td>False</td>\n",
              "      <td>True</td>\n",
              "      <td>True</td>\n",
              "      <td>False</td>\n",
              "      <td>False</td>\n",
              "    </tr>\n",
              "    <tr>\n",
              "      <th>1</th>\n",
              "      <td>False</td>\n",
              "      <td>True</td>\n",
              "      <td>True</td>\n",
              "      <td>False</td>\n",
              "      <td>False</td>\n",
              "    </tr>\n",
              "    <tr>\n",
              "      <th>2</th>\n",
              "      <td>False</td>\n",
              "      <td>True</td>\n",
              "      <td>True</td>\n",
              "      <td>False</td>\n",
              "      <td>False</td>\n",
              "    </tr>\n",
              "    <tr>\n",
              "      <th>3</th>\n",
              "      <td>False</td>\n",
              "      <td>True</td>\n",
              "      <td>True</td>\n",
              "      <td>False</td>\n",
              "      <td>False</td>\n",
              "    </tr>\n",
              "    <tr>\n",
              "      <th>4</th>\n",
              "      <td>False</td>\n",
              "      <td>True</td>\n",
              "      <td>True</td>\n",
              "      <td>False</td>\n",
              "      <td>False</td>\n",
              "    </tr>\n",
              "    <tr>\n",
              "      <th>...</th>\n",
              "      <td>...</td>\n",
              "      <td>...</td>\n",
              "      <td>...</td>\n",
              "      <td>...</td>\n",
              "      <td>...</td>\n",
              "    </tr>\n",
              "    <tr>\n",
              "      <th>7608</th>\n",
              "      <td>False</td>\n",
              "      <td>True</td>\n",
              "      <td>True</td>\n",
              "      <td>False</td>\n",
              "      <td>False</td>\n",
              "    </tr>\n",
              "    <tr>\n",
              "      <th>7609</th>\n",
              "      <td>False</td>\n",
              "      <td>True</td>\n",
              "      <td>True</td>\n",
              "      <td>False</td>\n",
              "      <td>False</td>\n",
              "    </tr>\n",
              "    <tr>\n",
              "      <th>7610</th>\n",
              "      <td>False</td>\n",
              "      <td>True</td>\n",
              "      <td>True</td>\n",
              "      <td>False</td>\n",
              "      <td>False</td>\n",
              "    </tr>\n",
              "    <tr>\n",
              "      <th>7611</th>\n",
              "      <td>False</td>\n",
              "      <td>True</td>\n",
              "      <td>True</td>\n",
              "      <td>False</td>\n",
              "      <td>False</td>\n",
              "    </tr>\n",
              "    <tr>\n",
              "      <th>7612</th>\n",
              "      <td>False</td>\n",
              "      <td>True</td>\n",
              "      <td>True</td>\n",
              "      <td>False</td>\n",
              "      <td>False</td>\n",
              "    </tr>\n",
              "  </tbody>\n",
              "</table>\n",
              "<p>7613 rows × 5 columns</p>\n",
              "</div>"
            ],
            "text/plain": [
              "         id  keyword  location   text  target\n",
              "0     False     True      True  False   False\n",
              "1     False     True      True  False   False\n",
              "2     False     True      True  False   False\n",
              "3     False     True      True  False   False\n",
              "4     False     True      True  False   False\n",
              "...     ...      ...       ...    ...     ...\n",
              "7608  False     True      True  False   False\n",
              "7609  False     True      True  False   False\n",
              "7610  False     True      True  False   False\n",
              "7611  False     True      True  False   False\n",
              "7612  False     True      True  False   False\n",
              "\n",
              "[7613 rows x 5 columns]"
            ]
          },
          "execution_count": 12,
          "metadata": {},
          "output_type": "execute_result"
        }
      ],
      "source": [
        "data.isna()"
      ]
    },
    {
      "cell_type": "code",
      "execution_count": null,
      "metadata": {
        "execution": {
          "iopub.execute_input": "2021-04-17T06:48:48.711654Z",
          "iopub.status.busy": "2021-04-17T06:48:48.710739Z",
          "iopub.status.idle": "2021-04-17T06:48:48.714619Z",
          "shell.execute_reply": "2021-04-17T06:48:48.714194Z"
        },
        "papermill": {
          "duration": 0.11548,
          "end_time": "2021-04-17T06:48:48.714710",
          "exception": false,
          "start_time": "2021-04-17T06:48:48.599230",
          "status": "completed"
        },
        "tags": [],
        "id": "ZN4aU1Q7Nxp7",
        "outputId": "70250c3a-a170-493b-8667-f28601fea2fa"
      },
      "outputs": [
        {
          "data": {
            "text/html": [
              "<div>\n",
              "<style scoped>\n",
              "    .dataframe tbody tr th:only-of-type {\n",
              "        vertical-align: middle;\n",
              "    }\n",
              "\n",
              "    .dataframe tbody tr th {\n",
              "        vertical-align: top;\n",
              "    }\n",
              "\n",
              "    .dataframe thead th {\n",
              "        text-align: right;\n",
              "    }\n",
              "</style>\n",
              "<table border=\"1\" class=\"dataframe\">\n",
              "  <thead>\n",
              "    <tr style=\"text-align: right;\">\n",
              "      <th></th>\n",
              "      <th>id</th>\n",
              "      <th>text</th>\n",
              "    </tr>\n",
              "  </thead>\n",
              "  <tbody>\n",
              "    <tr>\n",
              "      <th>0</th>\n",
              "      <td>1</td>\n",
              "      <td>Our Deeds are the Reason of this #earthquake M...</td>\n",
              "    </tr>\n",
              "    <tr>\n",
              "      <th>1</th>\n",
              "      <td>4</td>\n",
              "      <td>Forest fire near La Ronge Sask. Canada</td>\n",
              "    </tr>\n",
              "    <tr>\n",
              "      <th>2</th>\n",
              "      <td>5</td>\n",
              "      <td>All residents asked to 'shelter in place' are ...</td>\n",
              "    </tr>\n",
              "    <tr>\n",
              "      <th>3</th>\n",
              "      <td>6</td>\n",
              "      <td>13,000 people receive #wildfires evacuation or...</td>\n",
              "    </tr>\n",
              "    <tr>\n",
              "      <th>4</th>\n",
              "      <td>7</td>\n",
              "      <td>Just got sent this photo from Ruby #Alaska as ...</td>\n",
              "    </tr>\n",
              "    <tr>\n",
              "      <th>...</th>\n",
              "      <td>...</td>\n",
              "      <td>...</td>\n",
              "    </tr>\n",
              "    <tr>\n",
              "      <th>7608</th>\n",
              "      <td>10869</td>\n",
              "      <td>Two giant cranes holding a bridge collapse int...</td>\n",
              "    </tr>\n",
              "    <tr>\n",
              "      <th>7609</th>\n",
              "      <td>10870</td>\n",
              "      <td>@aria_ahrary @TheTawniest The out of control w...</td>\n",
              "    </tr>\n",
              "    <tr>\n",
              "      <th>7610</th>\n",
              "      <td>10871</td>\n",
              "      <td>M1.94 [01:04 UTC]?5km S of Volcano Hawaii. htt...</td>\n",
              "    </tr>\n",
              "    <tr>\n",
              "      <th>7611</th>\n",
              "      <td>10872</td>\n",
              "      <td>Police investigating after an e-bike collided ...</td>\n",
              "    </tr>\n",
              "    <tr>\n",
              "      <th>7612</th>\n",
              "      <td>10873</td>\n",
              "      <td>The Latest: More Homes Razed by Northern Calif...</td>\n",
              "    </tr>\n",
              "  </tbody>\n",
              "</table>\n",
              "<p>7613 rows × 2 columns</p>\n",
              "</div>"
            ],
            "text/plain": [
              "         id                                               text\n",
              "0         1  Our Deeds are the Reason of this #earthquake M...\n",
              "1         4             Forest fire near La Ronge Sask. Canada\n",
              "2         5  All residents asked to 'shelter in place' are ...\n",
              "3         6  13,000 people receive #wildfires evacuation or...\n",
              "4         7  Just got sent this photo from Ruby #Alaska as ...\n",
              "...     ...                                                ...\n",
              "7608  10869  Two giant cranes holding a bridge collapse int...\n",
              "7609  10870  @aria_ahrary @TheTawniest The out of control w...\n",
              "7610  10871  M1.94 [01:04 UTC]?5km S of Volcano Hawaii. htt...\n",
              "7611  10872  Police investigating after an e-bike collided ...\n",
              "7612  10873  The Latest: More Homes Razed by Northern Calif...\n",
              "\n",
              "[7613 rows x 2 columns]"
            ]
          },
          "execution_count": 13,
          "metadata": {},
          "output_type": "execute_result"
        }
      ],
      "source": [
        "data = data[['id', 'text']]\n",
        "data"
      ]
    },
    {
      "cell_type": "code",
      "execution_count": null,
      "metadata": {
        "execution": {
          "iopub.execute_input": "2021-04-17T06:48:48.920715Z",
          "iopub.status.busy": "2021-04-17T06:48:48.919917Z",
          "iopub.status.idle": "2021-04-17T06:48:48.923581Z",
          "shell.execute_reply": "2021-04-17T06:48:48.923142Z"
        },
        "papermill": {
          "duration": 0.109329,
          "end_time": "2021-04-17T06:48:48.923688",
          "exception": false,
          "start_time": "2021-04-17T06:48:48.814359",
          "status": "completed"
        },
        "tags": [],
        "id": "7zR2YH22Nxp7",
        "outputId": "090ec651-5da8-4cd1-dd48-dee460c2d78e"
      },
      "outputs": [
        {
          "data": {
            "text/plain": [
              "0       Our Deeds are the Reason of this #earthquake M...\n",
              "1                  Forest fire near La Ronge Sask. Canada\n",
              "2       All residents asked to 'shelter in place' are ...\n",
              "3       13,000 people receive #wildfires evacuation or...\n",
              "4       Just got sent this photo from Ruby #Alaska as ...\n",
              "                              ...                        \n",
              "7608    Two giant cranes holding a bridge collapse int...\n",
              "7609    @aria_ahrary @TheTawniest The out of control w...\n",
              "7610    M1.94 [01:04 UTC]?5km S of Volcano Hawaii. htt...\n",
              "7611    Police investigating after an e-bike collided ...\n",
              "7612    The Latest: More Homes Razed by Northern Calif...\n",
              "Name: text, Length: 7613, dtype: object"
            ]
          },
          "execution_count": 14,
          "metadata": {},
          "output_type": "execute_result"
        }
      ],
      "source": [
        "text = data['text']\n",
        "text"
      ]
    },
    {
      "cell_type": "markdown",
      "metadata": {
        "papermill": {
          "duration": 0.100385,
          "end_time": "2021-04-17T06:48:49.125585",
          "exception": false,
          "start_time": "2021-04-17T06:48:49.025200",
          "status": "completed"
        },
        "tags": [],
        "id": "WC-0dU5UNxp7"
      },
      "source": [
        "## **Sentence Tokenization**\n",
        "\n",
        "For any corpus, we first divide a huge entity into smaller entities so that they can be treated individually. Tokenization also does a similar task but upon sentences in text. First, the text is broken down into sentences and that is further broken down into words. The input is given as text or a corpus. The output generates a list of sentences. For example, in the text, \"I love dogs. I have a dog\", the output is [\"I love dogs,” I have a dog”]"
      ]
    },
    {
      "cell_type": "code",
      "execution_count": null,
      "metadata": {
        "execution": {
          "iopub.execute_input": "2021-04-17T06:48:49.330329Z",
          "iopub.status.busy": "2021-04-17T06:48:49.329736Z",
          "iopub.status.idle": "2021-04-17T06:48:49.346021Z",
          "shell.execute_reply": "2021-04-17T06:48:49.345471Z"
        },
        "papermill": {
          "duration": 0.120142,
          "end_time": "2021-04-17T06:48:49.346107",
          "exception": false,
          "start_time": "2021-04-17T06:48:49.225965",
          "status": "completed"
        },
        "tags": [],
        "id": "R99argmRNxp8",
        "outputId": "8f9d3314-41ee-4198-d370-a3c1e0e8409e"
      },
      "outputs": [
        {
          "name": "stdout",
          "output_type": "stream",
          "text": [
            "Sentence Tokenization using NLTK: \n",
            " #OVOFest Drake straight body bagging Meek on that OVO stage. #ZIPHIMUP! => ['#OVOFest Drake straight body bagging Meek on that OVO stage.', '#ZIPHIMUP!']\n"
          ]
        }
      ],
      "source": [
        "sents1 = sent_tokenize(text[1000])\n",
        "print(f'Sentence Tokenization using NLTK: \\n {text[1000]} => {sents1}')"
      ]
    },
    {
      "cell_type": "markdown",
      "metadata": {
        "papermill": {
          "duration": 0.101349,
          "end_time": "2021-04-17T06:48:49.547772",
          "exception": false,
          "start_time": "2021-04-17T06:48:49.446423",
          "status": "completed"
        },
        "tags": [],
        "id": "cZ7RYTvfNxp8"
      },
      "source": [
        "## **Word Tokenization**\n",
        "\n",
        "Word tokenization is the same as sentence tokenization. But, rather than applying it to\n",
        "sentences, it is used on words so that individual words are separated as items in a\n",
        "list. For example, in the sentence, \"Chennai is humid,” the result is [\"Chennai,” “is,”\n",
        "“humid”]."
      ]
    },
    {
      "cell_type": "code",
      "execution_count": null,
      "metadata": {
        "execution": {
          "iopub.execute_input": "2021-04-17T06:48:49.755232Z",
          "iopub.status.busy": "2021-04-17T06:48:49.754512Z",
          "iopub.status.idle": "2021-04-17T06:48:49.757663Z",
          "shell.execute_reply": "2021-04-17T06:48:49.758275Z"
        },
        "papermill": {
          "duration": 0.109764,
          "end_time": "2021-04-17T06:48:49.758423",
          "exception": false,
          "start_time": "2021-04-17T06:48:49.648659",
          "status": "completed"
        },
        "tags": [],
        "id": "XPMje1qDNxp8",
        "outputId": "3f06c8e4-b98c-4696-9171-99e446a6582e"
      },
      "outputs": [
        {
          "name": "stdout",
          "output_type": "stream",
          "text": [
            "Word Tokenization using NLTK: \n",
            " #OVOFest Drake straight body bagging Meek on that OVO stage. => ['#', 'OVOFest', 'Drake', 'straight', 'body', 'bagging', 'Meek', 'on', 'that', 'OVO', 'stage', '.']\n"
          ]
        }
      ],
      "source": [
        "words1 = word_tokenize(sents1[0])\n",
        "print(f'Word Tokenization using NLTK: \\n {sents1[0]} => {words1}')"
      ]
    },
    {
      "cell_type": "code",
      "execution_count": null,
      "metadata": {
        "execution": {
          "iopub.execute_input": "2021-04-17T06:48:49.967753Z",
          "iopub.status.busy": "2021-04-17T06:48:49.966919Z",
          "iopub.status.idle": "2021-04-17T06:48:50.703580Z",
          "shell.execute_reply": "2021-04-17T06:48:50.703078Z"
        },
        "papermill": {
          "duration": 0.842767,
          "end_time": "2021-04-17T06:48:50.703688",
          "exception": false,
          "start_time": "2021-04-17T06:48:49.860921",
          "status": "completed"
        },
        "tags": [],
        "id": "Iipt4yBoNxp9"
      },
      "outputs": [],
      "source": [
        "sp = spacy.load('en_core_web_sm')"
      ]
    },
    {
      "cell_type": "code",
      "execution_count": null,
      "metadata": {
        "execution": {
          "iopub.execute_input": "2021-04-17T06:48:50.914509Z",
          "iopub.status.busy": "2021-04-17T06:48:50.913970Z",
          "iopub.status.idle": "2021-04-17T06:48:50.945207Z",
          "shell.execute_reply": "2021-04-17T06:48:50.946677Z"
        },
        "papermill": {
          "duration": 0.140264,
          "end_time": "2021-04-17T06:48:50.946882",
          "exception": false,
          "start_time": "2021-04-17T06:48:50.806618",
          "status": "completed"
        },
        "tags": [],
        "id": "EKuzv7EANxp9",
        "outputId": "a683aca0-ffb8-4d6c-fa0f-71cde236c538"
      },
      "outputs": [
        {
          "name": "stdout",
          "output_type": "stream",
          "text": [
            "Word Tokenization using SpaCy: \n",
            "\n",
            "Our Deeds are the Reason of this #earthquake May ALLAH Forgive us all =>\n",
            "\n",
            "Our\n",
            "Deeds\n",
            "are\n",
            "the\n",
            "Reason\n",
            "of\n",
            "this\n",
            "#\n",
            "earthquake\n",
            "May\n",
            "ALLAH\n",
            "Forgive\n",
            "us\n",
            "all\n"
          ]
        }
      ],
      "source": [
        "print(f'Word Tokenization using SpaCy: \\n\\n{sp(text[0])} =>\\n')\n",
        "\n",
        "words2 = sp(text[0])\n",
        "for word in words2:\n",
        "    print(word)"
      ]
    },
    {
      "cell_type": "markdown",
      "metadata": {
        "papermill": {
          "duration": 0.103954,
          "end_time": "2021-04-17T06:48:51.157447",
          "exception": false,
          "start_time": "2021-04-17T06:48:51.053493",
          "status": "completed"
        },
        "tags": [],
        "id": "0uET4dQSNxp9"
      },
      "source": [
        "## **Stopword Removal**\n",
        "\n",
        "The dataset may contain words like ‘after,’ ‘every’ and ‘I.’ These words are not relevant to important NLP applications like the sentiment detection process. Thereby, these words can be deleted to minimize the burden on the system."
      ]
    },
    {
      "cell_type": "code",
      "execution_count": null,
      "metadata": {
        "execution": {
          "iopub.execute_input": "2021-04-17T06:48:51.375054Z",
          "iopub.status.busy": "2021-04-17T06:48:51.374391Z",
          "iopub.status.idle": "2021-04-17T06:48:51.494207Z",
          "shell.execute_reply": "2021-04-17T06:48:51.494668Z"
        },
        "papermill": {
          "duration": 0.235751,
          "end_time": "2021-04-17T06:48:51.494800",
          "exception": false,
          "start_time": "2021-04-17T06:48:51.259049",
          "status": "completed"
        },
        "tags": [],
        "id": "Tu2WS14XNxp-",
        "outputId": "67756595-3666-44ea-ee3a-714c46915a13"
      },
      "outputs": [
        {
          "name": "stdout",
          "output_type": "stream",
          "text": [
            "[nltk_data] Downloading package stopwords to /usr/share/nltk_data...\n",
            "[nltk_data]   Package stopwords is already up-to-date!\n"
          ]
        },
        {
          "data": {
            "text/plain": [
              "True"
            ]
          },
          "execution_count": 19,
          "metadata": {},
          "output_type": "execute_result"
        }
      ],
      "source": [
        "nltk.download('stopwords')"
      ]
    },
    {
      "cell_type": "code",
      "execution_count": null,
      "metadata": {
        "execution": {
          "iopub.execute_input": "2021-04-17T06:48:51.740081Z",
          "iopub.status.busy": "2021-04-17T06:48:51.739400Z",
          "iopub.status.idle": "2021-04-17T06:48:51.747627Z",
          "shell.execute_reply": "2021-04-17T06:48:51.747021Z"
        },
        "papermill": {
          "duration": 0.150311,
          "end_time": "2021-04-17T06:48:51.747765",
          "exception": false,
          "start_time": "2021-04-17T06:48:51.597454",
          "status": "completed"
        },
        "tags": [],
        "id": "V84n3pHUNxp-",
        "outputId": "2e5d3010-e4df-4bb0-ff6a-267c75f15a75"
      },
      "outputs": [
        {
          "name": "stdout",
          "output_type": "stream",
          "text": [
            "Stopword Removal using NLTK: \n",
            "['#', 'OVOFest', 'Drake', 'straight', 'body', 'bagging', 'Meek', 'on', 'that', 'OVO', 'stage', '.'] => ['#', 'OVOFest', 'Drake', 'straight', 'body', 'bagging', 'Meek', 'OVO', 'stage', '.']\n"
          ]
        }
      ],
      "source": [
        "tokens1 = [word for word in words1 if not word in stopwords.words('english')]\n",
        "print(f'Stopword Removal using NLTK: \\n{words1} => {tokens1}')"
      ]
    },
    {
      "cell_type": "code",
      "execution_count": null,
      "metadata": {
        "execution": {
          "iopub.execute_input": "2021-04-17T06:48:51.969598Z",
          "iopub.status.busy": "2021-04-17T06:48:51.968984Z",
          "iopub.status.idle": "2021-04-17T06:48:51.973446Z",
          "shell.execute_reply": "2021-04-17T06:48:51.974059Z"
        },
        "papermill": {
          "duration": 0.122639,
          "end_time": "2021-04-17T06:48:51.974217",
          "exception": false,
          "start_time": "2021-04-17T06:48:51.851578",
          "status": "completed"
        },
        "tags": [],
        "id": "t4nDAzcCNxp-",
        "outputId": "321a155c-0096-4677-8f2e-0110702e8f77"
      },
      "outputs": [
        {
          "name": "stdout",
          "output_type": "stream",
          "text": [
            "SpaCy Stopwords: \n",
            "{'latter', 'whatever', 'or', 'although', 'whoever', 'must', 'have', 'at', 'than', 'would', '‘s', 'why', '‘d', 'herein', 'him', 'perhaps', 'seem', 'you', 'up', 'forty', 'however', 'ever', 're', 'might', 'used', 'above', 'what', 'when', 'often', 'beyond', 'your', 'not', 'anyway', 'n’t', 'a', 'has', 'everywhere', 'more', 'twelve', \"'re\", 'here', 'can', 'sixty', 'around', 'call', 'whose', 'of', 'others', 'go', 'each', 'during', 'both', 'before', 'my', 'hereupon', 'about', 'an', 'five', 'whereas', 'move', 'wherever', 'three', 'further', 'anyone', 'somehow', 'yourself', 'they', 'first', 'beside', 'fifty', 'behind', 'we', 'towards', 'take', 'alone', 'fifteen', 'against', 'see', 'done', 'side', 'these', 'became', 'becomes', 'whereafter', 'could', 'again', 'regarding', 'eight', 'something', 'cannot', 'nine', 'whole', 'everything', 'show', 'empty', 'keep', 'bottom', 'sometime', 'six', 'per', 'into', 'become', 'using', 'itself', 'third', 'how', 'who', '’s', 'noone', 'nor', 'put', 'other', 'four', 'part', 'over', 'doing', 'with', 'below', 'was', '‘ve', 'meanwhile', 'too', 'made', 'yourselves', 'off', 'down', 'for', 'except', 'indeed', 'various', 'their', 'whither', '’ll', 'whereby', 'else', 'then', 'always', 'through', 'so', 'and', 'where', 'few', 'seems', 'hereby', 'our', 'should', '‘m', 'whereupon', 'though', 'had', 'nothing', 'on', 'thereupon', 'out', 'never', 'sometimes', 'but', 'all', \"'m\", 'been', 'yet', 'whenever', 'no', 'ours', 'within', 'once', 'amongst', 'while', 'by', 'after', 'make', 'because', 'the', 'since', 'are', 'two', 'being', 'several', 'someone', 'thru', 'eleven', 'hereafter', 'whether', '’re', 'twenty', 'between', 'n‘t', \"'s\", '‘re', 'hundred', 'next', 'did', \"'ve\", 'everyone', 'get', 'its', 'thereafter', 'same', 'another', 'many', 'does', 'such', 'thereby', 'really', 'do', 'formerly', 'top', 'themselves', 'less', 'besides', \"n't\", 'name', 'own', 'as', 'say', \"'ll\", 'moreover', 'nowhere', 'that', 'her', 'wherein', 'together', 'serious', 'quite', 'becoming', 'yours', 'will', 'upon', 'only', \"'d\", 'there', 'former', 'neither', 'until', 'still', 'amount', 'ten', 'ourselves', 'therein', 'toward', 'whom', 'nobody', '’ve', 'his', 'them', 'least', '’d', 'none', 'much', 'from', 'namely', 'even', 'seemed', 'himself', 'latterly', 'please', 'herself', 'is', 'now', 'hence', 'also', 'am', 'he', 'me', 'therefore', 'beforehand', 'somewhere', 'anyhow', 'some', 'may', 'via', 'onto', '’m', 'across', 'i', 'seeming', 'along', 'us', 'were', 'mine', 'last', '‘ll', 'front', 'every', 'due', 'mostly', 'just', 'very', 'among', 'myself', 'thence', 'to', 'thus', 'full', 'anywhere', 'it', 'those', 'one', 'this', 'which', 'well', 'she', 'elsewhere', 'back', 'without', 'nevertheless', 'ca', 'already', 'either', 'throughout', 'be', 'whence', 'anything', 'almost', 'afterwards', 'most', 'any', 'hers', 'enough', 'under', 'unless', 'otherwise', 'rather', 'give', 'in', 'if'}\n"
          ]
        }
      ],
      "source": [
        "spacy_stopwords = sp.Defaults.stop_words\n",
        "print(f'SpaCy Stopwords: \\n{spacy_stopwords}')"
      ]
    },
    {
      "cell_type": "code",
      "execution_count": null,
      "metadata": {
        "execution": {
          "iopub.execute_input": "2021-04-17T06:48:52.208667Z",
          "iopub.status.busy": "2021-04-17T06:48:52.208028Z",
          "iopub.status.idle": "2021-04-17T06:48:52.211617Z",
          "shell.execute_reply": "2021-04-17T06:48:52.211998Z"
        },
        "papermill": {
          "duration": 0.124175,
          "end_time": "2021-04-17T06:48:52.212109",
          "exception": false,
          "start_time": "2021-04-17T06:48:52.087934",
          "status": "completed"
        },
        "tags": [],
        "id": "9Ty6-1_eNxp_",
        "outputId": "670593b1-f8e5-4068-aa8b-7683e797c0db"
      },
      "outputs": [
        {
          "name": "stdout",
          "output_type": "stream",
          "text": [
            "Stopword Removal using SpaCy: \n",
            "Our Deeds are the Reason of this #earthquake May ALLAH Forgive us all => [Our, Deeds, are, the, Reason, of, this, #, earthquake, May, ALLAH, Forgive, us, all]\n"
          ]
        }
      ],
      "source": [
        "tokens2 = [word for word in words2 if word not in spacy_stopwords]\n",
        "print(f'Stopword Removal using SpaCy: \\n{words2} => {tokens2}')"
      ]
    },
    {
      "cell_type": "markdown",
      "metadata": {
        "papermill": {
          "duration": 0.113396,
          "end_time": "2021-04-17T06:48:52.440365",
          "exception": false,
          "start_time": "2021-04-17T06:48:52.326969",
          "status": "completed"
        },
        "tags": [],
        "id": "FJb3jAQYNxp_"
      },
      "source": [
        "## **Delimiter Removal**\n",
        "\n",
        "Delimiters are removed to reduce the size of the dataset as they do not supply any vital information in some cases. A Few delimiters are question marks (?), full stops (.), and exclamation marks (!). For example, after delimiter removal the sentence 'I am cold!' becomes 'I am cold'."
      ]
    },
    {
      "cell_type": "code",
      "execution_count": null,
      "metadata": {
        "execution": {
          "iopub.execute_input": "2021-04-17T06:48:52.675950Z",
          "iopub.status.busy": "2021-04-17T06:48:52.675195Z",
          "iopub.status.idle": "2021-04-17T06:48:52.678924Z",
          "shell.execute_reply": "2021-04-17T06:48:52.679366Z"
        },
        "papermill": {
          "duration": 0.122999,
          "end_time": "2021-04-17T06:48:52.679473",
          "exception": false,
          "start_time": "2021-04-17T06:48:52.556474",
          "status": "completed"
        },
        "tags": [],
        "id": "Bm_6E5MoNxp_",
        "outputId": "eb9fe266-cc9e-4295-f948-e03e7a5627a3"
      },
      "outputs": [
        {
          "name": "stdout",
          "output_type": "stream",
          "text": [
            "Delimiters in English: \n",
            "!\"#$%&'()*+,-./:;<=>?@[\\]^_`{|}~\n"
          ]
        }
      ],
      "source": [
        "from string import punctuation\n",
        "print(f'Delimiters in English: \\n{punctuation}')"
      ]
    },
    {
      "cell_type": "code",
      "execution_count": null,
      "metadata": {
        "execution": {
          "iopub.execute_input": "2021-04-17T06:48:52.930582Z",
          "iopub.status.busy": "2021-04-17T06:48:52.929767Z",
          "iopub.status.idle": "2021-04-17T06:48:52.942699Z",
          "shell.execute_reply": "2021-04-17T06:48:52.943366Z"
        },
        "papermill": {
          "duration": 0.148539,
          "end_time": "2021-04-17T06:48:52.943622",
          "exception": false,
          "start_time": "2021-04-17T06:48:52.795083",
          "status": "completed"
        },
        "tags": [],
        "id": "4F76KLRENxqA",
        "outputId": "a302f9e1-3b8c-44de-f386-0c536dd1c97a"
      },
      "outputs": [
        {
          "name": "stdout",
          "output_type": "stream",
          "text": [
            "Delimiter Removal: \n",
            "['#', 'OVOFest', 'Drake', 'straight', 'body', 'bagging', 'Meek', 'on', 'that', 'OVO', 'stage', '.'] => ['OVOFest', 'Drake', 'straight', 'body', 'bagging', 'Meek', 'on', 'that', 'OVO', 'stage']\n"
          ]
        }
      ],
      "source": [
        "tokens1 = [word for word in words1 if word not in punctuation]\n",
        "print(f'Delimiter Removal: \\n{words1} => {tokens1}')"
      ]
    },
    {
      "cell_type": "markdown",
      "metadata": {
        "papermill": {
          "duration": 0.172613,
          "end_time": "2021-04-17T06:48:53.298674",
          "exception": false,
          "start_time": "2021-04-17T06:48:53.126061",
          "status": "completed"
        },
        "tags": [],
        "id": "hSO6AmyzNxqA"
      },
      "source": [
        "## **Removal of Tags**\n",
        "\n",
        "During web scraping, the data is scraped from web pages residing on the website, and they contain HTML tags. These tags do not provide any necessary information and hence, can be erased. For example, a tag like < body > (Body Tag) is deleted."
      ]
    },
    {
      "cell_type": "code",
      "execution_count": null,
      "metadata": {
        "execution": {
          "iopub.execute_input": "2021-04-17T06:48:53.739341Z",
          "iopub.status.busy": "2021-04-17T06:48:53.738564Z",
          "iopub.status.idle": "2021-04-17T06:48:53.745716Z",
          "shell.execute_reply": "2021-04-17T06:48:53.737891Z"
        },
        "papermill": {
          "duration": 0.236186,
          "end_time": "2021-04-17T06:48:53.745847",
          "exception": false,
          "start_time": "2021-04-17T06:48:53.509661",
          "status": "completed"
        },
        "tags": [],
        "id": "SWVii7zeNxqF",
        "outputId": "10af2662-ec54-4607-feb7-2fbb80677665"
      },
      "outputs": [
        {
          "name": "stdout",
          "output_type": "stream",
          "text": [
            "Removing HTML tags: \n",
            "<head> <title> Natural Language Processing </title> </head> => Natural Language Processing\n"
          ]
        }
      ],
      "source": [
        "sent_with_html = \"<head> <title> Natural Language Processing </title> </head>\"\n",
        "remove_html = re.compile('<.*?>')\n",
        "\n",
        "print(f\"Removing HTML tags: \\n{sent_with_html} => {re.sub(remove_html, '', sent_with_html).strip()}\")"
      ]
    },
    {
      "cell_type": "markdown",
      "metadata": {
        "papermill": {
          "duration": 0.222159,
          "end_time": "2021-04-17T06:48:54.342072",
          "exception": false,
          "start_time": "2021-04-17T06:48:54.119913",
          "status": "completed"
        },
        "tags": [],
        "id": "TpTHy0u7NxqF"
      },
      "source": [
        "## **Spell Check**\n",
        "\n",
        "While communicating online, people use shorthand, urban dictionary words, and slang in their language. Standard dictionaries do not hold these words, so lookups into these dictionaries lead to inconsistency in data. Therefore it is essential to correct spelling."
      ]
    },
    {
      "cell_type": "code",
      "execution_count": null,
      "metadata": {
        "execution": {
          "iopub.execute_input": "2021-04-17T06:48:54.795426Z",
          "iopub.status.busy": "2021-04-17T06:48:54.794655Z",
          "iopub.status.idle": "2021-04-17T06:48:55.047652Z",
          "shell.execute_reply": "2021-04-17T06:48:55.048066Z"
        },
        "papermill": {
          "duration": 0.496162,
          "end_time": "2021-04-17T06:48:55.048194",
          "exception": false,
          "start_time": "2021-04-17T06:48:54.552032",
          "status": "completed"
        },
        "tags": [],
        "id": "x6V3u8ATNxqG",
        "outputId": "dcb9cd13-b46d-4955-dc60-fd07397d2204"
      },
      "outputs": [
        {
          "name": "stdout",
          "output_type": "stream",
          "text": [
            "Spelling Correction:\n",
            "\n",
            "OVOFest => OVOFest\n",
            "Drake => Drake\n",
            "straight => straight\n",
            "body => body\n",
            "bagging => bagging\n",
            "Meek => Meek\n",
            "on => on\n",
            "that => that\n",
            "OVO => VO\n",
            "stage => stage\n"
          ]
        }
      ],
      "source": [
        "spell = Speller()\n",
        "\n",
        "print('Spelling Correction:\\n')\n",
        "for token in tokens1:\n",
        "    print(f'{token} => {spell(token)}')\n"
      ]
    },
    {
      "cell_type": "code",
      "execution_count": null,
      "metadata": {
        "execution": {
          "iopub.execute_input": "2021-04-17T06:48:55.281939Z",
          "iopub.status.busy": "2021-04-17T06:48:55.281119Z",
          "iopub.status.idle": "2021-04-17T06:48:55.440449Z",
          "shell.execute_reply": "2021-04-17T06:48:55.441134Z"
        },
        "papermill": {
          "duration": 0.277866,
          "end_time": "2021-04-17T06:48:55.441303",
          "exception": false,
          "start_time": "2021-04-17T06:48:55.163437",
          "status": "completed"
        },
        "tags": [],
        "id": "0KeCj7dPNxqG",
        "outputId": "64045335-3841-44f7-9625-4f453e6f6315"
      },
      "outputs": [
        {
          "name": "stdout",
          "output_type": "stream",
          "text": [
            "Tokens before and after Spelling Correction (Own Example):\n",
            "\n",
            "Calandar : Calendar\n",
            "neccessary : necessary\n",
            "recieve : receive\n",
            "adress : address\n",
            "misteak : mistake\n"
          ]
        }
      ],
      "source": [
        "spell = Speller()\n",
        "misspelled = ['Calandar', 'neccessary', 'recieve', 'adress', 'misteak']\n",
        "\n",
        "print('Tokens before and after Spelling Correction (Own Example):\\n')\n",
        "for token in misspelled:\n",
        "    print(f'{token} : {spell(token)}')\n"
      ]
    },
    {
      "cell_type": "markdown",
      "metadata": {
        "papermill": {
          "duration": 0.110731,
          "end_time": "2021-04-17T06:48:55.665236",
          "exception": false,
          "start_time": "2021-04-17T06:48:55.554505",
          "status": "completed"
        },
        "tags": [],
        "id": "7Azmwsd2NxqG"
      },
      "source": [
        "## **Stemming**\n",
        "\n",
        "Stemming applies algorithmic rules to extract the stem out of the derived word simply. The words produced by this step do not have any essential meaning, but they are simply a bunch of letters put together without affixes. For example, the word “beautiful” is stemmed to “Beauti”."
      ]
    },
    {
      "cell_type": "code",
      "execution_count": null,
      "metadata": {
        "execution": {
          "iopub.execute_input": "2021-04-17T06:48:55.895268Z",
          "iopub.status.busy": "2021-04-17T06:48:55.893955Z",
          "iopub.status.idle": "2021-04-17T06:48:55.897515Z",
          "shell.execute_reply": "2021-04-17T06:48:55.895776Z"
        },
        "papermill": {
          "duration": 0.12273,
          "end_time": "2021-04-17T06:48:55.897626",
          "exception": false,
          "start_time": "2021-04-17T06:48:55.774896",
          "status": "completed"
        },
        "tags": [],
        "id": "k8Asld_-NxqH",
        "outputId": "2e892171-c153-4763-bfaa-f29de23c16d2"
      },
      "outputs": [
        {
          "name": "stdout",
          "output_type": "stream",
          "text": [
            "Tokens after Stemming using Porter Stemmer: \n",
            "['ovofest', 'drake', 'straight', 'bodi', 'bag', 'meek', 'on', 'that', 'ovo', 'stage']\n"
          ]
        }
      ],
      "source": [
        "porterStemmer = PorterStemmer()\n",
        "stemWords1 = [porterStemmer.stem(word) for word in tokens1]\n",
        "\n",
        "print(f'Tokens after Stemming using Porter Stemmer: \\n{stemWords1}')"
      ]
    },
    {
      "cell_type": "code",
      "execution_count": null,
      "metadata": {
        "execution": {
          "iopub.execute_input": "2021-04-17T06:48:56.141359Z",
          "iopub.status.busy": "2021-04-17T06:48:56.140771Z",
          "iopub.status.idle": "2021-04-17T06:48:56.145856Z",
          "shell.execute_reply": "2021-04-17T06:48:56.145302Z"
        },
        "papermill": {
          "duration": 0.127958,
          "end_time": "2021-04-17T06:48:56.145977",
          "exception": false,
          "start_time": "2021-04-17T06:48:56.018019",
          "status": "completed"
        },
        "tags": [],
        "id": "MvvAUj_cNxqH",
        "outputId": "367e56d0-8fef-4059-dcae-5e6014330c00"
      },
      "outputs": [
        {
          "name": "stdout",
          "output_type": "stream",
          "text": [
            "Tokens after Stemming using Snowball Stemmer: \n",
            "['ovofest', 'drake', 'straight', 'bodi', 'bag', 'meek', 'on', 'that', 'ovo', 'stage']\n"
          ]
        }
      ],
      "source": [
        "snowballStemmer = SnowballStemmer('english')\n",
        "stemWords2 = [snowballStemmer.stem(word) for word in tokens1]\n",
        "\n",
        "print(f'Tokens after Stemming using Snowball Stemmer: \\n{stemWords2}')"
      ]
    },
    {
      "cell_type": "markdown",
      "metadata": {
        "papermill": {
          "duration": 0.111511,
          "end_time": "2021-04-17T06:48:56.370668",
          "exception": false,
          "start_time": "2021-04-17T06:48:56.259157",
          "status": "completed"
        },
        "tags": [],
        "id": "hsTP08iHNxqH"
      },
      "source": [
        "## **Lemmatization**\n",
        "\n",
        "Lemmatization is similar to stemming but it add context to bring out the true meaning. It groups inflected forms of words to be interpretd as a single root word. For example, the word “beautiful” is stemmed to “Beauty” unlike “Beauti”."
      ]
    },
    {
      "cell_type": "code",
      "execution_count": null,
      "metadata": {
        "execution": {
          "iopub.execute_input": "2021-04-17T06:48:56.600101Z",
          "iopub.status.busy": "2021-04-17T06:48:56.599374Z",
          "iopub.status.idle": "2021-04-17T06:48:58.566196Z",
          "shell.execute_reply": "2021-04-17T06:48:58.566903Z"
        },
        "papermill": {
          "duration": 2.083287,
          "end_time": "2021-04-17T06:48:58.567075",
          "exception": false,
          "start_time": "2021-04-17T06:48:56.483788",
          "status": "completed"
        },
        "tags": [],
        "id": "DhUiO3I4NxqH",
        "outputId": "222095fb-2800-448e-b4eb-cd955dafc2f6"
      },
      "outputs": [
        {
          "name": "stdout",
          "output_type": "stream",
          "text": [
            "Tokens after Lemmatization using WordNet Lemmatizer: \n",
            "['OVOFest', 'Drake', 'straight', 'body', 'bagging', 'Meek', 'on', 'that', 'OVO', 'stage'] => ['OVOFest', 'Drake', 'straight', 'body', 'bagging', 'Meek', 'on', 'that', 'OVO', 'stage']\n"
          ]
        }
      ],
      "source": [
        "wordNetLemmatizer = WordNetLemmatizer()\n",
        "lemmaWords1 = [wordNetLemmatizer.lemmatize(word) for word in tokens1]\n",
        "\n",
        "print(f'Tokens after Lemmatization using WordNet Lemmatizer: \\n{tokens1} => {lemmaWords1}')"
      ]
    },
    {
      "cell_type": "code",
      "execution_count": null,
      "metadata": {
        "execution": {
          "iopub.execute_input": "2021-04-17T06:48:58.799562Z",
          "iopub.status.busy": "2021-04-17T06:48:58.798939Z",
          "iopub.status.idle": "2021-04-17T06:48:58.804680Z",
          "shell.execute_reply": "2021-04-17T06:48:58.804022Z"
        },
        "papermill": {
          "duration": 0.123649,
          "end_time": "2021-04-17T06:48:58.804810",
          "exception": false,
          "start_time": "2021-04-17T06:48:58.681161",
          "status": "completed"
        },
        "tags": [],
        "id": "LDKAhN7uNxqI",
        "outputId": "efd7a6b6-5946-4f45-c561-02ac9cdc90be"
      },
      "outputs": [
        {
          "name": "stdout",
          "output_type": "stream",
          "text": [
            "Tokens after Lemmatization using SpaCy Lemmatization: \n",
            "[Our, Deeds, are, the, Reason, of, this, #, earthquake, May, ALLAH, Forgive, us, all] => ['our', 'deed', 'be', 'the', 'Reason', 'of', 'this', '#', 'earthquake', 'may', 'ALLAH', 'forgive', 'we', 'all']\n"
          ]
        }
      ],
      "source": [
        "lemmaWords2 = [word.lemma_ for word in tokens2]\n",
        "\n",
        "print(f'Tokens after Lemmatization using SpaCy Lemmatization: \\n{tokens2} => {lemmaWords2}')"
      ]
    },
    {
      "cell_type": "markdown",
      "metadata": {
        "papermill": {
          "duration": 0.109473,
          "end_time": "2021-04-17T06:48:59.026245",
          "exception": false,
          "start_time": "2021-04-17T06:48:58.916772",
          "status": "completed"
        },
        "tags": [],
        "id": "scHPjQOQNxqI"
      },
      "source": [
        "# **FEATURE ENGINEERING**"
      ]
    },
    {
      "cell_type": "markdown",
      "metadata": {
        "papermill": {
          "duration": 0.11024,
          "end_time": "2021-04-17T06:48:59.245947",
          "exception": false,
          "start_time": "2021-04-17T06:48:59.135707",
          "status": "completed"
        },
        "tags": [],
        "id": "kawLKPGSNxqI"
      },
      "source": [
        "## **Encoding**\n",
        "\n",
        "Encoding is the process of encrypting data in a format that computers can understand. Humans comprehend natural language. However, a machine is capable of decoding only 0s and 1s. Encoding converts text to digits. For example, the words 'positive' and 'negative' are mapped to the numbers '0' and '1'."
      ]
    },
    {
      "cell_type": "code",
      "execution_count": null,
      "metadata": {
        "execution": {
          "iopub.execute_input": "2021-04-17T06:48:59.470819Z",
          "iopub.status.busy": "2021-04-17T06:48:59.470270Z",
          "iopub.status.idle": "2021-04-17T06:48:59.563208Z",
          "shell.execute_reply": "2021-04-17T06:48:59.562397Z"
        },
        "papermill": {
          "duration": 0.209018,
          "end_time": "2021-04-17T06:48:59.563306",
          "exception": false,
          "start_time": "2021-04-17T06:48:59.354288",
          "status": "completed"
        },
        "tags": [],
        "id": "triEK319NxqI",
        "outputId": "36e16d8f-8b3f-471a-dc08-d8f6838ff473"
      },
      "outputs": [
        {
          "name": "stdout",
          "output_type": "stream",
          "text": [
            "Label Encoder\n"
          ]
        },
        {
          "data": {
            "text/html": [
              "<style  type=\"text/css\" >\n",
              "#T_fcf847fc_9f48_11eb_9498_0242ac130202row0_col1,#T_fcf847fc_9f48_11eb_9498_0242ac130202row3_col1,#T_fcf847fc_9f48_11eb_9498_0242ac130202row9_col1{\n",
              "            background-color:  #bf812d;\n",
              "            color:  #000000;\n",
              "        }#T_fcf847fc_9f48_11eb_9498_0242ac130202row1_col1{\n",
              "            background-color:  #543005;\n",
              "            color:  #f1f1f1;\n",
              "        }#T_fcf847fc_9f48_11eb_9498_0242ac130202row2_col1,#T_fcf847fc_9f48_11eb_9498_0242ac130202row6_col1{\n",
              "            background-color:  #c7eae5;\n",
              "            color:  #000000;\n",
              "        }#T_fcf847fc_9f48_11eb_9498_0242ac130202row4_col1,#T_fcf847fc_9f48_11eb_9498_0242ac130202row5_col1{\n",
              "            background-color:  #f6e8c3;\n",
              "            color:  #000000;\n",
              "        }#T_fcf847fc_9f48_11eb_9498_0242ac130202row7_col1{\n",
              "            background-color:  #003c30;\n",
              "            color:  #f1f1f1;\n",
              "        }#T_fcf847fc_9f48_11eb_9498_0242ac130202row8_col1{\n",
              "            background-color:  #35978f;\n",
              "            color:  #000000;\n",
              "        }</style><table id=\"T_fcf847fc_9f48_11eb_9498_0242ac130202\" ><thead>    <tr>        <th class=\"blank level0\" ></th>        <th class=\"col_heading level0 col0\" >Labels</th>        <th class=\"col_heading level0 col1\" >Label Encoder Values</th>    </tr></thead><tbody>\n",
              "                <tr>\n",
              "                        <th id=\"T_fcf847fc_9f48_11eb_9498_0242ac130202level0_row0\" class=\"row_heading level0 row0\" >0</th>\n",
              "                        <td id=\"T_fcf847fc_9f48_11eb_9498_0242ac130202row0_col0\" class=\"data row0 col0\" >dog</td>\n",
              "                        <td id=\"T_fcf847fc_9f48_11eb_9498_0242ac130202row0_col1\" class=\"data row0 col1\" >1</td>\n",
              "            </tr>\n",
              "            <tr>\n",
              "                        <th id=\"T_fcf847fc_9f48_11eb_9498_0242ac130202level0_row1\" class=\"row_heading level0 row1\" >1</th>\n",
              "                        <td id=\"T_fcf847fc_9f48_11eb_9498_0242ac130202row1_col0\" class=\"data row1 col0\" >cat</td>\n",
              "                        <td id=\"T_fcf847fc_9f48_11eb_9498_0242ac130202row1_col1\" class=\"data row1 col1\" >0</td>\n",
              "            </tr>\n",
              "            <tr>\n",
              "                        <th id=\"T_fcf847fc_9f48_11eb_9498_0242ac130202level0_row2\" class=\"row_heading level0 row2\" >2</th>\n",
              "                        <td id=\"T_fcf847fc_9f48_11eb_9498_0242ac130202row2_col0\" class=\"data row2 col0\" >mouse</td>\n",
              "                        <td id=\"T_fcf847fc_9f48_11eb_9498_0242ac130202row2_col1\" class=\"data row2 col1\" >3</td>\n",
              "            </tr>\n",
              "            <tr>\n",
              "                        <th id=\"T_fcf847fc_9f48_11eb_9498_0242ac130202level0_row3\" class=\"row_heading level0 row3\" >3</th>\n",
              "                        <td id=\"T_fcf847fc_9f48_11eb_9498_0242ac130202row3_col0\" class=\"data row3 col0\" >dog</td>\n",
              "                        <td id=\"T_fcf847fc_9f48_11eb_9498_0242ac130202row3_col1\" class=\"data row3 col1\" >1</td>\n",
              "            </tr>\n",
              "            <tr>\n",
              "                        <th id=\"T_fcf847fc_9f48_11eb_9498_0242ac130202level0_row4\" class=\"row_heading level0 row4\" >4</th>\n",
              "                        <td id=\"T_fcf847fc_9f48_11eb_9498_0242ac130202row4_col0\" class=\"data row4 col0\" >lion</td>\n",
              "                        <td id=\"T_fcf847fc_9f48_11eb_9498_0242ac130202row4_col1\" class=\"data row4 col1\" >2</td>\n",
              "            </tr>\n",
              "            <tr>\n",
              "                        <th id=\"T_fcf847fc_9f48_11eb_9498_0242ac130202level0_row5\" class=\"row_heading level0 row5\" >5</th>\n",
              "                        <td id=\"T_fcf847fc_9f48_11eb_9498_0242ac130202row5_col0\" class=\"data row5 col0\" >lion</td>\n",
              "                        <td id=\"T_fcf847fc_9f48_11eb_9498_0242ac130202row5_col1\" class=\"data row5 col1\" >2</td>\n",
              "            </tr>\n",
              "            <tr>\n",
              "                        <th id=\"T_fcf847fc_9f48_11eb_9498_0242ac130202level0_row6\" class=\"row_heading level0 row6\" >6</th>\n",
              "                        <td id=\"T_fcf847fc_9f48_11eb_9498_0242ac130202row6_col0\" class=\"data row6 col0\" >mouse</td>\n",
              "                        <td id=\"T_fcf847fc_9f48_11eb_9498_0242ac130202row6_col1\" class=\"data row6 col1\" >3</td>\n",
              "            </tr>\n",
              "            <tr>\n",
              "                        <th id=\"T_fcf847fc_9f48_11eb_9498_0242ac130202level0_row7\" class=\"row_heading level0 row7\" >7</th>\n",
              "                        <td id=\"T_fcf847fc_9f48_11eb_9498_0242ac130202row7_col0\" class=\"data row7 col0\" >tiger</td>\n",
              "                        <td id=\"T_fcf847fc_9f48_11eb_9498_0242ac130202row7_col1\" class=\"data row7 col1\" >5</td>\n",
              "            </tr>\n",
              "            <tr>\n",
              "                        <th id=\"T_fcf847fc_9f48_11eb_9498_0242ac130202level0_row8\" class=\"row_heading level0 row8\" >8</th>\n",
              "                        <td id=\"T_fcf847fc_9f48_11eb_9498_0242ac130202row8_col0\" class=\"data row8 col0\" >rat</td>\n",
              "                        <td id=\"T_fcf847fc_9f48_11eb_9498_0242ac130202row8_col1\" class=\"data row8 col1\" >4</td>\n",
              "            </tr>\n",
              "            <tr>\n",
              "                        <th id=\"T_fcf847fc_9f48_11eb_9498_0242ac130202level0_row9\" class=\"row_heading level0 row9\" >9</th>\n",
              "                        <td id=\"T_fcf847fc_9f48_11eb_9498_0242ac130202row9_col0\" class=\"data row9 col0\" >dog</td>\n",
              "                        <td id=\"T_fcf847fc_9f48_11eb_9498_0242ac130202row9_col1\" class=\"data row9 col1\" >1</td>\n",
              "            </tr>\n",
              "    </tbody></table>"
            ],
            "text/plain": [
              "<pandas.io.formats.style.Styler at 0x7f49fd97db50>"
            ]
          },
          "execution_count": 32,
          "metadata": {},
          "output_type": "execute_result"
        }
      ],
      "source": [
        "animals = ['dog', 'cat', 'mouse', 'dog', 'lion', 'lion', 'mouse', 'tiger', 'rat', 'dog']\n",
        "\n",
        "label_encoder = preprocessing.LabelEncoder()\n",
        "data = pd.DataFrame({'Labels' : animals, 'Label Encoder Values' : label_encoder.fit_transform(animals)})\n",
        "\n",
        "print(\"Label Encoder\")\n",
        "data.style.background_gradient(cmap = 'BrBG')"
      ]
    },
    {
      "cell_type": "code",
      "execution_count": null,
      "metadata": {
        "execution": {
          "iopub.execute_input": "2021-04-17T06:48:59.800598Z",
          "iopub.status.busy": "2021-04-17T06:48:59.799733Z",
          "iopub.status.idle": "2021-04-17T06:48:59.823672Z",
          "shell.execute_reply": "2021-04-17T06:48:59.823061Z"
        },
        "papermill": {
          "duration": 0.149953,
          "end_time": "2021-04-17T06:48:59.823788",
          "exception": false,
          "start_time": "2021-04-17T06:48:59.673835",
          "status": "completed"
        },
        "tags": [],
        "id": "j9puFMeYNxqI",
        "outputId": "2e27fe35-7c0d-4306-bbfb-748abec22aff"
      },
      "outputs": [
        {
          "name": "stdout",
          "output_type": "stream",
          "text": [
            "One Hot Encoder\n"
          ]
        },
        {
          "data": {
            "text/html": [
              "<style  type=\"text/css\" >\n",
              "#T_fd1fba80_9f48_11eb_9498_0242ac130202row0_col0,#T_fd1fba80_9f48_11eb_9498_0242ac130202row0_col2,#T_fd1fba80_9f48_11eb_9498_0242ac130202row0_col3,#T_fd1fba80_9f48_11eb_9498_0242ac130202row0_col4,#T_fd1fba80_9f48_11eb_9498_0242ac130202row0_col5,#T_fd1fba80_9f48_11eb_9498_0242ac130202row1_col1,#T_fd1fba80_9f48_11eb_9498_0242ac130202row1_col2,#T_fd1fba80_9f48_11eb_9498_0242ac130202row1_col3,#T_fd1fba80_9f48_11eb_9498_0242ac130202row1_col4,#T_fd1fba80_9f48_11eb_9498_0242ac130202row1_col5,#T_fd1fba80_9f48_11eb_9498_0242ac130202row2_col0,#T_fd1fba80_9f48_11eb_9498_0242ac130202row2_col1,#T_fd1fba80_9f48_11eb_9498_0242ac130202row2_col2,#T_fd1fba80_9f48_11eb_9498_0242ac130202row2_col4,#T_fd1fba80_9f48_11eb_9498_0242ac130202row2_col5,#T_fd1fba80_9f48_11eb_9498_0242ac130202row3_col0,#T_fd1fba80_9f48_11eb_9498_0242ac130202row3_col2,#T_fd1fba80_9f48_11eb_9498_0242ac130202row3_col3,#T_fd1fba80_9f48_11eb_9498_0242ac130202row3_col4,#T_fd1fba80_9f48_11eb_9498_0242ac130202row3_col5,#T_fd1fba80_9f48_11eb_9498_0242ac130202row4_col0,#T_fd1fba80_9f48_11eb_9498_0242ac130202row4_col1,#T_fd1fba80_9f48_11eb_9498_0242ac130202row4_col3,#T_fd1fba80_9f48_11eb_9498_0242ac130202row4_col4,#T_fd1fba80_9f48_11eb_9498_0242ac130202row4_col5,#T_fd1fba80_9f48_11eb_9498_0242ac130202row5_col0,#T_fd1fba80_9f48_11eb_9498_0242ac130202row5_col1,#T_fd1fba80_9f48_11eb_9498_0242ac130202row5_col3,#T_fd1fba80_9f48_11eb_9498_0242ac130202row5_col4,#T_fd1fba80_9f48_11eb_9498_0242ac130202row5_col5,#T_fd1fba80_9f48_11eb_9498_0242ac130202row6_col0,#T_fd1fba80_9f48_11eb_9498_0242ac130202row6_col1,#T_fd1fba80_9f48_11eb_9498_0242ac130202row6_col2,#T_fd1fba80_9f48_11eb_9498_0242ac130202row6_col4,#T_fd1fba80_9f48_11eb_9498_0242ac130202row6_col5,#T_fd1fba80_9f48_11eb_9498_0242ac130202row7_col0,#T_fd1fba80_9f48_11eb_9498_0242ac130202row7_col1,#T_fd1fba80_9f48_11eb_9498_0242ac130202row7_col2,#T_fd1fba80_9f48_11eb_9498_0242ac130202row7_col3,#T_fd1fba80_9f48_11eb_9498_0242ac130202row7_col4,#T_fd1fba80_9f48_11eb_9498_0242ac130202row8_col0,#T_fd1fba80_9f48_11eb_9498_0242ac130202row8_col1,#T_fd1fba80_9f48_11eb_9498_0242ac130202row8_col2,#T_fd1fba80_9f48_11eb_9498_0242ac130202row8_col3,#T_fd1fba80_9f48_11eb_9498_0242ac130202row8_col5,#T_fd1fba80_9f48_11eb_9498_0242ac130202row9_col0,#T_fd1fba80_9f48_11eb_9498_0242ac130202row9_col2,#T_fd1fba80_9f48_11eb_9498_0242ac130202row9_col3,#T_fd1fba80_9f48_11eb_9498_0242ac130202row9_col4,#T_fd1fba80_9f48_11eb_9498_0242ac130202row9_col5{\n",
              "            background-color:  #e4ff7a;\n",
              "            color:  #000000;\n",
              "        }#T_fd1fba80_9f48_11eb_9498_0242ac130202row0_col1,#T_fd1fba80_9f48_11eb_9498_0242ac130202row1_col0,#T_fd1fba80_9f48_11eb_9498_0242ac130202row2_col3,#T_fd1fba80_9f48_11eb_9498_0242ac130202row3_col1,#T_fd1fba80_9f48_11eb_9498_0242ac130202row4_col2,#T_fd1fba80_9f48_11eb_9498_0242ac130202row5_col2,#T_fd1fba80_9f48_11eb_9498_0242ac130202row6_col3,#T_fd1fba80_9f48_11eb_9498_0242ac130202row7_col5,#T_fd1fba80_9f48_11eb_9498_0242ac130202row8_col4,#T_fd1fba80_9f48_11eb_9498_0242ac130202row9_col1{\n",
              "            background-color:  #fc7f00;\n",
              "            color:  #000000;\n",
              "        }</style><table id=\"T_fd1fba80_9f48_11eb_9498_0242ac130202\" ><thead>    <tr>        <th class=\"blank level0\" ></th>        <th class=\"col_heading level0 col0\" >0</th>        <th class=\"col_heading level0 col1\" >1</th>        <th class=\"col_heading level0 col2\" >2</th>        <th class=\"col_heading level0 col3\" >3</th>        <th class=\"col_heading level0 col4\" >4</th>        <th class=\"col_heading level0 col5\" >5</th>        <th class=\"col_heading level0 col6\" >Labels</th>    </tr></thead><tbody>\n",
              "                <tr>\n",
              "                        <th id=\"T_fd1fba80_9f48_11eb_9498_0242ac130202level0_row0\" class=\"row_heading level0 row0\" >0</th>\n",
              "                        <td id=\"T_fd1fba80_9f48_11eb_9498_0242ac130202row0_col0\" class=\"data row0 col0\" >0</td>\n",
              "                        <td id=\"T_fd1fba80_9f48_11eb_9498_0242ac130202row0_col1\" class=\"data row0 col1\" >1</td>\n",
              "                        <td id=\"T_fd1fba80_9f48_11eb_9498_0242ac130202row0_col2\" class=\"data row0 col2\" >0</td>\n",
              "                        <td id=\"T_fd1fba80_9f48_11eb_9498_0242ac130202row0_col3\" class=\"data row0 col3\" >0</td>\n",
              "                        <td id=\"T_fd1fba80_9f48_11eb_9498_0242ac130202row0_col4\" class=\"data row0 col4\" >0</td>\n",
              "                        <td id=\"T_fd1fba80_9f48_11eb_9498_0242ac130202row0_col5\" class=\"data row0 col5\" >0</td>\n",
              "                        <td id=\"T_fd1fba80_9f48_11eb_9498_0242ac130202row0_col6\" class=\"data row0 col6\" >dog</td>\n",
              "            </tr>\n",
              "            <tr>\n",
              "                        <th id=\"T_fd1fba80_9f48_11eb_9498_0242ac130202level0_row1\" class=\"row_heading level0 row1\" >1</th>\n",
              "                        <td id=\"T_fd1fba80_9f48_11eb_9498_0242ac130202row1_col0\" class=\"data row1 col0\" >1</td>\n",
              "                        <td id=\"T_fd1fba80_9f48_11eb_9498_0242ac130202row1_col1\" class=\"data row1 col1\" >0</td>\n",
              "                        <td id=\"T_fd1fba80_9f48_11eb_9498_0242ac130202row1_col2\" class=\"data row1 col2\" >0</td>\n",
              "                        <td id=\"T_fd1fba80_9f48_11eb_9498_0242ac130202row1_col3\" class=\"data row1 col3\" >0</td>\n",
              "                        <td id=\"T_fd1fba80_9f48_11eb_9498_0242ac130202row1_col4\" class=\"data row1 col4\" >0</td>\n",
              "                        <td id=\"T_fd1fba80_9f48_11eb_9498_0242ac130202row1_col5\" class=\"data row1 col5\" >0</td>\n",
              "                        <td id=\"T_fd1fba80_9f48_11eb_9498_0242ac130202row1_col6\" class=\"data row1 col6\" >cat</td>\n",
              "            </tr>\n",
              "            <tr>\n",
              "                        <th id=\"T_fd1fba80_9f48_11eb_9498_0242ac130202level0_row2\" class=\"row_heading level0 row2\" >2</th>\n",
              "                        <td id=\"T_fd1fba80_9f48_11eb_9498_0242ac130202row2_col0\" class=\"data row2 col0\" >0</td>\n",
              "                        <td id=\"T_fd1fba80_9f48_11eb_9498_0242ac130202row2_col1\" class=\"data row2 col1\" >0</td>\n",
              "                        <td id=\"T_fd1fba80_9f48_11eb_9498_0242ac130202row2_col2\" class=\"data row2 col2\" >0</td>\n",
              "                        <td id=\"T_fd1fba80_9f48_11eb_9498_0242ac130202row2_col3\" class=\"data row2 col3\" >1</td>\n",
              "                        <td id=\"T_fd1fba80_9f48_11eb_9498_0242ac130202row2_col4\" class=\"data row2 col4\" >0</td>\n",
              "                        <td id=\"T_fd1fba80_9f48_11eb_9498_0242ac130202row2_col5\" class=\"data row2 col5\" >0</td>\n",
              "                        <td id=\"T_fd1fba80_9f48_11eb_9498_0242ac130202row2_col6\" class=\"data row2 col6\" >mouse</td>\n",
              "            </tr>\n",
              "            <tr>\n",
              "                        <th id=\"T_fd1fba80_9f48_11eb_9498_0242ac130202level0_row3\" class=\"row_heading level0 row3\" >3</th>\n",
              "                        <td id=\"T_fd1fba80_9f48_11eb_9498_0242ac130202row3_col0\" class=\"data row3 col0\" >0</td>\n",
              "                        <td id=\"T_fd1fba80_9f48_11eb_9498_0242ac130202row3_col1\" class=\"data row3 col1\" >1</td>\n",
              "                        <td id=\"T_fd1fba80_9f48_11eb_9498_0242ac130202row3_col2\" class=\"data row3 col2\" >0</td>\n",
              "                        <td id=\"T_fd1fba80_9f48_11eb_9498_0242ac130202row3_col3\" class=\"data row3 col3\" >0</td>\n",
              "                        <td id=\"T_fd1fba80_9f48_11eb_9498_0242ac130202row3_col4\" class=\"data row3 col4\" >0</td>\n",
              "                        <td id=\"T_fd1fba80_9f48_11eb_9498_0242ac130202row3_col5\" class=\"data row3 col5\" >0</td>\n",
              "                        <td id=\"T_fd1fba80_9f48_11eb_9498_0242ac130202row3_col6\" class=\"data row3 col6\" >dog</td>\n",
              "            </tr>\n",
              "            <tr>\n",
              "                        <th id=\"T_fd1fba80_9f48_11eb_9498_0242ac130202level0_row4\" class=\"row_heading level0 row4\" >4</th>\n",
              "                        <td id=\"T_fd1fba80_9f48_11eb_9498_0242ac130202row4_col0\" class=\"data row4 col0\" >0</td>\n",
              "                        <td id=\"T_fd1fba80_9f48_11eb_9498_0242ac130202row4_col1\" class=\"data row4 col1\" >0</td>\n",
              "                        <td id=\"T_fd1fba80_9f48_11eb_9498_0242ac130202row4_col2\" class=\"data row4 col2\" >1</td>\n",
              "                        <td id=\"T_fd1fba80_9f48_11eb_9498_0242ac130202row4_col3\" class=\"data row4 col3\" >0</td>\n",
              "                        <td id=\"T_fd1fba80_9f48_11eb_9498_0242ac130202row4_col4\" class=\"data row4 col4\" >0</td>\n",
              "                        <td id=\"T_fd1fba80_9f48_11eb_9498_0242ac130202row4_col5\" class=\"data row4 col5\" >0</td>\n",
              "                        <td id=\"T_fd1fba80_9f48_11eb_9498_0242ac130202row4_col6\" class=\"data row4 col6\" >lion</td>\n",
              "            </tr>\n",
              "            <tr>\n",
              "                        <th id=\"T_fd1fba80_9f48_11eb_9498_0242ac130202level0_row5\" class=\"row_heading level0 row5\" >5</th>\n",
              "                        <td id=\"T_fd1fba80_9f48_11eb_9498_0242ac130202row5_col0\" class=\"data row5 col0\" >0</td>\n",
              "                        <td id=\"T_fd1fba80_9f48_11eb_9498_0242ac130202row5_col1\" class=\"data row5 col1\" >0</td>\n",
              "                        <td id=\"T_fd1fba80_9f48_11eb_9498_0242ac130202row5_col2\" class=\"data row5 col2\" >1</td>\n",
              "                        <td id=\"T_fd1fba80_9f48_11eb_9498_0242ac130202row5_col3\" class=\"data row5 col3\" >0</td>\n",
              "                        <td id=\"T_fd1fba80_9f48_11eb_9498_0242ac130202row5_col4\" class=\"data row5 col4\" >0</td>\n",
              "                        <td id=\"T_fd1fba80_9f48_11eb_9498_0242ac130202row5_col5\" class=\"data row5 col5\" >0</td>\n",
              "                        <td id=\"T_fd1fba80_9f48_11eb_9498_0242ac130202row5_col6\" class=\"data row5 col6\" >lion</td>\n",
              "            </tr>\n",
              "            <tr>\n",
              "                        <th id=\"T_fd1fba80_9f48_11eb_9498_0242ac130202level0_row6\" class=\"row_heading level0 row6\" >6</th>\n",
              "                        <td id=\"T_fd1fba80_9f48_11eb_9498_0242ac130202row6_col0\" class=\"data row6 col0\" >0</td>\n",
              "                        <td id=\"T_fd1fba80_9f48_11eb_9498_0242ac130202row6_col1\" class=\"data row6 col1\" >0</td>\n",
              "                        <td id=\"T_fd1fba80_9f48_11eb_9498_0242ac130202row6_col2\" class=\"data row6 col2\" >0</td>\n",
              "                        <td id=\"T_fd1fba80_9f48_11eb_9498_0242ac130202row6_col3\" class=\"data row6 col3\" >1</td>\n",
              "                        <td id=\"T_fd1fba80_9f48_11eb_9498_0242ac130202row6_col4\" class=\"data row6 col4\" >0</td>\n",
              "                        <td id=\"T_fd1fba80_9f48_11eb_9498_0242ac130202row6_col5\" class=\"data row6 col5\" >0</td>\n",
              "                        <td id=\"T_fd1fba80_9f48_11eb_9498_0242ac130202row6_col6\" class=\"data row6 col6\" >mouse</td>\n",
              "            </tr>\n",
              "            <tr>\n",
              "                        <th id=\"T_fd1fba80_9f48_11eb_9498_0242ac130202level0_row7\" class=\"row_heading level0 row7\" >7</th>\n",
              "                        <td id=\"T_fd1fba80_9f48_11eb_9498_0242ac130202row7_col0\" class=\"data row7 col0\" >0</td>\n",
              "                        <td id=\"T_fd1fba80_9f48_11eb_9498_0242ac130202row7_col1\" class=\"data row7 col1\" >0</td>\n",
              "                        <td id=\"T_fd1fba80_9f48_11eb_9498_0242ac130202row7_col2\" class=\"data row7 col2\" >0</td>\n",
              "                        <td id=\"T_fd1fba80_9f48_11eb_9498_0242ac130202row7_col3\" class=\"data row7 col3\" >0</td>\n",
              "                        <td id=\"T_fd1fba80_9f48_11eb_9498_0242ac130202row7_col4\" class=\"data row7 col4\" >0</td>\n",
              "                        <td id=\"T_fd1fba80_9f48_11eb_9498_0242ac130202row7_col5\" class=\"data row7 col5\" >1</td>\n",
              "                        <td id=\"T_fd1fba80_9f48_11eb_9498_0242ac130202row7_col6\" class=\"data row7 col6\" >tiger</td>\n",
              "            </tr>\n",
              "            <tr>\n",
              "                        <th id=\"T_fd1fba80_9f48_11eb_9498_0242ac130202level0_row8\" class=\"row_heading level0 row8\" >8</th>\n",
              "                        <td id=\"T_fd1fba80_9f48_11eb_9498_0242ac130202row8_col0\" class=\"data row8 col0\" >0</td>\n",
              "                        <td id=\"T_fd1fba80_9f48_11eb_9498_0242ac130202row8_col1\" class=\"data row8 col1\" >0</td>\n",
              "                        <td id=\"T_fd1fba80_9f48_11eb_9498_0242ac130202row8_col2\" class=\"data row8 col2\" >0</td>\n",
              "                        <td id=\"T_fd1fba80_9f48_11eb_9498_0242ac130202row8_col3\" class=\"data row8 col3\" >0</td>\n",
              "                        <td id=\"T_fd1fba80_9f48_11eb_9498_0242ac130202row8_col4\" class=\"data row8 col4\" >1</td>\n",
              "                        <td id=\"T_fd1fba80_9f48_11eb_9498_0242ac130202row8_col5\" class=\"data row8 col5\" >0</td>\n",
              "                        <td id=\"T_fd1fba80_9f48_11eb_9498_0242ac130202row8_col6\" class=\"data row8 col6\" >rat</td>\n",
              "            </tr>\n",
              "            <tr>\n",
              "                        <th id=\"T_fd1fba80_9f48_11eb_9498_0242ac130202level0_row9\" class=\"row_heading level0 row9\" >9</th>\n",
              "                        <td id=\"T_fd1fba80_9f48_11eb_9498_0242ac130202row9_col0\" class=\"data row9 col0\" >0</td>\n",
              "                        <td id=\"T_fd1fba80_9f48_11eb_9498_0242ac130202row9_col1\" class=\"data row9 col1\" >1</td>\n",
              "                        <td id=\"T_fd1fba80_9f48_11eb_9498_0242ac130202row9_col2\" class=\"data row9 col2\" >0</td>\n",
              "                        <td id=\"T_fd1fba80_9f48_11eb_9498_0242ac130202row9_col3\" class=\"data row9 col3\" >0</td>\n",
              "                        <td id=\"T_fd1fba80_9f48_11eb_9498_0242ac130202row9_col4\" class=\"data row9 col4\" >0</td>\n",
              "                        <td id=\"T_fd1fba80_9f48_11eb_9498_0242ac130202row9_col5\" class=\"data row9 col5\" >0</td>\n",
              "                        <td id=\"T_fd1fba80_9f48_11eb_9498_0242ac130202row9_col6\" class=\"data row9 col6\" >dog</td>\n",
              "            </tr>\n",
              "    </tbody></table>"
            ],
            "text/plain": [
              "<pandas.io.formats.style.Styler at 0x7f49fd97d850>"
            ]
          },
          "execution_count": 33,
          "metadata": {},
          "output_type": "execute_result"
        }
      ],
      "source": [
        "animals = np.array(['dog', 'cat', 'mouse', 'dog', 'lion', 'lion', 'mouse', 'tiger', 'rat', 'dog'])\n",
        "\n",
        "ohe = preprocessing.OneHotEncoder()\n",
        "result = ohe.fit_transform(animals.reshape(-1,1)).toarray()\n",
        "\n",
        "data = pd.DataFrame(result.astype(int))\n",
        "data['Labels'] = animals\n",
        "\n",
        "print(\"One Hot Encoder\")\n",
        "data.style.background_gradient(cmap = 'Wistia')"
      ]
    },
    {
      "cell_type": "markdown",
      "metadata": {
        "papermill": {
          "duration": 0.111271,
          "end_time": "2021-04-17T06:49:00.046724",
          "exception": false,
          "start_time": "2021-04-17T06:48:59.935453",
          "status": "completed"
        },
        "tags": [],
        "id": "mn1bB9H4NxqJ"
      },
      "source": [
        "## **POS Tagger**\n",
        "\n",
        "POS tagger is parts of speech tagger that is an in-built function found in a standard library. It tags the words in the sentences according to the grammar of the langauge. For example, in the text, “The pizza was disgusting but the location was beautiful”, the result after implementing POS tagger will be [“The [DT]”, “pizza [NN]”, “is [VB]”, “disgusting [VBG]”, “but [CC]”, “the [DT]”, “location [NN]”, “was [VBD], “beautiful [JJ]]."
      ]
    },
    {
      "cell_type": "code",
      "execution_count": null,
      "metadata": {
        "execution": {
          "iopub.execute_input": "2021-04-17T06:49:00.278628Z",
          "iopub.status.busy": "2021-04-17T06:49:00.278000Z",
          "iopub.status.idle": "2021-04-17T06:49:00.380181Z",
          "shell.execute_reply": "2021-04-17T06:49:00.380618Z"
        },
        "papermill": {
          "duration": 0.222672,
          "end_time": "2021-04-17T06:49:00.380752",
          "exception": false,
          "start_time": "2021-04-17T06:49:00.158080",
          "status": "completed"
        },
        "tags": [],
        "id": "J5rU1MddNxqJ",
        "outputId": "2310d62d-a8a7-4d23-f303-cfc1ee4a4ec0"
      },
      "outputs": [
        {
          "name": "stdout",
          "output_type": "stream",
          "text": [
            "POS tagging using NLTK: \n",
            "['OVOFest', 'Drake', 'straight', 'body', 'bagging', 'Meek', 'on', 'that', 'OVO', 'stage'] => [('OVOFest', 'NNP'), ('Drake', 'NNP'), ('straight', 'VBD'), ('body', 'NN'), ('bagging', 'VBG'), ('Meek', 'NNP'), ('on', 'IN'), ('that', 'DT'), ('OVO', 'NNP'), ('stage', 'NN')]\n"
          ]
        }
      ],
      "source": [
        "tagged_tokens1 = nltk.pos_tag(tokens1)\n",
        "\n",
        "print(f'POS tagging using NLTK: \\n{tokens1} => {tagged_tokens1}')"
      ]
    },
    {
      "cell_type": "code",
      "execution_count": null,
      "metadata": {
        "execution": {
          "iopub.execute_input": "2021-04-17T06:49:00.625617Z",
          "iopub.status.busy": "2021-04-17T06:49:00.624727Z",
          "iopub.status.idle": "2021-04-17T06:49:00.630074Z",
          "shell.execute_reply": "2021-04-17T06:49:00.629615Z"
        },
        "papermill": {
          "duration": 0.124956,
          "end_time": "2021-04-17T06:49:00.630161",
          "exception": false,
          "start_time": "2021-04-17T06:49:00.505205",
          "status": "completed"
        },
        "tags": [],
        "id": "3vMtQTsqNxqJ",
        "outputId": "b743ed7e-e415-46ec-ba7f-dbefddcd664c"
      },
      "outputs": [
        {
          "name": "stdout",
          "output_type": "stream",
          "text": [
            "POS tagging using SpaCy: \n",
            "\n",
            "Our : PRON\n",
            "Deeds : NOUN\n",
            "are : AUX\n",
            "the : DET\n",
            "Reason : PROPN\n",
            "of : ADP\n",
            "this : DET\n",
            "# : ADJ\n",
            "earthquake : NOUN\n",
            "May : AUX\n",
            "ALLAH : PROPN\n",
            "Forgive : VERB\n",
            "us : PRON\n",
            "all : DET\n"
          ]
        }
      ],
      "source": [
        "tagged_tokens2 = [word.pos_ for word in tokens2]\n",
        "\n",
        "print('POS tagging using SpaCy: \\n')\n",
        "for i in range(len(tagged_tokens2)):\n",
        "    print(f'{tokens2[i]} : {tagged_tokens2[i]}')"
      ]
    },
    {
      "cell_type": "markdown",
      "metadata": {
        "papermill": {
          "duration": 0.112299,
          "end_time": "2021-04-17T06:49:00.854889",
          "exception": false,
          "start_time": "2021-04-17T06:49:00.742590",
          "status": "completed"
        },
        "tags": [],
        "id": "YgBVBr_iNxqK"
      },
      "source": [
        "## **N-Gram**\n",
        "\n",
        "N-gram is a language model widely used in NLP and is applied to statistical problems involving text and audio. It is a probabilistic model that predicts the next series of words. For example, in the sentence, “The movie was boring.” Unigram processes the text as [“The”, “movie”, “was”, “boring”]. Bi-gram processes the text as [“The movie”, “movie was”, “was boring”]. Tri-gram processes the text as [“The movie was”, “movie was boring”]"
      ]
    },
    {
      "cell_type": "code",
      "execution_count": null,
      "metadata": {
        "execution": {
          "iopub.execute_input": "2021-04-17T06:49:01.084260Z",
          "iopub.status.busy": "2021-04-17T06:49:01.083564Z",
          "iopub.status.idle": "2021-04-17T06:49:01.086665Z",
          "shell.execute_reply": "2021-04-17T06:49:01.087285Z"
        },
        "papermill": {
          "duration": 0.120491,
          "end_time": "2021-04-17T06:49:01.087437",
          "exception": false,
          "start_time": "2021-04-17T06:49:00.966946",
          "status": "completed"
        },
        "tags": [],
        "id": "CRsFILeWNxqK",
        "outputId": "387743e6-8df5-4518-c5de-ca1ba4d75439"
      },
      "outputs": [
        {
          "name": "stdout",
          "output_type": "stream",
          "text": [
            "N-Gram using NLTK (n = 2): \n",
            "['OVOFest', 'Drake', 'straight', 'body', 'bagging', 'Meek', 'on', 'that', 'OVO', 'stage'] => ['OVOFest Drake', 'Drake straight', 'straight body', 'body bagging', 'bagging Meek', 'Meek on', 'on that', 'that OVO', 'OVO stage']\n"
          ]
        }
      ],
      "source": [
        "n_grams1 = ngrams(tokens1, 2)\n",
        "n_grams1 = [ ' '.join(grams) for grams in n_grams1]\n",
        "\n",
        "print(f'N-Gram using NLTK (n = 2): \\n{tokens1} => {n_grams1}')"
      ]
    },
    {
      "cell_type": "code",
      "execution_count": null,
      "metadata": {
        "execution": {
          "iopub.execute_input": "2021-04-17T06:49:01.326243Z",
          "iopub.status.busy": "2021-04-17T06:49:01.325607Z",
          "iopub.status.idle": "2021-04-17T06:49:01.328739Z",
          "shell.execute_reply": "2021-04-17T06:49:01.329161Z"
        },
        "papermill": {
          "duration": 0.128781,
          "end_time": "2021-04-17T06:49:01.329273",
          "exception": false,
          "start_time": "2021-04-17T06:49:01.200492",
          "status": "completed"
        },
        "tags": [],
        "id": "CcbSg72ZNxqK",
        "outputId": "47598353-04d1-4193-8385-629de2457c6e"
      },
      "outputs": [
        {
          "name": "stdout",
          "output_type": "stream",
          "text": [
            "Most Common N-Gram Finder using NLTK (n = 3): \n",
            "['OVOFest', 'Drake', 'straight', 'body', 'bagging', 'Meek', 'on', 'that', 'OVO', 'stage'] => [(('OVOFest', 'Drake', 'straight'), 1), (('Drake', 'straight', 'body'), 1)]\n"
          ]
        }
      ],
      "source": [
        "n_gram_finder = nltk.collocations.TrigramCollocationFinder.from_words(tokens1)\n",
        "\n",
        "print(f'Most Common N-Gram Finder using NLTK (n = 3): \\n{tokens1} => {n_gram_finder.ngram_fd.most_common(2)}')"
      ]
    },
    {
      "cell_type": "markdown",
      "metadata": {
        "papermill": {
          "duration": 0.112455,
          "end_time": "2021-04-17T06:49:01.554970",
          "exception": false,
          "start_time": "2021-04-17T06:49:01.442515",
          "status": "completed"
        },
        "tags": [],
        "id": "jgj0ma6RNxqK"
      },
      "source": [
        "## **Bag of Words**\n",
        "\n",
        "The bag of words carries out sentence tokenization and word tokenization. After that, it counts the number of appearances of each word. For example, in a sentence, “It is nice but horrid, and that’s not a nice thing.” The word “nice” is extracted and countered with two occurrences."
      ]
    },
    {
      "cell_type": "code",
      "execution_count": null,
      "metadata": {
        "execution": {
          "iopub.execute_input": "2021-04-17T06:49:01.785246Z",
          "iopub.status.busy": "2021-04-17T06:49:01.784571Z",
          "iopub.status.idle": "2021-04-17T06:49:01.788419Z",
          "shell.execute_reply": "2021-04-17T06:49:01.788006Z"
        },
        "papermill": {
          "duration": 0.121347,
          "end_time": "2021-04-17T06:49:01.788507",
          "exception": false,
          "start_time": "2021-04-17T06:49:01.667160",
          "status": "completed"
        },
        "tags": [],
        "id": "vT6APYOxNxqL",
        "outputId": "1854b032-bd6d-44aa-b4ca-943c07d1f46d"
      },
      "outputs": [
        {
          "name": "stdout",
          "output_type": "stream",
          "text": [
            "Bag of Words: \n",
            "['OVOFest', 'Drake', 'straight', 'body', 'bagging', 'Meek', 'on', 'that', 'OVO', 'stage'] => {'OVOFest': 1, 'Drake': 1, 'straight': 1, 'body': 1, 'bagging': 1, 'Meek': 1, 'on': 1, 'that': 1, 'OVO': 1, 'stage': 1}\n"
          ]
        }
      ],
      "source": [
        "word_count = {}\n",
        "\n",
        "for word in tokens1:\n",
        "\n",
        "    if word not in word_count.keys():\n",
        "        word_count[word] = 1\n",
        "    else:\n",
        "        word_count[word] += 1\n",
        "\n",
        "print(f'Bag of Words: \\n{tokens1} => {word_count}')"
      ]
    },
    {
      "cell_type": "code",
      "execution_count": null,
      "metadata": {
        "execution": {
          "iopub.execute_input": "2021-04-17T06:49:02.023875Z",
          "iopub.status.busy": "2021-04-17T06:49:02.022993Z",
          "iopub.status.idle": "2021-04-17T06:49:02.393726Z",
          "shell.execute_reply": "2021-04-17T06:49:02.394188Z"
        },
        "papermill": {
          "duration": 0.492855,
          "end_time": "2021-04-17T06:49:02.394314",
          "exception": false,
          "start_time": "2021-04-17T06:49:01.901459",
          "status": "completed"
        },
        "tags": [],
        "id": "Z9H-cebxNxqL",
        "outputId": "757c52fb-cc47-419f-c708-e6eb16b962d3"
      },
      "outputs": [
        {
          "data": {
            "image/png": "[encoded data removed]",
            "text/plain": [
              "<Figure size 432x288 with 1 Axes>"
            ]
          },
          "metadata": {
            "needs_background": "light"
          },
          "output_type": "display_data"
        }
      ],
      "source": [
        "stopwords = set(STOPWORDS)\n",
        "\n",
        "wc = WordCloud(width = 900, height = 500, background_color = 'white', random_state = 10).generate(text[1])\n",
        "\n",
        "plt.title('Word Cloud for Bag Of Words')\n",
        "plt.imshow(wc)\n",
        "plt.axis('off')\n",
        "plt.show()"
      ]
    },
    {
      "cell_type": "markdown",
      "metadata": {
        "papermill": {
          "duration": 0.126721,
          "end_time": "2021-04-17T06:49:02.643738",
          "exception": false,
          "start_time": "2021-04-17T06:49:02.517017",
          "status": "completed"
        },
        "tags": [],
        "id": "-bAnPzCeNxqL"
      },
      "source": [
        "## **Term Frequency**\n",
        "\n",
        "TF – Term Frequency is described as the number of times that a term occurs in a document. It considers all the terms of equal importance. For example, the word “Fruit” appears five times in a document of 100 words, then the TF for “Fruit” is 5/100 = 0.05."
      ]
    },
    {
      "cell_type": "code",
      "execution_count": null,
      "metadata": {
        "execution": {
          "iopub.execute_input": "2021-04-17T06:49:02.901656Z",
          "iopub.status.busy": "2021-04-17T06:49:02.900704Z",
          "iopub.status.idle": "2021-04-17T06:49:02.903855Z",
          "shell.execute_reply": "2021-04-17T06:49:02.903335Z"
        },
        "papermill": {
          "duration": 0.133596,
          "end_time": "2021-04-17T06:49:02.903962",
          "exception": false,
          "start_time": "2021-04-17T06:49:02.770366",
          "status": "completed"
        },
        "tags": [],
        "id": "Bc_830y7NxqM"
      },
      "outputs": [],
      "source": [
        "def color(val):\n",
        "\n",
        "    color = 'mediumaquamarine' if val > 0 else ''\n",
        "    return 'background-color: %s' % color"
      ]
    },
    {
      "cell_type": "code",
      "execution_count": null,
      "metadata": {
        "execution": {
          "iopub.execute_input": "2021-04-17T06:49:03.167473Z",
          "iopub.status.busy": "2021-04-17T06:49:03.166760Z",
          "iopub.status.idle": "2021-04-17T06:49:03.371432Z",
          "shell.execute_reply": "2021-04-17T06:49:03.370904Z"
        },
        "papermill": {
          "duration": 0.340123,
          "end_time": "2021-04-17T06:49:03.371525",
          "exception": false,
          "start_time": "2021-04-17T06:49:03.031402",
          "status": "completed"
        },
        "tags": [],
        "id": "UYGoJyNWNxqM",
        "outputId": "e43c9f47-4d62-4c8e-b5bc-23f9767456df"
      },
      "outputs": [
        {
          "name": "stdout",
          "output_type": "stream",
          "text": [
            "Term Frequency of Document\n"
          ]
        },
        {
          "data": {
            "text/html": [
              "<style  type=\"text/css\" >\n",
              "#T_ff3307be_9f48_11eb_9498_0242ac130202row0_col0,#T_ff3307be_9f48_11eb_9498_0242ac130202row0_col1,#T_ff3307be_9f48_11eb_9498_0242ac130202row0_col2,#T_ff3307be_9f48_11eb_9498_0242ac130202row0_col3,#T_ff3307be_9f48_11eb_9498_0242ac130202row0_col4,#T_ff3307be_9f48_11eb_9498_0242ac130202row0_col5,#T_ff3307be_9f48_11eb_9498_0242ac130202row0_col8,#T_ff3307be_9f48_11eb_9498_0242ac130202row0_col9,#T_ff3307be_9f48_11eb_9498_0242ac130202row0_col11,#T_ff3307be_9f48_11eb_9498_0242ac130202row0_col12,#T_ff3307be_9f48_11eb_9498_0242ac130202row0_col13,#T_ff3307be_9f48_11eb_9498_0242ac130202row0_col14,#T_ff3307be_9f48_11eb_9498_0242ac130202row0_col15,#T_ff3307be_9f48_11eb_9498_0242ac130202row0_col16,#T_ff3307be_9f48_11eb_9498_0242ac130202row0_col17,#T_ff3307be_9f48_11eb_9498_0242ac130202row0_col18,#T_ff3307be_9f48_11eb_9498_0242ac130202row0_col19,#T_ff3307be_9f48_11eb_9498_0242ac130202row0_col20,#T_ff3307be_9f48_11eb_9498_0242ac130202row0_col21,#T_ff3307be_9f48_11eb_9498_0242ac130202row0_col22,#T_ff3307be_9f48_11eb_9498_0242ac130202row0_col23,#T_ff3307be_9f48_11eb_9498_0242ac130202row0_col24,#T_ff3307be_9f48_11eb_9498_0242ac130202row0_col25,#T_ff3307be_9f48_11eb_9498_0242ac130202row0_col26,#T_ff3307be_9f48_11eb_9498_0242ac130202row0_col27,#T_ff3307be_9f48_11eb_9498_0242ac130202row0_col29,#T_ff3307be_9f48_11eb_9498_0242ac130202row0_col30,#T_ff3307be_9f48_11eb_9498_0242ac130202row0_col31,#T_ff3307be_9f48_11eb_9498_0242ac130202row0_col33,#T_ff3307be_9f48_11eb_9498_0242ac130202row0_col34,#T_ff3307be_9f48_11eb_9498_0242ac130202row0_col35,#T_ff3307be_9f48_11eb_9498_0242ac130202row0_col36,#T_ff3307be_9f48_11eb_9498_0242ac130202row0_col37,#T_ff3307be_9f48_11eb_9498_0242ac130202row0_col38,#T_ff3307be_9f48_11eb_9498_0242ac130202row0_col39,#T_ff3307be_9f48_11eb_9498_0242ac130202row0_col40,#T_ff3307be_9f48_11eb_9498_0242ac130202row0_col42,#T_ff3307be_9f48_11eb_9498_0242ac130202row0_col43,#T_ff3307be_9f48_11eb_9498_0242ac130202row0_col44,#T_ff3307be_9f48_11eb_9498_0242ac130202row0_col45,#T_ff3307be_9f48_11eb_9498_0242ac130202row0_col46,#T_ff3307be_9f48_11eb_9498_0242ac130202row0_col47,#T_ff3307be_9f48_11eb_9498_0242ac130202row0_col48,#T_ff3307be_9f48_11eb_9498_0242ac130202row0_col49,#T_ff3307be_9f48_11eb_9498_0242ac130202row0_col50,#T_ff3307be_9f48_11eb_9498_0242ac130202row0_col51,#T_ff3307be_9f48_11eb_9498_0242ac130202row0_col52,#T_ff3307be_9f48_11eb_9498_0242ac130202row0_col53,#T_ff3307be_9f48_11eb_9498_0242ac130202row0_col54,#T_ff3307be_9f48_11eb_9498_0242ac130202row0_col56,#T_ff3307be_9f48_11eb_9498_0242ac130202row0_col57,#T_ff3307be_9f48_11eb_9498_0242ac130202row0_col58,#T_ff3307be_9f48_11eb_9498_0242ac130202row0_col59,#T_ff3307be_9f48_11eb_9498_0242ac130202row0_col61,#T_ff3307be_9f48_11eb_9498_0242ac130202row0_col62,#T_ff3307be_9f48_11eb_9498_0242ac130202row0_col63,#T_ff3307be_9f48_11eb_9498_0242ac130202row0_col64,#T_ff3307be_9f48_11eb_9498_0242ac130202row0_col65,#T_ff3307be_9f48_11eb_9498_0242ac130202row0_col67,#T_ff3307be_9f48_11eb_9498_0242ac130202row0_col68,#T_ff3307be_9f48_11eb_9498_0242ac130202row0_col69,#T_ff3307be_9f48_11eb_9498_0242ac130202row0_col70,#T_ff3307be_9f48_11eb_9498_0242ac130202row0_col71,#T_ff3307be_9f48_11eb_9498_0242ac130202row0_col73,#T_ff3307be_9f48_11eb_9498_0242ac130202row0_col74,#T_ff3307be_9f48_11eb_9498_0242ac130202row0_col75,#T_ff3307be_9f48_11eb_9498_0242ac130202row0_col76,#T_ff3307be_9f48_11eb_9498_0242ac130202row0_col77,#T_ff3307be_9f48_11eb_9498_0242ac130202row0_col78,#T_ff3307be_9f48_11eb_9498_0242ac130202row0_col79,#T_ff3307be_9f48_11eb_9498_0242ac130202row0_col80,#T_ff3307be_9f48_11eb_9498_0242ac130202row0_col81,#T_ff3307be_9f48_11eb_9498_0242ac130202row0_col82,#T_ff3307be_9f48_11eb_9498_0242ac130202row0_col83,#T_ff3307be_9f48_11eb_9498_0242ac130202row0_col84,#T_ff3307be_9f48_11eb_9498_0242ac130202row0_col85,#T_ff3307be_9f48_11eb_9498_0242ac130202row0_col86,#T_ff3307be_9f48_11eb_9498_0242ac130202row0_col87,#T_ff3307be_9f48_11eb_9498_0242ac130202row0_col89,#T_ff3307be_9f48_11eb_9498_0242ac130202row0_col91,#T_ff3307be_9f48_11eb_9498_0242ac130202row0_col92,#T_ff3307be_9f48_11eb_9498_0242ac130202row0_col93,#T_ff3307be_9f48_11eb_9498_0242ac130202row0_col94,#T_ff3307be_9f48_11eb_9498_0242ac130202row0_col96,#T_ff3307be_9f48_11eb_9498_0242ac130202row0_col97,#T_ff3307be_9f48_11eb_9498_0242ac130202row1_col0,#T_ff3307be_9f48_11eb_9498_0242ac130202row1_col1,#T_ff3307be_9f48_11eb_9498_0242ac130202row1_col2,#T_ff3307be_9f48_11eb_9498_0242ac130202row1_col3,#T_ff3307be_9f48_11eb_9498_0242ac130202row1_col4,#T_ff3307be_9f48_11eb_9498_0242ac130202row1_col5,#T_ff3307be_9f48_11eb_9498_0242ac130202row1_col6,#T_ff3307be_9f48_11eb_9498_0242ac130202row1_col7,#T_ff3307be_9f48_11eb_9498_0242ac130202row1_col8,#T_ff3307be_9f48_11eb_9498_0242ac130202row1_col9,#T_ff3307be_9f48_11eb_9498_0242ac130202row1_col10,#T_ff3307be_9f48_11eb_9498_0242ac130202row1_col11,#T_ff3307be_9f48_11eb_9498_0242ac130202row1_col12,#T_ff3307be_9f48_11eb_9498_0242ac130202row1_col13,#T_ff3307be_9f48_11eb_9498_0242ac130202row1_col14,#T_ff3307be_9f48_11eb_9498_0242ac130202row1_col15,#T_ff3307be_9f48_11eb_9498_0242ac130202row1_col16,#T_ff3307be_9f48_11eb_9498_0242ac130202row1_col17,#T_ff3307be_9f48_11eb_9498_0242ac130202row1_col18,#T_ff3307be_9f48_11eb_9498_0242ac130202row1_col19,#T_ff3307be_9f48_11eb_9498_0242ac130202row1_col20,#T_ff3307be_9f48_11eb_9498_0242ac130202row1_col21,#T_ff3307be_9f48_11eb_9498_0242ac130202row1_col23,#T_ff3307be_9f48_11eb_9498_0242ac130202row1_col24,#T_ff3307be_9f48_11eb_9498_0242ac130202row1_col25,#T_ff3307be_9f48_11eb_9498_0242ac130202row1_col26,#T_ff3307be_9f48_11eb_9498_0242ac130202row1_col27,#T_ff3307be_9f48_11eb_9498_0242ac130202row1_col28,#T_ff3307be_9f48_11eb_9498_0242ac130202row1_col29,#T_ff3307be_9f48_11eb_9498_0242ac130202row1_col30,#T_ff3307be_9f48_11eb_9498_0242ac130202row1_col31,#T_ff3307be_9f48_11eb_9498_0242ac130202row1_col32,#T_ff3307be_9f48_11eb_9498_0242ac130202row1_col33,#T_ff3307be_9f48_11eb_9498_0242ac130202row1_col34,#T_ff3307be_9f48_11eb_9498_0242ac130202row1_col35,#T_ff3307be_9f48_11eb_9498_0242ac130202row1_col37,#T_ff3307be_9f48_11eb_9498_0242ac130202row1_col38,#T_ff3307be_9f48_11eb_9498_0242ac130202row1_col39,#T_ff3307be_9f48_11eb_9498_0242ac130202row1_col41,#T_ff3307be_9f48_11eb_9498_0242ac130202row1_col42,#T_ff3307be_9f48_11eb_9498_0242ac130202row1_col43,#T_ff3307be_9f48_11eb_9498_0242ac130202row1_col44,#T_ff3307be_9f48_11eb_9498_0242ac130202row1_col45,#T_ff3307be_9f48_11eb_9498_0242ac130202row1_col46,#T_ff3307be_9f48_11eb_9498_0242ac130202row1_col47,#T_ff3307be_9f48_11eb_9498_0242ac130202row1_col48,#T_ff3307be_9f48_11eb_9498_0242ac130202row1_col49,#T_ff3307be_9f48_11eb_9498_0242ac130202row1_col50,#T_ff3307be_9f48_11eb_9498_0242ac130202row1_col51,#T_ff3307be_9f48_11eb_9498_0242ac130202row1_col53,#T_ff3307be_9f48_11eb_9498_0242ac130202row1_col54,#T_ff3307be_9f48_11eb_9498_0242ac130202row1_col55,#T_ff3307be_9f48_11eb_9498_0242ac130202row1_col57,#T_ff3307be_9f48_11eb_9498_0242ac130202row1_col58,#T_ff3307be_9f48_11eb_9498_0242ac130202row1_col59,#T_ff3307be_9f48_11eb_9498_0242ac130202row1_col60,#T_ff3307be_9f48_11eb_9498_0242ac130202row1_col61,#T_ff3307be_9f48_11eb_9498_0242ac130202row1_col62,#T_ff3307be_9f48_11eb_9498_0242ac130202row1_col63,#T_ff3307be_9f48_11eb_9498_0242ac130202row1_col64,#T_ff3307be_9f48_11eb_9498_0242ac130202row1_col65,#T_ff3307be_9f48_11eb_9498_0242ac130202row1_col66,#T_ff3307be_9f48_11eb_9498_0242ac130202row1_col67,#T_ff3307be_9f48_11eb_9498_0242ac130202row1_col68,#T_ff3307be_9f48_11eb_9498_0242ac130202row1_col69,#T_ff3307be_9f48_11eb_9498_0242ac130202row1_col70,#T_ff3307be_9f48_11eb_9498_0242ac130202row1_col71,#T_ff3307be_9f48_11eb_9498_0242ac130202row1_col72,#T_ff3307be_9f48_11eb_9498_0242ac130202row1_col73,#T_ff3307be_9f48_11eb_9498_0242ac130202row1_col74,#T_ff3307be_9f48_11eb_9498_0242ac130202row1_col75,#T_ff3307be_9f48_11eb_9498_0242ac130202row1_col77,#T_ff3307be_9f48_11eb_9498_0242ac130202row1_col79,#T_ff3307be_9f48_11eb_9498_0242ac130202row1_col80,#T_ff3307be_9f48_11eb_9498_0242ac130202row1_col81,#T_ff3307be_9f48_11eb_9498_0242ac130202row1_col82,#T_ff3307be_9f48_11eb_9498_0242ac130202row1_col83,#T_ff3307be_9f48_11eb_9498_0242ac130202row1_col84,#T_ff3307be_9f48_11eb_9498_0242ac130202row1_col85,#T_ff3307be_9f48_11eb_9498_0242ac130202row1_col86,#T_ff3307be_9f48_11eb_9498_0242ac130202row1_col87,#T_ff3307be_9f48_11eb_9498_0242ac130202row1_col88,#T_ff3307be_9f48_11eb_9498_0242ac130202row1_col89,#T_ff3307be_9f48_11eb_9498_0242ac130202row1_col90,#T_ff3307be_9f48_11eb_9498_0242ac130202row1_col91,#T_ff3307be_9f48_11eb_9498_0242ac130202row1_col92,#T_ff3307be_9f48_11eb_9498_0242ac130202row1_col93,#T_ff3307be_9f48_11eb_9498_0242ac130202row1_col94,#T_ff3307be_9f48_11eb_9498_0242ac130202row1_col95,#T_ff3307be_9f48_11eb_9498_0242ac130202row1_col96,#T_ff3307be_9f48_11eb_9498_0242ac130202row1_col97,#T_ff3307be_9f48_11eb_9498_0242ac130202row2_col0,#T_ff3307be_9f48_11eb_9498_0242ac130202row2_col1,#T_ff3307be_9f48_11eb_9498_0242ac130202row2_col2,#T_ff3307be_9f48_11eb_9498_0242ac130202row2_col3,#T_ff3307be_9f48_11eb_9498_0242ac130202row2_col4,#T_ff3307be_9f48_11eb_9498_0242ac130202row2_col5,#T_ff3307be_9f48_11eb_9498_0242ac130202row2_col7,#T_ff3307be_9f48_11eb_9498_0242ac130202row2_col8,#T_ff3307be_9f48_11eb_9498_0242ac130202row2_col9,#T_ff3307be_9f48_11eb_9498_0242ac130202row2_col11,#T_ff3307be_9f48_11eb_9498_0242ac130202row2_col12,#T_ff3307be_9f48_11eb_9498_0242ac130202row2_col13,#T_ff3307be_9f48_11eb_9498_0242ac130202row2_col16,#T_ff3307be_9f48_11eb_9498_0242ac130202row2_col17,#T_ff3307be_9f48_11eb_9498_0242ac130202row2_col19,#T_ff3307be_9f48_11eb_9498_0242ac130202row2_col20,#T_ff3307be_9f48_11eb_9498_0242ac130202row2_col21,#T_ff3307be_9f48_11eb_9498_0242ac130202row2_col22,#T_ff3307be_9f48_11eb_9498_0242ac130202row2_col23,#T_ff3307be_9f48_11eb_9498_0242ac130202row2_col24,#T_ff3307be_9f48_11eb_9498_0242ac130202row2_col25,#T_ff3307be_9f48_11eb_9498_0242ac130202row2_col26,#T_ff3307be_9f48_11eb_9498_0242ac130202row2_col27,#T_ff3307be_9f48_11eb_9498_0242ac130202row2_col28,#T_ff3307be_9f48_11eb_9498_0242ac130202row2_col29,#T_ff3307be_9f48_11eb_9498_0242ac130202row2_col30,#T_ff3307be_9f48_11eb_9498_0242ac130202row2_col31,#T_ff3307be_9f48_11eb_9498_0242ac130202row2_col32,#T_ff3307be_9f48_11eb_9498_0242ac130202row2_col33,#T_ff3307be_9f48_11eb_9498_0242ac130202row2_col36,#T_ff3307be_9f48_11eb_9498_0242ac130202row2_col37,#T_ff3307be_9f48_11eb_9498_0242ac130202row2_col38,#T_ff3307be_9f48_11eb_9498_0242ac130202row2_col39,#T_ff3307be_9f48_11eb_9498_0242ac130202row2_col40,#T_ff3307be_9f48_11eb_9498_0242ac130202row2_col41,#T_ff3307be_9f48_11eb_9498_0242ac130202row2_col42,#T_ff3307be_9f48_11eb_9498_0242ac130202row2_col43,#T_ff3307be_9f48_11eb_9498_0242ac130202row2_col44,#T_ff3307be_9f48_11eb_9498_0242ac130202row2_col45,#T_ff3307be_9f48_11eb_9498_0242ac130202row2_col46,#T_ff3307be_9f48_11eb_9498_0242ac130202row2_col47,#T_ff3307be_9f48_11eb_9498_0242ac130202row2_col49,#T_ff3307be_9f48_11eb_9498_0242ac130202row2_col50,#T_ff3307be_9f48_11eb_9498_0242ac130202row2_col51,#T_ff3307be_9f48_11eb_9498_0242ac130202row2_col52,#T_ff3307be_9f48_11eb_9498_0242ac130202row2_col53,#T_ff3307be_9f48_11eb_9498_0242ac130202row2_col54,#T_ff3307be_9f48_11eb_9498_0242ac130202row2_col55,#T_ff3307be_9f48_11eb_9498_0242ac130202row2_col56,#T_ff3307be_9f48_11eb_9498_0242ac130202row2_col59,#T_ff3307be_9f48_11eb_9498_0242ac130202row2_col60,#T_ff3307be_9f48_11eb_9498_0242ac130202row2_col62,#T_ff3307be_9f48_11eb_9498_0242ac130202row2_col66,#T_ff3307be_9f48_11eb_9498_0242ac130202row2_col67,#T_ff3307be_9f48_11eb_9498_0242ac130202row2_col68,#T_ff3307be_9f48_11eb_9498_0242ac130202row2_col70,#T_ff3307be_9f48_11eb_9498_0242ac130202row2_col71,#T_ff3307be_9f48_11eb_9498_0242ac130202row2_col72,#T_ff3307be_9f48_11eb_9498_0242ac130202row2_col73,#T_ff3307be_9f48_11eb_9498_0242ac130202row2_col75,#T_ff3307be_9f48_11eb_9498_0242ac130202row2_col76,#T_ff3307be_9f48_11eb_9498_0242ac130202row2_col77,#T_ff3307be_9f48_11eb_9498_0242ac130202row2_col78,#T_ff3307be_9f48_11eb_9498_0242ac130202row2_col79,#T_ff3307be_9f48_11eb_9498_0242ac130202row2_col80,#T_ff3307be_9f48_11eb_9498_0242ac130202row2_col81,#T_ff3307be_9f48_11eb_9498_0242ac130202row2_col83,#T_ff3307be_9f48_11eb_9498_0242ac130202row2_col84,#T_ff3307be_9f48_11eb_9498_0242ac130202row2_col85,#T_ff3307be_9f48_11eb_9498_0242ac130202row2_col86,#T_ff3307be_9f48_11eb_9498_0242ac130202row2_col87,#T_ff3307be_9f48_11eb_9498_0242ac130202row2_col88,#T_ff3307be_9f48_11eb_9498_0242ac130202row2_col89,#T_ff3307be_9f48_11eb_9498_0242ac130202row2_col90,#T_ff3307be_9f48_11eb_9498_0242ac130202row2_col92,#T_ff3307be_9f48_11eb_9498_0242ac130202row2_col93,#T_ff3307be_9f48_11eb_9498_0242ac130202row2_col94,#T_ff3307be_9f48_11eb_9498_0242ac130202row2_col95,#T_ff3307be_9f48_11eb_9498_0242ac130202row2_col96,#T_ff3307be_9f48_11eb_9498_0242ac130202row2_col97,#T_ff3307be_9f48_11eb_9498_0242ac130202row3_col2,#T_ff3307be_9f48_11eb_9498_0242ac130202row3_col3,#T_ff3307be_9f48_11eb_9498_0242ac130202row3_col4,#T_ff3307be_9f48_11eb_9498_0242ac130202row3_col5,#T_ff3307be_9f48_11eb_9498_0242ac130202row3_col6,#T_ff3307be_9f48_11eb_9498_0242ac130202row3_col7,#T_ff3307be_9f48_11eb_9498_0242ac130202row3_col8,#T_ff3307be_9f48_11eb_9498_0242ac130202row3_col9,#T_ff3307be_9f48_11eb_9498_0242ac130202row3_col10,#T_ff3307be_9f48_11eb_9498_0242ac130202row3_col11,#T_ff3307be_9f48_11eb_9498_0242ac130202row3_col12,#T_ff3307be_9f48_11eb_9498_0242ac130202row3_col13,#T_ff3307be_9f48_11eb_9498_0242ac130202row3_col14,#T_ff3307be_9f48_11eb_9498_0242ac130202row3_col15,#T_ff3307be_9f48_11eb_9498_0242ac130202row3_col16,#T_ff3307be_9f48_11eb_9498_0242ac130202row3_col17,#T_ff3307be_9f48_11eb_9498_0242ac130202row3_col18,#T_ff3307be_9f48_11eb_9498_0242ac130202row3_col19,#T_ff3307be_9f48_11eb_9498_0242ac130202row3_col21,#T_ff3307be_9f48_11eb_9498_0242ac130202row3_col22,#T_ff3307be_9f48_11eb_9498_0242ac130202row3_col23,#T_ff3307be_9f48_11eb_9498_0242ac130202row3_col24,#T_ff3307be_9f48_11eb_9498_0242ac130202row3_col25,#T_ff3307be_9f48_11eb_9498_0242ac130202row3_col26,#T_ff3307be_9f48_11eb_9498_0242ac130202row3_col27,#T_ff3307be_9f48_11eb_9498_0242ac130202row3_col28,#T_ff3307be_9f48_11eb_9498_0242ac130202row3_col29,#T_ff3307be_9f48_11eb_9498_0242ac130202row3_col30,#T_ff3307be_9f48_11eb_9498_0242ac130202row3_col31,#T_ff3307be_9f48_11eb_9498_0242ac130202row3_col32,#T_ff3307be_9f48_11eb_9498_0242ac130202row3_col33,#T_ff3307be_9f48_11eb_9498_0242ac130202row3_col35,#T_ff3307be_9f48_11eb_9498_0242ac130202row3_col36,#T_ff3307be_9f48_11eb_9498_0242ac130202row3_col37,#T_ff3307be_9f48_11eb_9498_0242ac130202row3_col38,#T_ff3307be_9f48_11eb_9498_0242ac130202row3_col39,#T_ff3307be_9f48_11eb_9498_0242ac130202row3_col40,#T_ff3307be_9f48_11eb_9498_0242ac130202row3_col41,#T_ff3307be_9f48_11eb_9498_0242ac130202row3_col42,#T_ff3307be_9f48_11eb_9498_0242ac130202row3_col43,#T_ff3307be_9f48_11eb_9498_0242ac130202row3_col44,#T_ff3307be_9f48_11eb_9498_0242ac130202row3_col45,#T_ff3307be_9f48_11eb_9498_0242ac130202row3_col46,#T_ff3307be_9f48_11eb_9498_0242ac130202row3_col47,#T_ff3307be_9f48_11eb_9498_0242ac130202row3_col49,#T_ff3307be_9f48_11eb_9498_0242ac130202row3_col50,#T_ff3307be_9f48_11eb_9498_0242ac130202row3_col51,#T_ff3307be_9f48_11eb_9498_0242ac130202row3_col52,#T_ff3307be_9f48_11eb_9498_0242ac130202row3_col53,#T_ff3307be_9f48_11eb_9498_0242ac130202row3_col54,#T_ff3307be_9f48_11eb_9498_0242ac130202row3_col55,#T_ff3307be_9f48_11eb_9498_0242ac130202row3_col56,#T_ff3307be_9f48_11eb_9498_0242ac130202row3_col57,#T_ff3307be_9f48_11eb_9498_0242ac130202row3_col58,#T_ff3307be_9f48_11eb_9498_0242ac130202row3_col59,#T_ff3307be_9f48_11eb_9498_0242ac130202row3_col60,#T_ff3307be_9f48_11eb_9498_0242ac130202row3_col61,#T_ff3307be_9f48_11eb_9498_0242ac130202row3_col62,#T_ff3307be_9f48_11eb_9498_0242ac130202row3_col63,#T_ff3307be_9f48_11eb_9498_0242ac130202row3_col65,#T_ff3307be_9f48_11eb_9498_0242ac130202row3_col66,#T_ff3307be_9f48_11eb_9498_0242ac130202row3_col68,#T_ff3307be_9f48_11eb_9498_0242ac130202row3_col69,#T_ff3307be_9f48_11eb_9498_0242ac130202row3_col70,#T_ff3307be_9f48_11eb_9498_0242ac130202row3_col71,#T_ff3307be_9f48_11eb_9498_0242ac130202row3_col72,#T_ff3307be_9f48_11eb_9498_0242ac130202row3_col74,#T_ff3307be_9f48_11eb_9498_0242ac130202row3_col75,#T_ff3307be_9f48_11eb_9498_0242ac130202row3_col76,#T_ff3307be_9f48_11eb_9498_0242ac130202row3_col77,#T_ff3307be_9f48_11eb_9498_0242ac130202row3_col78,#T_ff3307be_9f48_11eb_9498_0242ac130202row3_col79,#T_ff3307be_9f48_11eb_9498_0242ac130202row3_col80,#T_ff3307be_9f48_11eb_9498_0242ac130202row3_col81,#T_ff3307be_9f48_11eb_9498_0242ac130202row3_col82,#T_ff3307be_9f48_11eb_9498_0242ac130202row3_col83,#T_ff3307be_9f48_11eb_9498_0242ac130202row3_col84,#T_ff3307be_9f48_11eb_9498_0242ac130202row3_col85,#T_ff3307be_9f48_11eb_9498_0242ac130202row3_col86,#T_ff3307be_9f48_11eb_9498_0242ac130202row3_col87,#T_ff3307be_9f48_11eb_9498_0242ac130202row3_col88,#T_ff3307be_9f48_11eb_9498_0242ac130202row3_col89,#T_ff3307be_9f48_11eb_9498_0242ac130202row3_col90,#T_ff3307be_9f48_11eb_9498_0242ac130202row3_col91,#T_ff3307be_9f48_11eb_9498_0242ac130202row3_col92,#T_ff3307be_9f48_11eb_9498_0242ac130202row3_col93,#T_ff3307be_9f48_11eb_9498_0242ac130202row3_col94,#T_ff3307be_9f48_11eb_9498_0242ac130202row3_col95,#T_ff3307be_9f48_11eb_9498_0242ac130202row3_col97,#T_ff3307be_9f48_11eb_9498_0242ac130202row4_col0,#T_ff3307be_9f48_11eb_9498_0242ac130202row4_col1,#T_ff3307be_9f48_11eb_9498_0242ac130202row4_col2,#T_ff3307be_9f48_11eb_9498_0242ac130202row4_col3,#T_ff3307be_9f48_11eb_9498_0242ac130202row4_col4,#T_ff3307be_9f48_11eb_9498_0242ac130202row4_col6,#T_ff3307be_9f48_11eb_9498_0242ac130202row4_col7,#T_ff3307be_9f48_11eb_9498_0242ac130202row4_col8,#T_ff3307be_9f48_11eb_9498_0242ac130202row4_col9,#T_ff3307be_9f48_11eb_9498_0242ac130202row4_col10,#T_ff3307be_9f48_11eb_9498_0242ac130202row4_col11,#T_ff3307be_9f48_11eb_9498_0242ac130202row4_col12,#T_ff3307be_9f48_11eb_9498_0242ac130202row4_col14,#T_ff3307be_9f48_11eb_9498_0242ac130202row4_col15,#T_ff3307be_9f48_11eb_9498_0242ac130202row4_col16,#T_ff3307be_9f48_11eb_9498_0242ac130202row4_col17,#T_ff3307be_9f48_11eb_9498_0242ac130202row4_col18,#T_ff3307be_9f48_11eb_9498_0242ac130202row4_col19,#T_ff3307be_9f48_11eb_9498_0242ac130202row4_col20,#T_ff3307be_9f48_11eb_9498_0242ac130202row4_col21,#T_ff3307be_9f48_11eb_9498_0242ac130202row4_col22,#T_ff3307be_9f48_11eb_9498_0242ac130202row4_col23,#T_ff3307be_9f48_11eb_9498_0242ac130202row4_col24,#T_ff3307be_9f48_11eb_9498_0242ac130202row4_col25,#T_ff3307be_9f48_11eb_9498_0242ac130202row4_col26,#T_ff3307be_9f48_11eb_9498_0242ac130202row4_col27,#T_ff3307be_9f48_11eb_9498_0242ac130202row4_col28,#T_ff3307be_9f48_11eb_9498_0242ac130202row4_col29,#T_ff3307be_9f48_11eb_9498_0242ac130202row4_col30,#T_ff3307be_9f48_11eb_9498_0242ac130202row4_col31,#T_ff3307be_9f48_11eb_9498_0242ac130202row4_col32,#T_ff3307be_9f48_11eb_9498_0242ac130202row4_col33,#T_ff3307be_9f48_11eb_9498_0242ac130202row4_col34,#T_ff3307be_9f48_11eb_9498_0242ac130202row4_col35,#T_ff3307be_9f48_11eb_9498_0242ac130202row4_col36,#T_ff3307be_9f48_11eb_9498_0242ac130202row4_col37,#T_ff3307be_9f48_11eb_9498_0242ac130202row4_col38,#T_ff3307be_9f48_11eb_9498_0242ac130202row4_col39,#T_ff3307be_9f48_11eb_9498_0242ac130202row4_col40,#T_ff3307be_9f48_11eb_9498_0242ac130202row4_col41,#T_ff3307be_9f48_11eb_9498_0242ac130202row4_col44,#T_ff3307be_9f48_11eb_9498_0242ac130202row4_col45,#T_ff3307be_9f48_11eb_9498_0242ac130202row4_col46,#T_ff3307be_9f48_11eb_9498_0242ac130202row4_col47,#T_ff3307be_9f48_11eb_9498_0242ac130202row4_col48,#T_ff3307be_9f48_11eb_9498_0242ac130202row4_col50,#T_ff3307be_9f48_11eb_9498_0242ac130202row4_col52,#T_ff3307be_9f48_11eb_9498_0242ac130202row4_col53,#T_ff3307be_9f48_11eb_9498_0242ac130202row4_col54,#T_ff3307be_9f48_11eb_9498_0242ac130202row4_col55,#T_ff3307be_9f48_11eb_9498_0242ac130202row4_col56,#T_ff3307be_9f48_11eb_9498_0242ac130202row4_col57,#T_ff3307be_9f48_11eb_9498_0242ac130202row4_col58,#T_ff3307be_9f48_11eb_9498_0242ac130202row4_col59,#T_ff3307be_9f48_11eb_9498_0242ac130202row4_col60,#T_ff3307be_9f48_11eb_9498_0242ac130202row4_col61,#T_ff3307be_9f48_11eb_9498_0242ac130202row4_col62,#T_ff3307be_9f48_11eb_9498_0242ac130202row4_col63,#T_ff3307be_9f48_11eb_9498_0242ac130202row4_col64,#T_ff3307be_9f48_11eb_9498_0242ac130202row4_col65,#T_ff3307be_9f48_11eb_9498_0242ac130202row4_col66,#T_ff3307be_9f48_11eb_9498_0242ac130202row4_col67,#T_ff3307be_9f48_11eb_9498_0242ac130202row4_col69,#T_ff3307be_9f48_11eb_9498_0242ac130202row4_col71,#T_ff3307be_9f48_11eb_9498_0242ac130202row4_col72,#T_ff3307be_9f48_11eb_9498_0242ac130202row4_col73,#T_ff3307be_9f48_11eb_9498_0242ac130202row4_col74,#T_ff3307be_9f48_11eb_9498_0242ac130202row4_col75,#T_ff3307be_9f48_11eb_9498_0242ac130202row4_col76,#T_ff3307be_9f48_11eb_9498_0242ac130202row4_col78,#T_ff3307be_9f48_11eb_9498_0242ac130202row4_col80,#T_ff3307be_9f48_11eb_9498_0242ac130202row4_col82,#T_ff3307be_9f48_11eb_9498_0242ac130202row4_col84,#T_ff3307be_9f48_11eb_9498_0242ac130202row4_col85,#T_ff3307be_9f48_11eb_9498_0242ac130202row4_col86,#T_ff3307be_9f48_11eb_9498_0242ac130202row4_col87,#T_ff3307be_9f48_11eb_9498_0242ac130202row4_col88,#T_ff3307be_9f48_11eb_9498_0242ac130202row4_col89,#T_ff3307be_9f48_11eb_9498_0242ac130202row4_col91,#T_ff3307be_9f48_11eb_9498_0242ac130202row4_col92,#T_ff3307be_9f48_11eb_9498_0242ac130202row4_col93,#T_ff3307be_9f48_11eb_9498_0242ac130202row4_col94,#T_ff3307be_9f48_11eb_9498_0242ac130202row4_col95,#T_ff3307be_9f48_11eb_9498_0242ac130202row4_col97,#T_ff3307be_9f48_11eb_9498_0242ac130202row5_col0,#T_ff3307be_9f48_11eb_9498_0242ac130202row5_col1,#T_ff3307be_9f48_11eb_9498_0242ac130202row5_col3,#T_ff3307be_9f48_11eb_9498_0242ac130202row5_col4,#T_ff3307be_9f48_11eb_9498_0242ac130202row5_col5,#T_ff3307be_9f48_11eb_9498_0242ac130202row5_col6,#T_ff3307be_9f48_11eb_9498_0242ac130202row5_col7,#T_ff3307be_9f48_11eb_9498_0242ac130202row5_col8,#T_ff3307be_9f48_11eb_9498_0242ac130202row5_col9,#T_ff3307be_9f48_11eb_9498_0242ac130202row5_col10,#T_ff3307be_9f48_11eb_9498_0242ac130202row5_col11,#T_ff3307be_9f48_11eb_9498_0242ac130202row5_col12,#T_ff3307be_9f48_11eb_9498_0242ac130202row5_col13,#T_ff3307be_9f48_11eb_9498_0242ac130202row5_col14,#T_ff3307be_9f48_11eb_9498_0242ac130202row5_col15,#T_ff3307be_9f48_11eb_9498_0242ac130202row5_col17,#T_ff3307be_9f48_11eb_9498_0242ac130202row5_col18,#T_ff3307be_9f48_11eb_9498_0242ac130202row5_col21,#T_ff3307be_9f48_11eb_9498_0242ac130202row5_col22,#T_ff3307be_9f48_11eb_9498_0242ac130202row5_col23,#T_ff3307be_9f48_11eb_9498_0242ac130202row5_col25,#T_ff3307be_9f48_11eb_9498_0242ac130202row5_col26,#T_ff3307be_9f48_11eb_9498_0242ac130202row5_col28,#T_ff3307be_9f48_11eb_9498_0242ac130202row5_col30,#T_ff3307be_9f48_11eb_9498_0242ac130202row5_col32,#T_ff3307be_9f48_11eb_9498_0242ac130202row5_col33,#T_ff3307be_9f48_11eb_9498_0242ac130202row5_col34,#T_ff3307be_9f48_11eb_9498_0242ac130202row5_col35,#T_ff3307be_9f48_11eb_9498_0242ac130202row5_col37,#T_ff3307be_9f48_11eb_9498_0242ac130202row5_col38,#T_ff3307be_9f48_11eb_9498_0242ac130202row5_col39,#T_ff3307be_9f48_11eb_9498_0242ac130202row5_col40,#T_ff3307be_9f48_11eb_9498_0242ac130202row5_col41,#T_ff3307be_9f48_11eb_9498_0242ac130202row5_col42,#T_ff3307be_9f48_11eb_9498_0242ac130202row5_col43,#T_ff3307be_9f48_11eb_9498_0242ac130202row5_col44,#T_ff3307be_9f48_11eb_9498_0242ac130202row5_col45,#T_ff3307be_9f48_11eb_9498_0242ac130202row5_col46,#T_ff3307be_9f48_11eb_9498_0242ac130202row5_col49,#T_ff3307be_9f48_11eb_9498_0242ac130202row5_col50,#T_ff3307be_9f48_11eb_9498_0242ac130202row5_col51,#T_ff3307be_9f48_11eb_9498_0242ac130202row5_col52,#T_ff3307be_9f48_11eb_9498_0242ac130202row5_col54,#T_ff3307be_9f48_11eb_9498_0242ac130202row5_col55,#T_ff3307be_9f48_11eb_9498_0242ac130202row5_col56,#T_ff3307be_9f48_11eb_9498_0242ac130202row5_col57,#T_ff3307be_9f48_11eb_9498_0242ac130202row5_col58,#T_ff3307be_9f48_11eb_9498_0242ac130202row5_col59,#T_ff3307be_9f48_11eb_9498_0242ac130202row5_col60,#T_ff3307be_9f48_11eb_9498_0242ac130202row5_col61,#T_ff3307be_9f48_11eb_9498_0242ac130202row5_col62,#T_ff3307be_9f48_11eb_9498_0242ac130202row5_col63,#T_ff3307be_9f48_11eb_9498_0242ac130202row5_col64,#T_ff3307be_9f48_11eb_9498_0242ac130202row5_col65,#T_ff3307be_9f48_11eb_9498_0242ac130202row5_col66,#T_ff3307be_9f48_11eb_9498_0242ac130202row5_col67,#T_ff3307be_9f48_11eb_9498_0242ac130202row5_col68,#T_ff3307be_9f48_11eb_9498_0242ac130202row5_col69,#T_ff3307be_9f48_11eb_9498_0242ac130202row5_col70,#T_ff3307be_9f48_11eb_9498_0242ac130202row5_col71,#T_ff3307be_9f48_11eb_9498_0242ac130202row5_col72,#T_ff3307be_9f48_11eb_9498_0242ac130202row5_col73,#T_ff3307be_9f48_11eb_9498_0242ac130202row5_col74,#T_ff3307be_9f48_11eb_9498_0242ac130202row5_col76,#T_ff3307be_9f48_11eb_9498_0242ac130202row5_col77,#T_ff3307be_9f48_11eb_9498_0242ac130202row5_col78,#T_ff3307be_9f48_11eb_9498_0242ac130202row5_col79,#T_ff3307be_9f48_11eb_9498_0242ac130202row5_col80,#T_ff3307be_9f48_11eb_9498_0242ac130202row5_col81,#T_ff3307be_9f48_11eb_9498_0242ac130202row5_col82,#T_ff3307be_9f48_11eb_9498_0242ac130202row5_col83,#T_ff3307be_9f48_11eb_9498_0242ac130202row5_col84,#T_ff3307be_9f48_11eb_9498_0242ac130202row5_col85,#T_ff3307be_9f48_11eb_9498_0242ac130202row5_col86,#T_ff3307be_9f48_11eb_9498_0242ac130202row5_col87,#T_ff3307be_9f48_11eb_9498_0242ac130202row5_col88,#T_ff3307be_9f48_11eb_9498_0242ac130202row5_col89,#T_ff3307be_9f48_11eb_9498_0242ac130202row5_col90,#T_ff3307be_9f48_11eb_9498_0242ac130202row5_col92,#T_ff3307be_9f48_11eb_9498_0242ac130202row5_col93,#T_ff3307be_9f48_11eb_9498_0242ac130202row5_col95,#T_ff3307be_9f48_11eb_9498_0242ac130202row5_col97,#T_ff3307be_9f48_11eb_9498_0242ac130202row6_col0,#T_ff3307be_9f48_11eb_9498_0242ac130202row6_col1,#T_ff3307be_9f48_11eb_9498_0242ac130202row6_col2,#T_ff3307be_9f48_11eb_9498_0242ac130202row6_col3,#T_ff3307be_9f48_11eb_9498_0242ac130202row6_col4,#T_ff3307be_9f48_11eb_9498_0242ac130202row6_col5,#T_ff3307be_9f48_11eb_9498_0242ac130202row6_col6,#T_ff3307be_9f48_11eb_9498_0242ac130202row6_col7,#T_ff3307be_9f48_11eb_9498_0242ac130202row6_col8,#T_ff3307be_9f48_11eb_9498_0242ac130202row6_col9,#T_ff3307be_9f48_11eb_9498_0242ac130202row6_col10,#T_ff3307be_9f48_11eb_9498_0242ac130202row6_col11,#T_ff3307be_9f48_11eb_9498_0242ac130202row6_col13,#T_ff3307be_9f48_11eb_9498_0242ac130202row6_col14,#T_ff3307be_9f48_11eb_9498_0242ac130202row6_col15,#T_ff3307be_9f48_11eb_9498_0242ac130202row6_col16,#T_ff3307be_9f48_11eb_9498_0242ac130202row6_col17,#T_ff3307be_9f48_11eb_9498_0242ac130202row6_col18,#T_ff3307be_9f48_11eb_9498_0242ac130202row6_col19,#T_ff3307be_9f48_11eb_9498_0242ac130202row6_col20,#T_ff3307be_9f48_11eb_9498_0242ac130202row6_col21,#T_ff3307be_9f48_11eb_9498_0242ac130202row6_col22,#T_ff3307be_9f48_11eb_9498_0242ac130202row6_col24,#T_ff3307be_9f48_11eb_9498_0242ac130202row6_col26,#T_ff3307be_9f48_11eb_9498_0242ac130202row6_col27,#T_ff3307be_9f48_11eb_9498_0242ac130202row6_col28,#T_ff3307be_9f48_11eb_9498_0242ac130202row6_col29,#T_ff3307be_9f48_11eb_9498_0242ac130202row6_col31,#T_ff3307be_9f48_11eb_9498_0242ac130202row6_col32,#T_ff3307be_9f48_11eb_9498_0242ac130202row6_col33,#T_ff3307be_9f48_11eb_9498_0242ac130202row6_col34,#T_ff3307be_9f48_11eb_9498_0242ac130202row6_col35,#T_ff3307be_9f48_11eb_9498_0242ac130202row6_col36,#T_ff3307be_9f48_11eb_9498_0242ac130202row6_col40,#T_ff3307be_9f48_11eb_9498_0242ac130202row6_col41,#T_ff3307be_9f48_11eb_9498_0242ac130202row6_col42,#T_ff3307be_9f48_11eb_9498_0242ac130202row6_col43,#T_ff3307be_9f48_11eb_9498_0242ac130202row6_col44,#T_ff3307be_9f48_11eb_9498_0242ac130202row6_col46,#T_ff3307be_9f48_11eb_9498_0242ac130202row6_col47,#T_ff3307be_9f48_11eb_9498_0242ac130202row6_col49,#T_ff3307be_9f48_11eb_9498_0242ac130202row6_col50,#T_ff3307be_9f48_11eb_9498_0242ac130202row6_col51,#T_ff3307be_9f48_11eb_9498_0242ac130202row6_col52,#T_ff3307be_9f48_11eb_9498_0242ac130202row6_col53,#T_ff3307be_9f48_11eb_9498_0242ac130202row6_col55,#T_ff3307be_9f48_11eb_9498_0242ac130202row6_col56,#T_ff3307be_9f48_11eb_9498_0242ac130202row6_col57,#T_ff3307be_9f48_11eb_9498_0242ac130202row6_col58,#T_ff3307be_9f48_11eb_9498_0242ac130202row6_col59,#T_ff3307be_9f48_11eb_9498_0242ac130202row6_col61,#T_ff3307be_9f48_11eb_9498_0242ac130202row6_col62,#T_ff3307be_9f48_11eb_9498_0242ac130202row6_col63,#T_ff3307be_9f48_11eb_9498_0242ac130202row6_col64,#T_ff3307be_9f48_11eb_9498_0242ac130202row6_col65,#T_ff3307be_9f48_11eb_9498_0242ac130202row6_col66,#T_ff3307be_9f48_11eb_9498_0242ac130202row6_col67,#T_ff3307be_9f48_11eb_9498_0242ac130202row6_col68,#T_ff3307be_9f48_11eb_9498_0242ac130202row6_col69,#T_ff3307be_9f48_11eb_9498_0242ac130202row6_col70,#T_ff3307be_9f48_11eb_9498_0242ac130202row6_col72,#T_ff3307be_9f48_11eb_9498_0242ac130202row6_col73,#T_ff3307be_9f48_11eb_9498_0242ac130202row6_col74,#T_ff3307be_9f48_11eb_9498_0242ac130202row6_col75,#T_ff3307be_9f48_11eb_9498_0242ac130202row6_col76,#T_ff3307be_9f48_11eb_9498_0242ac130202row6_col77,#T_ff3307be_9f48_11eb_9498_0242ac130202row6_col78,#T_ff3307be_9f48_11eb_9498_0242ac130202row6_col79,#T_ff3307be_9f48_11eb_9498_0242ac130202row6_col80,#T_ff3307be_9f48_11eb_9498_0242ac130202row6_col81,#T_ff3307be_9f48_11eb_9498_0242ac130202row6_col82,#T_ff3307be_9f48_11eb_9498_0242ac130202row6_col83,#T_ff3307be_9f48_11eb_9498_0242ac130202row6_col85,#T_ff3307be_9f48_11eb_9498_0242ac130202row6_col87,#T_ff3307be_9f48_11eb_9498_0242ac130202row6_col88,#T_ff3307be_9f48_11eb_9498_0242ac130202row6_col89,#T_ff3307be_9f48_11eb_9498_0242ac130202row6_col90,#T_ff3307be_9f48_11eb_9498_0242ac130202row6_col91,#T_ff3307be_9f48_11eb_9498_0242ac130202row6_col92,#T_ff3307be_9f48_11eb_9498_0242ac130202row6_col93,#T_ff3307be_9f48_11eb_9498_0242ac130202row6_col94,#T_ff3307be_9f48_11eb_9498_0242ac130202row6_col95,#T_ff3307be_9f48_11eb_9498_0242ac130202row6_col96,#T_ff3307be_9f48_11eb_9498_0242ac130202row6_col97,#T_ff3307be_9f48_11eb_9498_0242ac130202row7_col0,#T_ff3307be_9f48_11eb_9498_0242ac130202row7_col1,#T_ff3307be_9f48_11eb_9498_0242ac130202row7_col2,#T_ff3307be_9f48_11eb_9498_0242ac130202row7_col3,#T_ff3307be_9f48_11eb_9498_0242ac130202row7_col4,#T_ff3307be_9f48_11eb_9498_0242ac130202row7_col5,#T_ff3307be_9f48_11eb_9498_0242ac130202row7_col6,#T_ff3307be_9f48_11eb_9498_0242ac130202row7_col7,#T_ff3307be_9f48_11eb_9498_0242ac130202row7_col8,#T_ff3307be_9f48_11eb_9498_0242ac130202row7_col10,#T_ff3307be_9f48_11eb_9498_0242ac130202row7_col11,#T_ff3307be_9f48_11eb_9498_0242ac130202row7_col12,#T_ff3307be_9f48_11eb_9498_0242ac130202row7_col13,#T_ff3307be_9f48_11eb_9498_0242ac130202row7_col14,#T_ff3307be_9f48_11eb_9498_0242ac130202row7_col15,#T_ff3307be_9f48_11eb_9498_0242ac130202row7_col16,#T_ff3307be_9f48_11eb_9498_0242ac130202row7_col17,#T_ff3307be_9f48_11eb_9498_0242ac130202row7_col18,#T_ff3307be_9f48_11eb_9498_0242ac130202row7_col19,#T_ff3307be_9f48_11eb_9498_0242ac130202row7_col20,#T_ff3307be_9f48_11eb_9498_0242ac130202row7_col22,#T_ff3307be_9f48_11eb_9498_0242ac130202row7_col23,#T_ff3307be_9f48_11eb_9498_0242ac130202row7_col24,#T_ff3307be_9f48_11eb_9498_0242ac130202row7_col25,#T_ff3307be_9f48_11eb_9498_0242ac130202row7_col26,#T_ff3307be_9f48_11eb_9498_0242ac130202row7_col27,#T_ff3307be_9f48_11eb_9498_0242ac130202row7_col28,#T_ff3307be_9f48_11eb_9498_0242ac130202row7_col29,#T_ff3307be_9f48_11eb_9498_0242ac130202row7_col30,#T_ff3307be_9f48_11eb_9498_0242ac130202row7_col31,#T_ff3307be_9f48_11eb_9498_0242ac130202row7_col32,#T_ff3307be_9f48_11eb_9498_0242ac130202row7_col33,#T_ff3307be_9f48_11eb_9498_0242ac130202row7_col34,#T_ff3307be_9f48_11eb_9498_0242ac130202row7_col35,#T_ff3307be_9f48_11eb_9498_0242ac130202row7_col37,#T_ff3307be_9f48_11eb_9498_0242ac130202row7_col38,#T_ff3307be_9f48_11eb_9498_0242ac130202row7_col39,#T_ff3307be_9f48_11eb_9498_0242ac130202row7_col40,#T_ff3307be_9f48_11eb_9498_0242ac130202row7_col41,#T_ff3307be_9f48_11eb_9498_0242ac130202row7_col42,#T_ff3307be_9f48_11eb_9498_0242ac130202row7_col43,#T_ff3307be_9f48_11eb_9498_0242ac130202row7_col44,#T_ff3307be_9f48_11eb_9498_0242ac130202row7_col45,#T_ff3307be_9f48_11eb_9498_0242ac130202row7_col47,#T_ff3307be_9f48_11eb_9498_0242ac130202row7_col49,#T_ff3307be_9f48_11eb_9498_0242ac130202row7_col50,#T_ff3307be_9f48_11eb_9498_0242ac130202row7_col51,#T_ff3307be_9f48_11eb_9498_0242ac130202row7_col52,#T_ff3307be_9f48_11eb_9498_0242ac130202row7_col53,#T_ff3307be_9f48_11eb_9498_0242ac130202row7_col54,#T_ff3307be_9f48_11eb_9498_0242ac130202row7_col55,#T_ff3307be_9f48_11eb_9498_0242ac130202row7_col56,#T_ff3307be_9f48_11eb_9498_0242ac130202row7_col57,#T_ff3307be_9f48_11eb_9498_0242ac130202row7_col58,#T_ff3307be_9f48_11eb_9498_0242ac130202row7_col59,#T_ff3307be_9f48_11eb_9498_0242ac130202row7_col61,#T_ff3307be_9f48_11eb_9498_0242ac130202row7_col63,#T_ff3307be_9f48_11eb_9498_0242ac130202row7_col64,#T_ff3307be_9f48_11eb_9498_0242ac130202row7_col65,#T_ff3307be_9f48_11eb_9498_0242ac130202row7_col66,#T_ff3307be_9f48_11eb_9498_0242ac130202row7_col67,#T_ff3307be_9f48_11eb_9498_0242ac130202row7_col68,#T_ff3307be_9f48_11eb_9498_0242ac130202row7_col69,#T_ff3307be_9f48_11eb_9498_0242ac130202row7_col70,#T_ff3307be_9f48_11eb_9498_0242ac130202row7_col71,#T_ff3307be_9f48_11eb_9498_0242ac130202row7_col72,#T_ff3307be_9f48_11eb_9498_0242ac130202row7_col73,#T_ff3307be_9f48_11eb_9498_0242ac130202row7_col74,#T_ff3307be_9f48_11eb_9498_0242ac130202row7_col75,#T_ff3307be_9f48_11eb_9498_0242ac130202row7_col76,#T_ff3307be_9f48_11eb_9498_0242ac130202row7_col77,#T_ff3307be_9f48_11eb_9498_0242ac130202row7_col78,#T_ff3307be_9f48_11eb_9498_0242ac130202row7_col79,#T_ff3307be_9f48_11eb_9498_0242ac130202row7_col81,#T_ff3307be_9f48_11eb_9498_0242ac130202row7_col82,#T_ff3307be_9f48_11eb_9498_0242ac130202row7_col83,#T_ff3307be_9f48_11eb_9498_0242ac130202row7_col84,#T_ff3307be_9f48_11eb_9498_0242ac130202row7_col85,#T_ff3307be_9f48_11eb_9498_0242ac130202row7_col86,#T_ff3307be_9f48_11eb_9498_0242ac130202row7_col87,#T_ff3307be_9f48_11eb_9498_0242ac130202row7_col89,#T_ff3307be_9f48_11eb_9498_0242ac130202row7_col90,#T_ff3307be_9f48_11eb_9498_0242ac130202row7_col91,#T_ff3307be_9f48_11eb_9498_0242ac130202row7_col93,#T_ff3307be_9f48_11eb_9498_0242ac130202row7_col94,#T_ff3307be_9f48_11eb_9498_0242ac130202row7_col95,#T_ff3307be_9f48_11eb_9498_0242ac130202row7_col96,#T_ff3307be_9f48_11eb_9498_0242ac130202row8_col0,#T_ff3307be_9f48_11eb_9498_0242ac130202row8_col1,#T_ff3307be_9f48_11eb_9498_0242ac130202row8_col2,#T_ff3307be_9f48_11eb_9498_0242ac130202row8_col4,#T_ff3307be_9f48_11eb_9498_0242ac130202row8_col5,#T_ff3307be_9f48_11eb_9498_0242ac130202row8_col6,#T_ff3307be_9f48_11eb_9498_0242ac130202row8_col7,#T_ff3307be_9f48_11eb_9498_0242ac130202row8_col9,#T_ff3307be_9f48_11eb_9498_0242ac130202row8_col10,#T_ff3307be_9f48_11eb_9498_0242ac130202row8_col11,#T_ff3307be_9f48_11eb_9498_0242ac130202row8_col12,#T_ff3307be_9f48_11eb_9498_0242ac130202row8_col13,#T_ff3307be_9f48_11eb_9498_0242ac130202row8_col14,#T_ff3307be_9f48_11eb_9498_0242ac130202row8_col15,#T_ff3307be_9f48_11eb_9498_0242ac130202row8_col16,#T_ff3307be_9f48_11eb_9498_0242ac130202row8_col18,#T_ff3307be_9f48_11eb_9498_0242ac130202row8_col19,#T_ff3307be_9f48_11eb_9498_0242ac130202row8_col20,#T_ff3307be_9f48_11eb_9498_0242ac130202row8_col21,#T_ff3307be_9f48_11eb_9498_0242ac130202row8_col22,#T_ff3307be_9f48_11eb_9498_0242ac130202row8_col23,#T_ff3307be_9f48_11eb_9498_0242ac130202row8_col24,#T_ff3307be_9f48_11eb_9498_0242ac130202row8_col25,#T_ff3307be_9f48_11eb_9498_0242ac130202row8_col26,#T_ff3307be_9f48_11eb_9498_0242ac130202row8_col27,#T_ff3307be_9f48_11eb_9498_0242ac130202row8_col28,#T_ff3307be_9f48_11eb_9498_0242ac130202row8_col29,#T_ff3307be_9f48_11eb_9498_0242ac130202row8_col30,#T_ff3307be_9f48_11eb_9498_0242ac130202row8_col31,#T_ff3307be_9f48_11eb_9498_0242ac130202row8_col32,#T_ff3307be_9f48_11eb_9498_0242ac130202row8_col35,#T_ff3307be_9f48_11eb_9498_0242ac130202row8_col36,#T_ff3307be_9f48_11eb_9498_0242ac130202row8_col37,#T_ff3307be_9f48_11eb_9498_0242ac130202row8_col38,#T_ff3307be_9f48_11eb_9498_0242ac130202row8_col39,#T_ff3307be_9f48_11eb_9498_0242ac130202row8_col40,#T_ff3307be_9f48_11eb_9498_0242ac130202row8_col41,#T_ff3307be_9f48_11eb_9498_0242ac130202row8_col42,#T_ff3307be_9f48_11eb_9498_0242ac130202row8_col43,#T_ff3307be_9f48_11eb_9498_0242ac130202row8_col45,#T_ff3307be_9f48_11eb_9498_0242ac130202row8_col46,#T_ff3307be_9f48_11eb_9498_0242ac130202row8_col47,#T_ff3307be_9f48_11eb_9498_0242ac130202row8_col49,#T_ff3307be_9f48_11eb_9498_0242ac130202row8_col50,#T_ff3307be_9f48_11eb_9498_0242ac130202row8_col51,#T_ff3307be_9f48_11eb_9498_0242ac130202row8_col52,#T_ff3307be_9f48_11eb_9498_0242ac130202row8_col53,#T_ff3307be_9f48_11eb_9498_0242ac130202row8_col54,#T_ff3307be_9f48_11eb_9498_0242ac130202row8_col55,#T_ff3307be_9f48_11eb_9498_0242ac130202row8_col56,#T_ff3307be_9f48_11eb_9498_0242ac130202row8_col57,#T_ff3307be_9f48_11eb_9498_0242ac130202row8_col58,#T_ff3307be_9f48_11eb_9498_0242ac130202row8_col60,#T_ff3307be_9f48_11eb_9498_0242ac130202row8_col61,#T_ff3307be_9f48_11eb_9498_0242ac130202row8_col62,#T_ff3307be_9f48_11eb_9498_0242ac130202row8_col63,#T_ff3307be_9f48_11eb_9498_0242ac130202row8_col64,#T_ff3307be_9f48_11eb_9498_0242ac130202row8_col65,#T_ff3307be_9f48_11eb_9498_0242ac130202row8_col66,#T_ff3307be_9f48_11eb_9498_0242ac130202row8_col67,#T_ff3307be_9f48_11eb_9498_0242ac130202row8_col68,#T_ff3307be_9f48_11eb_9498_0242ac130202row8_col69,#T_ff3307be_9f48_11eb_9498_0242ac130202row8_col70,#T_ff3307be_9f48_11eb_9498_0242ac130202row8_col71,#T_ff3307be_9f48_11eb_9498_0242ac130202row8_col72,#T_ff3307be_9f48_11eb_9498_0242ac130202row8_col73,#T_ff3307be_9f48_11eb_9498_0242ac130202row8_col74,#T_ff3307be_9f48_11eb_9498_0242ac130202row8_col75,#T_ff3307be_9f48_11eb_9498_0242ac130202row8_col76,#T_ff3307be_9f48_11eb_9498_0242ac130202row8_col77,#T_ff3307be_9f48_11eb_9498_0242ac130202row8_col78,#T_ff3307be_9f48_11eb_9498_0242ac130202row8_col79,#T_ff3307be_9f48_11eb_9498_0242ac130202row8_col80,#T_ff3307be_9f48_11eb_9498_0242ac130202row8_col81,#T_ff3307be_9f48_11eb_9498_0242ac130202row8_col82,#T_ff3307be_9f48_11eb_9498_0242ac130202row8_col83,#T_ff3307be_9f48_11eb_9498_0242ac130202row8_col84,#T_ff3307be_9f48_11eb_9498_0242ac130202row8_col86,#T_ff3307be_9f48_11eb_9498_0242ac130202row8_col87,#T_ff3307be_9f48_11eb_9498_0242ac130202row8_col90,#T_ff3307be_9f48_11eb_9498_0242ac130202row8_col91,#T_ff3307be_9f48_11eb_9498_0242ac130202row8_col92,#T_ff3307be_9f48_11eb_9498_0242ac130202row8_col93,#T_ff3307be_9f48_11eb_9498_0242ac130202row8_col94,#T_ff3307be_9f48_11eb_9498_0242ac130202row8_col95,#T_ff3307be_9f48_11eb_9498_0242ac130202row8_col96,#T_ff3307be_9f48_11eb_9498_0242ac130202row8_col97,#T_ff3307be_9f48_11eb_9498_0242ac130202row9_col0,#T_ff3307be_9f48_11eb_9498_0242ac130202row9_col1,#T_ff3307be_9f48_11eb_9498_0242ac130202row9_col2,#T_ff3307be_9f48_11eb_9498_0242ac130202row9_col3,#T_ff3307be_9f48_11eb_9498_0242ac130202row9_col5,#T_ff3307be_9f48_11eb_9498_0242ac130202row9_col6,#T_ff3307be_9f48_11eb_9498_0242ac130202row9_col7,#T_ff3307be_9f48_11eb_9498_0242ac130202row9_col8,#T_ff3307be_9f48_11eb_9498_0242ac130202row9_col9,#T_ff3307be_9f48_11eb_9498_0242ac130202row9_col10,#T_ff3307be_9f48_11eb_9498_0242ac130202row9_col12,#T_ff3307be_9f48_11eb_9498_0242ac130202row9_col13,#T_ff3307be_9f48_11eb_9498_0242ac130202row9_col14,#T_ff3307be_9f48_11eb_9498_0242ac130202row9_col15,#T_ff3307be_9f48_11eb_9498_0242ac130202row9_col16,#T_ff3307be_9f48_11eb_9498_0242ac130202row9_col17,#T_ff3307be_9f48_11eb_9498_0242ac130202row9_col18,#T_ff3307be_9f48_11eb_9498_0242ac130202row9_col19,#T_ff3307be_9f48_11eb_9498_0242ac130202row9_col20,#T_ff3307be_9f48_11eb_9498_0242ac130202row9_col21,#T_ff3307be_9f48_11eb_9498_0242ac130202row9_col22,#T_ff3307be_9f48_11eb_9498_0242ac130202row9_col23,#T_ff3307be_9f48_11eb_9498_0242ac130202row9_col24,#T_ff3307be_9f48_11eb_9498_0242ac130202row9_col25,#T_ff3307be_9f48_11eb_9498_0242ac130202row9_col27,#T_ff3307be_9f48_11eb_9498_0242ac130202row9_col28,#T_ff3307be_9f48_11eb_9498_0242ac130202row9_col29,#T_ff3307be_9f48_11eb_9498_0242ac130202row9_col30,#T_ff3307be_9f48_11eb_9498_0242ac130202row9_col31,#T_ff3307be_9f48_11eb_9498_0242ac130202row9_col32,#T_ff3307be_9f48_11eb_9498_0242ac130202row9_col33,#T_ff3307be_9f48_11eb_9498_0242ac130202row9_col34,#T_ff3307be_9f48_11eb_9498_0242ac130202row9_col35,#T_ff3307be_9f48_11eb_9498_0242ac130202row9_col36,#T_ff3307be_9f48_11eb_9498_0242ac130202row9_col37,#T_ff3307be_9f48_11eb_9498_0242ac130202row9_col38,#T_ff3307be_9f48_11eb_9498_0242ac130202row9_col39,#T_ff3307be_9f48_11eb_9498_0242ac130202row9_col40,#T_ff3307be_9f48_11eb_9498_0242ac130202row9_col41,#T_ff3307be_9f48_11eb_9498_0242ac130202row9_col42,#T_ff3307be_9f48_11eb_9498_0242ac130202row9_col43,#T_ff3307be_9f48_11eb_9498_0242ac130202row9_col44,#T_ff3307be_9f48_11eb_9498_0242ac130202row9_col45,#T_ff3307be_9f48_11eb_9498_0242ac130202row9_col46,#T_ff3307be_9f48_11eb_9498_0242ac130202row9_col47,#T_ff3307be_9f48_11eb_9498_0242ac130202row9_col48,#T_ff3307be_9f48_11eb_9498_0242ac130202row9_col49,#T_ff3307be_9f48_11eb_9498_0242ac130202row9_col51,#T_ff3307be_9f48_11eb_9498_0242ac130202row9_col52,#T_ff3307be_9f48_11eb_9498_0242ac130202row9_col53,#T_ff3307be_9f48_11eb_9498_0242ac130202row9_col54,#T_ff3307be_9f48_11eb_9498_0242ac130202row9_col55,#T_ff3307be_9f48_11eb_9498_0242ac130202row9_col56,#T_ff3307be_9f48_11eb_9498_0242ac130202row9_col57,#T_ff3307be_9f48_11eb_9498_0242ac130202row9_col58,#T_ff3307be_9f48_11eb_9498_0242ac130202row9_col59,#T_ff3307be_9f48_11eb_9498_0242ac130202row9_col60,#T_ff3307be_9f48_11eb_9498_0242ac130202row9_col61,#T_ff3307be_9f48_11eb_9498_0242ac130202row9_col62,#T_ff3307be_9f48_11eb_9498_0242ac130202row9_col63,#T_ff3307be_9f48_11eb_9498_0242ac130202row9_col64,#T_ff3307be_9f48_11eb_9498_0242ac130202row9_col65,#T_ff3307be_9f48_11eb_9498_0242ac130202row9_col67,#T_ff3307be_9f48_11eb_9498_0242ac130202row9_col68,#T_ff3307be_9f48_11eb_9498_0242ac130202row9_col69,#T_ff3307be_9f48_11eb_9498_0242ac130202row9_col70,#T_ff3307be_9f48_11eb_9498_0242ac130202row9_col71,#T_ff3307be_9f48_11eb_9498_0242ac130202row9_col72,#T_ff3307be_9f48_11eb_9498_0242ac130202row9_col73,#T_ff3307be_9f48_11eb_9498_0242ac130202row9_col74,#T_ff3307be_9f48_11eb_9498_0242ac130202row9_col75,#T_ff3307be_9f48_11eb_9498_0242ac130202row9_col76,#T_ff3307be_9f48_11eb_9498_0242ac130202row9_col77,#T_ff3307be_9f48_11eb_9498_0242ac130202row9_col78,#T_ff3307be_9f48_11eb_9498_0242ac130202row9_col79,#T_ff3307be_9f48_11eb_9498_0242ac130202row9_col80,#T_ff3307be_9f48_11eb_9498_0242ac130202row9_col81,#T_ff3307be_9f48_11eb_9498_0242ac130202row9_col82,#T_ff3307be_9f48_11eb_9498_0242ac130202row9_col83,#T_ff3307be_9f48_11eb_9498_0242ac130202row9_col84,#T_ff3307be_9f48_11eb_9498_0242ac130202row9_col85,#T_ff3307be_9f48_11eb_9498_0242ac130202row9_col86,#T_ff3307be_9f48_11eb_9498_0242ac130202row9_col89,#T_ff3307be_9f48_11eb_9498_0242ac130202row9_col90,#T_ff3307be_9f48_11eb_9498_0242ac130202row9_col92,#T_ff3307be_9f48_11eb_9498_0242ac130202row9_col94,#T_ff3307be_9f48_11eb_9498_0242ac130202row9_col95,#T_ff3307be_9f48_11eb_9498_0242ac130202row9_col96,#T_ff3307be_9f48_11eb_9498_0242ac130202row9_col97{\n",
              "            background-color:  ;\n",
              "        }#T_ff3307be_9f48_11eb_9498_0242ac130202row0_col6,#T_ff3307be_9f48_11eb_9498_0242ac130202row0_col7,#T_ff3307be_9f48_11eb_9498_0242ac130202row0_col10,#T_ff3307be_9f48_11eb_9498_0242ac130202row0_col28,#T_ff3307be_9f48_11eb_9498_0242ac130202row0_col32,#T_ff3307be_9f48_11eb_9498_0242ac130202row0_col41,#T_ff3307be_9f48_11eb_9498_0242ac130202row0_col55,#T_ff3307be_9f48_11eb_9498_0242ac130202row0_col60,#T_ff3307be_9f48_11eb_9498_0242ac130202row0_col66,#T_ff3307be_9f48_11eb_9498_0242ac130202row0_col72,#T_ff3307be_9f48_11eb_9498_0242ac130202row0_col88,#T_ff3307be_9f48_11eb_9498_0242ac130202row0_col90,#T_ff3307be_9f48_11eb_9498_0242ac130202row0_col95,#T_ff3307be_9f48_11eb_9498_0242ac130202row1_col22,#T_ff3307be_9f48_11eb_9498_0242ac130202row1_col36,#T_ff3307be_9f48_11eb_9498_0242ac130202row1_col40,#T_ff3307be_9f48_11eb_9498_0242ac130202row1_col52,#T_ff3307be_9f48_11eb_9498_0242ac130202row1_col56,#T_ff3307be_9f48_11eb_9498_0242ac130202row1_col76,#T_ff3307be_9f48_11eb_9498_0242ac130202row1_col78,#T_ff3307be_9f48_11eb_9498_0242ac130202row2_col6,#T_ff3307be_9f48_11eb_9498_0242ac130202row2_col10,#T_ff3307be_9f48_11eb_9498_0242ac130202row2_col14,#T_ff3307be_9f48_11eb_9498_0242ac130202row2_col15,#T_ff3307be_9f48_11eb_9498_0242ac130202row2_col18,#T_ff3307be_9f48_11eb_9498_0242ac130202row2_col34,#T_ff3307be_9f48_11eb_9498_0242ac130202row2_col35,#T_ff3307be_9f48_11eb_9498_0242ac130202row2_col48,#T_ff3307be_9f48_11eb_9498_0242ac130202row2_col57,#T_ff3307be_9f48_11eb_9498_0242ac130202row2_col58,#T_ff3307be_9f48_11eb_9498_0242ac130202row2_col61,#T_ff3307be_9f48_11eb_9498_0242ac130202row2_col63,#T_ff3307be_9f48_11eb_9498_0242ac130202row2_col64,#T_ff3307be_9f48_11eb_9498_0242ac130202row2_col65,#T_ff3307be_9f48_11eb_9498_0242ac130202row2_col69,#T_ff3307be_9f48_11eb_9498_0242ac130202row2_col74,#T_ff3307be_9f48_11eb_9498_0242ac130202row2_col82,#T_ff3307be_9f48_11eb_9498_0242ac130202row2_col91,#T_ff3307be_9f48_11eb_9498_0242ac130202row3_col0,#T_ff3307be_9f48_11eb_9498_0242ac130202row3_col1,#T_ff3307be_9f48_11eb_9498_0242ac130202row3_col20,#T_ff3307be_9f48_11eb_9498_0242ac130202row3_col34,#T_ff3307be_9f48_11eb_9498_0242ac130202row3_col48,#T_ff3307be_9f48_11eb_9498_0242ac130202row3_col64,#T_ff3307be_9f48_11eb_9498_0242ac130202row3_col67,#T_ff3307be_9f48_11eb_9498_0242ac130202row3_col73,#T_ff3307be_9f48_11eb_9498_0242ac130202row3_col96,#T_ff3307be_9f48_11eb_9498_0242ac130202row4_col5,#T_ff3307be_9f48_11eb_9498_0242ac130202row4_col13,#T_ff3307be_9f48_11eb_9498_0242ac130202row4_col42,#T_ff3307be_9f48_11eb_9498_0242ac130202row4_col43,#T_ff3307be_9f48_11eb_9498_0242ac130202row4_col49,#T_ff3307be_9f48_11eb_9498_0242ac130202row4_col51,#T_ff3307be_9f48_11eb_9498_0242ac130202row4_col68,#T_ff3307be_9f48_11eb_9498_0242ac130202row4_col70,#T_ff3307be_9f48_11eb_9498_0242ac130202row4_col77,#T_ff3307be_9f48_11eb_9498_0242ac130202row4_col79,#T_ff3307be_9f48_11eb_9498_0242ac130202row4_col81,#T_ff3307be_9f48_11eb_9498_0242ac130202row4_col83,#T_ff3307be_9f48_11eb_9498_0242ac130202row4_col90,#T_ff3307be_9f48_11eb_9498_0242ac130202row4_col96,#T_ff3307be_9f48_11eb_9498_0242ac130202row5_col2,#T_ff3307be_9f48_11eb_9498_0242ac130202row5_col16,#T_ff3307be_9f48_11eb_9498_0242ac130202row5_col19,#T_ff3307be_9f48_11eb_9498_0242ac130202row5_col20,#T_ff3307be_9f48_11eb_9498_0242ac130202row5_col24,#T_ff3307be_9f48_11eb_9498_0242ac130202row5_col27,#T_ff3307be_9f48_11eb_9498_0242ac130202row5_col29,#T_ff3307be_9f48_11eb_9498_0242ac130202row5_col31,#T_ff3307be_9f48_11eb_9498_0242ac130202row5_col36,#T_ff3307be_9f48_11eb_9498_0242ac130202row5_col47,#T_ff3307be_9f48_11eb_9498_0242ac130202row5_col48,#T_ff3307be_9f48_11eb_9498_0242ac130202row5_col53,#T_ff3307be_9f48_11eb_9498_0242ac130202row5_col75,#T_ff3307be_9f48_11eb_9498_0242ac130202row5_col91,#T_ff3307be_9f48_11eb_9498_0242ac130202row5_col94,#T_ff3307be_9f48_11eb_9498_0242ac130202row5_col96,#T_ff3307be_9f48_11eb_9498_0242ac130202row6_col12,#T_ff3307be_9f48_11eb_9498_0242ac130202row6_col23,#T_ff3307be_9f48_11eb_9498_0242ac130202row6_col25,#T_ff3307be_9f48_11eb_9498_0242ac130202row6_col30,#T_ff3307be_9f48_11eb_9498_0242ac130202row6_col37,#T_ff3307be_9f48_11eb_9498_0242ac130202row6_col38,#T_ff3307be_9f48_11eb_9498_0242ac130202row6_col39,#T_ff3307be_9f48_11eb_9498_0242ac130202row6_col45,#T_ff3307be_9f48_11eb_9498_0242ac130202row6_col48,#T_ff3307be_9f48_11eb_9498_0242ac130202row6_col54,#T_ff3307be_9f48_11eb_9498_0242ac130202row6_col60,#T_ff3307be_9f48_11eb_9498_0242ac130202row6_col71,#T_ff3307be_9f48_11eb_9498_0242ac130202row6_col84,#T_ff3307be_9f48_11eb_9498_0242ac130202row6_col86,#T_ff3307be_9f48_11eb_9498_0242ac130202row7_col9,#T_ff3307be_9f48_11eb_9498_0242ac130202row7_col21,#T_ff3307be_9f48_11eb_9498_0242ac130202row7_col36,#T_ff3307be_9f48_11eb_9498_0242ac130202row7_col46,#T_ff3307be_9f48_11eb_9498_0242ac130202row7_col48,#T_ff3307be_9f48_11eb_9498_0242ac130202row7_col60,#T_ff3307be_9f48_11eb_9498_0242ac130202row7_col62,#T_ff3307be_9f48_11eb_9498_0242ac130202row7_col80,#T_ff3307be_9f48_11eb_9498_0242ac130202row7_col88,#T_ff3307be_9f48_11eb_9498_0242ac130202row7_col92,#T_ff3307be_9f48_11eb_9498_0242ac130202row7_col97,#T_ff3307be_9f48_11eb_9498_0242ac130202row8_col3,#T_ff3307be_9f48_11eb_9498_0242ac130202row8_col8,#T_ff3307be_9f48_11eb_9498_0242ac130202row8_col17,#T_ff3307be_9f48_11eb_9498_0242ac130202row8_col33,#T_ff3307be_9f48_11eb_9498_0242ac130202row8_col34,#T_ff3307be_9f48_11eb_9498_0242ac130202row8_col44,#T_ff3307be_9f48_11eb_9498_0242ac130202row8_col48,#T_ff3307be_9f48_11eb_9498_0242ac130202row8_col59,#T_ff3307be_9f48_11eb_9498_0242ac130202row8_col85,#T_ff3307be_9f48_11eb_9498_0242ac130202row8_col88,#T_ff3307be_9f48_11eb_9498_0242ac130202row8_col89,#T_ff3307be_9f48_11eb_9498_0242ac130202row9_col4,#T_ff3307be_9f48_11eb_9498_0242ac130202row9_col11,#T_ff3307be_9f48_11eb_9498_0242ac130202row9_col26,#T_ff3307be_9f48_11eb_9498_0242ac130202row9_col50,#T_ff3307be_9f48_11eb_9498_0242ac130202row9_col66,#T_ff3307be_9f48_11eb_9498_0242ac130202row9_col87,#T_ff3307be_9f48_11eb_9498_0242ac130202row9_col88,#T_ff3307be_9f48_11eb_9498_0242ac130202row9_col91,#T_ff3307be_9f48_11eb_9498_0242ac130202row9_col93{\n",
              "            background-color:  mediumaquamarine;\n",
              "        }</style><table id=\"T_ff3307be_9f48_11eb_9498_0242ac130202\" ><thead>    <tr>        <th class=\"blank level0\" ></th>        <th class=\"col_heading level0 col0\" >000</th>        <th class=\"col_heading level0 col1\" >13</th>        <th class=\"col_heading level0 col2\" >20</th>        <th class=\"col_heading level0 col3\" >across</th>        <th class=\"col_heading level0 col4\" >afraid</th>        <th class=\"col_heading level0 col5\" >alaska</th>        <th class=\"col_heading level0 col6\" >all</th>        <th class=\"col_heading level0 col7\" >allah</th>        <th class=\"col_heading level0 col8\" >an</th>        <th class=\"col_heading level0 col9\" >and</th>        <th class=\"col_heading level0 col10\" >are</th>        <th class=\"col_heading level0 col11\" >area</th>        <th class=\"col_heading level0 col12\" >areas</th>        <th class=\"col_heading level0 col13\" >as</th>        <th class=\"col_heading level0 col14\" >asked</th>        <th class=\"col_heading level0 col15\" >being</th>        <th class=\"col_heading level0 col16\" >both</th>        <th class=\"col_heading level0 col17\" >building</th>        <th class=\"col_heading level0 col18\" >by</th>        <th class=\"col_heading level0 col19\" >cafire</th>        <th class=\"col_heading level0 col20\" >california</th>        <th class=\"col_heading level0 col21\" >can</th>        <th class=\"col_heading level0 col22\" >canada</th>        <th class=\"col_heading level0 col23\" >causes</th>        <th class=\"col_heading level0 col24\" >closed</th>        <th class=\"col_heading level0 col25\" >colorado</th>        <th class=\"col_heading level0 col26\" >coming</th>        <th class=\"col_heading level0 col27\" >county</th>        <th class=\"col_heading level0 col28\" >deeds</th>        <th class=\"col_heading level0 col29\" >directions</th>        <th class=\"col_heading level0 col30\" >disaster</th>        <th class=\"col_heading level0 col31\" >due</th>        <th class=\"col_heading level0 col32\" >earthquake</th>        <th class=\"col_heading level0 col33\" >emergency</th>        <th class=\"col_heading level0 col34\" >evacuation</th>        <th class=\"col_heading level0 col35\" >expected</th>        <th class=\"col_heading level0 col36\" >fire</th>        <th class=\"col_heading level0 col37\" >flash</th>        <th class=\"col_heading level0 col38\" >flood</th>        <th class=\"col_heading level0 col39\" >flooding</th>        <th class=\"col_heading level0 col40\" >forest</th>        <th class=\"col_heading level0 col41\" >forgive</th>        <th class=\"col_heading level0 col42\" >from</th>        <th class=\"col_heading level0 col43\" >got</th>        <th class=\"col_heading level0 col44\" >happening</th>        <th class=\"col_heading level0 col45\" >heavy</th>        <th class=\"col_heading level0 col46\" >hill</th>        <th class=\"col_heading level0 col47\" >hwy</th>        <th class=\"col_heading level0 col48\" >in</th>        <th class=\"col_heading level0 col49\" >into</th>        <th class=\"col_heading level0 col50\" >is</th>        <th class=\"col_heading level0 col51\" >just</th>        <th class=\"col_heading level0 col52\" >la</th>        <th class=\"col_heading level0 col53\" >lake</th>        <th class=\"col_heading level0 col54\" >manitou</th>        <th class=\"col_heading level0 col55\" >may</th>        <th class=\"col_heading level0 col56\" >near</th>        <th class=\"col_heading level0 col57\" >no</th>        <th class=\"col_heading level0 col58\" >notified</th>        <th class=\"col_heading level0 col59\" >now</th>        <th class=\"col_heading level0 col60\" >of</th>        <th class=\"col_heading level0 col61\" >officers</th>        <th class=\"col_heading level0 col62\" >on</th>        <th class=\"col_heading level0 col63\" >or</th>        <th class=\"col_heading level0 col64\" >orders</th>        <th class=\"col_heading level0 col65\" >other</th>        <th class=\"col_heading level0 col66\" >our</th>        <th class=\"col_heading level0 col67\" >people</th>        <th class=\"col_heading level0 col68\" >photo</th>        <th class=\"col_heading level0 col69\" >place</th>        <th class=\"col_heading level0 col70\" >pours</th>        <th class=\"col_heading level0 col71\" >rain</th>        <th class=\"col_heading level0 col72\" >reason</th>        <th class=\"col_heading level0 col73\" >receive</th>        <th class=\"col_heading level0 col74\" >residents</th>        <th class=\"col_heading level0 col75\" >rockyfire</th>        <th class=\"col_heading level0 col76\" >ronge</th>        <th class=\"col_heading level0 col77\" >ruby</th>        <th class=\"col_heading level0 col78\" >sask</th>        <th class=\"col_heading level0 col79\" >school</th>        <th class=\"col_heading level0 col80\" >see</th>        <th class=\"col_heading level0 col81\" >sent</th>        <th class=\"col_heading level0 col82\" >shelter</th>        <th class=\"col_heading level0 col83\" >smoke</th>        <th class=\"col_heading level0 col84\" >springs</th>        <th class=\"col_heading level0 col85\" >street</th>        <th class=\"col_heading level0 col86\" >streets</th>        <th class=\"col_heading level0 col87\" >that</th>        <th class=\"col_heading level0 col88\" >the</th>        <th class=\"col_heading level0 col89\" >there</th>        <th class=\"col_heading level0 col90\" >this</th>        <th class=\"col_heading level0 col91\" >to</th>        <th class=\"col_heading level0 col92\" >top</th>        <th class=\"col_heading level0 col93\" >tornado</th>        <th class=\"col_heading level0 col94\" >update</th>        <th class=\"col_heading level0 col95\" >us</th>        <th class=\"col_heading level0 col96\" >wildfires</th>        <th class=\"col_heading level0 col97\" >woods</th>    </tr></thead><tbody>\n",
              "                <tr>\n",
              "                        <th id=\"T_ff3307be_9f48_11eb_9498_0242ac130202level0_row0\" class=\"row_heading level0 row0\" >0</th>\n",
              "                        <td id=\"T_ff3307be_9f48_11eb_9498_0242ac130202row0_col0\" class=\"data row0 col0\" >0.000000</td>\n",
              "                        <td id=\"T_ff3307be_9f48_11eb_9498_0242ac130202row0_col1\" class=\"data row0 col1\" >0.000000</td>\n",
              "                        <td id=\"T_ff3307be_9f48_11eb_9498_0242ac130202row0_col2\" class=\"data row0 col2\" >0.000000</td>\n",
              "                        <td id=\"T_ff3307be_9f48_11eb_9498_0242ac130202row0_col3\" class=\"data row0 col3\" >0.000000</td>\n",
              "                        <td id=\"T_ff3307be_9f48_11eb_9498_0242ac130202row0_col4\" class=\"data row0 col4\" >0.000000</td>\n",
              "                        <td id=\"T_ff3307be_9f48_11eb_9498_0242ac130202row0_col5\" class=\"data row0 col5\" >0.000000</td>\n",
              "                        <td id=\"T_ff3307be_9f48_11eb_9498_0242ac130202row0_col6\" class=\"data row0 col6\" >0.010204</td>\n",
              "                        <td id=\"T_ff3307be_9f48_11eb_9498_0242ac130202row0_col7\" class=\"data row0 col7\" >0.010204</td>\n",
              "                        <td id=\"T_ff3307be_9f48_11eb_9498_0242ac130202row0_col8\" class=\"data row0 col8\" >0.000000</td>\n",
              "                        <td id=\"T_ff3307be_9f48_11eb_9498_0242ac130202row0_col9\" class=\"data row0 col9\" >0.000000</td>\n",
              "                        <td id=\"T_ff3307be_9f48_11eb_9498_0242ac130202row0_col10\" class=\"data row0 col10\" >0.010204</td>\n",
              "                        <td id=\"T_ff3307be_9f48_11eb_9498_0242ac130202row0_col11\" class=\"data row0 col11\" >0.000000</td>\n",
              "                        <td id=\"T_ff3307be_9f48_11eb_9498_0242ac130202row0_col12\" class=\"data row0 col12\" >0.000000</td>\n",
              "                        <td id=\"T_ff3307be_9f48_11eb_9498_0242ac130202row0_col13\" class=\"data row0 col13\" >0.000000</td>\n",
              "                        <td id=\"T_ff3307be_9f48_11eb_9498_0242ac130202row0_col14\" class=\"data row0 col14\" >0.000000</td>\n",
              "                        <td id=\"T_ff3307be_9f48_11eb_9498_0242ac130202row0_col15\" class=\"data row0 col15\" >0.000000</td>\n",
              "                        <td id=\"T_ff3307be_9f48_11eb_9498_0242ac130202row0_col16\" class=\"data row0 col16\" >0.000000</td>\n",
              "                        <td id=\"T_ff3307be_9f48_11eb_9498_0242ac130202row0_col17\" class=\"data row0 col17\" >0.000000</td>\n",
              "                        <td id=\"T_ff3307be_9f48_11eb_9498_0242ac130202row0_col18\" class=\"data row0 col18\" >0.000000</td>\n",
              "                        <td id=\"T_ff3307be_9f48_11eb_9498_0242ac130202row0_col19\" class=\"data row0 col19\" >0.000000</td>\n",
              "                        <td id=\"T_ff3307be_9f48_11eb_9498_0242ac130202row0_col20\" class=\"data row0 col20\" >0.000000</td>\n",
              "                        <td id=\"T_ff3307be_9f48_11eb_9498_0242ac130202row0_col21\" class=\"data row0 col21\" >0.000000</td>\n",
              "                        <td id=\"T_ff3307be_9f48_11eb_9498_0242ac130202row0_col22\" class=\"data row0 col22\" >0.000000</td>\n",
              "                        <td id=\"T_ff3307be_9f48_11eb_9498_0242ac130202row0_col23\" class=\"data row0 col23\" >0.000000</td>\n",
              "                        <td id=\"T_ff3307be_9f48_11eb_9498_0242ac130202row0_col24\" class=\"data row0 col24\" >0.000000</td>\n",
              "                        <td id=\"T_ff3307be_9f48_11eb_9498_0242ac130202row0_col25\" class=\"data row0 col25\" >0.000000</td>\n",
              "                        <td id=\"T_ff3307be_9f48_11eb_9498_0242ac130202row0_col26\" class=\"data row0 col26\" >0.000000</td>\n",
              "                        <td id=\"T_ff3307be_9f48_11eb_9498_0242ac130202row0_col27\" class=\"data row0 col27\" >0.000000</td>\n",
              "                        <td id=\"T_ff3307be_9f48_11eb_9498_0242ac130202row0_col28\" class=\"data row0 col28\" >0.010204</td>\n",
              "                        <td id=\"T_ff3307be_9f48_11eb_9498_0242ac130202row0_col29\" class=\"data row0 col29\" >0.000000</td>\n",
              "                        <td id=\"T_ff3307be_9f48_11eb_9498_0242ac130202row0_col30\" class=\"data row0 col30\" >0.000000</td>\n",
              "                        <td id=\"T_ff3307be_9f48_11eb_9498_0242ac130202row0_col31\" class=\"data row0 col31\" >0.000000</td>\n",
              "                        <td id=\"T_ff3307be_9f48_11eb_9498_0242ac130202row0_col32\" class=\"data row0 col32\" >0.010204</td>\n",
              "                        <td id=\"T_ff3307be_9f48_11eb_9498_0242ac130202row0_col33\" class=\"data row0 col33\" >0.000000</td>\n",
              "                        <td id=\"T_ff3307be_9f48_11eb_9498_0242ac130202row0_col34\" class=\"data row0 col34\" >0.000000</td>\n",
              "                        <td id=\"T_ff3307be_9f48_11eb_9498_0242ac130202row0_col35\" class=\"data row0 col35\" >0.000000</td>\n",
              "                        <td id=\"T_ff3307be_9f48_11eb_9498_0242ac130202row0_col36\" class=\"data row0 col36\" >0.000000</td>\n",
              "                        <td id=\"T_ff3307be_9f48_11eb_9498_0242ac130202row0_col37\" class=\"data row0 col37\" >0.000000</td>\n",
              "                        <td id=\"T_ff3307be_9f48_11eb_9498_0242ac130202row0_col38\" class=\"data row0 col38\" >0.000000</td>\n",
              "                        <td id=\"T_ff3307be_9f48_11eb_9498_0242ac130202row0_col39\" class=\"data row0 col39\" >0.000000</td>\n",
              "                        <td id=\"T_ff3307be_9f48_11eb_9498_0242ac130202row0_col40\" class=\"data row0 col40\" >0.000000</td>\n",
              "                        <td id=\"T_ff3307be_9f48_11eb_9498_0242ac130202row0_col41\" class=\"data row0 col41\" >0.010204</td>\n",
              "                        <td id=\"T_ff3307be_9f48_11eb_9498_0242ac130202row0_col42\" class=\"data row0 col42\" >0.000000</td>\n",
              "                        <td id=\"T_ff3307be_9f48_11eb_9498_0242ac130202row0_col43\" class=\"data row0 col43\" >0.000000</td>\n",
              "                        <td id=\"T_ff3307be_9f48_11eb_9498_0242ac130202row0_col44\" class=\"data row0 col44\" >0.000000</td>\n",
              "                        <td id=\"T_ff3307be_9f48_11eb_9498_0242ac130202row0_col45\" class=\"data row0 col45\" >0.000000</td>\n",
              "                        <td id=\"T_ff3307be_9f48_11eb_9498_0242ac130202row0_col46\" class=\"data row0 col46\" >0.000000</td>\n",
              "                        <td id=\"T_ff3307be_9f48_11eb_9498_0242ac130202row0_col47\" class=\"data row0 col47\" >0.000000</td>\n",
              "                        <td id=\"T_ff3307be_9f48_11eb_9498_0242ac130202row0_col48\" class=\"data row0 col48\" >0.000000</td>\n",
              "                        <td id=\"T_ff3307be_9f48_11eb_9498_0242ac130202row0_col49\" class=\"data row0 col49\" >0.000000</td>\n",
              "                        <td id=\"T_ff3307be_9f48_11eb_9498_0242ac130202row0_col50\" class=\"data row0 col50\" >0.000000</td>\n",
              "                        <td id=\"T_ff3307be_9f48_11eb_9498_0242ac130202row0_col51\" class=\"data row0 col51\" >0.000000</td>\n",
              "                        <td id=\"T_ff3307be_9f48_11eb_9498_0242ac130202row0_col52\" class=\"data row0 col52\" >0.000000</td>\n",
              "                        <td id=\"T_ff3307be_9f48_11eb_9498_0242ac130202row0_col53\" class=\"data row0 col53\" >0.000000</td>\n",
              "                        <td id=\"T_ff3307be_9f48_11eb_9498_0242ac130202row0_col54\" class=\"data row0 col54\" >0.000000</td>\n",
              "                        <td id=\"T_ff3307be_9f48_11eb_9498_0242ac130202row0_col55\" class=\"data row0 col55\" >0.010204</td>\n",
              "                        <td id=\"T_ff3307be_9f48_11eb_9498_0242ac130202row0_col56\" class=\"data row0 col56\" >0.000000</td>\n",
              "                        <td id=\"T_ff3307be_9f48_11eb_9498_0242ac130202row0_col57\" class=\"data row0 col57\" >0.000000</td>\n",
              "                        <td id=\"T_ff3307be_9f48_11eb_9498_0242ac130202row0_col58\" class=\"data row0 col58\" >0.000000</td>\n",
              "                        <td id=\"T_ff3307be_9f48_11eb_9498_0242ac130202row0_col59\" class=\"data row0 col59\" >0.000000</td>\n",
              "                        <td id=\"T_ff3307be_9f48_11eb_9498_0242ac130202row0_col60\" class=\"data row0 col60\" >0.010204</td>\n",
              "                        <td id=\"T_ff3307be_9f48_11eb_9498_0242ac130202row0_col61\" class=\"data row0 col61\" >0.000000</td>\n",
              "                        <td id=\"T_ff3307be_9f48_11eb_9498_0242ac130202row0_col62\" class=\"data row0 col62\" >0.000000</td>\n",
              "                        <td id=\"T_ff3307be_9f48_11eb_9498_0242ac130202row0_col63\" class=\"data row0 col63\" >0.000000</td>\n",
              "                        <td id=\"T_ff3307be_9f48_11eb_9498_0242ac130202row0_col64\" class=\"data row0 col64\" >0.000000</td>\n",
              "                        <td id=\"T_ff3307be_9f48_11eb_9498_0242ac130202row0_col65\" class=\"data row0 col65\" >0.000000</td>\n",
              "                        <td id=\"T_ff3307be_9f48_11eb_9498_0242ac130202row0_col66\" class=\"data row0 col66\" >0.010204</td>\n",
              "                        <td id=\"T_ff3307be_9f48_11eb_9498_0242ac130202row0_col67\" class=\"data row0 col67\" >0.000000</td>\n",
              "                        <td id=\"T_ff3307be_9f48_11eb_9498_0242ac130202row0_col68\" class=\"data row0 col68\" >0.000000</td>\n",
              "                        <td id=\"T_ff3307be_9f48_11eb_9498_0242ac130202row0_col69\" class=\"data row0 col69\" >0.000000</td>\n",
              "                        <td id=\"T_ff3307be_9f48_11eb_9498_0242ac130202row0_col70\" class=\"data row0 col70\" >0.000000</td>\n",
              "                        <td id=\"T_ff3307be_9f48_11eb_9498_0242ac130202row0_col71\" class=\"data row0 col71\" >0.000000</td>\n",
              "                        <td id=\"T_ff3307be_9f48_11eb_9498_0242ac130202row0_col72\" class=\"data row0 col72\" >0.010204</td>\n",
              "                        <td id=\"T_ff3307be_9f48_11eb_9498_0242ac130202row0_col73\" class=\"data row0 col73\" >0.000000</td>\n",
              "                        <td id=\"T_ff3307be_9f48_11eb_9498_0242ac130202row0_col74\" class=\"data row0 col74\" >0.000000</td>\n",
              "                        <td id=\"T_ff3307be_9f48_11eb_9498_0242ac130202row0_col75\" class=\"data row0 col75\" >0.000000</td>\n",
              "                        <td id=\"T_ff3307be_9f48_11eb_9498_0242ac130202row0_col76\" class=\"data row0 col76\" >0.000000</td>\n",
              "                        <td id=\"T_ff3307be_9f48_11eb_9498_0242ac130202row0_col77\" class=\"data row0 col77\" >0.000000</td>\n",
              "                        <td id=\"T_ff3307be_9f48_11eb_9498_0242ac130202row0_col78\" class=\"data row0 col78\" >0.000000</td>\n",
              "                        <td id=\"T_ff3307be_9f48_11eb_9498_0242ac130202row0_col79\" class=\"data row0 col79\" >0.000000</td>\n",
              "                        <td id=\"T_ff3307be_9f48_11eb_9498_0242ac130202row0_col80\" class=\"data row0 col80\" >0.000000</td>\n",
              "                        <td id=\"T_ff3307be_9f48_11eb_9498_0242ac130202row0_col81\" class=\"data row0 col81\" >0.000000</td>\n",
              "                        <td id=\"T_ff3307be_9f48_11eb_9498_0242ac130202row0_col82\" class=\"data row0 col82\" >0.000000</td>\n",
              "                        <td id=\"T_ff3307be_9f48_11eb_9498_0242ac130202row0_col83\" class=\"data row0 col83\" >0.000000</td>\n",
              "                        <td id=\"T_ff3307be_9f48_11eb_9498_0242ac130202row0_col84\" class=\"data row0 col84\" >0.000000</td>\n",
              "                        <td id=\"T_ff3307be_9f48_11eb_9498_0242ac130202row0_col85\" class=\"data row0 col85\" >0.000000</td>\n",
              "                        <td id=\"T_ff3307be_9f48_11eb_9498_0242ac130202row0_col86\" class=\"data row0 col86\" >0.000000</td>\n",
              "                        <td id=\"T_ff3307be_9f48_11eb_9498_0242ac130202row0_col87\" class=\"data row0 col87\" >0.000000</td>\n",
              "                        <td id=\"T_ff3307be_9f48_11eb_9498_0242ac130202row0_col88\" class=\"data row0 col88\" >0.010204</td>\n",
              "                        <td id=\"T_ff3307be_9f48_11eb_9498_0242ac130202row0_col89\" class=\"data row0 col89\" >0.000000</td>\n",
              "                        <td id=\"T_ff3307be_9f48_11eb_9498_0242ac130202row0_col90\" class=\"data row0 col90\" >0.010204</td>\n",
              "                        <td id=\"T_ff3307be_9f48_11eb_9498_0242ac130202row0_col91\" class=\"data row0 col91\" >0.000000</td>\n",
              "                        <td id=\"T_ff3307be_9f48_11eb_9498_0242ac130202row0_col92\" class=\"data row0 col92\" >0.000000</td>\n",
              "                        <td id=\"T_ff3307be_9f48_11eb_9498_0242ac130202row0_col93\" class=\"data row0 col93\" >0.000000</td>\n",
              "                        <td id=\"T_ff3307be_9f48_11eb_9498_0242ac130202row0_col94\" class=\"data row0 col94\" >0.000000</td>\n",
              "                        <td id=\"T_ff3307be_9f48_11eb_9498_0242ac130202row0_col95\" class=\"data row0 col95\" >0.010204</td>\n",
              "                        <td id=\"T_ff3307be_9f48_11eb_9498_0242ac130202row0_col96\" class=\"data row0 col96\" >0.000000</td>\n",
              "                        <td id=\"T_ff3307be_9f48_11eb_9498_0242ac130202row0_col97\" class=\"data row0 col97\" >0.000000</td>\n",
              "            </tr>\n",
              "            <tr>\n",
              "                        <th id=\"T_ff3307be_9f48_11eb_9498_0242ac130202level0_row1\" class=\"row_heading level0 row1\" >1</th>\n",
              "                        <td id=\"T_ff3307be_9f48_11eb_9498_0242ac130202row1_col0\" class=\"data row1 col0\" >0.000000</td>\n",
              "                        <td id=\"T_ff3307be_9f48_11eb_9498_0242ac130202row1_col1\" class=\"data row1 col1\" >0.000000</td>\n",
              "                        <td id=\"T_ff3307be_9f48_11eb_9498_0242ac130202row1_col2\" class=\"data row1 col2\" >0.000000</td>\n",
              "                        <td id=\"T_ff3307be_9f48_11eb_9498_0242ac130202row1_col3\" class=\"data row1 col3\" >0.000000</td>\n",
              "                        <td id=\"T_ff3307be_9f48_11eb_9498_0242ac130202row1_col4\" class=\"data row1 col4\" >0.000000</td>\n",
              "                        <td id=\"T_ff3307be_9f48_11eb_9498_0242ac130202row1_col5\" class=\"data row1 col5\" >0.000000</td>\n",
              "                        <td id=\"T_ff3307be_9f48_11eb_9498_0242ac130202row1_col6\" class=\"data row1 col6\" >0.000000</td>\n",
              "                        <td id=\"T_ff3307be_9f48_11eb_9498_0242ac130202row1_col7\" class=\"data row1 col7\" >0.000000</td>\n",
              "                        <td id=\"T_ff3307be_9f48_11eb_9498_0242ac130202row1_col8\" class=\"data row1 col8\" >0.000000</td>\n",
              "                        <td id=\"T_ff3307be_9f48_11eb_9498_0242ac130202row1_col9\" class=\"data row1 col9\" >0.000000</td>\n",
              "                        <td id=\"T_ff3307be_9f48_11eb_9498_0242ac130202row1_col10\" class=\"data row1 col10\" >0.000000</td>\n",
              "                        <td id=\"T_ff3307be_9f48_11eb_9498_0242ac130202row1_col11\" class=\"data row1 col11\" >0.000000</td>\n",
              "                        <td id=\"T_ff3307be_9f48_11eb_9498_0242ac130202row1_col12\" class=\"data row1 col12\" >0.000000</td>\n",
              "                        <td id=\"T_ff3307be_9f48_11eb_9498_0242ac130202row1_col13\" class=\"data row1 col13\" >0.000000</td>\n",
              "                        <td id=\"T_ff3307be_9f48_11eb_9498_0242ac130202row1_col14\" class=\"data row1 col14\" >0.000000</td>\n",
              "                        <td id=\"T_ff3307be_9f48_11eb_9498_0242ac130202row1_col15\" class=\"data row1 col15\" >0.000000</td>\n",
              "                        <td id=\"T_ff3307be_9f48_11eb_9498_0242ac130202row1_col16\" class=\"data row1 col16\" >0.000000</td>\n",
              "                        <td id=\"T_ff3307be_9f48_11eb_9498_0242ac130202row1_col17\" class=\"data row1 col17\" >0.000000</td>\n",
              "                        <td id=\"T_ff3307be_9f48_11eb_9498_0242ac130202row1_col18\" class=\"data row1 col18\" >0.000000</td>\n",
              "                        <td id=\"T_ff3307be_9f48_11eb_9498_0242ac130202row1_col19\" class=\"data row1 col19\" >0.000000</td>\n",
              "                        <td id=\"T_ff3307be_9f48_11eb_9498_0242ac130202row1_col20\" class=\"data row1 col20\" >0.000000</td>\n",
              "                        <td id=\"T_ff3307be_9f48_11eb_9498_0242ac130202row1_col21\" class=\"data row1 col21\" >0.000000</td>\n",
              "                        <td id=\"T_ff3307be_9f48_11eb_9498_0242ac130202row1_col22\" class=\"data row1 col22\" >0.010204</td>\n",
              "                        <td id=\"T_ff3307be_9f48_11eb_9498_0242ac130202row1_col23\" class=\"data row1 col23\" >0.000000</td>\n",
              "                        <td id=\"T_ff3307be_9f48_11eb_9498_0242ac130202row1_col24\" class=\"data row1 col24\" >0.000000</td>\n",
              "                        <td id=\"T_ff3307be_9f48_11eb_9498_0242ac130202row1_col25\" class=\"data row1 col25\" >0.000000</td>\n",
              "                        <td id=\"T_ff3307be_9f48_11eb_9498_0242ac130202row1_col26\" class=\"data row1 col26\" >0.000000</td>\n",
              "                        <td id=\"T_ff3307be_9f48_11eb_9498_0242ac130202row1_col27\" class=\"data row1 col27\" >0.000000</td>\n",
              "                        <td id=\"T_ff3307be_9f48_11eb_9498_0242ac130202row1_col28\" class=\"data row1 col28\" >0.000000</td>\n",
              "                        <td id=\"T_ff3307be_9f48_11eb_9498_0242ac130202row1_col29\" class=\"data row1 col29\" >0.000000</td>\n",
              "                        <td id=\"T_ff3307be_9f48_11eb_9498_0242ac130202row1_col30\" class=\"data row1 col30\" >0.000000</td>\n",
              "                        <td id=\"T_ff3307be_9f48_11eb_9498_0242ac130202row1_col31\" class=\"data row1 col31\" >0.000000</td>\n",
              "                        <td id=\"T_ff3307be_9f48_11eb_9498_0242ac130202row1_col32\" class=\"data row1 col32\" >0.000000</td>\n",
              "                        <td id=\"T_ff3307be_9f48_11eb_9498_0242ac130202row1_col33\" class=\"data row1 col33\" >0.000000</td>\n",
              "                        <td id=\"T_ff3307be_9f48_11eb_9498_0242ac130202row1_col34\" class=\"data row1 col34\" >0.000000</td>\n",
              "                        <td id=\"T_ff3307be_9f48_11eb_9498_0242ac130202row1_col35\" class=\"data row1 col35\" >0.000000</td>\n",
              "                        <td id=\"T_ff3307be_9f48_11eb_9498_0242ac130202row1_col36\" class=\"data row1 col36\" >0.010204</td>\n",
              "                        <td id=\"T_ff3307be_9f48_11eb_9498_0242ac130202row1_col37\" class=\"data row1 col37\" >0.000000</td>\n",
              "                        <td id=\"T_ff3307be_9f48_11eb_9498_0242ac130202row1_col38\" class=\"data row1 col38\" >0.000000</td>\n",
              "                        <td id=\"T_ff3307be_9f48_11eb_9498_0242ac130202row1_col39\" class=\"data row1 col39\" >0.000000</td>\n",
              "                        <td id=\"T_ff3307be_9f48_11eb_9498_0242ac130202row1_col40\" class=\"data row1 col40\" >0.010204</td>\n",
              "                        <td id=\"T_ff3307be_9f48_11eb_9498_0242ac130202row1_col41\" class=\"data row1 col41\" >0.000000</td>\n",
              "                        <td id=\"T_ff3307be_9f48_11eb_9498_0242ac130202row1_col42\" class=\"data row1 col42\" >0.000000</td>\n",
              "                        <td id=\"T_ff3307be_9f48_11eb_9498_0242ac130202row1_col43\" class=\"data row1 col43\" >0.000000</td>\n",
              "                        <td id=\"T_ff3307be_9f48_11eb_9498_0242ac130202row1_col44\" class=\"data row1 col44\" >0.000000</td>\n",
              "                        <td id=\"T_ff3307be_9f48_11eb_9498_0242ac130202row1_col45\" class=\"data row1 col45\" >0.000000</td>\n",
              "                        <td id=\"T_ff3307be_9f48_11eb_9498_0242ac130202row1_col46\" class=\"data row1 col46\" >0.000000</td>\n",
              "                        <td id=\"T_ff3307be_9f48_11eb_9498_0242ac130202row1_col47\" class=\"data row1 col47\" >0.000000</td>\n",
              "                        <td id=\"T_ff3307be_9f48_11eb_9498_0242ac130202row1_col48\" class=\"data row1 col48\" >0.000000</td>\n",
              "                        <td id=\"T_ff3307be_9f48_11eb_9498_0242ac130202row1_col49\" class=\"data row1 col49\" >0.000000</td>\n",
              "                        <td id=\"T_ff3307be_9f48_11eb_9498_0242ac130202row1_col50\" class=\"data row1 col50\" >0.000000</td>\n",
              "                        <td id=\"T_ff3307be_9f48_11eb_9498_0242ac130202row1_col51\" class=\"data row1 col51\" >0.000000</td>\n",
              "                        <td id=\"T_ff3307be_9f48_11eb_9498_0242ac130202row1_col52\" class=\"data row1 col52\" >0.010204</td>\n",
              "                        <td id=\"T_ff3307be_9f48_11eb_9498_0242ac130202row1_col53\" class=\"data row1 col53\" >0.000000</td>\n",
              "                        <td id=\"T_ff3307be_9f48_11eb_9498_0242ac130202row1_col54\" class=\"data row1 col54\" >0.000000</td>\n",
              "                        <td id=\"T_ff3307be_9f48_11eb_9498_0242ac130202row1_col55\" class=\"data row1 col55\" >0.000000</td>\n",
              "                        <td id=\"T_ff3307be_9f48_11eb_9498_0242ac130202row1_col56\" class=\"data row1 col56\" >0.010204</td>\n",
              "                        <td id=\"T_ff3307be_9f48_11eb_9498_0242ac130202row1_col57\" class=\"data row1 col57\" >0.000000</td>\n",
              "                        <td id=\"T_ff3307be_9f48_11eb_9498_0242ac130202row1_col58\" class=\"data row1 col58\" >0.000000</td>\n",
              "                        <td id=\"T_ff3307be_9f48_11eb_9498_0242ac130202row1_col59\" class=\"data row1 col59\" >0.000000</td>\n",
              "                        <td id=\"T_ff3307be_9f48_11eb_9498_0242ac130202row1_col60\" class=\"data row1 col60\" >0.000000</td>\n",
              "                        <td id=\"T_ff3307be_9f48_11eb_9498_0242ac130202row1_col61\" class=\"data row1 col61\" >0.000000</td>\n",
              "                        <td id=\"T_ff3307be_9f48_11eb_9498_0242ac130202row1_col62\" class=\"data row1 col62\" >0.000000</td>\n",
              "                        <td id=\"T_ff3307be_9f48_11eb_9498_0242ac130202row1_col63\" class=\"data row1 col63\" >0.000000</td>\n",
              "                        <td id=\"T_ff3307be_9f48_11eb_9498_0242ac130202row1_col64\" class=\"data row1 col64\" >0.000000</td>\n",
              "                        <td id=\"T_ff3307be_9f48_11eb_9498_0242ac130202row1_col65\" class=\"data row1 col65\" >0.000000</td>\n",
              "                        <td id=\"T_ff3307be_9f48_11eb_9498_0242ac130202row1_col66\" class=\"data row1 col66\" >0.000000</td>\n",
              "                        <td id=\"T_ff3307be_9f48_11eb_9498_0242ac130202row1_col67\" class=\"data row1 col67\" >0.000000</td>\n",
              "                        <td id=\"T_ff3307be_9f48_11eb_9498_0242ac130202row1_col68\" class=\"data row1 col68\" >0.000000</td>\n",
              "                        <td id=\"T_ff3307be_9f48_11eb_9498_0242ac130202row1_col69\" class=\"data row1 col69\" >0.000000</td>\n",
              "                        <td id=\"T_ff3307be_9f48_11eb_9498_0242ac130202row1_col70\" class=\"data row1 col70\" >0.000000</td>\n",
              "                        <td id=\"T_ff3307be_9f48_11eb_9498_0242ac130202row1_col71\" class=\"data row1 col71\" >0.000000</td>\n",
              "                        <td id=\"T_ff3307be_9f48_11eb_9498_0242ac130202row1_col72\" class=\"data row1 col72\" >0.000000</td>\n",
              "                        <td id=\"T_ff3307be_9f48_11eb_9498_0242ac130202row1_col73\" class=\"data row1 col73\" >0.000000</td>\n",
              "                        <td id=\"T_ff3307be_9f48_11eb_9498_0242ac130202row1_col74\" class=\"data row1 col74\" >0.000000</td>\n",
              "                        <td id=\"T_ff3307be_9f48_11eb_9498_0242ac130202row1_col75\" class=\"data row1 col75\" >0.000000</td>\n",
              "                        <td id=\"T_ff3307be_9f48_11eb_9498_0242ac130202row1_col76\" class=\"data row1 col76\" >0.010204</td>\n",
              "                        <td id=\"T_ff3307be_9f48_11eb_9498_0242ac130202row1_col77\" class=\"data row1 col77\" >0.000000</td>\n",
              "                        <td id=\"T_ff3307be_9f48_11eb_9498_0242ac130202row1_col78\" class=\"data row1 col78\" >0.010204</td>\n",
              "                        <td id=\"T_ff3307be_9f48_11eb_9498_0242ac130202row1_col79\" class=\"data row1 col79\" >0.000000</td>\n",
              "                        <td id=\"T_ff3307be_9f48_11eb_9498_0242ac130202row1_col80\" class=\"data row1 col80\" >0.000000</td>\n",
              "                        <td id=\"T_ff3307be_9f48_11eb_9498_0242ac130202row1_col81\" class=\"data row1 col81\" >0.000000</td>\n",
              "                        <td id=\"T_ff3307be_9f48_11eb_9498_0242ac130202row1_col82\" class=\"data row1 col82\" >0.000000</td>\n",
              "                        <td id=\"T_ff3307be_9f48_11eb_9498_0242ac130202row1_col83\" class=\"data row1 col83\" >0.000000</td>\n",
              "                        <td id=\"T_ff3307be_9f48_11eb_9498_0242ac130202row1_col84\" class=\"data row1 col84\" >0.000000</td>\n",
              "                        <td id=\"T_ff3307be_9f48_11eb_9498_0242ac130202row1_col85\" class=\"data row1 col85\" >0.000000</td>\n",
              "                        <td id=\"T_ff3307be_9f48_11eb_9498_0242ac130202row1_col86\" class=\"data row1 col86\" >0.000000</td>\n",
              "                        <td id=\"T_ff3307be_9f48_11eb_9498_0242ac130202row1_col87\" class=\"data row1 col87\" >0.000000</td>\n",
              "                        <td id=\"T_ff3307be_9f48_11eb_9498_0242ac130202row1_col88\" class=\"data row1 col88\" >0.000000</td>\n",
              "                        <td id=\"T_ff3307be_9f48_11eb_9498_0242ac130202row1_col89\" class=\"data row1 col89\" >0.000000</td>\n",
              "                        <td id=\"T_ff3307be_9f48_11eb_9498_0242ac130202row1_col90\" class=\"data row1 col90\" >0.000000</td>\n",
              "                        <td id=\"T_ff3307be_9f48_11eb_9498_0242ac130202row1_col91\" class=\"data row1 col91\" >0.000000</td>\n",
              "                        <td id=\"T_ff3307be_9f48_11eb_9498_0242ac130202row1_col92\" class=\"data row1 col92\" >0.000000</td>\n",
              "                        <td id=\"T_ff3307be_9f48_11eb_9498_0242ac130202row1_col93\" class=\"data row1 col93\" >0.000000</td>\n",
              "                        <td id=\"T_ff3307be_9f48_11eb_9498_0242ac130202row1_col94\" class=\"data row1 col94\" >0.000000</td>\n",
              "                        <td id=\"T_ff3307be_9f48_11eb_9498_0242ac130202row1_col95\" class=\"data row1 col95\" >0.000000</td>\n",
              "                        <td id=\"T_ff3307be_9f48_11eb_9498_0242ac130202row1_col96\" class=\"data row1 col96\" >0.000000</td>\n",
              "                        <td id=\"T_ff3307be_9f48_11eb_9498_0242ac130202row1_col97\" class=\"data row1 col97\" >0.000000</td>\n",
              "            </tr>\n",
              "            <tr>\n",
              "                        <th id=\"T_ff3307be_9f48_11eb_9498_0242ac130202level0_row2\" class=\"row_heading level0 row2\" >2</th>\n",
              "                        <td id=\"T_ff3307be_9f48_11eb_9498_0242ac130202row2_col0\" class=\"data row2 col0\" >0.000000</td>\n",
              "                        <td id=\"T_ff3307be_9f48_11eb_9498_0242ac130202row2_col1\" class=\"data row2 col1\" >0.000000</td>\n",
              "                        <td id=\"T_ff3307be_9f48_11eb_9498_0242ac130202row2_col2\" class=\"data row2 col2\" >0.000000</td>\n",
              "                        <td id=\"T_ff3307be_9f48_11eb_9498_0242ac130202row2_col3\" class=\"data row2 col3\" >0.000000</td>\n",
              "                        <td id=\"T_ff3307be_9f48_11eb_9498_0242ac130202row2_col4\" class=\"data row2 col4\" >0.000000</td>\n",
              "                        <td id=\"T_ff3307be_9f48_11eb_9498_0242ac130202row2_col5\" class=\"data row2 col5\" >0.000000</td>\n",
              "                        <td id=\"T_ff3307be_9f48_11eb_9498_0242ac130202row2_col6\" class=\"data row2 col6\" >0.010204</td>\n",
              "                        <td id=\"T_ff3307be_9f48_11eb_9498_0242ac130202row2_col7\" class=\"data row2 col7\" >0.000000</td>\n",
              "                        <td id=\"T_ff3307be_9f48_11eb_9498_0242ac130202row2_col8\" class=\"data row2 col8\" >0.000000</td>\n",
              "                        <td id=\"T_ff3307be_9f48_11eb_9498_0242ac130202row2_col9\" class=\"data row2 col9\" >0.000000</td>\n",
              "                        <td id=\"T_ff3307be_9f48_11eb_9498_0242ac130202row2_col10\" class=\"data row2 col10\" >0.020408</td>\n",
              "                        <td id=\"T_ff3307be_9f48_11eb_9498_0242ac130202row2_col11\" class=\"data row2 col11\" >0.000000</td>\n",
              "                        <td id=\"T_ff3307be_9f48_11eb_9498_0242ac130202row2_col12\" class=\"data row2 col12\" >0.000000</td>\n",
              "                        <td id=\"T_ff3307be_9f48_11eb_9498_0242ac130202row2_col13\" class=\"data row2 col13\" >0.000000</td>\n",
              "                        <td id=\"T_ff3307be_9f48_11eb_9498_0242ac130202row2_col14\" class=\"data row2 col14\" >0.010204</td>\n",
              "                        <td id=\"T_ff3307be_9f48_11eb_9498_0242ac130202row2_col15\" class=\"data row2 col15\" >0.010204</td>\n",
              "                        <td id=\"T_ff3307be_9f48_11eb_9498_0242ac130202row2_col16\" class=\"data row2 col16\" >0.000000</td>\n",
              "                        <td id=\"T_ff3307be_9f48_11eb_9498_0242ac130202row2_col17\" class=\"data row2 col17\" >0.000000</td>\n",
              "                        <td id=\"T_ff3307be_9f48_11eb_9498_0242ac130202row2_col18\" class=\"data row2 col18\" >0.010204</td>\n",
              "                        <td id=\"T_ff3307be_9f48_11eb_9498_0242ac130202row2_col19\" class=\"data row2 col19\" >0.000000</td>\n",
              "                        <td id=\"T_ff3307be_9f48_11eb_9498_0242ac130202row2_col20\" class=\"data row2 col20\" >0.000000</td>\n",
              "                        <td id=\"T_ff3307be_9f48_11eb_9498_0242ac130202row2_col21\" class=\"data row2 col21\" >0.000000</td>\n",
              "                        <td id=\"T_ff3307be_9f48_11eb_9498_0242ac130202row2_col22\" class=\"data row2 col22\" >0.000000</td>\n",
              "                        <td id=\"T_ff3307be_9f48_11eb_9498_0242ac130202row2_col23\" class=\"data row2 col23\" >0.000000</td>\n",
              "                        <td id=\"T_ff3307be_9f48_11eb_9498_0242ac130202row2_col24\" class=\"data row2 col24\" >0.000000</td>\n",
              "                        <td id=\"T_ff3307be_9f48_11eb_9498_0242ac130202row2_col25\" class=\"data row2 col25\" >0.000000</td>\n",
              "                        <td id=\"T_ff3307be_9f48_11eb_9498_0242ac130202row2_col26\" class=\"data row2 col26\" >0.000000</td>\n",
              "                        <td id=\"T_ff3307be_9f48_11eb_9498_0242ac130202row2_col27\" class=\"data row2 col27\" >0.000000</td>\n",
              "                        <td id=\"T_ff3307be_9f48_11eb_9498_0242ac130202row2_col28\" class=\"data row2 col28\" >0.000000</td>\n",
              "                        <td id=\"T_ff3307be_9f48_11eb_9498_0242ac130202row2_col29\" class=\"data row2 col29\" >0.000000</td>\n",
              "                        <td id=\"T_ff3307be_9f48_11eb_9498_0242ac130202row2_col30\" class=\"data row2 col30\" >0.000000</td>\n",
              "                        <td id=\"T_ff3307be_9f48_11eb_9498_0242ac130202row2_col31\" class=\"data row2 col31\" >0.000000</td>\n",
              "                        <td id=\"T_ff3307be_9f48_11eb_9498_0242ac130202row2_col32\" class=\"data row2 col32\" >0.000000</td>\n",
              "                        <td id=\"T_ff3307be_9f48_11eb_9498_0242ac130202row2_col33\" class=\"data row2 col33\" >0.000000</td>\n",
              "                        <td id=\"T_ff3307be_9f48_11eb_9498_0242ac130202row2_col34\" class=\"data row2 col34\" >0.010204</td>\n",
              "                        <td id=\"T_ff3307be_9f48_11eb_9498_0242ac130202row2_col35\" class=\"data row2 col35\" >0.010204</td>\n",
              "                        <td id=\"T_ff3307be_9f48_11eb_9498_0242ac130202row2_col36\" class=\"data row2 col36\" >0.000000</td>\n",
              "                        <td id=\"T_ff3307be_9f48_11eb_9498_0242ac130202row2_col37\" class=\"data row2 col37\" >0.000000</td>\n",
              "                        <td id=\"T_ff3307be_9f48_11eb_9498_0242ac130202row2_col38\" class=\"data row2 col38\" >0.000000</td>\n",
              "                        <td id=\"T_ff3307be_9f48_11eb_9498_0242ac130202row2_col39\" class=\"data row2 col39\" >0.000000</td>\n",
              "                        <td id=\"T_ff3307be_9f48_11eb_9498_0242ac130202row2_col40\" class=\"data row2 col40\" >0.000000</td>\n",
              "                        <td id=\"T_ff3307be_9f48_11eb_9498_0242ac130202row2_col41\" class=\"data row2 col41\" >0.000000</td>\n",
              "                        <td id=\"T_ff3307be_9f48_11eb_9498_0242ac130202row2_col42\" class=\"data row2 col42\" >0.000000</td>\n",
              "                        <td id=\"T_ff3307be_9f48_11eb_9498_0242ac130202row2_col43\" class=\"data row2 col43\" >0.000000</td>\n",
              "                        <td id=\"T_ff3307be_9f48_11eb_9498_0242ac130202row2_col44\" class=\"data row2 col44\" >0.000000</td>\n",
              "                        <td id=\"T_ff3307be_9f48_11eb_9498_0242ac130202row2_col45\" class=\"data row2 col45\" >0.000000</td>\n",
              "                        <td id=\"T_ff3307be_9f48_11eb_9498_0242ac130202row2_col46\" class=\"data row2 col46\" >0.000000</td>\n",
              "                        <td id=\"T_ff3307be_9f48_11eb_9498_0242ac130202row2_col47\" class=\"data row2 col47\" >0.000000</td>\n",
              "                        <td id=\"T_ff3307be_9f48_11eb_9498_0242ac130202row2_col48\" class=\"data row2 col48\" >0.020408</td>\n",
              "                        <td id=\"T_ff3307be_9f48_11eb_9498_0242ac130202row2_col49\" class=\"data row2 col49\" >0.000000</td>\n",
              "                        <td id=\"T_ff3307be_9f48_11eb_9498_0242ac130202row2_col50\" class=\"data row2 col50\" >0.000000</td>\n",
              "                        <td id=\"T_ff3307be_9f48_11eb_9498_0242ac130202row2_col51\" class=\"data row2 col51\" >0.000000</td>\n",
              "                        <td id=\"T_ff3307be_9f48_11eb_9498_0242ac130202row2_col52\" class=\"data row2 col52\" >0.000000</td>\n",
              "                        <td id=\"T_ff3307be_9f48_11eb_9498_0242ac130202row2_col53\" class=\"data row2 col53\" >0.000000</td>\n",
              "                        <td id=\"T_ff3307be_9f48_11eb_9498_0242ac130202row2_col54\" class=\"data row2 col54\" >0.000000</td>\n",
              "                        <td id=\"T_ff3307be_9f48_11eb_9498_0242ac130202row2_col55\" class=\"data row2 col55\" >0.000000</td>\n",
              "                        <td id=\"T_ff3307be_9f48_11eb_9498_0242ac130202row2_col56\" class=\"data row2 col56\" >0.000000</td>\n",
              "                        <td id=\"T_ff3307be_9f48_11eb_9498_0242ac130202row2_col57\" class=\"data row2 col57\" >0.010204</td>\n",
              "                        <td id=\"T_ff3307be_9f48_11eb_9498_0242ac130202row2_col58\" class=\"data row2 col58\" >0.010204</td>\n",
              "                        <td id=\"T_ff3307be_9f48_11eb_9498_0242ac130202row2_col59\" class=\"data row2 col59\" >0.000000</td>\n",
              "                        <td id=\"T_ff3307be_9f48_11eb_9498_0242ac130202row2_col60\" class=\"data row2 col60\" >0.000000</td>\n",
              "                        <td id=\"T_ff3307be_9f48_11eb_9498_0242ac130202row2_col61\" class=\"data row2 col61\" >0.010204</td>\n",
              "                        <td id=\"T_ff3307be_9f48_11eb_9498_0242ac130202row2_col62\" class=\"data row2 col62\" >0.000000</td>\n",
              "                        <td id=\"T_ff3307be_9f48_11eb_9498_0242ac130202row2_col63\" class=\"data row2 col63\" >0.010204</td>\n",
              "                        <td id=\"T_ff3307be_9f48_11eb_9498_0242ac130202row2_col64\" class=\"data row2 col64\" >0.010204</td>\n",
              "                        <td id=\"T_ff3307be_9f48_11eb_9498_0242ac130202row2_col65\" class=\"data row2 col65\" >0.010204</td>\n",
              "                        <td id=\"T_ff3307be_9f48_11eb_9498_0242ac130202row2_col66\" class=\"data row2 col66\" >0.000000</td>\n",
              "                        <td id=\"T_ff3307be_9f48_11eb_9498_0242ac130202row2_col67\" class=\"data row2 col67\" >0.000000</td>\n",
              "                        <td id=\"T_ff3307be_9f48_11eb_9498_0242ac130202row2_col68\" class=\"data row2 col68\" >0.000000</td>\n",
              "                        <td id=\"T_ff3307be_9f48_11eb_9498_0242ac130202row2_col69\" class=\"data row2 col69\" >0.020408</td>\n",
              "                        <td id=\"T_ff3307be_9f48_11eb_9498_0242ac130202row2_col70\" class=\"data row2 col70\" >0.000000</td>\n",
              "                        <td id=\"T_ff3307be_9f48_11eb_9498_0242ac130202row2_col71\" class=\"data row2 col71\" >0.000000</td>\n",
              "                        <td id=\"T_ff3307be_9f48_11eb_9498_0242ac130202row2_col72\" class=\"data row2 col72\" >0.000000</td>\n",
              "                        <td id=\"T_ff3307be_9f48_11eb_9498_0242ac130202row2_col73\" class=\"data row2 col73\" >0.000000</td>\n",
              "                        <td id=\"T_ff3307be_9f48_11eb_9498_0242ac130202row2_col74\" class=\"data row2 col74\" >0.010204</td>\n",
              "                        <td id=\"T_ff3307be_9f48_11eb_9498_0242ac130202row2_col75\" class=\"data row2 col75\" >0.000000</td>\n",
              "                        <td id=\"T_ff3307be_9f48_11eb_9498_0242ac130202row2_col76\" class=\"data row2 col76\" >0.000000</td>\n",
              "                        <td id=\"T_ff3307be_9f48_11eb_9498_0242ac130202row2_col77\" class=\"data row2 col77\" >0.000000</td>\n",
              "                        <td id=\"T_ff3307be_9f48_11eb_9498_0242ac130202row2_col78\" class=\"data row2 col78\" >0.000000</td>\n",
              "                        <td id=\"T_ff3307be_9f48_11eb_9498_0242ac130202row2_col79\" class=\"data row2 col79\" >0.000000</td>\n",
              "                        <td id=\"T_ff3307be_9f48_11eb_9498_0242ac130202row2_col80\" class=\"data row2 col80\" >0.000000</td>\n",
              "                        <td id=\"T_ff3307be_9f48_11eb_9498_0242ac130202row2_col81\" class=\"data row2 col81\" >0.000000</td>\n",
              "                        <td id=\"T_ff3307be_9f48_11eb_9498_0242ac130202row2_col82\" class=\"data row2 col82\" >0.020408</td>\n",
              "                        <td id=\"T_ff3307be_9f48_11eb_9498_0242ac130202row2_col83\" class=\"data row2 col83\" >0.000000</td>\n",
              "                        <td id=\"T_ff3307be_9f48_11eb_9498_0242ac130202row2_col84\" class=\"data row2 col84\" >0.000000</td>\n",
              "                        <td id=\"T_ff3307be_9f48_11eb_9498_0242ac130202row2_col85\" class=\"data row2 col85\" >0.000000</td>\n",
              "                        <td id=\"T_ff3307be_9f48_11eb_9498_0242ac130202row2_col86\" class=\"data row2 col86\" >0.000000</td>\n",
              "                        <td id=\"T_ff3307be_9f48_11eb_9498_0242ac130202row2_col87\" class=\"data row2 col87\" >0.000000</td>\n",
              "                        <td id=\"T_ff3307be_9f48_11eb_9498_0242ac130202row2_col88\" class=\"data row2 col88\" >0.000000</td>\n",
              "                        <td id=\"T_ff3307be_9f48_11eb_9498_0242ac130202row2_col89\" class=\"data row2 col89\" >0.000000</td>\n",
              "                        <td id=\"T_ff3307be_9f48_11eb_9498_0242ac130202row2_col90\" class=\"data row2 col90\" >0.000000</td>\n",
              "                        <td id=\"T_ff3307be_9f48_11eb_9498_0242ac130202row2_col91\" class=\"data row2 col91\" >0.010204</td>\n",
              "                        <td id=\"T_ff3307be_9f48_11eb_9498_0242ac130202row2_col92\" class=\"data row2 col92\" >0.000000</td>\n",
              "                        <td id=\"T_ff3307be_9f48_11eb_9498_0242ac130202row2_col93\" class=\"data row2 col93\" >0.000000</td>\n",
              "                        <td id=\"T_ff3307be_9f48_11eb_9498_0242ac130202row2_col94\" class=\"data row2 col94\" >0.000000</td>\n",
              "                        <td id=\"T_ff3307be_9f48_11eb_9498_0242ac130202row2_col95\" class=\"data row2 col95\" >0.000000</td>\n",
              "                        <td id=\"T_ff3307be_9f48_11eb_9498_0242ac130202row2_col96\" class=\"data row2 col96\" >0.000000</td>\n",
              "                        <td id=\"T_ff3307be_9f48_11eb_9498_0242ac130202row2_col97\" class=\"data row2 col97\" >0.000000</td>\n",
              "            </tr>\n",
              "            <tr>\n",
              "                        <th id=\"T_ff3307be_9f48_11eb_9498_0242ac130202level0_row3\" class=\"row_heading level0 row3\" >3</th>\n",
              "                        <td id=\"T_ff3307be_9f48_11eb_9498_0242ac130202row3_col0\" class=\"data row3 col0\" >0.010204</td>\n",
              "                        <td id=\"T_ff3307be_9f48_11eb_9498_0242ac130202row3_col1\" class=\"data row3 col1\" >0.010204</td>\n",
              "                        <td id=\"T_ff3307be_9f48_11eb_9498_0242ac130202row3_col2\" class=\"data row3 col2\" >0.000000</td>\n",
              "                        <td id=\"T_ff3307be_9f48_11eb_9498_0242ac130202row3_col3\" class=\"data row3 col3\" >0.000000</td>\n",
              "                        <td id=\"T_ff3307be_9f48_11eb_9498_0242ac130202row3_col4\" class=\"data row3 col4\" >0.000000</td>\n",
              "                        <td id=\"T_ff3307be_9f48_11eb_9498_0242ac130202row3_col5\" class=\"data row3 col5\" >0.000000</td>\n",
              "                        <td id=\"T_ff3307be_9f48_11eb_9498_0242ac130202row3_col6\" class=\"data row3 col6\" >0.000000</td>\n",
              "                        <td id=\"T_ff3307be_9f48_11eb_9498_0242ac130202row3_col7\" class=\"data row3 col7\" >0.000000</td>\n",
              "                        <td id=\"T_ff3307be_9f48_11eb_9498_0242ac130202row3_col8\" class=\"data row3 col8\" >0.000000</td>\n",
              "                        <td id=\"T_ff3307be_9f48_11eb_9498_0242ac130202row3_col9\" class=\"data row3 col9\" >0.000000</td>\n",
              "                        <td id=\"T_ff3307be_9f48_11eb_9498_0242ac130202row3_col10\" class=\"data row3 col10\" >0.000000</td>\n",
              "                        <td id=\"T_ff3307be_9f48_11eb_9498_0242ac130202row3_col11\" class=\"data row3 col11\" >0.000000</td>\n",
              "                        <td id=\"T_ff3307be_9f48_11eb_9498_0242ac130202row3_col12\" class=\"data row3 col12\" >0.000000</td>\n",
              "                        <td id=\"T_ff3307be_9f48_11eb_9498_0242ac130202row3_col13\" class=\"data row3 col13\" >0.000000</td>\n",
              "                        <td id=\"T_ff3307be_9f48_11eb_9498_0242ac130202row3_col14\" class=\"data row3 col14\" >0.000000</td>\n",
              "                        <td id=\"T_ff3307be_9f48_11eb_9498_0242ac130202row3_col15\" class=\"data row3 col15\" >0.000000</td>\n",
              "                        <td id=\"T_ff3307be_9f48_11eb_9498_0242ac130202row3_col16\" class=\"data row3 col16\" >0.000000</td>\n",
              "                        <td id=\"T_ff3307be_9f48_11eb_9498_0242ac130202row3_col17\" class=\"data row3 col17\" >0.000000</td>\n",
              "                        <td id=\"T_ff3307be_9f48_11eb_9498_0242ac130202row3_col18\" class=\"data row3 col18\" >0.000000</td>\n",
              "                        <td id=\"T_ff3307be_9f48_11eb_9498_0242ac130202row3_col19\" class=\"data row3 col19\" >0.000000</td>\n",
              "                        <td id=\"T_ff3307be_9f48_11eb_9498_0242ac130202row3_col20\" class=\"data row3 col20\" >0.010204</td>\n",
              "                        <td id=\"T_ff3307be_9f48_11eb_9498_0242ac130202row3_col21\" class=\"data row3 col21\" >0.000000</td>\n",
              "                        <td id=\"T_ff3307be_9f48_11eb_9498_0242ac130202row3_col22\" class=\"data row3 col22\" >0.000000</td>\n",
              "                        <td id=\"T_ff3307be_9f48_11eb_9498_0242ac130202row3_col23\" class=\"data row3 col23\" >0.000000</td>\n",
              "                        <td id=\"T_ff3307be_9f48_11eb_9498_0242ac130202row3_col24\" class=\"data row3 col24\" >0.000000</td>\n",
              "                        <td id=\"T_ff3307be_9f48_11eb_9498_0242ac130202row3_col25\" class=\"data row3 col25\" >0.000000</td>\n",
              "                        <td id=\"T_ff3307be_9f48_11eb_9498_0242ac130202row3_col26\" class=\"data row3 col26\" >0.000000</td>\n",
              "                        <td id=\"T_ff3307be_9f48_11eb_9498_0242ac130202row3_col27\" class=\"data row3 col27\" >0.000000</td>\n",
              "                        <td id=\"T_ff3307be_9f48_11eb_9498_0242ac130202row3_col28\" class=\"data row3 col28\" >0.000000</td>\n",
              "                        <td id=\"T_ff3307be_9f48_11eb_9498_0242ac130202row3_col29\" class=\"data row3 col29\" >0.000000</td>\n",
              "                        <td id=\"T_ff3307be_9f48_11eb_9498_0242ac130202row3_col30\" class=\"data row3 col30\" >0.000000</td>\n",
              "                        <td id=\"T_ff3307be_9f48_11eb_9498_0242ac130202row3_col31\" class=\"data row3 col31\" >0.000000</td>\n",
              "                        <td id=\"T_ff3307be_9f48_11eb_9498_0242ac130202row3_col32\" class=\"data row3 col32\" >0.000000</td>\n",
              "                        <td id=\"T_ff3307be_9f48_11eb_9498_0242ac130202row3_col33\" class=\"data row3 col33\" >0.000000</td>\n",
              "                        <td id=\"T_ff3307be_9f48_11eb_9498_0242ac130202row3_col34\" class=\"data row3 col34\" >0.010204</td>\n",
              "                        <td id=\"T_ff3307be_9f48_11eb_9498_0242ac130202row3_col35\" class=\"data row3 col35\" >0.000000</td>\n",
              "                        <td id=\"T_ff3307be_9f48_11eb_9498_0242ac130202row3_col36\" class=\"data row3 col36\" >0.000000</td>\n",
              "                        <td id=\"T_ff3307be_9f48_11eb_9498_0242ac130202row3_col37\" class=\"data row3 col37\" >0.000000</td>\n",
              "                        <td id=\"T_ff3307be_9f48_11eb_9498_0242ac130202row3_col38\" class=\"data row3 col38\" >0.000000</td>\n",
              "                        <td id=\"T_ff3307be_9f48_11eb_9498_0242ac130202row3_col39\" class=\"data row3 col39\" >0.000000</td>\n",
              "                        <td id=\"T_ff3307be_9f48_11eb_9498_0242ac130202row3_col40\" class=\"data row3 col40\" >0.000000</td>\n",
              "                        <td id=\"T_ff3307be_9f48_11eb_9498_0242ac130202row3_col41\" class=\"data row3 col41\" >0.000000</td>\n",
              "                        <td id=\"T_ff3307be_9f48_11eb_9498_0242ac130202row3_col42\" class=\"data row3 col42\" >0.000000</td>\n",
              "                        <td id=\"T_ff3307be_9f48_11eb_9498_0242ac130202row3_col43\" class=\"data row3 col43\" >0.000000</td>\n",
              "                        <td id=\"T_ff3307be_9f48_11eb_9498_0242ac130202row3_col44\" class=\"data row3 col44\" >0.000000</td>\n",
              "                        <td id=\"T_ff3307be_9f48_11eb_9498_0242ac130202row3_col45\" class=\"data row3 col45\" >0.000000</td>\n",
              "                        <td id=\"T_ff3307be_9f48_11eb_9498_0242ac130202row3_col46\" class=\"data row3 col46\" >0.000000</td>\n",
              "                        <td id=\"T_ff3307be_9f48_11eb_9498_0242ac130202row3_col47\" class=\"data row3 col47\" >0.000000</td>\n",
              "                        <td id=\"T_ff3307be_9f48_11eb_9498_0242ac130202row3_col48\" class=\"data row3 col48\" >0.010204</td>\n",
              "                        <td id=\"T_ff3307be_9f48_11eb_9498_0242ac130202row3_col49\" class=\"data row3 col49\" >0.000000</td>\n",
              "                        <td id=\"T_ff3307be_9f48_11eb_9498_0242ac130202row3_col50\" class=\"data row3 col50\" >0.000000</td>\n",
              "                        <td id=\"T_ff3307be_9f48_11eb_9498_0242ac130202row3_col51\" class=\"data row3 col51\" >0.000000</td>\n",
              "                        <td id=\"T_ff3307be_9f48_11eb_9498_0242ac130202row3_col52\" class=\"data row3 col52\" >0.000000</td>\n",
              "                        <td id=\"T_ff3307be_9f48_11eb_9498_0242ac130202row3_col53\" class=\"data row3 col53\" >0.000000</td>\n",
              "                        <td id=\"T_ff3307be_9f48_11eb_9498_0242ac130202row3_col54\" class=\"data row3 col54\" >0.000000</td>\n",
              "                        <td id=\"T_ff3307be_9f48_11eb_9498_0242ac130202row3_col55\" class=\"data row3 col55\" >0.000000</td>\n",
              "                        <td id=\"T_ff3307be_9f48_11eb_9498_0242ac130202row3_col56\" class=\"data row3 col56\" >0.000000</td>\n",
              "                        <td id=\"T_ff3307be_9f48_11eb_9498_0242ac130202row3_col57\" class=\"data row3 col57\" >0.000000</td>\n",
              "                        <td id=\"T_ff3307be_9f48_11eb_9498_0242ac130202row3_col58\" class=\"data row3 col58\" >0.000000</td>\n",
              "                        <td id=\"T_ff3307be_9f48_11eb_9498_0242ac130202row3_col59\" class=\"data row3 col59\" >0.000000</td>\n",
              "                        <td id=\"T_ff3307be_9f48_11eb_9498_0242ac130202row3_col60\" class=\"data row3 col60\" >0.000000</td>\n",
              "                        <td id=\"T_ff3307be_9f48_11eb_9498_0242ac130202row3_col61\" class=\"data row3 col61\" >0.000000</td>\n",
              "                        <td id=\"T_ff3307be_9f48_11eb_9498_0242ac130202row3_col62\" class=\"data row3 col62\" >0.000000</td>\n",
              "                        <td id=\"T_ff3307be_9f48_11eb_9498_0242ac130202row3_col63\" class=\"data row3 col63\" >0.000000</td>\n",
              "                        <td id=\"T_ff3307be_9f48_11eb_9498_0242ac130202row3_col64\" class=\"data row3 col64\" >0.010204</td>\n",
              "                        <td id=\"T_ff3307be_9f48_11eb_9498_0242ac130202row3_col65\" class=\"data row3 col65\" >0.000000</td>\n",
              "                        <td id=\"T_ff3307be_9f48_11eb_9498_0242ac130202row3_col66\" class=\"data row3 col66\" >0.000000</td>\n",
              "                        <td id=\"T_ff3307be_9f48_11eb_9498_0242ac130202row3_col67\" class=\"data row3 col67\" >0.010204</td>\n",
              "                        <td id=\"T_ff3307be_9f48_11eb_9498_0242ac130202row3_col68\" class=\"data row3 col68\" >0.000000</td>\n",
              "                        <td id=\"T_ff3307be_9f48_11eb_9498_0242ac130202row3_col69\" class=\"data row3 col69\" >0.000000</td>\n",
              "                        <td id=\"T_ff3307be_9f48_11eb_9498_0242ac130202row3_col70\" class=\"data row3 col70\" >0.000000</td>\n",
              "                        <td id=\"T_ff3307be_9f48_11eb_9498_0242ac130202row3_col71\" class=\"data row3 col71\" >0.000000</td>\n",
              "                        <td id=\"T_ff3307be_9f48_11eb_9498_0242ac130202row3_col72\" class=\"data row3 col72\" >0.000000</td>\n",
              "                        <td id=\"T_ff3307be_9f48_11eb_9498_0242ac130202row3_col73\" class=\"data row3 col73\" >0.010204</td>\n",
              "                        <td id=\"T_ff3307be_9f48_11eb_9498_0242ac130202row3_col74\" class=\"data row3 col74\" >0.000000</td>\n",
              "                        <td id=\"T_ff3307be_9f48_11eb_9498_0242ac130202row3_col75\" class=\"data row3 col75\" >0.000000</td>\n",
              "                        <td id=\"T_ff3307be_9f48_11eb_9498_0242ac130202row3_col76\" class=\"data row3 col76\" >0.000000</td>\n",
              "                        <td id=\"T_ff3307be_9f48_11eb_9498_0242ac130202row3_col77\" class=\"data row3 col77\" >0.000000</td>\n",
              "                        <td id=\"T_ff3307be_9f48_11eb_9498_0242ac130202row3_col78\" class=\"data row3 col78\" >0.000000</td>\n",
              "                        <td id=\"T_ff3307be_9f48_11eb_9498_0242ac130202row3_col79\" class=\"data row3 col79\" >0.000000</td>\n",
              "                        <td id=\"T_ff3307be_9f48_11eb_9498_0242ac130202row3_col80\" class=\"data row3 col80\" >0.000000</td>\n",
              "                        <td id=\"T_ff3307be_9f48_11eb_9498_0242ac130202row3_col81\" class=\"data row3 col81\" >0.000000</td>\n",
              "                        <td id=\"T_ff3307be_9f48_11eb_9498_0242ac130202row3_col82\" class=\"data row3 col82\" >0.000000</td>\n",
              "                        <td id=\"T_ff3307be_9f48_11eb_9498_0242ac130202row3_col83\" class=\"data row3 col83\" >0.000000</td>\n",
              "                        <td id=\"T_ff3307be_9f48_11eb_9498_0242ac130202row3_col84\" class=\"data row3 col84\" >0.000000</td>\n",
              "                        <td id=\"T_ff3307be_9f48_11eb_9498_0242ac130202row3_col85\" class=\"data row3 col85\" >0.000000</td>\n",
              "                        <td id=\"T_ff3307be_9f48_11eb_9498_0242ac130202row3_col86\" class=\"data row3 col86\" >0.000000</td>\n",
              "                        <td id=\"T_ff3307be_9f48_11eb_9498_0242ac130202row3_col87\" class=\"data row3 col87\" >0.000000</td>\n",
              "                        <td id=\"T_ff3307be_9f48_11eb_9498_0242ac130202row3_col88\" class=\"data row3 col88\" >0.000000</td>\n",
              "                        <td id=\"T_ff3307be_9f48_11eb_9498_0242ac130202row3_col89\" class=\"data row3 col89\" >0.000000</td>\n",
              "                        <td id=\"T_ff3307be_9f48_11eb_9498_0242ac130202row3_col90\" class=\"data row3 col90\" >0.000000</td>\n",
              "                        <td id=\"T_ff3307be_9f48_11eb_9498_0242ac130202row3_col91\" class=\"data row3 col91\" >0.000000</td>\n",
              "                        <td id=\"T_ff3307be_9f48_11eb_9498_0242ac130202row3_col92\" class=\"data row3 col92\" >0.000000</td>\n",
              "                        <td id=\"T_ff3307be_9f48_11eb_9498_0242ac130202row3_col93\" class=\"data row3 col93\" >0.000000</td>\n",
              "                        <td id=\"T_ff3307be_9f48_11eb_9498_0242ac130202row3_col94\" class=\"data row3 col94\" >0.000000</td>\n",
              "                        <td id=\"T_ff3307be_9f48_11eb_9498_0242ac130202row3_col95\" class=\"data row3 col95\" >0.000000</td>\n",
              "                        <td id=\"T_ff3307be_9f48_11eb_9498_0242ac130202row3_col96\" class=\"data row3 col96\" >0.010204</td>\n",
              "                        <td id=\"T_ff3307be_9f48_11eb_9498_0242ac130202row3_col97\" class=\"data row3 col97\" >0.000000</td>\n",
              "            </tr>\n",
              "            <tr>\n",
              "                        <th id=\"T_ff3307be_9f48_11eb_9498_0242ac130202level0_row4\" class=\"row_heading level0 row4\" >4</th>\n",
              "                        <td id=\"T_ff3307be_9f48_11eb_9498_0242ac130202row4_col0\" class=\"data row4 col0\" >0.000000</td>\n",
              "                        <td id=\"T_ff3307be_9f48_11eb_9498_0242ac130202row4_col1\" class=\"data row4 col1\" >0.000000</td>\n",
              "                        <td id=\"T_ff3307be_9f48_11eb_9498_0242ac130202row4_col2\" class=\"data row4 col2\" >0.000000</td>\n",
              "                        <td id=\"T_ff3307be_9f48_11eb_9498_0242ac130202row4_col3\" class=\"data row4 col3\" >0.000000</td>\n",
              "                        <td id=\"T_ff3307be_9f48_11eb_9498_0242ac130202row4_col4\" class=\"data row4 col4\" >0.000000</td>\n",
              "                        <td id=\"T_ff3307be_9f48_11eb_9498_0242ac130202row4_col5\" class=\"data row4 col5\" >0.010204</td>\n",
              "                        <td id=\"T_ff3307be_9f48_11eb_9498_0242ac130202row4_col6\" class=\"data row4 col6\" >0.000000</td>\n",
              "                        <td id=\"T_ff3307be_9f48_11eb_9498_0242ac130202row4_col7\" class=\"data row4 col7\" >0.000000</td>\n",
              "                        <td id=\"T_ff3307be_9f48_11eb_9498_0242ac130202row4_col8\" class=\"data row4 col8\" >0.000000</td>\n",
              "                        <td id=\"T_ff3307be_9f48_11eb_9498_0242ac130202row4_col9\" class=\"data row4 col9\" >0.000000</td>\n",
              "                        <td id=\"T_ff3307be_9f48_11eb_9498_0242ac130202row4_col10\" class=\"data row4 col10\" >0.000000</td>\n",
              "                        <td id=\"T_ff3307be_9f48_11eb_9498_0242ac130202row4_col11\" class=\"data row4 col11\" >0.000000</td>\n",
              "                        <td id=\"T_ff3307be_9f48_11eb_9498_0242ac130202row4_col12\" class=\"data row4 col12\" >0.000000</td>\n",
              "                        <td id=\"T_ff3307be_9f48_11eb_9498_0242ac130202row4_col13\" class=\"data row4 col13\" >0.010204</td>\n",
              "                        <td id=\"T_ff3307be_9f48_11eb_9498_0242ac130202row4_col14\" class=\"data row4 col14\" >0.000000</td>\n",
              "                        <td id=\"T_ff3307be_9f48_11eb_9498_0242ac130202row4_col15\" class=\"data row4 col15\" >0.000000</td>\n",
              "                        <td id=\"T_ff3307be_9f48_11eb_9498_0242ac130202row4_col16\" class=\"data row4 col16\" >0.000000</td>\n",
              "                        <td id=\"T_ff3307be_9f48_11eb_9498_0242ac130202row4_col17\" class=\"data row4 col17\" >0.000000</td>\n",
              "                        <td id=\"T_ff3307be_9f48_11eb_9498_0242ac130202row4_col18\" class=\"data row4 col18\" >0.000000</td>\n",
              "                        <td id=\"T_ff3307be_9f48_11eb_9498_0242ac130202row4_col19\" class=\"data row4 col19\" >0.000000</td>\n",
              "                        <td id=\"T_ff3307be_9f48_11eb_9498_0242ac130202row4_col20\" class=\"data row4 col20\" >0.000000</td>\n",
              "                        <td id=\"T_ff3307be_9f48_11eb_9498_0242ac130202row4_col21\" class=\"data row4 col21\" >0.000000</td>\n",
              "                        <td id=\"T_ff3307be_9f48_11eb_9498_0242ac130202row4_col22\" class=\"data row4 col22\" >0.000000</td>\n",
              "                        <td id=\"T_ff3307be_9f48_11eb_9498_0242ac130202row4_col23\" class=\"data row4 col23\" >0.000000</td>\n",
              "                        <td id=\"T_ff3307be_9f48_11eb_9498_0242ac130202row4_col24\" class=\"data row4 col24\" >0.000000</td>\n",
              "                        <td id=\"T_ff3307be_9f48_11eb_9498_0242ac130202row4_col25\" class=\"data row4 col25\" >0.000000</td>\n",
              "                        <td id=\"T_ff3307be_9f48_11eb_9498_0242ac130202row4_col26\" class=\"data row4 col26\" >0.000000</td>\n",
              "                        <td id=\"T_ff3307be_9f48_11eb_9498_0242ac130202row4_col27\" class=\"data row4 col27\" >0.000000</td>\n",
              "                        <td id=\"T_ff3307be_9f48_11eb_9498_0242ac130202row4_col28\" class=\"data row4 col28\" >0.000000</td>\n",
              "                        <td id=\"T_ff3307be_9f48_11eb_9498_0242ac130202row4_col29\" class=\"data row4 col29\" >0.000000</td>\n",
              "                        <td id=\"T_ff3307be_9f48_11eb_9498_0242ac130202row4_col30\" class=\"data row4 col30\" >0.000000</td>\n",
              "                        <td id=\"T_ff3307be_9f48_11eb_9498_0242ac130202row4_col31\" class=\"data row4 col31\" >0.000000</td>\n",
              "                        <td id=\"T_ff3307be_9f48_11eb_9498_0242ac130202row4_col32\" class=\"data row4 col32\" >0.000000</td>\n",
              "                        <td id=\"T_ff3307be_9f48_11eb_9498_0242ac130202row4_col33\" class=\"data row4 col33\" >0.000000</td>\n",
              "                        <td id=\"T_ff3307be_9f48_11eb_9498_0242ac130202row4_col34\" class=\"data row4 col34\" >0.000000</td>\n",
              "                        <td id=\"T_ff3307be_9f48_11eb_9498_0242ac130202row4_col35\" class=\"data row4 col35\" >0.000000</td>\n",
              "                        <td id=\"T_ff3307be_9f48_11eb_9498_0242ac130202row4_col36\" class=\"data row4 col36\" >0.000000</td>\n",
              "                        <td id=\"T_ff3307be_9f48_11eb_9498_0242ac130202row4_col37\" class=\"data row4 col37\" >0.000000</td>\n",
              "                        <td id=\"T_ff3307be_9f48_11eb_9498_0242ac130202row4_col38\" class=\"data row4 col38\" >0.000000</td>\n",
              "                        <td id=\"T_ff3307be_9f48_11eb_9498_0242ac130202row4_col39\" class=\"data row4 col39\" >0.000000</td>\n",
              "                        <td id=\"T_ff3307be_9f48_11eb_9498_0242ac130202row4_col40\" class=\"data row4 col40\" >0.000000</td>\n",
              "                        <td id=\"T_ff3307be_9f48_11eb_9498_0242ac130202row4_col41\" class=\"data row4 col41\" >0.000000</td>\n",
              "                        <td id=\"T_ff3307be_9f48_11eb_9498_0242ac130202row4_col42\" class=\"data row4 col42\" >0.020408</td>\n",
              "                        <td id=\"T_ff3307be_9f48_11eb_9498_0242ac130202row4_col43\" class=\"data row4 col43\" >0.010204</td>\n",
              "                        <td id=\"T_ff3307be_9f48_11eb_9498_0242ac130202row4_col44\" class=\"data row4 col44\" >0.000000</td>\n",
              "                        <td id=\"T_ff3307be_9f48_11eb_9498_0242ac130202row4_col45\" class=\"data row4 col45\" >0.000000</td>\n",
              "                        <td id=\"T_ff3307be_9f48_11eb_9498_0242ac130202row4_col46\" class=\"data row4 col46\" >0.000000</td>\n",
              "                        <td id=\"T_ff3307be_9f48_11eb_9498_0242ac130202row4_col47\" class=\"data row4 col47\" >0.000000</td>\n",
              "                        <td id=\"T_ff3307be_9f48_11eb_9498_0242ac130202row4_col48\" class=\"data row4 col48\" >0.000000</td>\n",
              "                        <td id=\"T_ff3307be_9f48_11eb_9498_0242ac130202row4_col49\" class=\"data row4 col49\" >0.010204</td>\n",
              "                        <td id=\"T_ff3307be_9f48_11eb_9498_0242ac130202row4_col50\" class=\"data row4 col50\" >0.000000</td>\n",
              "                        <td id=\"T_ff3307be_9f48_11eb_9498_0242ac130202row4_col51\" class=\"data row4 col51\" >0.010204</td>\n",
              "                        <td id=\"T_ff3307be_9f48_11eb_9498_0242ac130202row4_col52\" class=\"data row4 col52\" >0.000000</td>\n",
              "                        <td id=\"T_ff3307be_9f48_11eb_9498_0242ac130202row4_col53\" class=\"data row4 col53\" >0.000000</td>\n",
              "                        <td id=\"T_ff3307be_9f48_11eb_9498_0242ac130202row4_col54\" class=\"data row4 col54\" >0.000000</td>\n",
              "                        <td id=\"T_ff3307be_9f48_11eb_9498_0242ac130202row4_col55\" class=\"data row4 col55\" >0.000000</td>\n",
              "                        <td id=\"T_ff3307be_9f48_11eb_9498_0242ac130202row4_col56\" class=\"data row4 col56\" >0.000000</td>\n",
              "                        <td id=\"T_ff3307be_9f48_11eb_9498_0242ac130202row4_col57\" class=\"data row4 col57\" >0.000000</td>\n",
              "                        <td id=\"T_ff3307be_9f48_11eb_9498_0242ac130202row4_col58\" class=\"data row4 col58\" >0.000000</td>\n",
              "                        <td id=\"T_ff3307be_9f48_11eb_9498_0242ac130202row4_col59\" class=\"data row4 col59\" >0.000000</td>\n",
              "                        <td id=\"T_ff3307be_9f48_11eb_9498_0242ac130202row4_col60\" class=\"data row4 col60\" >0.000000</td>\n",
              "                        <td id=\"T_ff3307be_9f48_11eb_9498_0242ac130202row4_col61\" class=\"data row4 col61\" >0.000000</td>\n",
              "                        <td id=\"T_ff3307be_9f48_11eb_9498_0242ac130202row4_col62\" class=\"data row4 col62\" >0.000000</td>\n",
              "                        <td id=\"T_ff3307be_9f48_11eb_9498_0242ac130202row4_col63\" class=\"data row4 col63\" >0.000000</td>\n",
              "                        <td id=\"T_ff3307be_9f48_11eb_9498_0242ac130202row4_col64\" class=\"data row4 col64\" >0.000000</td>\n",
              "                        <td id=\"T_ff3307be_9f48_11eb_9498_0242ac130202row4_col65\" class=\"data row4 col65\" >0.000000</td>\n",
              "                        <td id=\"T_ff3307be_9f48_11eb_9498_0242ac130202row4_col66\" class=\"data row4 col66\" >0.000000</td>\n",
              "                        <td id=\"T_ff3307be_9f48_11eb_9498_0242ac130202row4_col67\" class=\"data row4 col67\" >0.000000</td>\n",
              "                        <td id=\"T_ff3307be_9f48_11eb_9498_0242ac130202row4_col68\" class=\"data row4 col68\" >0.010204</td>\n",
              "                        <td id=\"T_ff3307be_9f48_11eb_9498_0242ac130202row4_col69\" class=\"data row4 col69\" >0.000000</td>\n",
              "                        <td id=\"T_ff3307be_9f48_11eb_9498_0242ac130202row4_col70\" class=\"data row4 col70\" >0.010204</td>\n",
              "                        <td id=\"T_ff3307be_9f48_11eb_9498_0242ac130202row4_col71\" class=\"data row4 col71\" >0.000000</td>\n",
              "                        <td id=\"T_ff3307be_9f48_11eb_9498_0242ac130202row4_col72\" class=\"data row4 col72\" >0.000000</td>\n",
              "                        <td id=\"T_ff3307be_9f48_11eb_9498_0242ac130202row4_col73\" class=\"data row4 col73\" >0.000000</td>\n",
              "                        <td id=\"T_ff3307be_9f48_11eb_9498_0242ac130202row4_col74\" class=\"data row4 col74\" >0.000000</td>\n",
              "                        <td id=\"T_ff3307be_9f48_11eb_9498_0242ac130202row4_col75\" class=\"data row4 col75\" >0.000000</td>\n",
              "                        <td id=\"T_ff3307be_9f48_11eb_9498_0242ac130202row4_col76\" class=\"data row4 col76\" >0.000000</td>\n",
              "                        <td id=\"T_ff3307be_9f48_11eb_9498_0242ac130202row4_col77\" class=\"data row4 col77\" >0.010204</td>\n",
              "                        <td id=\"T_ff3307be_9f48_11eb_9498_0242ac130202row4_col78\" class=\"data row4 col78\" >0.000000</td>\n",
              "                        <td id=\"T_ff3307be_9f48_11eb_9498_0242ac130202row4_col79\" class=\"data row4 col79\" >0.010204</td>\n",
              "                        <td id=\"T_ff3307be_9f48_11eb_9498_0242ac130202row4_col80\" class=\"data row4 col80\" >0.000000</td>\n",
              "                        <td id=\"T_ff3307be_9f48_11eb_9498_0242ac130202row4_col81\" class=\"data row4 col81\" >0.010204</td>\n",
              "                        <td id=\"T_ff3307be_9f48_11eb_9498_0242ac130202row4_col82\" class=\"data row4 col82\" >0.000000</td>\n",
              "                        <td id=\"T_ff3307be_9f48_11eb_9498_0242ac130202row4_col83\" class=\"data row4 col83\" >0.010204</td>\n",
              "                        <td id=\"T_ff3307be_9f48_11eb_9498_0242ac130202row4_col84\" class=\"data row4 col84\" >0.000000</td>\n",
              "                        <td id=\"T_ff3307be_9f48_11eb_9498_0242ac130202row4_col85\" class=\"data row4 col85\" >0.000000</td>\n",
              "                        <td id=\"T_ff3307be_9f48_11eb_9498_0242ac130202row4_col86\" class=\"data row4 col86\" >0.000000</td>\n",
              "                        <td id=\"T_ff3307be_9f48_11eb_9498_0242ac130202row4_col87\" class=\"data row4 col87\" >0.000000</td>\n",
              "                        <td id=\"T_ff3307be_9f48_11eb_9498_0242ac130202row4_col88\" class=\"data row4 col88\" >0.000000</td>\n",
              "                        <td id=\"T_ff3307be_9f48_11eb_9498_0242ac130202row4_col89\" class=\"data row4 col89\" >0.000000</td>\n",
              "                        <td id=\"T_ff3307be_9f48_11eb_9498_0242ac130202row4_col90\" class=\"data row4 col90\" >0.010204</td>\n",
              "                        <td id=\"T_ff3307be_9f48_11eb_9498_0242ac130202row4_col91\" class=\"data row4 col91\" >0.000000</td>\n",
              "                        <td id=\"T_ff3307be_9f48_11eb_9498_0242ac130202row4_col92\" class=\"data row4 col92\" >0.000000</td>\n",
              "                        <td id=\"T_ff3307be_9f48_11eb_9498_0242ac130202row4_col93\" class=\"data row4 col93\" >0.000000</td>\n",
              "                        <td id=\"T_ff3307be_9f48_11eb_9498_0242ac130202row4_col94\" class=\"data row4 col94\" >0.000000</td>\n",
              "                        <td id=\"T_ff3307be_9f48_11eb_9498_0242ac130202row4_col95\" class=\"data row4 col95\" >0.000000</td>\n",
              "                        <td id=\"T_ff3307be_9f48_11eb_9498_0242ac130202row4_col96\" class=\"data row4 col96\" >0.010204</td>\n",
              "                        <td id=\"T_ff3307be_9f48_11eb_9498_0242ac130202row4_col97\" class=\"data row4 col97\" >0.000000</td>\n",
              "            </tr>\n",
              "            <tr>\n",
              "                        <th id=\"T_ff3307be_9f48_11eb_9498_0242ac130202level0_row5\" class=\"row_heading level0 row5\" >5</th>\n",
              "                        <td id=\"T_ff3307be_9f48_11eb_9498_0242ac130202row5_col0\" class=\"data row5 col0\" >0.000000</td>\n",
              "                        <td id=\"T_ff3307be_9f48_11eb_9498_0242ac130202row5_col1\" class=\"data row5 col1\" >0.000000</td>\n",
              "                        <td id=\"T_ff3307be_9f48_11eb_9498_0242ac130202row5_col2\" class=\"data row5 col2\" >0.010204</td>\n",
              "                        <td id=\"T_ff3307be_9f48_11eb_9498_0242ac130202row5_col3\" class=\"data row5 col3\" >0.000000</td>\n",
              "                        <td id=\"T_ff3307be_9f48_11eb_9498_0242ac130202row5_col4\" class=\"data row5 col4\" >0.000000</td>\n",
              "                        <td id=\"T_ff3307be_9f48_11eb_9498_0242ac130202row5_col5\" class=\"data row5 col5\" >0.000000</td>\n",
              "                        <td id=\"T_ff3307be_9f48_11eb_9498_0242ac130202row5_col6\" class=\"data row5 col6\" >0.000000</td>\n",
              "                        <td id=\"T_ff3307be_9f48_11eb_9498_0242ac130202row5_col7\" class=\"data row5 col7\" >0.000000</td>\n",
              "                        <td id=\"T_ff3307be_9f48_11eb_9498_0242ac130202row5_col8\" class=\"data row5 col8\" >0.000000</td>\n",
              "                        <td id=\"T_ff3307be_9f48_11eb_9498_0242ac130202row5_col9\" class=\"data row5 col9\" >0.000000</td>\n",
              "                        <td id=\"T_ff3307be_9f48_11eb_9498_0242ac130202row5_col10\" class=\"data row5 col10\" >0.000000</td>\n",
              "                        <td id=\"T_ff3307be_9f48_11eb_9498_0242ac130202row5_col11\" class=\"data row5 col11\" >0.000000</td>\n",
              "                        <td id=\"T_ff3307be_9f48_11eb_9498_0242ac130202row5_col12\" class=\"data row5 col12\" >0.000000</td>\n",
              "                        <td id=\"T_ff3307be_9f48_11eb_9498_0242ac130202row5_col13\" class=\"data row5 col13\" >0.000000</td>\n",
              "                        <td id=\"T_ff3307be_9f48_11eb_9498_0242ac130202row5_col14\" class=\"data row5 col14\" >0.000000</td>\n",
              "                        <td id=\"T_ff3307be_9f48_11eb_9498_0242ac130202row5_col15\" class=\"data row5 col15\" >0.000000</td>\n",
              "                        <td id=\"T_ff3307be_9f48_11eb_9498_0242ac130202row5_col16\" class=\"data row5 col16\" >0.010204</td>\n",
              "                        <td id=\"T_ff3307be_9f48_11eb_9498_0242ac130202row5_col17\" class=\"data row5 col17\" >0.000000</td>\n",
              "                        <td id=\"T_ff3307be_9f48_11eb_9498_0242ac130202row5_col18\" class=\"data row5 col18\" >0.000000</td>\n",
              "                        <td id=\"T_ff3307be_9f48_11eb_9498_0242ac130202row5_col19\" class=\"data row5 col19\" >0.010204</td>\n",
              "                        <td id=\"T_ff3307be_9f48_11eb_9498_0242ac130202row5_col20\" class=\"data row5 col20\" >0.010204</td>\n",
              "                        <td id=\"T_ff3307be_9f48_11eb_9498_0242ac130202row5_col21\" class=\"data row5 col21\" >0.000000</td>\n",
              "                        <td id=\"T_ff3307be_9f48_11eb_9498_0242ac130202row5_col22\" class=\"data row5 col22\" >0.000000</td>\n",
              "                        <td id=\"T_ff3307be_9f48_11eb_9498_0242ac130202row5_col23\" class=\"data row5 col23\" >0.000000</td>\n",
              "                        <td id=\"T_ff3307be_9f48_11eb_9498_0242ac130202row5_col24\" class=\"data row5 col24\" >0.010204</td>\n",
              "                        <td id=\"T_ff3307be_9f48_11eb_9498_0242ac130202row5_col25\" class=\"data row5 col25\" >0.000000</td>\n",
              "                        <td id=\"T_ff3307be_9f48_11eb_9498_0242ac130202row5_col26\" class=\"data row5 col26\" >0.000000</td>\n",
              "                        <td id=\"T_ff3307be_9f48_11eb_9498_0242ac130202row5_col27\" class=\"data row5 col27\" >0.010204</td>\n",
              "                        <td id=\"T_ff3307be_9f48_11eb_9498_0242ac130202row5_col28\" class=\"data row5 col28\" >0.000000</td>\n",
              "                        <td id=\"T_ff3307be_9f48_11eb_9498_0242ac130202row5_col29\" class=\"data row5 col29\" >0.010204</td>\n",
              "                        <td id=\"T_ff3307be_9f48_11eb_9498_0242ac130202row5_col30\" class=\"data row5 col30\" >0.000000</td>\n",
              "                        <td id=\"T_ff3307be_9f48_11eb_9498_0242ac130202row5_col31\" class=\"data row5 col31\" >0.010204</td>\n",
              "                        <td id=\"T_ff3307be_9f48_11eb_9498_0242ac130202row5_col32\" class=\"data row5 col32\" >0.000000</td>\n",
              "                        <td id=\"T_ff3307be_9f48_11eb_9498_0242ac130202row5_col33\" class=\"data row5 col33\" >0.000000</td>\n",
              "                        <td id=\"T_ff3307be_9f48_11eb_9498_0242ac130202row5_col34\" class=\"data row5 col34\" >0.000000</td>\n",
              "                        <td id=\"T_ff3307be_9f48_11eb_9498_0242ac130202row5_col35\" class=\"data row5 col35\" >0.000000</td>\n",
              "                        <td id=\"T_ff3307be_9f48_11eb_9498_0242ac130202row5_col36\" class=\"data row5 col36\" >0.010204</td>\n",
              "                        <td id=\"T_ff3307be_9f48_11eb_9498_0242ac130202row5_col37\" class=\"data row5 col37\" >0.000000</td>\n",
              "                        <td id=\"T_ff3307be_9f48_11eb_9498_0242ac130202row5_col38\" class=\"data row5 col38\" >0.000000</td>\n",
              "                        <td id=\"T_ff3307be_9f48_11eb_9498_0242ac130202row5_col39\" class=\"data row5 col39\" >0.000000</td>\n",
              "                        <td id=\"T_ff3307be_9f48_11eb_9498_0242ac130202row5_col40\" class=\"data row5 col40\" >0.000000</td>\n",
              "                        <td id=\"T_ff3307be_9f48_11eb_9498_0242ac130202row5_col41\" class=\"data row5 col41\" >0.000000</td>\n",
              "                        <td id=\"T_ff3307be_9f48_11eb_9498_0242ac130202row5_col42\" class=\"data row5 col42\" >0.000000</td>\n",
              "                        <td id=\"T_ff3307be_9f48_11eb_9498_0242ac130202row5_col43\" class=\"data row5 col43\" >0.000000</td>\n",
              "                        <td id=\"T_ff3307be_9f48_11eb_9498_0242ac130202row5_col44\" class=\"data row5 col44\" >0.000000</td>\n",
              "                        <td id=\"T_ff3307be_9f48_11eb_9498_0242ac130202row5_col45\" class=\"data row5 col45\" >0.000000</td>\n",
              "                        <td id=\"T_ff3307be_9f48_11eb_9498_0242ac130202row5_col46\" class=\"data row5 col46\" >0.000000</td>\n",
              "                        <td id=\"T_ff3307be_9f48_11eb_9498_0242ac130202row5_col47\" class=\"data row5 col47\" >0.010204</td>\n",
              "                        <td id=\"T_ff3307be_9f48_11eb_9498_0242ac130202row5_col48\" class=\"data row5 col48\" >0.010204</td>\n",
              "                        <td id=\"T_ff3307be_9f48_11eb_9498_0242ac130202row5_col49\" class=\"data row5 col49\" >0.000000</td>\n",
              "                        <td id=\"T_ff3307be_9f48_11eb_9498_0242ac130202row5_col50\" class=\"data row5 col50\" >0.000000</td>\n",
              "                        <td id=\"T_ff3307be_9f48_11eb_9498_0242ac130202row5_col51\" class=\"data row5 col51\" >0.000000</td>\n",
              "                        <td id=\"T_ff3307be_9f48_11eb_9498_0242ac130202row5_col52\" class=\"data row5 col52\" >0.000000</td>\n",
              "                        <td id=\"T_ff3307be_9f48_11eb_9498_0242ac130202row5_col53\" class=\"data row5 col53\" >0.010204</td>\n",
              "                        <td id=\"T_ff3307be_9f48_11eb_9498_0242ac130202row5_col54\" class=\"data row5 col54\" >0.000000</td>\n",
              "                        <td id=\"T_ff3307be_9f48_11eb_9498_0242ac130202row5_col55\" class=\"data row5 col55\" >0.000000</td>\n",
              "                        <td id=\"T_ff3307be_9f48_11eb_9498_0242ac130202row5_col56\" class=\"data row5 col56\" >0.000000</td>\n",
              "                        <td id=\"T_ff3307be_9f48_11eb_9498_0242ac130202row5_col57\" class=\"data row5 col57\" >0.000000</td>\n",
              "                        <td id=\"T_ff3307be_9f48_11eb_9498_0242ac130202row5_col58\" class=\"data row5 col58\" >0.000000</td>\n",
              "                        <td id=\"T_ff3307be_9f48_11eb_9498_0242ac130202row5_col59\" class=\"data row5 col59\" >0.000000</td>\n",
              "                        <td id=\"T_ff3307be_9f48_11eb_9498_0242ac130202row5_col60\" class=\"data row5 col60\" >0.000000</td>\n",
              "                        <td id=\"T_ff3307be_9f48_11eb_9498_0242ac130202row5_col61\" class=\"data row5 col61\" >0.000000</td>\n",
              "                        <td id=\"T_ff3307be_9f48_11eb_9498_0242ac130202row5_col62\" class=\"data row5 col62\" >0.000000</td>\n",
              "                        <td id=\"T_ff3307be_9f48_11eb_9498_0242ac130202row5_col63\" class=\"data row5 col63\" >0.000000</td>\n",
              "                        <td id=\"T_ff3307be_9f48_11eb_9498_0242ac130202row5_col64\" class=\"data row5 col64\" >0.000000</td>\n",
              "                        <td id=\"T_ff3307be_9f48_11eb_9498_0242ac130202row5_col65\" class=\"data row5 col65\" >0.000000</td>\n",
              "                        <td id=\"T_ff3307be_9f48_11eb_9498_0242ac130202row5_col66\" class=\"data row5 col66\" >0.000000</td>\n",
              "                        <td id=\"T_ff3307be_9f48_11eb_9498_0242ac130202row5_col67\" class=\"data row5 col67\" >0.000000</td>\n",
              "                        <td id=\"T_ff3307be_9f48_11eb_9498_0242ac130202row5_col68\" class=\"data row5 col68\" >0.000000</td>\n",
              "                        <td id=\"T_ff3307be_9f48_11eb_9498_0242ac130202row5_col69\" class=\"data row5 col69\" >0.000000</td>\n",
              "                        <td id=\"T_ff3307be_9f48_11eb_9498_0242ac130202row5_col70\" class=\"data row5 col70\" >0.000000</td>\n",
              "                        <td id=\"T_ff3307be_9f48_11eb_9498_0242ac130202row5_col71\" class=\"data row5 col71\" >0.000000</td>\n",
              "                        <td id=\"T_ff3307be_9f48_11eb_9498_0242ac130202row5_col72\" class=\"data row5 col72\" >0.000000</td>\n",
              "                        <td id=\"T_ff3307be_9f48_11eb_9498_0242ac130202row5_col73\" class=\"data row5 col73\" >0.000000</td>\n",
              "                        <td id=\"T_ff3307be_9f48_11eb_9498_0242ac130202row5_col74\" class=\"data row5 col74\" >0.000000</td>\n",
              "                        <td id=\"T_ff3307be_9f48_11eb_9498_0242ac130202row5_col75\" class=\"data row5 col75\" >0.010204</td>\n",
              "                        <td id=\"T_ff3307be_9f48_11eb_9498_0242ac130202row5_col76\" class=\"data row5 col76\" >0.000000</td>\n",
              "                        <td id=\"T_ff3307be_9f48_11eb_9498_0242ac130202row5_col77\" class=\"data row5 col77\" >0.000000</td>\n",
              "                        <td id=\"T_ff3307be_9f48_11eb_9498_0242ac130202row5_col78\" class=\"data row5 col78\" >0.000000</td>\n",
              "                        <td id=\"T_ff3307be_9f48_11eb_9498_0242ac130202row5_col79\" class=\"data row5 col79\" >0.000000</td>\n",
              "                        <td id=\"T_ff3307be_9f48_11eb_9498_0242ac130202row5_col80\" class=\"data row5 col80\" >0.000000</td>\n",
              "                        <td id=\"T_ff3307be_9f48_11eb_9498_0242ac130202row5_col81\" class=\"data row5 col81\" >0.000000</td>\n",
              "                        <td id=\"T_ff3307be_9f48_11eb_9498_0242ac130202row5_col82\" class=\"data row5 col82\" >0.000000</td>\n",
              "                        <td id=\"T_ff3307be_9f48_11eb_9498_0242ac130202row5_col83\" class=\"data row5 col83\" >0.000000</td>\n",
              "                        <td id=\"T_ff3307be_9f48_11eb_9498_0242ac130202row5_col84\" class=\"data row5 col84\" >0.000000</td>\n",
              "                        <td id=\"T_ff3307be_9f48_11eb_9498_0242ac130202row5_col85\" class=\"data row5 col85\" >0.000000</td>\n",
              "                        <td id=\"T_ff3307be_9f48_11eb_9498_0242ac130202row5_col86\" class=\"data row5 col86\" >0.000000</td>\n",
              "                        <td id=\"T_ff3307be_9f48_11eb_9498_0242ac130202row5_col87\" class=\"data row5 col87\" >0.000000</td>\n",
              "                        <td id=\"T_ff3307be_9f48_11eb_9498_0242ac130202row5_col88\" class=\"data row5 col88\" >0.000000</td>\n",
              "                        <td id=\"T_ff3307be_9f48_11eb_9498_0242ac130202row5_col89\" class=\"data row5 col89\" >0.000000</td>\n",
              "                        <td id=\"T_ff3307be_9f48_11eb_9498_0242ac130202row5_col90\" class=\"data row5 col90\" >0.000000</td>\n",
              "                        <td id=\"T_ff3307be_9f48_11eb_9498_0242ac130202row5_col91\" class=\"data row5 col91\" >0.010204</td>\n",
              "                        <td id=\"T_ff3307be_9f48_11eb_9498_0242ac130202row5_col92\" class=\"data row5 col92\" >0.000000</td>\n",
              "                        <td id=\"T_ff3307be_9f48_11eb_9498_0242ac130202row5_col93\" class=\"data row5 col93\" >0.000000</td>\n",
              "                        <td id=\"T_ff3307be_9f48_11eb_9498_0242ac130202row5_col94\" class=\"data row5 col94\" >0.010204</td>\n",
              "                        <td id=\"T_ff3307be_9f48_11eb_9498_0242ac130202row5_col95\" class=\"data row5 col95\" >0.000000</td>\n",
              "                        <td id=\"T_ff3307be_9f48_11eb_9498_0242ac130202row5_col96\" class=\"data row5 col96\" >0.010204</td>\n",
              "                        <td id=\"T_ff3307be_9f48_11eb_9498_0242ac130202row5_col97\" class=\"data row5 col97\" >0.000000</td>\n",
              "            </tr>\n",
              "            <tr>\n",
              "                        <th id=\"T_ff3307be_9f48_11eb_9498_0242ac130202level0_row6\" class=\"row_heading level0 row6\" >6</th>\n",
              "                        <td id=\"T_ff3307be_9f48_11eb_9498_0242ac130202row6_col0\" class=\"data row6 col0\" >0.000000</td>\n",
              "                        <td id=\"T_ff3307be_9f48_11eb_9498_0242ac130202row6_col1\" class=\"data row6 col1\" >0.000000</td>\n",
              "                        <td id=\"T_ff3307be_9f48_11eb_9498_0242ac130202row6_col2\" class=\"data row6 col2\" >0.000000</td>\n",
              "                        <td id=\"T_ff3307be_9f48_11eb_9498_0242ac130202row6_col3\" class=\"data row6 col3\" >0.000000</td>\n",
              "                        <td id=\"T_ff3307be_9f48_11eb_9498_0242ac130202row6_col4\" class=\"data row6 col4\" >0.000000</td>\n",
              "                        <td id=\"T_ff3307be_9f48_11eb_9498_0242ac130202row6_col5\" class=\"data row6 col5\" >0.000000</td>\n",
              "                        <td id=\"T_ff3307be_9f48_11eb_9498_0242ac130202row6_col6\" class=\"data row6 col6\" >0.000000</td>\n",
              "                        <td id=\"T_ff3307be_9f48_11eb_9498_0242ac130202row6_col7\" class=\"data row6 col7\" >0.000000</td>\n",
              "                        <td id=\"T_ff3307be_9f48_11eb_9498_0242ac130202row6_col8\" class=\"data row6 col8\" >0.000000</td>\n",
              "                        <td id=\"T_ff3307be_9f48_11eb_9498_0242ac130202row6_col9\" class=\"data row6 col9\" >0.000000</td>\n",
              "                        <td id=\"T_ff3307be_9f48_11eb_9498_0242ac130202row6_col10\" class=\"data row6 col10\" >0.000000</td>\n",
              "                        <td id=\"T_ff3307be_9f48_11eb_9498_0242ac130202row6_col11\" class=\"data row6 col11\" >0.000000</td>\n",
              "                        <td id=\"T_ff3307be_9f48_11eb_9498_0242ac130202row6_col12\" class=\"data row6 col12\" >0.010204</td>\n",
              "                        <td id=\"T_ff3307be_9f48_11eb_9498_0242ac130202row6_col13\" class=\"data row6 col13\" >0.000000</td>\n",
              "                        <td id=\"T_ff3307be_9f48_11eb_9498_0242ac130202row6_col14\" class=\"data row6 col14\" >0.000000</td>\n",
              "                        <td id=\"T_ff3307be_9f48_11eb_9498_0242ac130202row6_col15\" class=\"data row6 col15\" >0.000000</td>\n",
              "                        <td id=\"T_ff3307be_9f48_11eb_9498_0242ac130202row6_col16\" class=\"data row6 col16\" >0.000000</td>\n",
              "                        <td id=\"T_ff3307be_9f48_11eb_9498_0242ac130202row6_col17\" class=\"data row6 col17\" >0.000000</td>\n",
              "                        <td id=\"T_ff3307be_9f48_11eb_9498_0242ac130202row6_col18\" class=\"data row6 col18\" >0.000000</td>\n",
              "                        <td id=\"T_ff3307be_9f48_11eb_9498_0242ac130202row6_col19\" class=\"data row6 col19\" >0.000000</td>\n",
              "                        <td id=\"T_ff3307be_9f48_11eb_9498_0242ac130202row6_col20\" class=\"data row6 col20\" >0.000000</td>\n",
              "                        <td id=\"T_ff3307be_9f48_11eb_9498_0242ac130202row6_col21\" class=\"data row6 col21\" >0.000000</td>\n",
              "                        <td id=\"T_ff3307be_9f48_11eb_9498_0242ac130202row6_col22\" class=\"data row6 col22\" >0.000000</td>\n",
              "                        <td id=\"T_ff3307be_9f48_11eb_9498_0242ac130202row6_col23\" class=\"data row6 col23\" >0.010204</td>\n",
              "                        <td id=\"T_ff3307be_9f48_11eb_9498_0242ac130202row6_col24\" class=\"data row6 col24\" >0.000000</td>\n",
              "                        <td id=\"T_ff3307be_9f48_11eb_9498_0242ac130202row6_col25\" class=\"data row6 col25\" >0.010204</td>\n",
              "                        <td id=\"T_ff3307be_9f48_11eb_9498_0242ac130202row6_col26\" class=\"data row6 col26\" >0.000000</td>\n",
              "                        <td id=\"T_ff3307be_9f48_11eb_9498_0242ac130202row6_col27\" class=\"data row6 col27\" >0.000000</td>\n",
              "                        <td id=\"T_ff3307be_9f48_11eb_9498_0242ac130202row6_col28\" class=\"data row6 col28\" >0.000000</td>\n",
              "                        <td id=\"T_ff3307be_9f48_11eb_9498_0242ac130202row6_col29\" class=\"data row6 col29\" >0.000000</td>\n",
              "                        <td id=\"T_ff3307be_9f48_11eb_9498_0242ac130202row6_col30\" class=\"data row6 col30\" >0.010204</td>\n",
              "                        <td id=\"T_ff3307be_9f48_11eb_9498_0242ac130202row6_col31\" class=\"data row6 col31\" >0.000000</td>\n",
              "                        <td id=\"T_ff3307be_9f48_11eb_9498_0242ac130202row6_col32\" class=\"data row6 col32\" >0.000000</td>\n",
              "                        <td id=\"T_ff3307be_9f48_11eb_9498_0242ac130202row6_col33\" class=\"data row6 col33\" >0.000000</td>\n",
              "                        <td id=\"T_ff3307be_9f48_11eb_9498_0242ac130202row6_col34\" class=\"data row6 col34\" >0.000000</td>\n",
              "                        <td id=\"T_ff3307be_9f48_11eb_9498_0242ac130202row6_col35\" class=\"data row6 col35\" >0.000000</td>\n",
              "                        <td id=\"T_ff3307be_9f48_11eb_9498_0242ac130202row6_col36\" class=\"data row6 col36\" >0.000000</td>\n",
              "                        <td id=\"T_ff3307be_9f48_11eb_9498_0242ac130202row6_col37\" class=\"data row6 col37\" >0.010204</td>\n",
              "                        <td id=\"T_ff3307be_9f48_11eb_9498_0242ac130202row6_col38\" class=\"data row6 col38\" >0.010204</td>\n",
              "                        <td id=\"T_ff3307be_9f48_11eb_9498_0242ac130202row6_col39\" class=\"data row6 col39\" >0.010204</td>\n",
              "                        <td id=\"T_ff3307be_9f48_11eb_9498_0242ac130202row6_col40\" class=\"data row6 col40\" >0.000000</td>\n",
              "                        <td id=\"T_ff3307be_9f48_11eb_9498_0242ac130202row6_col41\" class=\"data row6 col41\" >0.000000</td>\n",
              "                        <td id=\"T_ff3307be_9f48_11eb_9498_0242ac130202row6_col42\" class=\"data row6 col42\" >0.000000</td>\n",
              "                        <td id=\"T_ff3307be_9f48_11eb_9498_0242ac130202row6_col43\" class=\"data row6 col43\" >0.000000</td>\n",
              "                        <td id=\"T_ff3307be_9f48_11eb_9498_0242ac130202row6_col44\" class=\"data row6 col44\" >0.000000</td>\n",
              "                        <td id=\"T_ff3307be_9f48_11eb_9498_0242ac130202row6_col45\" class=\"data row6 col45\" >0.010204</td>\n",
              "                        <td id=\"T_ff3307be_9f48_11eb_9498_0242ac130202row6_col46\" class=\"data row6 col46\" >0.000000</td>\n",
              "                        <td id=\"T_ff3307be_9f48_11eb_9498_0242ac130202row6_col47\" class=\"data row6 col47\" >0.000000</td>\n",
              "                        <td id=\"T_ff3307be_9f48_11eb_9498_0242ac130202row6_col48\" class=\"data row6 col48\" >0.010204</td>\n",
              "                        <td id=\"T_ff3307be_9f48_11eb_9498_0242ac130202row6_col49\" class=\"data row6 col49\" >0.000000</td>\n",
              "                        <td id=\"T_ff3307be_9f48_11eb_9498_0242ac130202row6_col50\" class=\"data row6 col50\" >0.000000</td>\n",
              "                        <td id=\"T_ff3307be_9f48_11eb_9498_0242ac130202row6_col51\" class=\"data row6 col51\" >0.000000</td>\n",
              "                        <td id=\"T_ff3307be_9f48_11eb_9498_0242ac130202row6_col52\" class=\"data row6 col52\" >0.000000</td>\n",
              "                        <td id=\"T_ff3307be_9f48_11eb_9498_0242ac130202row6_col53\" class=\"data row6 col53\" >0.000000</td>\n",
              "                        <td id=\"T_ff3307be_9f48_11eb_9498_0242ac130202row6_col54\" class=\"data row6 col54\" >0.010204</td>\n",
              "                        <td id=\"T_ff3307be_9f48_11eb_9498_0242ac130202row6_col55\" class=\"data row6 col55\" >0.000000</td>\n",
              "                        <td id=\"T_ff3307be_9f48_11eb_9498_0242ac130202row6_col56\" class=\"data row6 col56\" >0.000000</td>\n",
              "                        <td id=\"T_ff3307be_9f48_11eb_9498_0242ac130202row6_col57\" class=\"data row6 col57\" >0.000000</td>\n",
              "                        <td id=\"T_ff3307be_9f48_11eb_9498_0242ac130202row6_col58\" class=\"data row6 col58\" >0.000000</td>\n",
              "                        <td id=\"T_ff3307be_9f48_11eb_9498_0242ac130202row6_col59\" class=\"data row6 col59\" >0.000000</td>\n",
              "                        <td id=\"T_ff3307be_9f48_11eb_9498_0242ac130202row6_col60\" class=\"data row6 col60\" >0.010204</td>\n",
              "                        <td id=\"T_ff3307be_9f48_11eb_9498_0242ac130202row6_col61\" class=\"data row6 col61\" >0.000000</td>\n",
              "                        <td id=\"T_ff3307be_9f48_11eb_9498_0242ac130202row6_col62\" class=\"data row6 col62\" >0.000000</td>\n",
              "                        <td id=\"T_ff3307be_9f48_11eb_9498_0242ac130202row6_col63\" class=\"data row6 col63\" >0.000000</td>\n",
              "                        <td id=\"T_ff3307be_9f48_11eb_9498_0242ac130202row6_col64\" class=\"data row6 col64\" >0.000000</td>\n",
              "                        <td id=\"T_ff3307be_9f48_11eb_9498_0242ac130202row6_col65\" class=\"data row6 col65\" >0.000000</td>\n",
              "                        <td id=\"T_ff3307be_9f48_11eb_9498_0242ac130202row6_col66\" class=\"data row6 col66\" >0.000000</td>\n",
              "                        <td id=\"T_ff3307be_9f48_11eb_9498_0242ac130202row6_col67\" class=\"data row6 col67\" >0.000000</td>\n",
              "                        <td id=\"T_ff3307be_9f48_11eb_9498_0242ac130202row6_col68\" class=\"data row6 col68\" >0.000000</td>\n",
              "                        <td id=\"T_ff3307be_9f48_11eb_9498_0242ac130202row6_col69\" class=\"data row6 col69\" >0.000000</td>\n",
              "                        <td id=\"T_ff3307be_9f48_11eb_9498_0242ac130202row6_col70\" class=\"data row6 col70\" >0.000000</td>\n",
              "                        <td id=\"T_ff3307be_9f48_11eb_9498_0242ac130202row6_col71\" class=\"data row6 col71\" >0.010204</td>\n",
              "                        <td id=\"T_ff3307be_9f48_11eb_9498_0242ac130202row6_col72\" class=\"data row6 col72\" >0.000000</td>\n",
              "                        <td id=\"T_ff3307be_9f48_11eb_9498_0242ac130202row6_col73\" class=\"data row6 col73\" >0.000000</td>\n",
              "                        <td id=\"T_ff3307be_9f48_11eb_9498_0242ac130202row6_col74\" class=\"data row6 col74\" >0.000000</td>\n",
              "                        <td id=\"T_ff3307be_9f48_11eb_9498_0242ac130202row6_col75\" class=\"data row6 col75\" >0.000000</td>\n",
              "                        <td id=\"T_ff3307be_9f48_11eb_9498_0242ac130202row6_col76\" class=\"data row6 col76\" >0.000000</td>\n",
              "                        <td id=\"T_ff3307be_9f48_11eb_9498_0242ac130202row6_col77\" class=\"data row6 col77\" >0.000000</td>\n",
              "                        <td id=\"T_ff3307be_9f48_11eb_9498_0242ac130202row6_col78\" class=\"data row6 col78\" >0.000000</td>\n",
              "                        <td id=\"T_ff3307be_9f48_11eb_9498_0242ac130202row6_col79\" class=\"data row6 col79\" >0.000000</td>\n",
              "                        <td id=\"T_ff3307be_9f48_11eb_9498_0242ac130202row6_col80\" class=\"data row6 col80\" >0.000000</td>\n",
              "                        <td id=\"T_ff3307be_9f48_11eb_9498_0242ac130202row6_col81\" class=\"data row6 col81\" >0.000000</td>\n",
              "                        <td id=\"T_ff3307be_9f48_11eb_9498_0242ac130202row6_col82\" class=\"data row6 col82\" >0.000000</td>\n",
              "                        <td id=\"T_ff3307be_9f48_11eb_9498_0242ac130202row6_col83\" class=\"data row6 col83\" >0.000000</td>\n",
              "                        <td id=\"T_ff3307be_9f48_11eb_9498_0242ac130202row6_col84\" class=\"data row6 col84\" >0.010204</td>\n",
              "                        <td id=\"T_ff3307be_9f48_11eb_9498_0242ac130202row6_col85\" class=\"data row6 col85\" >0.000000</td>\n",
              "                        <td id=\"T_ff3307be_9f48_11eb_9498_0242ac130202row6_col86\" class=\"data row6 col86\" >0.010204</td>\n",
              "                        <td id=\"T_ff3307be_9f48_11eb_9498_0242ac130202row6_col87\" class=\"data row6 col87\" >0.000000</td>\n",
              "                        <td id=\"T_ff3307be_9f48_11eb_9498_0242ac130202row6_col88\" class=\"data row6 col88\" >0.000000</td>\n",
              "                        <td id=\"T_ff3307be_9f48_11eb_9498_0242ac130202row6_col89\" class=\"data row6 col89\" >0.000000</td>\n",
              "                        <td id=\"T_ff3307be_9f48_11eb_9498_0242ac130202row6_col90\" class=\"data row6 col90\" >0.000000</td>\n",
              "                        <td id=\"T_ff3307be_9f48_11eb_9498_0242ac130202row6_col91\" class=\"data row6 col91\" >0.000000</td>\n",
              "                        <td id=\"T_ff3307be_9f48_11eb_9498_0242ac130202row6_col92\" class=\"data row6 col92\" >0.000000</td>\n",
              "                        <td id=\"T_ff3307be_9f48_11eb_9498_0242ac130202row6_col93\" class=\"data row6 col93\" >0.000000</td>\n",
              "                        <td id=\"T_ff3307be_9f48_11eb_9498_0242ac130202row6_col94\" class=\"data row6 col94\" >0.000000</td>\n",
              "                        <td id=\"T_ff3307be_9f48_11eb_9498_0242ac130202row6_col95\" class=\"data row6 col95\" >0.000000</td>\n",
              "                        <td id=\"T_ff3307be_9f48_11eb_9498_0242ac130202row6_col96\" class=\"data row6 col96\" >0.000000</td>\n",
              "                        <td id=\"T_ff3307be_9f48_11eb_9498_0242ac130202row6_col97\" class=\"data row6 col97\" >0.000000</td>\n",
              "            </tr>\n",
              "            <tr>\n",
              "                        <th id=\"T_ff3307be_9f48_11eb_9498_0242ac130202level0_row7\" class=\"row_heading level0 row7\" >7</th>\n",
              "                        <td id=\"T_ff3307be_9f48_11eb_9498_0242ac130202row7_col0\" class=\"data row7 col0\" >0.000000</td>\n",
              "                        <td id=\"T_ff3307be_9f48_11eb_9498_0242ac130202row7_col1\" class=\"data row7 col1\" >0.000000</td>\n",
              "                        <td id=\"T_ff3307be_9f48_11eb_9498_0242ac130202row7_col2\" class=\"data row7 col2\" >0.000000</td>\n",
              "                        <td id=\"T_ff3307be_9f48_11eb_9498_0242ac130202row7_col3\" class=\"data row7 col3\" >0.000000</td>\n",
              "                        <td id=\"T_ff3307be_9f48_11eb_9498_0242ac130202row7_col4\" class=\"data row7 col4\" >0.000000</td>\n",
              "                        <td id=\"T_ff3307be_9f48_11eb_9498_0242ac130202row7_col5\" class=\"data row7 col5\" >0.000000</td>\n",
              "                        <td id=\"T_ff3307be_9f48_11eb_9498_0242ac130202row7_col6\" class=\"data row7 col6\" >0.000000</td>\n",
              "                        <td id=\"T_ff3307be_9f48_11eb_9498_0242ac130202row7_col7\" class=\"data row7 col7\" >0.000000</td>\n",
              "                        <td id=\"T_ff3307be_9f48_11eb_9498_0242ac130202row7_col8\" class=\"data row7 col8\" >0.000000</td>\n",
              "                        <td id=\"T_ff3307be_9f48_11eb_9498_0242ac130202row7_col9\" class=\"data row7 col9\" >0.010204</td>\n",
              "                        <td id=\"T_ff3307be_9f48_11eb_9498_0242ac130202row7_col10\" class=\"data row7 col10\" >0.000000</td>\n",
              "                        <td id=\"T_ff3307be_9f48_11eb_9498_0242ac130202row7_col11\" class=\"data row7 col11\" >0.000000</td>\n",
              "                        <td id=\"T_ff3307be_9f48_11eb_9498_0242ac130202row7_col12\" class=\"data row7 col12\" >0.000000</td>\n",
              "                        <td id=\"T_ff3307be_9f48_11eb_9498_0242ac130202row7_col13\" class=\"data row7 col13\" >0.000000</td>\n",
              "                        <td id=\"T_ff3307be_9f48_11eb_9498_0242ac130202row7_col14\" class=\"data row7 col14\" >0.000000</td>\n",
              "                        <td id=\"T_ff3307be_9f48_11eb_9498_0242ac130202row7_col15\" class=\"data row7 col15\" >0.000000</td>\n",
              "                        <td id=\"T_ff3307be_9f48_11eb_9498_0242ac130202row7_col16\" class=\"data row7 col16\" >0.000000</td>\n",
              "                        <td id=\"T_ff3307be_9f48_11eb_9498_0242ac130202row7_col17\" class=\"data row7 col17\" >0.000000</td>\n",
              "                        <td id=\"T_ff3307be_9f48_11eb_9498_0242ac130202row7_col18\" class=\"data row7 col18\" >0.000000</td>\n",
              "                        <td id=\"T_ff3307be_9f48_11eb_9498_0242ac130202row7_col19\" class=\"data row7 col19\" >0.000000</td>\n",
              "                        <td id=\"T_ff3307be_9f48_11eb_9498_0242ac130202row7_col20\" class=\"data row7 col20\" >0.000000</td>\n",
              "                        <td id=\"T_ff3307be_9f48_11eb_9498_0242ac130202row7_col21\" class=\"data row7 col21\" >0.010204</td>\n",
              "                        <td id=\"T_ff3307be_9f48_11eb_9498_0242ac130202row7_col22\" class=\"data row7 col22\" >0.000000</td>\n",
              "                        <td id=\"T_ff3307be_9f48_11eb_9498_0242ac130202row7_col23\" class=\"data row7 col23\" >0.000000</td>\n",
              "                        <td id=\"T_ff3307be_9f48_11eb_9498_0242ac130202row7_col24\" class=\"data row7 col24\" >0.000000</td>\n",
              "                        <td id=\"T_ff3307be_9f48_11eb_9498_0242ac130202row7_col25\" class=\"data row7 col25\" >0.000000</td>\n",
              "                        <td id=\"T_ff3307be_9f48_11eb_9498_0242ac130202row7_col26\" class=\"data row7 col26\" >0.000000</td>\n",
              "                        <td id=\"T_ff3307be_9f48_11eb_9498_0242ac130202row7_col27\" class=\"data row7 col27\" >0.000000</td>\n",
              "                        <td id=\"T_ff3307be_9f48_11eb_9498_0242ac130202row7_col28\" class=\"data row7 col28\" >0.000000</td>\n",
              "                        <td id=\"T_ff3307be_9f48_11eb_9498_0242ac130202row7_col29\" class=\"data row7 col29\" >0.000000</td>\n",
              "                        <td id=\"T_ff3307be_9f48_11eb_9498_0242ac130202row7_col30\" class=\"data row7 col30\" >0.000000</td>\n",
              "                        <td id=\"T_ff3307be_9f48_11eb_9498_0242ac130202row7_col31\" class=\"data row7 col31\" >0.000000</td>\n",
              "                        <td id=\"T_ff3307be_9f48_11eb_9498_0242ac130202row7_col32\" class=\"data row7 col32\" >0.000000</td>\n",
              "                        <td id=\"T_ff3307be_9f48_11eb_9498_0242ac130202row7_col33\" class=\"data row7 col33\" >0.000000</td>\n",
              "                        <td id=\"T_ff3307be_9f48_11eb_9498_0242ac130202row7_col34\" class=\"data row7 col34\" >0.000000</td>\n",
              "                        <td id=\"T_ff3307be_9f48_11eb_9498_0242ac130202row7_col35\" class=\"data row7 col35\" >0.000000</td>\n",
              "                        <td id=\"T_ff3307be_9f48_11eb_9498_0242ac130202row7_col36\" class=\"data row7 col36\" >0.010204</td>\n",
              "                        <td id=\"T_ff3307be_9f48_11eb_9498_0242ac130202row7_col37\" class=\"data row7 col37\" >0.000000</td>\n",
              "                        <td id=\"T_ff3307be_9f48_11eb_9498_0242ac130202row7_col38\" class=\"data row7 col38\" >0.000000</td>\n",
              "                        <td id=\"T_ff3307be_9f48_11eb_9498_0242ac130202row7_col39\" class=\"data row7 col39\" >0.000000</td>\n",
              "                        <td id=\"T_ff3307be_9f48_11eb_9498_0242ac130202row7_col40\" class=\"data row7 col40\" >0.000000</td>\n",
              "                        <td id=\"T_ff3307be_9f48_11eb_9498_0242ac130202row7_col41\" class=\"data row7 col41\" >0.000000</td>\n",
              "                        <td id=\"T_ff3307be_9f48_11eb_9498_0242ac130202row7_col42\" class=\"data row7 col42\" >0.000000</td>\n",
              "                        <td id=\"T_ff3307be_9f48_11eb_9498_0242ac130202row7_col43\" class=\"data row7 col43\" >0.000000</td>\n",
              "                        <td id=\"T_ff3307be_9f48_11eb_9498_0242ac130202row7_col44\" class=\"data row7 col44\" >0.000000</td>\n",
              "                        <td id=\"T_ff3307be_9f48_11eb_9498_0242ac130202row7_col45\" class=\"data row7 col45\" >0.000000</td>\n",
              "                        <td id=\"T_ff3307be_9f48_11eb_9498_0242ac130202row7_col46\" class=\"data row7 col46\" >0.010204</td>\n",
              "                        <td id=\"T_ff3307be_9f48_11eb_9498_0242ac130202row7_col47\" class=\"data row7 col47\" >0.000000</td>\n",
              "                        <td id=\"T_ff3307be_9f48_11eb_9498_0242ac130202row7_col48\" class=\"data row7 col48\" >0.010204</td>\n",
              "                        <td id=\"T_ff3307be_9f48_11eb_9498_0242ac130202row7_col49\" class=\"data row7 col49\" >0.000000</td>\n",
              "                        <td id=\"T_ff3307be_9f48_11eb_9498_0242ac130202row7_col50\" class=\"data row7 col50\" >0.000000</td>\n",
              "                        <td id=\"T_ff3307be_9f48_11eb_9498_0242ac130202row7_col51\" class=\"data row7 col51\" >0.000000</td>\n",
              "                        <td id=\"T_ff3307be_9f48_11eb_9498_0242ac130202row7_col52\" class=\"data row7 col52\" >0.000000</td>\n",
              "                        <td id=\"T_ff3307be_9f48_11eb_9498_0242ac130202row7_col53\" class=\"data row7 col53\" >0.000000</td>\n",
              "                        <td id=\"T_ff3307be_9f48_11eb_9498_0242ac130202row7_col54\" class=\"data row7 col54\" >0.000000</td>\n",
              "                        <td id=\"T_ff3307be_9f48_11eb_9498_0242ac130202row7_col55\" class=\"data row7 col55\" >0.000000</td>\n",
              "                        <td id=\"T_ff3307be_9f48_11eb_9498_0242ac130202row7_col56\" class=\"data row7 col56\" >0.000000</td>\n",
              "                        <td id=\"T_ff3307be_9f48_11eb_9498_0242ac130202row7_col57\" class=\"data row7 col57\" >0.000000</td>\n",
              "                        <td id=\"T_ff3307be_9f48_11eb_9498_0242ac130202row7_col58\" class=\"data row7 col58\" >0.000000</td>\n",
              "                        <td id=\"T_ff3307be_9f48_11eb_9498_0242ac130202row7_col59\" class=\"data row7 col59\" >0.000000</td>\n",
              "                        <td id=\"T_ff3307be_9f48_11eb_9498_0242ac130202row7_col60\" class=\"data row7 col60\" >0.010204</td>\n",
              "                        <td id=\"T_ff3307be_9f48_11eb_9498_0242ac130202row7_col61\" class=\"data row7 col61\" >0.000000</td>\n",
              "                        <td id=\"T_ff3307be_9f48_11eb_9498_0242ac130202row7_col62\" class=\"data row7 col62\" >0.010204</td>\n",
              "                        <td id=\"T_ff3307be_9f48_11eb_9498_0242ac130202row7_col63\" class=\"data row7 col63\" >0.000000</td>\n",
              "                        <td id=\"T_ff3307be_9f48_11eb_9498_0242ac130202row7_col64\" class=\"data row7 col64\" >0.000000</td>\n",
              "                        <td id=\"T_ff3307be_9f48_11eb_9498_0242ac130202row7_col65\" class=\"data row7 col65\" >0.000000</td>\n",
              "                        <td id=\"T_ff3307be_9f48_11eb_9498_0242ac130202row7_col66\" class=\"data row7 col66\" >0.000000</td>\n",
              "                        <td id=\"T_ff3307be_9f48_11eb_9498_0242ac130202row7_col67\" class=\"data row7 col67\" >0.000000</td>\n",
              "                        <td id=\"T_ff3307be_9f48_11eb_9498_0242ac130202row7_col68\" class=\"data row7 col68\" >0.000000</td>\n",
              "                        <td id=\"T_ff3307be_9f48_11eb_9498_0242ac130202row7_col69\" class=\"data row7 col69\" >0.000000</td>\n",
              "                        <td id=\"T_ff3307be_9f48_11eb_9498_0242ac130202row7_col70\" class=\"data row7 col70\" >0.000000</td>\n",
              "                        <td id=\"T_ff3307be_9f48_11eb_9498_0242ac130202row7_col71\" class=\"data row7 col71\" >0.000000</td>\n",
              "                        <td id=\"T_ff3307be_9f48_11eb_9498_0242ac130202row7_col72\" class=\"data row7 col72\" >0.000000</td>\n",
              "                        <td id=\"T_ff3307be_9f48_11eb_9498_0242ac130202row7_col73\" class=\"data row7 col73\" >0.000000</td>\n",
              "                        <td id=\"T_ff3307be_9f48_11eb_9498_0242ac130202row7_col74\" class=\"data row7 col74\" >0.000000</td>\n",
              "                        <td id=\"T_ff3307be_9f48_11eb_9498_0242ac130202row7_col75\" class=\"data row7 col75\" >0.000000</td>\n",
              "                        <td id=\"T_ff3307be_9f48_11eb_9498_0242ac130202row7_col76\" class=\"data row7 col76\" >0.000000</td>\n",
              "                        <td id=\"T_ff3307be_9f48_11eb_9498_0242ac130202row7_col77\" class=\"data row7 col77\" >0.000000</td>\n",
              "                        <td id=\"T_ff3307be_9f48_11eb_9498_0242ac130202row7_col78\" class=\"data row7 col78\" >0.000000</td>\n",
              "                        <td id=\"T_ff3307be_9f48_11eb_9498_0242ac130202row7_col79\" class=\"data row7 col79\" >0.000000</td>\n",
              "                        <td id=\"T_ff3307be_9f48_11eb_9498_0242ac130202row7_col80\" class=\"data row7 col80\" >0.010204</td>\n",
              "                        <td id=\"T_ff3307be_9f48_11eb_9498_0242ac130202row7_col81\" class=\"data row7 col81\" >0.000000</td>\n",
              "                        <td id=\"T_ff3307be_9f48_11eb_9498_0242ac130202row7_col82\" class=\"data row7 col82\" >0.000000</td>\n",
              "                        <td id=\"T_ff3307be_9f48_11eb_9498_0242ac130202row7_col83\" class=\"data row7 col83\" >0.000000</td>\n",
              "                        <td id=\"T_ff3307be_9f48_11eb_9498_0242ac130202row7_col84\" class=\"data row7 col84\" >0.000000</td>\n",
              "                        <td id=\"T_ff3307be_9f48_11eb_9498_0242ac130202row7_col85\" class=\"data row7 col85\" >0.000000</td>\n",
              "                        <td id=\"T_ff3307be_9f48_11eb_9498_0242ac130202row7_col86\" class=\"data row7 col86\" >0.000000</td>\n",
              "                        <td id=\"T_ff3307be_9f48_11eb_9498_0242ac130202row7_col87\" class=\"data row7 col87\" >0.000000</td>\n",
              "                        <td id=\"T_ff3307be_9f48_11eb_9498_0242ac130202row7_col88\" class=\"data row7 col88\" >0.020408</td>\n",
              "                        <td id=\"T_ff3307be_9f48_11eb_9498_0242ac130202row7_col89\" class=\"data row7 col89\" >0.000000</td>\n",
              "                        <td id=\"T_ff3307be_9f48_11eb_9498_0242ac130202row7_col90\" class=\"data row7 col90\" >0.000000</td>\n",
              "                        <td id=\"T_ff3307be_9f48_11eb_9498_0242ac130202row7_col91\" class=\"data row7 col91\" >0.000000</td>\n",
              "                        <td id=\"T_ff3307be_9f48_11eb_9498_0242ac130202row7_col92\" class=\"data row7 col92\" >0.010204</td>\n",
              "                        <td id=\"T_ff3307be_9f48_11eb_9498_0242ac130202row7_col93\" class=\"data row7 col93\" >0.000000</td>\n",
              "                        <td id=\"T_ff3307be_9f48_11eb_9498_0242ac130202row7_col94\" class=\"data row7 col94\" >0.000000</td>\n",
              "                        <td id=\"T_ff3307be_9f48_11eb_9498_0242ac130202row7_col95\" class=\"data row7 col95\" >0.000000</td>\n",
              "                        <td id=\"T_ff3307be_9f48_11eb_9498_0242ac130202row7_col96\" class=\"data row7 col96\" >0.000000</td>\n",
              "                        <td id=\"T_ff3307be_9f48_11eb_9498_0242ac130202row7_col97\" class=\"data row7 col97\" >0.010204</td>\n",
              "            </tr>\n",
              "            <tr>\n",
              "                        <th id=\"T_ff3307be_9f48_11eb_9498_0242ac130202level0_row8\" class=\"row_heading level0 row8\" >8</th>\n",
              "                        <td id=\"T_ff3307be_9f48_11eb_9498_0242ac130202row8_col0\" class=\"data row8 col0\" >0.000000</td>\n",
              "                        <td id=\"T_ff3307be_9f48_11eb_9498_0242ac130202row8_col1\" class=\"data row8 col1\" >0.000000</td>\n",
              "                        <td id=\"T_ff3307be_9f48_11eb_9498_0242ac130202row8_col2\" class=\"data row8 col2\" >0.000000</td>\n",
              "                        <td id=\"T_ff3307be_9f48_11eb_9498_0242ac130202row8_col3\" class=\"data row8 col3\" >0.010204</td>\n",
              "                        <td id=\"T_ff3307be_9f48_11eb_9498_0242ac130202row8_col4\" class=\"data row8 col4\" >0.000000</td>\n",
              "                        <td id=\"T_ff3307be_9f48_11eb_9498_0242ac130202row8_col5\" class=\"data row8 col5\" >0.000000</td>\n",
              "                        <td id=\"T_ff3307be_9f48_11eb_9498_0242ac130202row8_col6\" class=\"data row8 col6\" >0.000000</td>\n",
              "                        <td id=\"T_ff3307be_9f48_11eb_9498_0242ac130202row8_col7\" class=\"data row8 col7\" >0.000000</td>\n",
              "                        <td id=\"T_ff3307be_9f48_11eb_9498_0242ac130202row8_col8\" class=\"data row8 col8\" >0.010204</td>\n",
              "                        <td id=\"T_ff3307be_9f48_11eb_9498_0242ac130202row8_col9\" class=\"data row8 col9\" >0.000000</td>\n",
              "                        <td id=\"T_ff3307be_9f48_11eb_9498_0242ac130202row8_col10\" class=\"data row8 col10\" >0.000000</td>\n",
              "                        <td id=\"T_ff3307be_9f48_11eb_9498_0242ac130202row8_col11\" class=\"data row8 col11\" >0.000000</td>\n",
              "                        <td id=\"T_ff3307be_9f48_11eb_9498_0242ac130202row8_col12\" class=\"data row8 col12\" >0.000000</td>\n",
              "                        <td id=\"T_ff3307be_9f48_11eb_9498_0242ac130202row8_col13\" class=\"data row8 col13\" >0.000000</td>\n",
              "                        <td id=\"T_ff3307be_9f48_11eb_9498_0242ac130202row8_col14\" class=\"data row8 col14\" >0.000000</td>\n",
              "                        <td id=\"T_ff3307be_9f48_11eb_9498_0242ac130202row8_col15\" class=\"data row8 col15\" >0.000000</td>\n",
              "                        <td id=\"T_ff3307be_9f48_11eb_9498_0242ac130202row8_col16\" class=\"data row8 col16\" >0.000000</td>\n",
              "                        <td id=\"T_ff3307be_9f48_11eb_9498_0242ac130202row8_col17\" class=\"data row8 col17\" >0.010204</td>\n",
              "                        <td id=\"T_ff3307be_9f48_11eb_9498_0242ac130202row8_col18\" class=\"data row8 col18\" >0.000000</td>\n",
              "                        <td id=\"T_ff3307be_9f48_11eb_9498_0242ac130202row8_col19\" class=\"data row8 col19\" >0.000000</td>\n",
              "                        <td id=\"T_ff3307be_9f48_11eb_9498_0242ac130202row8_col20\" class=\"data row8 col20\" >0.000000</td>\n",
              "                        <td id=\"T_ff3307be_9f48_11eb_9498_0242ac130202row8_col21\" class=\"data row8 col21\" >0.000000</td>\n",
              "                        <td id=\"T_ff3307be_9f48_11eb_9498_0242ac130202row8_col22\" class=\"data row8 col22\" >0.000000</td>\n",
              "                        <td id=\"T_ff3307be_9f48_11eb_9498_0242ac130202row8_col23\" class=\"data row8 col23\" >0.000000</td>\n",
              "                        <td id=\"T_ff3307be_9f48_11eb_9498_0242ac130202row8_col24\" class=\"data row8 col24\" >0.000000</td>\n",
              "                        <td id=\"T_ff3307be_9f48_11eb_9498_0242ac130202row8_col25\" class=\"data row8 col25\" >0.000000</td>\n",
              "                        <td id=\"T_ff3307be_9f48_11eb_9498_0242ac130202row8_col26\" class=\"data row8 col26\" >0.000000</td>\n",
              "                        <td id=\"T_ff3307be_9f48_11eb_9498_0242ac130202row8_col27\" class=\"data row8 col27\" >0.000000</td>\n",
              "                        <td id=\"T_ff3307be_9f48_11eb_9498_0242ac130202row8_col28\" class=\"data row8 col28\" >0.000000</td>\n",
              "                        <td id=\"T_ff3307be_9f48_11eb_9498_0242ac130202row8_col29\" class=\"data row8 col29\" >0.000000</td>\n",
              "                        <td id=\"T_ff3307be_9f48_11eb_9498_0242ac130202row8_col30\" class=\"data row8 col30\" >0.000000</td>\n",
              "                        <td id=\"T_ff3307be_9f48_11eb_9498_0242ac130202row8_col31\" class=\"data row8 col31\" >0.000000</td>\n",
              "                        <td id=\"T_ff3307be_9f48_11eb_9498_0242ac130202row8_col32\" class=\"data row8 col32\" >0.000000</td>\n",
              "                        <td id=\"T_ff3307be_9f48_11eb_9498_0242ac130202row8_col33\" class=\"data row8 col33\" >0.010204</td>\n",
              "                        <td id=\"T_ff3307be_9f48_11eb_9498_0242ac130202row8_col34\" class=\"data row8 col34\" >0.010204</td>\n",
              "                        <td id=\"T_ff3307be_9f48_11eb_9498_0242ac130202row8_col35\" class=\"data row8 col35\" >0.000000</td>\n",
              "                        <td id=\"T_ff3307be_9f48_11eb_9498_0242ac130202row8_col36\" class=\"data row8 col36\" >0.000000</td>\n",
              "                        <td id=\"T_ff3307be_9f48_11eb_9498_0242ac130202row8_col37\" class=\"data row8 col37\" >0.000000</td>\n",
              "                        <td id=\"T_ff3307be_9f48_11eb_9498_0242ac130202row8_col38\" class=\"data row8 col38\" >0.000000</td>\n",
              "                        <td id=\"T_ff3307be_9f48_11eb_9498_0242ac130202row8_col39\" class=\"data row8 col39\" >0.000000</td>\n",
              "                        <td id=\"T_ff3307be_9f48_11eb_9498_0242ac130202row8_col40\" class=\"data row8 col40\" >0.000000</td>\n",
              "                        <td id=\"T_ff3307be_9f48_11eb_9498_0242ac130202row8_col41\" class=\"data row8 col41\" >0.000000</td>\n",
              "                        <td id=\"T_ff3307be_9f48_11eb_9498_0242ac130202row8_col42\" class=\"data row8 col42\" >0.000000</td>\n",
              "                        <td id=\"T_ff3307be_9f48_11eb_9498_0242ac130202row8_col43\" class=\"data row8 col43\" >0.000000</td>\n",
              "                        <td id=\"T_ff3307be_9f48_11eb_9498_0242ac130202row8_col44\" class=\"data row8 col44\" >0.010204</td>\n",
              "                        <td id=\"T_ff3307be_9f48_11eb_9498_0242ac130202row8_col45\" class=\"data row8 col45\" >0.000000</td>\n",
              "                        <td id=\"T_ff3307be_9f48_11eb_9498_0242ac130202row8_col46\" class=\"data row8 col46\" >0.000000</td>\n",
              "                        <td id=\"T_ff3307be_9f48_11eb_9498_0242ac130202row8_col47\" class=\"data row8 col47\" >0.000000</td>\n",
              "                        <td id=\"T_ff3307be_9f48_11eb_9498_0242ac130202row8_col48\" class=\"data row8 col48\" >0.010204</td>\n",
              "                        <td id=\"T_ff3307be_9f48_11eb_9498_0242ac130202row8_col49\" class=\"data row8 col49\" >0.000000</td>\n",
              "                        <td id=\"T_ff3307be_9f48_11eb_9498_0242ac130202row8_col50\" class=\"data row8 col50\" >0.000000</td>\n",
              "                        <td id=\"T_ff3307be_9f48_11eb_9498_0242ac130202row8_col51\" class=\"data row8 col51\" >0.000000</td>\n",
              "                        <td id=\"T_ff3307be_9f48_11eb_9498_0242ac130202row8_col52\" class=\"data row8 col52\" >0.000000</td>\n",
              "                        <td id=\"T_ff3307be_9f48_11eb_9498_0242ac130202row8_col53\" class=\"data row8 col53\" >0.000000</td>\n",
              "                        <td id=\"T_ff3307be_9f48_11eb_9498_0242ac130202row8_col54\" class=\"data row8 col54\" >0.000000</td>\n",
              "                        <td id=\"T_ff3307be_9f48_11eb_9498_0242ac130202row8_col55\" class=\"data row8 col55\" >0.000000</td>\n",
              "                        <td id=\"T_ff3307be_9f48_11eb_9498_0242ac130202row8_col56\" class=\"data row8 col56\" >0.000000</td>\n",
              "                        <td id=\"T_ff3307be_9f48_11eb_9498_0242ac130202row8_col57\" class=\"data row8 col57\" >0.000000</td>\n",
              "                        <td id=\"T_ff3307be_9f48_11eb_9498_0242ac130202row8_col58\" class=\"data row8 col58\" >0.000000</td>\n",
              "                        <td id=\"T_ff3307be_9f48_11eb_9498_0242ac130202row8_col59\" class=\"data row8 col59\" >0.010204</td>\n",
              "                        <td id=\"T_ff3307be_9f48_11eb_9498_0242ac130202row8_col60\" class=\"data row8 col60\" >0.000000</td>\n",
              "                        <td id=\"T_ff3307be_9f48_11eb_9498_0242ac130202row8_col61\" class=\"data row8 col61\" >0.000000</td>\n",
              "                        <td id=\"T_ff3307be_9f48_11eb_9498_0242ac130202row8_col62\" class=\"data row8 col62\" >0.000000</td>\n",
              "                        <td id=\"T_ff3307be_9f48_11eb_9498_0242ac130202row8_col63\" class=\"data row8 col63\" >0.000000</td>\n",
              "                        <td id=\"T_ff3307be_9f48_11eb_9498_0242ac130202row8_col64\" class=\"data row8 col64\" >0.000000</td>\n",
              "                        <td id=\"T_ff3307be_9f48_11eb_9498_0242ac130202row8_col65\" class=\"data row8 col65\" >0.000000</td>\n",
              "                        <td id=\"T_ff3307be_9f48_11eb_9498_0242ac130202row8_col66\" class=\"data row8 col66\" >0.000000</td>\n",
              "                        <td id=\"T_ff3307be_9f48_11eb_9498_0242ac130202row8_col67\" class=\"data row8 col67\" >0.000000</td>\n",
              "                        <td id=\"T_ff3307be_9f48_11eb_9498_0242ac130202row8_col68\" class=\"data row8 col68\" >0.000000</td>\n",
              "                        <td id=\"T_ff3307be_9f48_11eb_9498_0242ac130202row8_col69\" class=\"data row8 col69\" >0.000000</td>\n",
              "                        <td id=\"T_ff3307be_9f48_11eb_9498_0242ac130202row8_col70\" class=\"data row8 col70\" >0.000000</td>\n",
              "                        <td id=\"T_ff3307be_9f48_11eb_9498_0242ac130202row8_col71\" class=\"data row8 col71\" >0.000000</td>\n",
              "                        <td id=\"T_ff3307be_9f48_11eb_9498_0242ac130202row8_col72\" class=\"data row8 col72\" >0.000000</td>\n",
              "                        <td id=\"T_ff3307be_9f48_11eb_9498_0242ac130202row8_col73\" class=\"data row8 col73\" >0.000000</td>\n",
              "                        <td id=\"T_ff3307be_9f48_11eb_9498_0242ac130202row8_col74\" class=\"data row8 col74\" >0.000000</td>\n",
              "                        <td id=\"T_ff3307be_9f48_11eb_9498_0242ac130202row8_col75\" class=\"data row8 col75\" >0.000000</td>\n",
              "                        <td id=\"T_ff3307be_9f48_11eb_9498_0242ac130202row8_col76\" class=\"data row8 col76\" >0.000000</td>\n",
              "                        <td id=\"T_ff3307be_9f48_11eb_9498_0242ac130202row8_col77\" class=\"data row8 col77\" >0.000000</td>\n",
              "                        <td id=\"T_ff3307be_9f48_11eb_9498_0242ac130202row8_col78\" class=\"data row8 col78\" >0.000000</td>\n",
              "                        <td id=\"T_ff3307be_9f48_11eb_9498_0242ac130202row8_col79\" class=\"data row8 col79\" >0.000000</td>\n",
              "                        <td id=\"T_ff3307be_9f48_11eb_9498_0242ac130202row8_col80\" class=\"data row8 col80\" >0.000000</td>\n",
              "                        <td id=\"T_ff3307be_9f48_11eb_9498_0242ac130202row8_col81\" class=\"data row8 col81\" >0.000000</td>\n",
              "                        <td id=\"T_ff3307be_9f48_11eb_9498_0242ac130202row8_col82\" class=\"data row8 col82\" >0.000000</td>\n",
              "                        <td id=\"T_ff3307be_9f48_11eb_9498_0242ac130202row8_col83\" class=\"data row8 col83\" >0.000000</td>\n",
              "                        <td id=\"T_ff3307be_9f48_11eb_9498_0242ac130202row8_col84\" class=\"data row8 col84\" >0.000000</td>\n",
              "                        <td id=\"T_ff3307be_9f48_11eb_9498_0242ac130202row8_col85\" class=\"data row8 col85\" >0.010204</td>\n",
              "                        <td id=\"T_ff3307be_9f48_11eb_9498_0242ac130202row8_col86\" class=\"data row8 col86\" >0.000000</td>\n",
              "                        <td id=\"T_ff3307be_9f48_11eb_9498_0242ac130202row8_col87\" class=\"data row8 col87\" >0.000000</td>\n",
              "                        <td id=\"T_ff3307be_9f48_11eb_9498_0242ac130202row8_col88\" class=\"data row8 col88\" >0.020408</td>\n",
              "                        <td id=\"T_ff3307be_9f48_11eb_9498_0242ac130202row8_col89\" class=\"data row8 col89\" >0.010204</td>\n",
              "                        <td id=\"T_ff3307be_9f48_11eb_9498_0242ac130202row8_col90\" class=\"data row8 col90\" >0.000000</td>\n",
              "                        <td id=\"T_ff3307be_9f48_11eb_9498_0242ac130202row8_col91\" class=\"data row8 col91\" >0.000000</td>\n",
              "                        <td id=\"T_ff3307be_9f48_11eb_9498_0242ac130202row8_col92\" class=\"data row8 col92\" >0.000000</td>\n",
              "                        <td id=\"T_ff3307be_9f48_11eb_9498_0242ac130202row8_col93\" class=\"data row8 col93\" >0.000000</td>\n",
              "                        <td id=\"T_ff3307be_9f48_11eb_9498_0242ac130202row8_col94\" class=\"data row8 col94\" >0.000000</td>\n",
              "                        <td id=\"T_ff3307be_9f48_11eb_9498_0242ac130202row8_col95\" class=\"data row8 col95\" >0.000000</td>\n",
              "                        <td id=\"T_ff3307be_9f48_11eb_9498_0242ac130202row8_col96\" class=\"data row8 col96\" >0.000000</td>\n",
              "                        <td id=\"T_ff3307be_9f48_11eb_9498_0242ac130202row8_col97\" class=\"data row8 col97\" >0.000000</td>\n",
              "            </tr>\n",
              "            <tr>\n",
              "                        <th id=\"T_ff3307be_9f48_11eb_9498_0242ac130202level0_row9\" class=\"row_heading level0 row9\" >9</th>\n",
              "                        <td id=\"T_ff3307be_9f48_11eb_9498_0242ac130202row9_col0\" class=\"data row9 col0\" >0.000000</td>\n",
              "                        <td id=\"T_ff3307be_9f48_11eb_9498_0242ac130202row9_col1\" class=\"data row9 col1\" >0.000000</td>\n",
              "                        <td id=\"T_ff3307be_9f48_11eb_9498_0242ac130202row9_col2\" class=\"data row9 col2\" >0.000000</td>\n",
              "                        <td id=\"T_ff3307be_9f48_11eb_9498_0242ac130202row9_col3\" class=\"data row9 col3\" >0.000000</td>\n",
              "                        <td id=\"T_ff3307be_9f48_11eb_9498_0242ac130202row9_col4\" class=\"data row9 col4\" >0.010204</td>\n",
              "                        <td id=\"T_ff3307be_9f48_11eb_9498_0242ac130202row9_col5\" class=\"data row9 col5\" >0.000000</td>\n",
              "                        <td id=\"T_ff3307be_9f48_11eb_9498_0242ac130202row9_col6\" class=\"data row9 col6\" >0.000000</td>\n",
              "                        <td id=\"T_ff3307be_9f48_11eb_9498_0242ac130202row9_col7\" class=\"data row9 col7\" >0.000000</td>\n",
              "                        <td id=\"T_ff3307be_9f48_11eb_9498_0242ac130202row9_col8\" class=\"data row9 col8\" >0.000000</td>\n",
              "                        <td id=\"T_ff3307be_9f48_11eb_9498_0242ac130202row9_col9\" class=\"data row9 col9\" >0.000000</td>\n",
              "                        <td id=\"T_ff3307be_9f48_11eb_9498_0242ac130202row9_col10\" class=\"data row9 col10\" >0.000000</td>\n",
              "                        <td id=\"T_ff3307be_9f48_11eb_9498_0242ac130202row9_col11\" class=\"data row9 col11\" >0.010204</td>\n",
              "                        <td id=\"T_ff3307be_9f48_11eb_9498_0242ac130202row9_col12\" class=\"data row9 col12\" >0.000000</td>\n",
              "                        <td id=\"T_ff3307be_9f48_11eb_9498_0242ac130202row9_col13\" class=\"data row9 col13\" >0.000000</td>\n",
              "                        <td id=\"T_ff3307be_9f48_11eb_9498_0242ac130202row9_col14\" class=\"data row9 col14\" >0.000000</td>\n",
              "                        <td id=\"T_ff3307be_9f48_11eb_9498_0242ac130202row9_col15\" class=\"data row9 col15\" >0.000000</td>\n",
              "                        <td id=\"T_ff3307be_9f48_11eb_9498_0242ac130202row9_col16\" class=\"data row9 col16\" >0.000000</td>\n",
              "                        <td id=\"T_ff3307be_9f48_11eb_9498_0242ac130202row9_col17\" class=\"data row9 col17\" >0.000000</td>\n",
              "                        <td id=\"T_ff3307be_9f48_11eb_9498_0242ac130202row9_col18\" class=\"data row9 col18\" >0.000000</td>\n",
              "                        <td id=\"T_ff3307be_9f48_11eb_9498_0242ac130202row9_col19\" class=\"data row9 col19\" >0.000000</td>\n",
              "                        <td id=\"T_ff3307be_9f48_11eb_9498_0242ac130202row9_col20\" class=\"data row9 col20\" >0.000000</td>\n",
              "                        <td id=\"T_ff3307be_9f48_11eb_9498_0242ac130202row9_col21\" class=\"data row9 col21\" >0.000000</td>\n",
              "                        <td id=\"T_ff3307be_9f48_11eb_9498_0242ac130202row9_col22\" class=\"data row9 col22\" >0.000000</td>\n",
              "                        <td id=\"T_ff3307be_9f48_11eb_9498_0242ac130202row9_col23\" class=\"data row9 col23\" >0.000000</td>\n",
              "                        <td id=\"T_ff3307be_9f48_11eb_9498_0242ac130202row9_col24\" class=\"data row9 col24\" >0.000000</td>\n",
              "                        <td id=\"T_ff3307be_9f48_11eb_9498_0242ac130202row9_col25\" class=\"data row9 col25\" >0.000000</td>\n",
              "                        <td id=\"T_ff3307be_9f48_11eb_9498_0242ac130202row9_col26\" class=\"data row9 col26\" >0.010204</td>\n",
              "                        <td id=\"T_ff3307be_9f48_11eb_9498_0242ac130202row9_col27\" class=\"data row9 col27\" >0.000000</td>\n",
              "                        <td id=\"T_ff3307be_9f48_11eb_9498_0242ac130202row9_col28\" class=\"data row9 col28\" >0.000000</td>\n",
              "                        <td id=\"T_ff3307be_9f48_11eb_9498_0242ac130202row9_col29\" class=\"data row9 col29\" >0.000000</td>\n",
              "                        <td id=\"T_ff3307be_9f48_11eb_9498_0242ac130202row9_col30\" class=\"data row9 col30\" >0.000000</td>\n",
              "                        <td id=\"T_ff3307be_9f48_11eb_9498_0242ac130202row9_col31\" class=\"data row9 col31\" >0.000000</td>\n",
              "                        <td id=\"T_ff3307be_9f48_11eb_9498_0242ac130202row9_col32\" class=\"data row9 col32\" >0.000000</td>\n",
              "                        <td id=\"T_ff3307be_9f48_11eb_9498_0242ac130202row9_col33\" class=\"data row9 col33\" >0.000000</td>\n",
              "                        <td id=\"T_ff3307be_9f48_11eb_9498_0242ac130202row9_col34\" class=\"data row9 col34\" >0.000000</td>\n",
              "                        <td id=\"T_ff3307be_9f48_11eb_9498_0242ac130202row9_col35\" class=\"data row9 col35\" >0.000000</td>\n",
              "                        <td id=\"T_ff3307be_9f48_11eb_9498_0242ac130202row9_col36\" class=\"data row9 col36\" >0.000000</td>\n",
              "                        <td id=\"T_ff3307be_9f48_11eb_9498_0242ac130202row9_col37\" class=\"data row9 col37\" >0.000000</td>\n",
              "                        <td id=\"T_ff3307be_9f48_11eb_9498_0242ac130202row9_col38\" class=\"data row9 col38\" >0.000000</td>\n",
              "                        <td id=\"T_ff3307be_9f48_11eb_9498_0242ac130202row9_col39\" class=\"data row9 col39\" >0.000000</td>\n",
              "                        <td id=\"T_ff3307be_9f48_11eb_9498_0242ac130202row9_col40\" class=\"data row9 col40\" >0.000000</td>\n",
              "                        <td id=\"T_ff3307be_9f48_11eb_9498_0242ac130202row9_col41\" class=\"data row9 col41\" >0.000000</td>\n",
              "                        <td id=\"T_ff3307be_9f48_11eb_9498_0242ac130202row9_col42\" class=\"data row9 col42\" >0.000000</td>\n",
              "                        <td id=\"T_ff3307be_9f48_11eb_9498_0242ac130202row9_col43\" class=\"data row9 col43\" >0.000000</td>\n",
              "                        <td id=\"T_ff3307be_9f48_11eb_9498_0242ac130202row9_col44\" class=\"data row9 col44\" >0.000000</td>\n",
              "                        <td id=\"T_ff3307be_9f48_11eb_9498_0242ac130202row9_col45\" class=\"data row9 col45\" >0.000000</td>\n",
              "                        <td id=\"T_ff3307be_9f48_11eb_9498_0242ac130202row9_col46\" class=\"data row9 col46\" >0.000000</td>\n",
              "                        <td id=\"T_ff3307be_9f48_11eb_9498_0242ac130202row9_col47\" class=\"data row9 col47\" >0.000000</td>\n",
              "                        <td id=\"T_ff3307be_9f48_11eb_9498_0242ac130202row9_col48\" class=\"data row9 col48\" >0.000000</td>\n",
              "                        <td id=\"T_ff3307be_9f48_11eb_9498_0242ac130202row9_col49\" class=\"data row9 col49\" >0.000000</td>\n",
              "                        <td id=\"T_ff3307be_9f48_11eb_9498_0242ac130202row9_col50\" class=\"data row9 col50\" >0.010204</td>\n",
              "                        <td id=\"T_ff3307be_9f48_11eb_9498_0242ac130202row9_col51\" class=\"data row9 col51\" >0.000000</td>\n",
              "                        <td id=\"T_ff3307be_9f48_11eb_9498_0242ac130202row9_col52\" class=\"data row9 col52\" >0.000000</td>\n",
              "                        <td id=\"T_ff3307be_9f48_11eb_9498_0242ac130202row9_col53\" class=\"data row9 col53\" >0.000000</td>\n",
              "                        <td id=\"T_ff3307be_9f48_11eb_9498_0242ac130202row9_col54\" class=\"data row9 col54\" >0.000000</td>\n",
              "                        <td id=\"T_ff3307be_9f48_11eb_9498_0242ac130202row9_col55\" class=\"data row9 col55\" >0.000000</td>\n",
              "                        <td id=\"T_ff3307be_9f48_11eb_9498_0242ac130202row9_col56\" class=\"data row9 col56\" >0.000000</td>\n",
              "                        <td id=\"T_ff3307be_9f48_11eb_9498_0242ac130202row9_col57\" class=\"data row9 col57\" >0.000000</td>\n",
              "                        <td id=\"T_ff3307be_9f48_11eb_9498_0242ac130202row9_col58\" class=\"data row9 col58\" >0.000000</td>\n",
              "                        <td id=\"T_ff3307be_9f48_11eb_9498_0242ac130202row9_col59\" class=\"data row9 col59\" >0.000000</td>\n",
              "                        <td id=\"T_ff3307be_9f48_11eb_9498_0242ac130202row9_col60\" class=\"data row9 col60\" >0.000000</td>\n",
              "                        <td id=\"T_ff3307be_9f48_11eb_9498_0242ac130202row9_col61\" class=\"data row9 col61\" >0.000000</td>\n",
              "                        <td id=\"T_ff3307be_9f48_11eb_9498_0242ac130202row9_col62\" class=\"data row9 col62\" >0.000000</td>\n",
              "                        <td id=\"T_ff3307be_9f48_11eb_9498_0242ac130202row9_col63\" class=\"data row9 col63\" >0.000000</td>\n",
              "                        <td id=\"T_ff3307be_9f48_11eb_9498_0242ac130202row9_col64\" class=\"data row9 col64\" >0.000000</td>\n",
              "                        <td id=\"T_ff3307be_9f48_11eb_9498_0242ac130202row9_col65\" class=\"data row9 col65\" >0.000000</td>\n",
              "                        <td id=\"T_ff3307be_9f48_11eb_9498_0242ac130202row9_col66\" class=\"data row9 col66\" >0.010204</td>\n",
              "                        <td id=\"T_ff3307be_9f48_11eb_9498_0242ac130202row9_col67\" class=\"data row9 col67\" >0.000000</td>\n",
              "                        <td id=\"T_ff3307be_9f48_11eb_9498_0242ac130202row9_col68\" class=\"data row9 col68\" >0.000000</td>\n",
              "                        <td id=\"T_ff3307be_9f48_11eb_9498_0242ac130202row9_col69\" class=\"data row9 col69\" >0.000000</td>\n",
              "                        <td id=\"T_ff3307be_9f48_11eb_9498_0242ac130202row9_col70\" class=\"data row9 col70\" >0.000000</td>\n",
              "                        <td id=\"T_ff3307be_9f48_11eb_9498_0242ac130202row9_col71\" class=\"data row9 col71\" >0.000000</td>\n",
              "                        <td id=\"T_ff3307be_9f48_11eb_9498_0242ac130202row9_col72\" class=\"data row9 col72\" >0.000000</td>\n",
              "                        <td id=\"T_ff3307be_9f48_11eb_9498_0242ac130202row9_col73\" class=\"data row9 col73\" >0.000000</td>\n",
              "                        <td id=\"T_ff3307be_9f48_11eb_9498_0242ac130202row9_col74\" class=\"data row9 col74\" >0.000000</td>\n",
              "                        <td id=\"T_ff3307be_9f48_11eb_9498_0242ac130202row9_col75\" class=\"data row9 col75\" >0.000000</td>\n",
              "                        <td id=\"T_ff3307be_9f48_11eb_9498_0242ac130202row9_col76\" class=\"data row9 col76\" >0.000000</td>\n",
              "                        <td id=\"T_ff3307be_9f48_11eb_9498_0242ac130202row9_col77\" class=\"data row9 col77\" >0.000000</td>\n",
              "                        <td id=\"T_ff3307be_9f48_11eb_9498_0242ac130202row9_col78\" class=\"data row9 col78\" >0.000000</td>\n",
              "                        <td id=\"T_ff3307be_9f48_11eb_9498_0242ac130202row9_col79\" class=\"data row9 col79\" >0.000000</td>\n",
              "                        <td id=\"T_ff3307be_9f48_11eb_9498_0242ac130202row9_col80\" class=\"data row9 col80\" >0.000000</td>\n",
              "                        <td id=\"T_ff3307be_9f48_11eb_9498_0242ac130202row9_col81\" class=\"data row9 col81\" >0.000000</td>\n",
              "                        <td id=\"T_ff3307be_9f48_11eb_9498_0242ac130202row9_col82\" class=\"data row9 col82\" >0.000000</td>\n",
              "                        <td id=\"T_ff3307be_9f48_11eb_9498_0242ac130202row9_col83\" class=\"data row9 col83\" >0.000000</td>\n",
              "                        <td id=\"T_ff3307be_9f48_11eb_9498_0242ac130202row9_col84\" class=\"data row9 col84\" >0.000000</td>\n",
              "                        <td id=\"T_ff3307be_9f48_11eb_9498_0242ac130202row9_col85\" class=\"data row9 col85\" >0.000000</td>\n",
              "                        <td id=\"T_ff3307be_9f48_11eb_9498_0242ac130202row9_col86\" class=\"data row9 col86\" >0.000000</td>\n",
              "                        <td id=\"T_ff3307be_9f48_11eb_9498_0242ac130202row9_col87\" class=\"data row9 col87\" >0.010204</td>\n",
              "                        <td id=\"T_ff3307be_9f48_11eb_9498_0242ac130202row9_col88\" class=\"data row9 col88\" >0.010204</td>\n",
              "                        <td id=\"T_ff3307be_9f48_11eb_9498_0242ac130202row9_col89\" class=\"data row9 col89\" >0.000000</td>\n",
              "                        <td id=\"T_ff3307be_9f48_11eb_9498_0242ac130202row9_col90\" class=\"data row9 col90\" >0.000000</td>\n",
              "                        <td id=\"T_ff3307be_9f48_11eb_9498_0242ac130202row9_col91\" class=\"data row9 col91\" >0.010204</td>\n",
              "                        <td id=\"T_ff3307be_9f48_11eb_9498_0242ac130202row9_col92\" class=\"data row9 col92\" >0.000000</td>\n",
              "                        <td id=\"T_ff3307be_9f48_11eb_9498_0242ac130202row9_col93\" class=\"data row9 col93\" >0.010204</td>\n",
              "                        <td id=\"T_ff3307be_9f48_11eb_9498_0242ac130202row9_col94\" class=\"data row9 col94\" >0.000000</td>\n",
              "                        <td id=\"T_ff3307be_9f48_11eb_9498_0242ac130202row9_col95\" class=\"data row9 col95\" >0.000000</td>\n",
              "                        <td id=\"T_ff3307be_9f48_11eb_9498_0242ac130202row9_col96\" class=\"data row9 col96\" >0.000000</td>\n",
              "                        <td id=\"T_ff3307be_9f48_11eb_9498_0242ac130202row9_col97\" class=\"data row9 col97\" >0.000000</td>\n",
              "            </tr>\n",
              "    </tbody></table>"
            ],
            "text/plain": [
              "<pandas.io.formats.style.Styler at 0x7f49f54929d0>"
            ]
          },
          "execution_count": 41,
          "metadata": {},
          "output_type": "execute_result"
        }
      ],
      "source": [
        "count_vectorizer = CountVectorizer()\n",
        "text_list = list(text[0:10])\n",
        "\n",
        "tf = count_vectorizer.fit_transform(text_list)\n",
        "\n",
        "tf_feature_names = count_vectorizer.get_feature_names()\n",
        "\n",
        "print('Term Frequency of Document')\n",
        "df = pd.DataFrame(tf.toarray(), columns = tf_feature_names) / len(tf_feature_names)\n",
        "df.style.set_caption(\"Term Frequency of Document\")\n",
        "df.style.applymap(color)"
      ]
    },
    {
      "cell_type": "markdown",
      "metadata": {
        "papermill": {
          "duration": 0.124289,
          "end_time": "2021-04-17T06:49:03.632003",
          "exception": false,
          "start_time": "2021-04-17T06:49:03.507714",
          "status": "completed"
        },
        "tags": [],
        "id": "z_lpCxflNxqN"
      },
      "source": [
        "## **Term Frequency - Inverse Document Frequency**\n",
        "\n",
        "TF-IDF – Term Frequency-Inverse Document Frequency is described as the importance of a word in a document, which is proportional to the number of times the word appears in the document. For example, the word “Fruit” appears in 100 of 10000 documents and the term frequency is 5 then the TF-IDF is 0.05 * log(10000/100) = 5 * 2 = 10."
      ]
    },
    {
      "cell_type": "code",
      "execution_count": null,
      "metadata": {
        "execution": {
          "iopub.execute_input": "2021-04-17T06:49:04.046690Z",
          "iopub.status.busy": "2021-04-17T06:49:04.031490Z",
          "iopub.status.idle": "2021-04-17T06:49:04.080280Z",
          "shell.execute_reply": "2021-04-17T06:49:04.080713Z"
        },
        "papermill": {
          "duration": 0.329874,
          "end_time": "2021-04-17T06:49:04.080834",
          "exception": false,
          "start_time": "2021-04-17T06:49:03.750960",
          "status": "completed"
        },
        "tags": [],
        "id": "qcDkcfVSNxqN",
        "outputId": "4bb07c89-1c68-4e65-9b47-3abab6f01d61"
      },
      "outputs": [
        {
          "name": "stdout",
          "output_type": "stream",
          "text": [
            "Term Frequency - Inverse Document Frequency of Document\n"
          ]
        },
        {
          "data": {
            "text/html": [
              "<style  type=\"text/css\" >\n",
              "#T_ffa04f68_9f48_11eb_9498_0242ac130202row0_col0,#T_ffa04f68_9f48_11eb_9498_0242ac130202row0_col1,#T_ffa04f68_9f48_11eb_9498_0242ac130202row0_col2,#T_ffa04f68_9f48_11eb_9498_0242ac130202row0_col3,#T_ffa04f68_9f48_11eb_9498_0242ac130202row0_col4,#T_ffa04f68_9f48_11eb_9498_0242ac130202row0_col5,#T_ffa04f68_9f48_11eb_9498_0242ac130202row0_col8,#T_ffa04f68_9f48_11eb_9498_0242ac130202row0_col9,#T_ffa04f68_9f48_11eb_9498_0242ac130202row0_col11,#T_ffa04f68_9f48_11eb_9498_0242ac130202row0_col12,#T_ffa04f68_9f48_11eb_9498_0242ac130202row0_col13,#T_ffa04f68_9f48_11eb_9498_0242ac130202row0_col14,#T_ffa04f68_9f48_11eb_9498_0242ac130202row0_col15,#T_ffa04f68_9f48_11eb_9498_0242ac130202row0_col16,#T_ffa04f68_9f48_11eb_9498_0242ac130202row0_col17,#T_ffa04f68_9f48_11eb_9498_0242ac130202row0_col18,#T_ffa04f68_9f48_11eb_9498_0242ac130202row0_col19,#T_ffa04f68_9f48_11eb_9498_0242ac130202row0_col20,#T_ffa04f68_9f48_11eb_9498_0242ac130202row0_col21,#T_ffa04f68_9f48_11eb_9498_0242ac130202row0_col22,#T_ffa04f68_9f48_11eb_9498_0242ac130202row0_col23,#T_ffa04f68_9f48_11eb_9498_0242ac130202row0_col24,#T_ffa04f68_9f48_11eb_9498_0242ac130202row0_col25,#T_ffa04f68_9f48_11eb_9498_0242ac130202row0_col26,#T_ffa04f68_9f48_11eb_9498_0242ac130202row0_col27,#T_ffa04f68_9f48_11eb_9498_0242ac130202row0_col29,#T_ffa04f68_9f48_11eb_9498_0242ac130202row0_col30,#T_ffa04f68_9f48_11eb_9498_0242ac130202row0_col31,#T_ffa04f68_9f48_11eb_9498_0242ac130202row0_col33,#T_ffa04f68_9f48_11eb_9498_0242ac130202row0_col34,#T_ffa04f68_9f48_11eb_9498_0242ac130202row0_col35,#T_ffa04f68_9f48_11eb_9498_0242ac130202row0_col36,#T_ffa04f68_9f48_11eb_9498_0242ac130202row0_col37,#T_ffa04f68_9f48_11eb_9498_0242ac130202row0_col38,#T_ffa04f68_9f48_11eb_9498_0242ac130202row0_col39,#T_ffa04f68_9f48_11eb_9498_0242ac130202row0_col40,#T_ffa04f68_9f48_11eb_9498_0242ac130202row0_col42,#T_ffa04f68_9f48_11eb_9498_0242ac130202row0_col43,#T_ffa04f68_9f48_11eb_9498_0242ac130202row0_col44,#T_ffa04f68_9f48_11eb_9498_0242ac130202row0_col45,#T_ffa04f68_9f48_11eb_9498_0242ac130202row0_col46,#T_ffa04f68_9f48_11eb_9498_0242ac130202row0_col47,#T_ffa04f68_9f48_11eb_9498_0242ac130202row0_col48,#T_ffa04f68_9f48_11eb_9498_0242ac130202row0_col49,#T_ffa04f68_9f48_11eb_9498_0242ac130202row0_col50,#T_ffa04f68_9f48_11eb_9498_0242ac130202row0_col51,#T_ffa04f68_9f48_11eb_9498_0242ac130202row0_col52,#T_ffa04f68_9f48_11eb_9498_0242ac130202row0_col53,#T_ffa04f68_9f48_11eb_9498_0242ac130202row0_col54,#T_ffa04f68_9f48_11eb_9498_0242ac130202row0_col56,#T_ffa04f68_9f48_11eb_9498_0242ac130202row0_col57,#T_ffa04f68_9f48_11eb_9498_0242ac130202row0_col58,#T_ffa04f68_9f48_11eb_9498_0242ac130202row0_col59,#T_ffa04f68_9f48_11eb_9498_0242ac130202row0_col61,#T_ffa04f68_9f48_11eb_9498_0242ac130202row0_col62,#T_ffa04f68_9f48_11eb_9498_0242ac130202row0_col63,#T_ffa04f68_9f48_11eb_9498_0242ac130202row0_col64,#T_ffa04f68_9f48_11eb_9498_0242ac130202row0_col65,#T_ffa04f68_9f48_11eb_9498_0242ac130202row0_col67,#T_ffa04f68_9f48_11eb_9498_0242ac130202row0_col68,#T_ffa04f68_9f48_11eb_9498_0242ac130202row0_col69,#T_ffa04f68_9f48_11eb_9498_0242ac130202row0_col70,#T_ffa04f68_9f48_11eb_9498_0242ac130202row0_col71,#T_ffa04f68_9f48_11eb_9498_0242ac130202row0_col73,#T_ffa04f68_9f48_11eb_9498_0242ac130202row0_col74,#T_ffa04f68_9f48_11eb_9498_0242ac130202row0_col75,#T_ffa04f68_9f48_11eb_9498_0242ac130202row0_col76,#T_ffa04f68_9f48_11eb_9498_0242ac130202row0_col77,#T_ffa04f68_9f48_11eb_9498_0242ac130202row0_col78,#T_ffa04f68_9f48_11eb_9498_0242ac130202row0_col79,#T_ffa04f68_9f48_11eb_9498_0242ac130202row0_col80,#T_ffa04f68_9f48_11eb_9498_0242ac130202row0_col81,#T_ffa04f68_9f48_11eb_9498_0242ac130202row0_col82,#T_ffa04f68_9f48_11eb_9498_0242ac130202row0_col83,#T_ffa04f68_9f48_11eb_9498_0242ac130202row0_col84,#T_ffa04f68_9f48_11eb_9498_0242ac130202row0_col85,#T_ffa04f68_9f48_11eb_9498_0242ac130202row0_col86,#T_ffa04f68_9f48_11eb_9498_0242ac130202row0_col87,#T_ffa04f68_9f48_11eb_9498_0242ac130202row0_col89,#T_ffa04f68_9f48_11eb_9498_0242ac130202row0_col91,#T_ffa04f68_9f48_11eb_9498_0242ac130202row0_col92,#T_ffa04f68_9f48_11eb_9498_0242ac130202row0_col93,#T_ffa04f68_9f48_11eb_9498_0242ac130202row0_col94,#T_ffa04f68_9f48_11eb_9498_0242ac130202row0_col96,#T_ffa04f68_9f48_11eb_9498_0242ac130202row0_col97,#T_ffa04f68_9f48_11eb_9498_0242ac130202row1_col0,#T_ffa04f68_9f48_11eb_9498_0242ac130202row1_col1,#T_ffa04f68_9f48_11eb_9498_0242ac130202row1_col2,#T_ffa04f68_9f48_11eb_9498_0242ac130202row1_col3,#T_ffa04f68_9f48_11eb_9498_0242ac130202row1_col4,#T_ffa04f68_9f48_11eb_9498_0242ac130202row1_col5,#T_ffa04f68_9f48_11eb_9498_0242ac130202row1_col6,#T_ffa04f68_9f48_11eb_9498_0242ac130202row1_col7,#T_ffa04f68_9f48_11eb_9498_0242ac130202row1_col8,#T_ffa04f68_9f48_11eb_9498_0242ac130202row1_col9,#T_ffa04f68_9f48_11eb_9498_0242ac130202row1_col10,#T_ffa04f68_9f48_11eb_9498_0242ac130202row1_col11,#T_ffa04f68_9f48_11eb_9498_0242ac130202row1_col12,#T_ffa04f68_9f48_11eb_9498_0242ac130202row1_col13,#T_ffa04f68_9f48_11eb_9498_0242ac130202row1_col14,#T_ffa04f68_9f48_11eb_9498_0242ac130202row1_col15,#T_ffa04f68_9f48_11eb_9498_0242ac130202row1_col16,#T_ffa04f68_9f48_11eb_9498_0242ac130202row1_col17,#T_ffa04f68_9f48_11eb_9498_0242ac130202row1_col18,#T_ffa04f68_9f48_11eb_9498_0242ac130202row1_col19,#T_ffa04f68_9f48_11eb_9498_0242ac130202row1_col20,#T_ffa04f68_9f48_11eb_9498_0242ac130202row1_col21,#T_ffa04f68_9f48_11eb_9498_0242ac130202row1_col23,#T_ffa04f68_9f48_11eb_9498_0242ac130202row1_col24,#T_ffa04f68_9f48_11eb_9498_0242ac130202row1_col25,#T_ffa04f68_9f48_11eb_9498_0242ac130202row1_col26,#T_ffa04f68_9f48_11eb_9498_0242ac130202row1_col27,#T_ffa04f68_9f48_11eb_9498_0242ac130202row1_col28,#T_ffa04f68_9f48_11eb_9498_0242ac130202row1_col29,#T_ffa04f68_9f48_11eb_9498_0242ac130202row1_col30,#T_ffa04f68_9f48_11eb_9498_0242ac130202row1_col31,#T_ffa04f68_9f48_11eb_9498_0242ac130202row1_col32,#T_ffa04f68_9f48_11eb_9498_0242ac130202row1_col33,#T_ffa04f68_9f48_11eb_9498_0242ac130202row1_col34,#T_ffa04f68_9f48_11eb_9498_0242ac130202row1_col35,#T_ffa04f68_9f48_11eb_9498_0242ac130202row1_col37,#T_ffa04f68_9f48_11eb_9498_0242ac130202row1_col38,#T_ffa04f68_9f48_11eb_9498_0242ac130202row1_col39,#T_ffa04f68_9f48_11eb_9498_0242ac130202row1_col41,#T_ffa04f68_9f48_11eb_9498_0242ac130202row1_col42,#T_ffa04f68_9f48_11eb_9498_0242ac130202row1_col43,#T_ffa04f68_9f48_11eb_9498_0242ac130202row1_col44,#T_ffa04f68_9f48_11eb_9498_0242ac130202row1_col45,#T_ffa04f68_9f48_11eb_9498_0242ac130202row1_col46,#T_ffa04f68_9f48_11eb_9498_0242ac130202row1_col47,#T_ffa04f68_9f48_11eb_9498_0242ac130202row1_col48,#T_ffa04f68_9f48_11eb_9498_0242ac130202row1_col49,#T_ffa04f68_9f48_11eb_9498_0242ac130202row1_col50,#T_ffa04f68_9f48_11eb_9498_0242ac130202row1_col51,#T_ffa04f68_9f48_11eb_9498_0242ac130202row1_col53,#T_ffa04f68_9f48_11eb_9498_0242ac130202row1_col54,#T_ffa04f68_9f48_11eb_9498_0242ac130202row1_col55,#T_ffa04f68_9f48_11eb_9498_0242ac130202row1_col57,#T_ffa04f68_9f48_11eb_9498_0242ac130202row1_col58,#T_ffa04f68_9f48_11eb_9498_0242ac130202row1_col59,#T_ffa04f68_9f48_11eb_9498_0242ac130202row1_col60,#T_ffa04f68_9f48_11eb_9498_0242ac130202row1_col61,#T_ffa04f68_9f48_11eb_9498_0242ac130202row1_col62,#T_ffa04f68_9f48_11eb_9498_0242ac130202row1_col63,#T_ffa04f68_9f48_11eb_9498_0242ac130202row1_col64,#T_ffa04f68_9f48_11eb_9498_0242ac130202row1_col65,#T_ffa04f68_9f48_11eb_9498_0242ac130202row1_col66,#T_ffa04f68_9f48_11eb_9498_0242ac130202row1_col67,#T_ffa04f68_9f48_11eb_9498_0242ac130202row1_col68,#T_ffa04f68_9f48_11eb_9498_0242ac130202row1_col69,#T_ffa04f68_9f48_11eb_9498_0242ac130202row1_col70,#T_ffa04f68_9f48_11eb_9498_0242ac130202row1_col71,#T_ffa04f68_9f48_11eb_9498_0242ac130202row1_col72,#T_ffa04f68_9f48_11eb_9498_0242ac130202row1_col73,#T_ffa04f68_9f48_11eb_9498_0242ac130202row1_col74,#T_ffa04f68_9f48_11eb_9498_0242ac130202row1_col75,#T_ffa04f68_9f48_11eb_9498_0242ac130202row1_col77,#T_ffa04f68_9f48_11eb_9498_0242ac130202row1_col79,#T_ffa04f68_9f48_11eb_9498_0242ac130202row1_col80,#T_ffa04f68_9f48_11eb_9498_0242ac130202row1_col81,#T_ffa04f68_9f48_11eb_9498_0242ac130202row1_col82,#T_ffa04f68_9f48_11eb_9498_0242ac130202row1_col83,#T_ffa04f68_9f48_11eb_9498_0242ac130202row1_col84,#T_ffa04f68_9f48_11eb_9498_0242ac130202row1_col85,#T_ffa04f68_9f48_11eb_9498_0242ac130202row1_col86,#T_ffa04f68_9f48_11eb_9498_0242ac130202row1_col87,#T_ffa04f68_9f48_11eb_9498_0242ac130202row1_col88,#T_ffa04f68_9f48_11eb_9498_0242ac130202row1_col89,#T_ffa04f68_9f48_11eb_9498_0242ac130202row1_col90,#T_ffa04f68_9f48_11eb_9498_0242ac130202row1_col91,#T_ffa04f68_9f48_11eb_9498_0242ac130202row1_col92,#T_ffa04f68_9f48_11eb_9498_0242ac130202row1_col93,#T_ffa04f68_9f48_11eb_9498_0242ac130202row1_col94,#T_ffa04f68_9f48_11eb_9498_0242ac130202row1_col95,#T_ffa04f68_9f48_11eb_9498_0242ac130202row1_col96,#T_ffa04f68_9f48_11eb_9498_0242ac130202row1_col97,#T_ffa04f68_9f48_11eb_9498_0242ac130202row2_col0,#T_ffa04f68_9f48_11eb_9498_0242ac130202row2_col1,#T_ffa04f68_9f48_11eb_9498_0242ac130202row2_col2,#T_ffa04f68_9f48_11eb_9498_0242ac130202row2_col3,#T_ffa04f68_9f48_11eb_9498_0242ac130202row2_col4,#T_ffa04f68_9f48_11eb_9498_0242ac130202row2_col5,#T_ffa04f68_9f48_11eb_9498_0242ac130202row2_col7,#T_ffa04f68_9f48_11eb_9498_0242ac130202row2_col8,#T_ffa04f68_9f48_11eb_9498_0242ac130202row2_col9,#T_ffa04f68_9f48_11eb_9498_0242ac130202row2_col11,#T_ffa04f68_9f48_11eb_9498_0242ac130202row2_col12,#T_ffa04f68_9f48_11eb_9498_0242ac130202row2_col13,#T_ffa04f68_9f48_11eb_9498_0242ac130202row2_col16,#T_ffa04f68_9f48_11eb_9498_0242ac130202row2_col17,#T_ffa04f68_9f48_11eb_9498_0242ac130202row2_col19,#T_ffa04f68_9f48_11eb_9498_0242ac130202row2_col20,#T_ffa04f68_9f48_11eb_9498_0242ac130202row2_col21,#T_ffa04f68_9f48_11eb_9498_0242ac130202row2_col22,#T_ffa04f68_9f48_11eb_9498_0242ac130202row2_col23,#T_ffa04f68_9f48_11eb_9498_0242ac130202row2_col24,#T_ffa04f68_9f48_11eb_9498_0242ac130202row2_col25,#T_ffa04f68_9f48_11eb_9498_0242ac130202row2_col26,#T_ffa04f68_9f48_11eb_9498_0242ac130202row2_col27,#T_ffa04f68_9f48_11eb_9498_0242ac130202row2_col28,#T_ffa04f68_9f48_11eb_9498_0242ac130202row2_col29,#T_ffa04f68_9f48_11eb_9498_0242ac130202row2_col30,#T_ffa04f68_9f48_11eb_9498_0242ac130202row2_col31,#T_ffa04f68_9f48_11eb_9498_0242ac130202row2_col32,#T_ffa04f68_9f48_11eb_9498_0242ac130202row2_col33,#T_ffa04f68_9f48_11eb_9498_0242ac130202row2_col36,#T_ffa04f68_9f48_11eb_9498_0242ac130202row2_col37,#T_ffa04f68_9f48_11eb_9498_0242ac130202row2_col38,#T_ffa04f68_9f48_11eb_9498_0242ac130202row2_col39,#T_ffa04f68_9f48_11eb_9498_0242ac130202row2_col40,#T_ffa04f68_9f48_11eb_9498_0242ac130202row2_col41,#T_ffa04f68_9f48_11eb_9498_0242ac130202row2_col42,#T_ffa04f68_9f48_11eb_9498_0242ac130202row2_col43,#T_ffa04f68_9f48_11eb_9498_0242ac130202row2_col44,#T_ffa04f68_9f48_11eb_9498_0242ac130202row2_col45,#T_ffa04f68_9f48_11eb_9498_0242ac130202row2_col46,#T_ffa04f68_9f48_11eb_9498_0242ac130202row2_col47,#T_ffa04f68_9f48_11eb_9498_0242ac130202row2_col49,#T_ffa04f68_9f48_11eb_9498_0242ac130202row2_col50,#T_ffa04f68_9f48_11eb_9498_0242ac130202row2_col51,#T_ffa04f68_9f48_11eb_9498_0242ac130202row2_col52,#T_ffa04f68_9f48_11eb_9498_0242ac130202row2_col53,#T_ffa04f68_9f48_11eb_9498_0242ac130202row2_col54,#T_ffa04f68_9f48_11eb_9498_0242ac130202row2_col55,#T_ffa04f68_9f48_11eb_9498_0242ac130202row2_col56,#T_ffa04f68_9f48_11eb_9498_0242ac130202row2_col59,#T_ffa04f68_9f48_11eb_9498_0242ac130202row2_col60,#T_ffa04f68_9f48_11eb_9498_0242ac130202row2_col62,#T_ffa04f68_9f48_11eb_9498_0242ac130202row2_col66,#T_ffa04f68_9f48_11eb_9498_0242ac130202row2_col67,#T_ffa04f68_9f48_11eb_9498_0242ac130202row2_col68,#T_ffa04f68_9f48_11eb_9498_0242ac130202row2_col70,#T_ffa04f68_9f48_11eb_9498_0242ac130202row2_col71,#T_ffa04f68_9f48_11eb_9498_0242ac130202row2_col72,#T_ffa04f68_9f48_11eb_9498_0242ac130202row2_col73,#T_ffa04f68_9f48_11eb_9498_0242ac130202row2_col75,#T_ffa04f68_9f48_11eb_9498_0242ac130202row2_col76,#T_ffa04f68_9f48_11eb_9498_0242ac130202row2_col77,#T_ffa04f68_9f48_11eb_9498_0242ac130202row2_col78,#T_ffa04f68_9f48_11eb_9498_0242ac130202row2_col79,#T_ffa04f68_9f48_11eb_9498_0242ac130202row2_col80,#T_ffa04f68_9f48_11eb_9498_0242ac130202row2_col81,#T_ffa04f68_9f48_11eb_9498_0242ac130202row2_col83,#T_ffa04f68_9f48_11eb_9498_0242ac130202row2_col84,#T_ffa04f68_9f48_11eb_9498_0242ac130202row2_col85,#T_ffa04f68_9f48_11eb_9498_0242ac130202row2_col86,#T_ffa04f68_9f48_11eb_9498_0242ac130202row2_col87,#T_ffa04f68_9f48_11eb_9498_0242ac130202row2_col88,#T_ffa04f68_9f48_11eb_9498_0242ac130202row2_col89,#T_ffa04f68_9f48_11eb_9498_0242ac130202row2_col90,#T_ffa04f68_9f48_11eb_9498_0242ac130202row2_col92,#T_ffa04f68_9f48_11eb_9498_0242ac130202row2_col93,#T_ffa04f68_9f48_11eb_9498_0242ac130202row2_col94,#T_ffa04f68_9f48_11eb_9498_0242ac130202row2_col95,#T_ffa04f68_9f48_11eb_9498_0242ac130202row2_col96,#T_ffa04f68_9f48_11eb_9498_0242ac130202row2_col97,#T_ffa04f68_9f48_11eb_9498_0242ac130202row3_col2,#T_ffa04f68_9f48_11eb_9498_0242ac130202row3_col3,#T_ffa04f68_9f48_11eb_9498_0242ac130202row3_col4,#T_ffa04f68_9f48_11eb_9498_0242ac130202row3_col5,#T_ffa04f68_9f48_11eb_9498_0242ac130202row3_col6,#T_ffa04f68_9f48_11eb_9498_0242ac130202row3_col7,#T_ffa04f68_9f48_11eb_9498_0242ac130202row3_col8,#T_ffa04f68_9f48_11eb_9498_0242ac130202row3_col9,#T_ffa04f68_9f48_11eb_9498_0242ac130202row3_col10,#T_ffa04f68_9f48_11eb_9498_0242ac130202row3_col11,#T_ffa04f68_9f48_11eb_9498_0242ac130202row3_col12,#T_ffa04f68_9f48_11eb_9498_0242ac130202row3_col13,#T_ffa04f68_9f48_11eb_9498_0242ac130202row3_col14,#T_ffa04f68_9f48_11eb_9498_0242ac130202row3_col15,#T_ffa04f68_9f48_11eb_9498_0242ac130202row3_col16,#T_ffa04f68_9f48_11eb_9498_0242ac130202row3_col17,#T_ffa04f68_9f48_11eb_9498_0242ac130202row3_col18,#T_ffa04f68_9f48_11eb_9498_0242ac130202row3_col19,#T_ffa04f68_9f48_11eb_9498_0242ac130202row3_col21,#T_ffa04f68_9f48_11eb_9498_0242ac130202row3_col22,#T_ffa04f68_9f48_11eb_9498_0242ac130202row3_col23,#T_ffa04f68_9f48_11eb_9498_0242ac130202row3_col24,#T_ffa04f68_9f48_11eb_9498_0242ac130202row3_col25,#T_ffa04f68_9f48_11eb_9498_0242ac130202row3_col26,#T_ffa04f68_9f48_11eb_9498_0242ac130202row3_col27,#T_ffa04f68_9f48_11eb_9498_0242ac130202row3_col28,#T_ffa04f68_9f48_11eb_9498_0242ac130202row3_col29,#T_ffa04f68_9f48_11eb_9498_0242ac130202row3_col30,#T_ffa04f68_9f48_11eb_9498_0242ac130202row3_col31,#T_ffa04f68_9f48_11eb_9498_0242ac130202row3_col32,#T_ffa04f68_9f48_11eb_9498_0242ac130202row3_col33,#T_ffa04f68_9f48_11eb_9498_0242ac130202row3_col35,#T_ffa04f68_9f48_11eb_9498_0242ac130202row3_col36,#T_ffa04f68_9f48_11eb_9498_0242ac130202row3_col37,#T_ffa04f68_9f48_11eb_9498_0242ac130202row3_col38,#T_ffa04f68_9f48_11eb_9498_0242ac130202row3_col39,#T_ffa04f68_9f48_11eb_9498_0242ac130202row3_col40,#T_ffa04f68_9f48_11eb_9498_0242ac130202row3_col41,#T_ffa04f68_9f48_11eb_9498_0242ac130202row3_col42,#T_ffa04f68_9f48_11eb_9498_0242ac130202row3_col43,#T_ffa04f68_9f48_11eb_9498_0242ac130202row3_col44,#T_ffa04f68_9f48_11eb_9498_0242ac130202row3_col45,#T_ffa04f68_9f48_11eb_9498_0242ac130202row3_col46,#T_ffa04f68_9f48_11eb_9498_0242ac130202row3_col47,#T_ffa04f68_9f48_11eb_9498_0242ac130202row3_col49,#T_ffa04f68_9f48_11eb_9498_0242ac130202row3_col50,#T_ffa04f68_9f48_11eb_9498_0242ac130202row3_col51,#T_ffa04f68_9f48_11eb_9498_0242ac130202row3_col52,#T_ffa04f68_9f48_11eb_9498_0242ac130202row3_col53,#T_ffa04f68_9f48_11eb_9498_0242ac130202row3_col54,#T_ffa04f68_9f48_11eb_9498_0242ac130202row3_col55,#T_ffa04f68_9f48_11eb_9498_0242ac130202row3_col56,#T_ffa04f68_9f48_11eb_9498_0242ac130202row3_col57,#T_ffa04f68_9f48_11eb_9498_0242ac130202row3_col58,#T_ffa04f68_9f48_11eb_9498_0242ac130202row3_col59,#T_ffa04f68_9f48_11eb_9498_0242ac130202row3_col60,#T_ffa04f68_9f48_11eb_9498_0242ac130202row3_col61,#T_ffa04f68_9f48_11eb_9498_0242ac130202row3_col62,#T_ffa04f68_9f48_11eb_9498_0242ac130202row3_col63,#T_ffa04f68_9f48_11eb_9498_0242ac130202row3_col65,#T_ffa04f68_9f48_11eb_9498_0242ac130202row3_col66,#T_ffa04f68_9f48_11eb_9498_0242ac130202row3_col68,#T_ffa04f68_9f48_11eb_9498_0242ac130202row3_col69,#T_ffa04f68_9f48_11eb_9498_0242ac130202row3_col70,#T_ffa04f68_9f48_11eb_9498_0242ac130202row3_col71,#T_ffa04f68_9f48_11eb_9498_0242ac130202row3_col72,#T_ffa04f68_9f48_11eb_9498_0242ac130202row3_col74,#T_ffa04f68_9f48_11eb_9498_0242ac130202row3_col75,#T_ffa04f68_9f48_11eb_9498_0242ac130202row3_col76,#T_ffa04f68_9f48_11eb_9498_0242ac130202row3_col77,#T_ffa04f68_9f48_11eb_9498_0242ac130202row3_col78,#T_ffa04f68_9f48_11eb_9498_0242ac130202row3_col79,#T_ffa04f68_9f48_11eb_9498_0242ac130202row3_col80,#T_ffa04f68_9f48_11eb_9498_0242ac130202row3_col81,#T_ffa04f68_9f48_11eb_9498_0242ac130202row3_col82,#T_ffa04f68_9f48_11eb_9498_0242ac130202row3_col83,#T_ffa04f68_9f48_11eb_9498_0242ac130202row3_col84,#T_ffa04f68_9f48_11eb_9498_0242ac130202row3_col85,#T_ffa04f68_9f48_11eb_9498_0242ac130202row3_col86,#T_ffa04f68_9f48_11eb_9498_0242ac130202row3_col87,#T_ffa04f68_9f48_11eb_9498_0242ac130202row3_col88,#T_ffa04f68_9f48_11eb_9498_0242ac130202row3_col89,#T_ffa04f68_9f48_11eb_9498_0242ac130202row3_col90,#T_ffa04f68_9f48_11eb_9498_0242ac130202row3_col91,#T_ffa04f68_9f48_11eb_9498_0242ac130202row3_col92,#T_ffa04f68_9f48_11eb_9498_0242ac130202row3_col93,#T_ffa04f68_9f48_11eb_9498_0242ac130202row3_col94,#T_ffa04f68_9f48_11eb_9498_0242ac130202row3_col95,#T_ffa04f68_9f48_11eb_9498_0242ac130202row3_col97,#T_ffa04f68_9f48_11eb_9498_0242ac130202row4_col0,#T_ffa04f68_9f48_11eb_9498_0242ac130202row4_col1,#T_ffa04f68_9f48_11eb_9498_0242ac130202row4_col2,#T_ffa04f68_9f48_11eb_9498_0242ac130202row4_col3,#T_ffa04f68_9f48_11eb_9498_0242ac130202row4_col4,#T_ffa04f68_9f48_11eb_9498_0242ac130202row4_col6,#T_ffa04f68_9f48_11eb_9498_0242ac130202row4_col7,#T_ffa04f68_9f48_11eb_9498_0242ac130202row4_col8,#T_ffa04f68_9f48_11eb_9498_0242ac130202row4_col9,#T_ffa04f68_9f48_11eb_9498_0242ac130202row4_col10,#T_ffa04f68_9f48_11eb_9498_0242ac130202row4_col11,#T_ffa04f68_9f48_11eb_9498_0242ac130202row4_col12,#T_ffa04f68_9f48_11eb_9498_0242ac130202row4_col14,#T_ffa04f68_9f48_11eb_9498_0242ac130202row4_col15,#T_ffa04f68_9f48_11eb_9498_0242ac130202row4_col16,#T_ffa04f68_9f48_11eb_9498_0242ac130202row4_col17,#T_ffa04f68_9f48_11eb_9498_0242ac130202row4_col18,#T_ffa04f68_9f48_11eb_9498_0242ac130202row4_col19,#T_ffa04f68_9f48_11eb_9498_0242ac130202row4_col20,#T_ffa04f68_9f48_11eb_9498_0242ac130202row4_col21,#T_ffa04f68_9f48_11eb_9498_0242ac130202row4_col22,#T_ffa04f68_9f48_11eb_9498_0242ac130202row4_col23,#T_ffa04f68_9f48_11eb_9498_0242ac130202row4_col24,#T_ffa04f68_9f48_11eb_9498_0242ac130202row4_col25,#T_ffa04f68_9f48_11eb_9498_0242ac130202row4_col26,#T_ffa04f68_9f48_11eb_9498_0242ac130202row4_col27,#T_ffa04f68_9f48_11eb_9498_0242ac130202row4_col28,#T_ffa04f68_9f48_11eb_9498_0242ac130202row4_col29,#T_ffa04f68_9f48_11eb_9498_0242ac130202row4_col30,#T_ffa04f68_9f48_11eb_9498_0242ac130202row4_col31,#T_ffa04f68_9f48_11eb_9498_0242ac130202row4_col32,#T_ffa04f68_9f48_11eb_9498_0242ac130202row4_col33,#T_ffa04f68_9f48_11eb_9498_0242ac130202row4_col34,#T_ffa04f68_9f48_11eb_9498_0242ac130202row4_col35,#T_ffa04f68_9f48_11eb_9498_0242ac130202row4_col36,#T_ffa04f68_9f48_11eb_9498_0242ac130202row4_col37,#T_ffa04f68_9f48_11eb_9498_0242ac130202row4_col38,#T_ffa04f68_9f48_11eb_9498_0242ac130202row4_col39,#T_ffa04f68_9f48_11eb_9498_0242ac130202row4_col40,#T_ffa04f68_9f48_11eb_9498_0242ac130202row4_col41,#T_ffa04f68_9f48_11eb_9498_0242ac130202row4_col44,#T_ffa04f68_9f48_11eb_9498_0242ac130202row4_col45,#T_ffa04f68_9f48_11eb_9498_0242ac130202row4_col46,#T_ffa04f68_9f48_11eb_9498_0242ac130202row4_col47,#T_ffa04f68_9f48_11eb_9498_0242ac130202row4_col48,#T_ffa04f68_9f48_11eb_9498_0242ac130202row4_col50,#T_ffa04f68_9f48_11eb_9498_0242ac130202row4_col52,#T_ffa04f68_9f48_11eb_9498_0242ac130202row4_col53,#T_ffa04f68_9f48_11eb_9498_0242ac130202row4_col54,#T_ffa04f68_9f48_11eb_9498_0242ac130202row4_col55,#T_ffa04f68_9f48_11eb_9498_0242ac130202row4_col56,#T_ffa04f68_9f48_11eb_9498_0242ac130202row4_col57,#T_ffa04f68_9f48_11eb_9498_0242ac130202row4_col58,#T_ffa04f68_9f48_11eb_9498_0242ac130202row4_col59,#T_ffa04f68_9f48_11eb_9498_0242ac130202row4_col60,#T_ffa04f68_9f48_11eb_9498_0242ac130202row4_col61,#T_ffa04f68_9f48_11eb_9498_0242ac130202row4_col62,#T_ffa04f68_9f48_11eb_9498_0242ac130202row4_col63,#T_ffa04f68_9f48_11eb_9498_0242ac130202row4_col64,#T_ffa04f68_9f48_11eb_9498_0242ac130202row4_col65,#T_ffa04f68_9f48_11eb_9498_0242ac130202row4_col66,#T_ffa04f68_9f48_11eb_9498_0242ac130202row4_col67,#T_ffa04f68_9f48_11eb_9498_0242ac130202row4_col69,#T_ffa04f68_9f48_11eb_9498_0242ac130202row4_col71,#T_ffa04f68_9f48_11eb_9498_0242ac130202row4_col72,#T_ffa04f68_9f48_11eb_9498_0242ac130202row4_col73,#T_ffa04f68_9f48_11eb_9498_0242ac130202row4_col74,#T_ffa04f68_9f48_11eb_9498_0242ac130202row4_col75,#T_ffa04f68_9f48_11eb_9498_0242ac130202row4_col76,#T_ffa04f68_9f48_11eb_9498_0242ac130202row4_col78,#T_ffa04f68_9f48_11eb_9498_0242ac130202row4_col80,#T_ffa04f68_9f48_11eb_9498_0242ac130202row4_col82,#T_ffa04f68_9f48_11eb_9498_0242ac130202row4_col84,#T_ffa04f68_9f48_11eb_9498_0242ac130202row4_col85,#T_ffa04f68_9f48_11eb_9498_0242ac130202row4_col86,#T_ffa04f68_9f48_11eb_9498_0242ac130202row4_col87,#T_ffa04f68_9f48_11eb_9498_0242ac130202row4_col88,#T_ffa04f68_9f48_11eb_9498_0242ac130202row4_col89,#T_ffa04f68_9f48_11eb_9498_0242ac130202row4_col91,#T_ffa04f68_9f48_11eb_9498_0242ac130202row4_col92,#T_ffa04f68_9f48_11eb_9498_0242ac130202row4_col93,#T_ffa04f68_9f48_11eb_9498_0242ac130202row4_col94,#T_ffa04f68_9f48_11eb_9498_0242ac130202row4_col95,#T_ffa04f68_9f48_11eb_9498_0242ac130202row4_col97,#T_ffa04f68_9f48_11eb_9498_0242ac130202row5_col0,#T_ffa04f68_9f48_11eb_9498_0242ac130202row5_col1,#T_ffa04f68_9f48_11eb_9498_0242ac130202row5_col3,#T_ffa04f68_9f48_11eb_9498_0242ac130202row5_col4,#T_ffa04f68_9f48_11eb_9498_0242ac130202row5_col5,#T_ffa04f68_9f48_11eb_9498_0242ac130202row5_col6,#T_ffa04f68_9f48_11eb_9498_0242ac130202row5_col7,#T_ffa04f68_9f48_11eb_9498_0242ac130202row5_col8,#T_ffa04f68_9f48_11eb_9498_0242ac130202row5_col9,#T_ffa04f68_9f48_11eb_9498_0242ac130202row5_col10,#T_ffa04f68_9f48_11eb_9498_0242ac130202row5_col11,#T_ffa04f68_9f48_11eb_9498_0242ac130202row5_col12,#T_ffa04f68_9f48_11eb_9498_0242ac130202row5_col13,#T_ffa04f68_9f48_11eb_9498_0242ac130202row5_col14,#T_ffa04f68_9f48_11eb_9498_0242ac130202row5_col15,#T_ffa04f68_9f48_11eb_9498_0242ac130202row5_col17,#T_ffa04f68_9f48_11eb_9498_0242ac130202row5_col18,#T_ffa04f68_9f48_11eb_9498_0242ac130202row5_col21,#T_ffa04f68_9f48_11eb_9498_0242ac130202row5_col22,#T_ffa04f68_9f48_11eb_9498_0242ac130202row5_col23,#T_ffa04f68_9f48_11eb_9498_0242ac130202row5_col25,#T_ffa04f68_9f48_11eb_9498_0242ac130202row5_col26,#T_ffa04f68_9f48_11eb_9498_0242ac130202row5_col28,#T_ffa04f68_9f48_11eb_9498_0242ac130202row5_col30,#T_ffa04f68_9f48_11eb_9498_0242ac130202row5_col32,#T_ffa04f68_9f48_11eb_9498_0242ac130202row5_col33,#T_ffa04f68_9f48_11eb_9498_0242ac130202row5_col34,#T_ffa04f68_9f48_11eb_9498_0242ac130202row5_col35,#T_ffa04f68_9f48_11eb_9498_0242ac130202row5_col37,#T_ffa04f68_9f48_11eb_9498_0242ac130202row5_col38,#T_ffa04f68_9f48_11eb_9498_0242ac130202row5_col39,#T_ffa04f68_9f48_11eb_9498_0242ac130202row5_col40,#T_ffa04f68_9f48_11eb_9498_0242ac130202row5_col41,#T_ffa04f68_9f48_11eb_9498_0242ac130202row5_col42,#T_ffa04f68_9f48_11eb_9498_0242ac130202row5_col43,#T_ffa04f68_9f48_11eb_9498_0242ac130202row5_col44,#T_ffa04f68_9f48_11eb_9498_0242ac130202row5_col45,#T_ffa04f68_9f48_11eb_9498_0242ac130202row5_col46,#T_ffa04f68_9f48_11eb_9498_0242ac130202row5_col49,#T_ffa04f68_9f48_11eb_9498_0242ac130202row5_col50,#T_ffa04f68_9f48_11eb_9498_0242ac130202row5_col51,#T_ffa04f68_9f48_11eb_9498_0242ac130202row5_col52,#T_ffa04f68_9f48_11eb_9498_0242ac130202row5_col54,#T_ffa04f68_9f48_11eb_9498_0242ac130202row5_col55,#T_ffa04f68_9f48_11eb_9498_0242ac130202row5_col56,#T_ffa04f68_9f48_11eb_9498_0242ac130202row5_col57,#T_ffa04f68_9f48_11eb_9498_0242ac130202row5_col58,#T_ffa04f68_9f48_11eb_9498_0242ac130202row5_col59,#T_ffa04f68_9f48_11eb_9498_0242ac130202row5_col60,#T_ffa04f68_9f48_11eb_9498_0242ac130202row5_col61,#T_ffa04f68_9f48_11eb_9498_0242ac130202row5_col62,#T_ffa04f68_9f48_11eb_9498_0242ac130202row5_col63,#T_ffa04f68_9f48_11eb_9498_0242ac130202row5_col64,#T_ffa04f68_9f48_11eb_9498_0242ac130202row5_col65,#T_ffa04f68_9f48_11eb_9498_0242ac130202row5_col66,#T_ffa04f68_9f48_11eb_9498_0242ac130202row5_col67,#T_ffa04f68_9f48_11eb_9498_0242ac130202row5_col68,#T_ffa04f68_9f48_11eb_9498_0242ac130202row5_col69,#T_ffa04f68_9f48_11eb_9498_0242ac130202row5_col70,#T_ffa04f68_9f48_11eb_9498_0242ac130202row5_col71,#T_ffa04f68_9f48_11eb_9498_0242ac130202row5_col72,#T_ffa04f68_9f48_11eb_9498_0242ac130202row5_col73,#T_ffa04f68_9f48_11eb_9498_0242ac130202row5_col74,#T_ffa04f68_9f48_11eb_9498_0242ac130202row5_col76,#T_ffa04f68_9f48_11eb_9498_0242ac130202row5_col77,#T_ffa04f68_9f48_11eb_9498_0242ac130202row5_col78,#T_ffa04f68_9f48_11eb_9498_0242ac130202row5_col79,#T_ffa04f68_9f48_11eb_9498_0242ac130202row5_col80,#T_ffa04f68_9f48_11eb_9498_0242ac130202row5_col81,#T_ffa04f68_9f48_11eb_9498_0242ac130202row5_col82,#T_ffa04f68_9f48_11eb_9498_0242ac130202row5_col83,#T_ffa04f68_9f48_11eb_9498_0242ac130202row5_col84,#T_ffa04f68_9f48_11eb_9498_0242ac130202row5_col85,#T_ffa04f68_9f48_11eb_9498_0242ac130202row5_col86,#T_ffa04f68_9f48_11eb_9498_0242ac130202row5_col87,#T_ffa04f68_9f48_11eb_9498_0242ac130202row5_col88,#T_ffa04f68_9f48_11eb_9498_0242ac130202row5_col89,#T_ffa04f68_9f48_11eb_9498_0242ac130202row5_col90,#T_ffa04f68_9f48_11eb_9498_0242ac130202row5_col92,#T_ffa04f68_9f48_11eb_9498_0242ac130202row5_col93,#T_ffa04f68_9f48_11eb_9498_0242ac130202row5_col95,#T_ffa04f68_9f48_11eb_9498_0242ac130202row5_col97,#T_ffa04f68_9f48_11eb_9498_0242ac130202row6_col0,#T_ffa04f68_9f48_11eb_9498_0242ac130202row6_col1,#T_ffa04f68_9f48_11eb_9498_0242ac130202row6_col2,#T_ffa04f68_9f48_11eb_9498_0242ac130202row6_col3,#T_ffa04f68_9f48_11eb_9498_0242ac130202row6_col4,#T_ffa04f68_9f48_11eb_9498_0242ac130202row6_col5,#T_ffa04f68_9f48_11eb_9498_0242ac130202row6_col6,#T_ffa04f68_9f48_11eb_9498_0242ac130202row6_col7,#T_ffa04f68_9f48_11eb_9498_0242ac130202row6_col8,#T_ffa04f68_9f48_11eb_9498_0242ac130202row6_col9,#T_ffa04f68_9f48_11eb_9498_0242ac130202row6_col10,#T_ffa04f68_9f48_11eb_9498_0242ac130202row6_col11,#T_ffa04f68_9f48_11eb_9498_0242ac130202row6_col13,#T_ffa04f68_9f48_11eb_9498_0242ac130202row6_col14,#T_ffa04f68_9f48_11eb_9498_0242ac130202row6_col15,#T_ffa04f68_9f48_11eb_9498_0242ac130202row6_col16,#T_ffa04f68_9f48_11eb_9498_0242ac130202row6_col17,#T_ffa04f68_9f48_11eb_9498_0242ac130202row6_col18,#T_ffa04f68_9f48_11eb_9498_0242ac130202row6_col19,#T_ffa04f68_9f48_11eb_9498_0242ac130202row6_col20,#T_ffa04f68_9f48_11eb_9498_0242ac130202row6_col21,#T_ffa04f68_9f48_11eb_9498_0242ac130202row6_col22,#T_ffa04f68_9f48_11eb_9498_0242ac130202row6_col24,#T_ffa04f68_9f48_11eb_9498_0242ac130202row6_col26,#T_ffa04f68_9f48_11eb_9498_0242ac130202row6_col27,#T_ffa04f68_9f48_11eb_9498_0242ac130202row6_col28,#T_ffa04f68_9f48_11eb_9498_0242ac130202row6_col29,#T_ffa04f68_9f48_11eb_9498_0242ac130202row6_col31,#T_ffa04f68_9f48_11eb_9498_0242ac130202row6_col32,#T_ffa04f68_9f48_11eb_9498_0242ac130202row6_col33,#T_ffa04f68_9f48_11eb_9498_0242ac130202row6_col34,#T_ffa04f68_9f48_11eb_9498_0242ac130202row6_col35,#T_ffa04f68_9f48_11eb_9498_0242ac130202row6_col36,#T_ffa04f68_9f48_11eb_9498_0242ac130202row6_col40,#T_ffa04f68_9f48_11eb_9498_0242ac130202row6_col41,#T_ffa04f68_9f48_11eb_9498_0242ac130202row6_col42,#T_ffa04f68_9f48_11eb_9498_0242ac130202row6_col43,#T_ffa04f68_9f48_11eb_9498_0242ac130202row6_col44,#T_ffa04f68_9f48_11eb_9498_0242ac130202row6_col46,#T_ffa04f68_9f48_11eb_9498_0242ac130202row6_col47,#T_ffa04f68_9f48_11eb_9498_0242ac130202row6_col49,#T_ffa04f68_9f48_11eb_9498_0242ac130202row6_col50,#T_ffa04f68_9f48_11eb_9498_0242ac130202row6_col51,#T_ffa04f68_9f48_11eb_9498_0242ac130202row6_col52,#T_ffa04f68_9f48_11eb_9498_0242ac130202row6_col53,#T_ffa04f68_9f48_11eb_9498_0242ac130202row6_col55,#T_ffa04f68_9f48_11eb_9498_0242ac130202row6_col56,#T_ffa04f68_9f48_11eb_9498_0242ac130202row6_col57,#T_ffa04f68_9f48_11eb_9498_0242ac130202row6_col58,#T_ffa04f68_9f48_11eb_9498_0242ac130202row6_col59,#T_ffa04f68_9f48_11eb_9498_0242ac130202row6_col61,#T_ffa04f68_9f48_11eb_9498_0242ac130202row6_col62,#T_ffa04f68_9f48_11eb_9498_0242ac130202row6_col63,#T_ffa04f68_9f48_11eb_9498_0242ac130202row6_col64,#T_ffa04f68_9f48_11eb_9498_0242ac130202row6_col65,#T_ffa04f68_9f48_11eb_9498_0242ac130202row6_col66,#T_ffa04f68_9f48_11eb_9498_0242ac130202row6_col67,#T_ffa04f68_9f48_11eb_9498_0242ac130202row6_col68,#T_ffa04f68_9f48_11eb_9498_0242ac130202row6_col69,#T_ffa04f68_9f48_11eb_9498_0242ac130202row6_col70,#T_ffa04f68_9f48_11eb_9498_0242ac130202row6_col72,#T_ffa04f68_9f48_11eb_9498_0242ac130202row6_col73,#T_ffa04f68_9f48_11eb_9498_0242ac130202row6_col74,#T_ffa04f68_9f48_11eb_9498_0242ac130202row6_col75,#T_ffa04f68_9f48_11eb_9498_0242ac130202row6_col76,#T_ffa04f68_9f48_11eb_9498_0242ac130202row6_col77,#T_ffa04f68_9f48_11eb_9498_0242ac130202row6_col78,#T_ffa04f68_9f48_11eb_9498_0242ac130202row6_col79,#T_ffa04f68_9f48_11eb_9498_0242ac130202row6_col80,#T_ffa04f68_9f48_11eb_9498_0242ac130202row6_col81,#T_ffa04f68_9f48_11eb_9498_0242ac130202row6_col82,#T_ffa04f68_9f48_11eb_9498_0242ac130202row6_col83,#T_ffa04f68_9f48_11eb_9498_0242ac130202row6_col85,#T_ffa04f68_9f48_11eb_9498_0242ac130202row6_col87,#T_ffa04f68_9f48_11eb_9498_0242ac130202row6_col88,#T_ffa04f68_9f48_11eb_9498_0242ac130202row6_col89,#T_ffa04f68_9f48_11eb_9498_0242ac130202row6_col90,#T_ffa04f68_9f48_11eb_9498_0242ac130202row6_col91,#T_ffa04f68_9f48_11eb_9498_0242ac130202row6_col92,#T_ffa04f68_9f48_11eb_9498_0242ac130202row6_col93,#T_ffa04f68_9f48_11eb_9498_0242ac130202row6_col94,#T_ffa04f68_9f48_11eb_9498_0242ac130202row6_col95,#T_ffa04f68_9f48_11eb_9498_0242ac130202row6_col96,#T_ffa04f68_9f48_11eb_9498_0242ac130202row6_col97,#T_ffa04f68_9f48_11eb_9498_0242ac130202row7_col0,#T_ffa04f68_9f48_11eb_9498_0242ac130202row7_col1,#T_ffa04f68_9f48_11eb_9498_0242ac130202row7_col2,#T_ffa04f68_9f48_11eb_9498_0242ac130202row7_col3,#T_ffa04f68_9f48_11eb_9498_0242ac130202row7_col4,#T_ffa04f68_9f48_11eb_9498_0242ac130202row7_col5,#T_ffa04f68_9f48_11eb_9498_0242ac130202row7_col6,#T_ffa04f68_9f48_11eb_9498_0242ac130202row7_col7,#T_ffa04f68_9f48_11eb_9498_0242ac130202row7_col8,#T_ffa04f68_9f48_11eb_9498_0242ac130202row7_col10,#T_ffa04f68_9f48_11eb_9498_0242ac130202row7_col11,#T_ffa04f68_9f48_11eb_9498_0242ac130202row7_col12,#T_ffa04f68_9f48_11eb_9498_0242ac130202row7_col13,#T_ffa04f68_9f48_11eb_9498_0242ac130202row7_col14,#T_ffa04f68_9f48_11eb_9498_0242ac130202row7_col15,#T_ffa04f68_9f48_11eb_9498_0242ac130202row7_col16,#T_ffa04f68_9f48_11eb_9498_0242ac130202row7_col17,#T_ffa04f68_9f48_11eb_9498_0242ac130202row7_col18,#T_ffa04f68_9f48_11eb_9498_0242ac130202row7_col19,#T_ffa04f68_9f48_11eb_9498_0242ac130202row7_col20,#T_ffa04f68_9f48_11eb_9498_0242ac130202row7_col22,#T_ffa04f68_9f48_11eb_9498_0242ac130202row7_col23,#T_ffa04f68_9f48_11eb_9498_0242ac130202row7_col24,#T_ffa04f68_9f48_11eb_9498_0242ac130202row7_col25,#T_ffa04f68_9f48_11eb_9498_0242ac130202row7_col26,#T_ffa04f68_9f48_11eb_9498_0242ac130202row7_col27,#T_ffa04f68_9f48_11eb_9498_0242ac130202row7_col28,#T_ffa04f68_9f48_11eb_9498_0242ac130202row7_col29,#T_ffa04f68_9f48_11eb_9498_0242ac130202row7_col30,#T_ffa04f68_9f48_11eb_9498_0242ac130202row7_col31,#T_ffa04f68_9f48_11eb_9498_0242ac130202row7_col32,#T_ffa04f68_9f48_11eb_9498_0242ac130202row7_col33,#T_ffa04f68_9f48_11eb_9498_0242ac130202row7_col34,#T_ffa04f68_9f48_11eb_9498_0242ac130202row7_col35,#T_ffa04f68_9f48_11eb_9498_0242ac130202row7_col37,#T_ffa04f68_9f48_11eb_9498_0242ac130202row7_col38,#T_ffa04f68_9f48_11eb_9498_0242ac130202row7_col39,#T_ffa04f68_9f48_11eb_9498_0242ac130202row7_col40,#T_ffa04f68_9f48_11eb_9498_0242ac130202row7_col41,#T_ffa04f68_9f48_11eb_9498_0242ac130202row7_col42,#T_ffa04f68_9f48_11eb_9498_0242ac130202row7_col43,#T_ffa04f68_9f48_11eb_9498_0242ac130202row7_col44,#T_ffa04f68_9f48_11eb_9498_0242ac130202row7_col45,#T_ffa04f68_9f48_11eb_9498_0242ac130202row7_col47,#T_ffa04f68_9f48_11eb_9498_0242ac130202row7_col49,#T_ffa04f68_9f48_11eb_9498_0242ac130202row7_col50,#T_ffa04f68_9f48_11eb_9498_0242ac130202row7_col51,#T_ffa04f68_9f48_11eb_9498_0242ac130202row7_col52,#T_ffa04f68_9f48_11eb_9498_0242ac130202row7_col53,#T_ffa04f68_9f48_11eb_9498_0242ac130202row7_col54,#T_ffa04f68_9f48_11eb_9498_0242ac130202row7_col55,#T_ffa04f68_9f48_11eb_9498_0242ac130202row7_col56,#T_ffa04f68_9f48_11eb_9498_0242ac130202row7_col57,#T_ffa04f68_9f48_11eb_9498_0242ac130202row7_col58,#T_ffa04f68_9f48_11eb_9498_0242ac130202row7_col59,#T_ffa04f68_9f48_11eb_9498_0242ac130202row7_col61,#T_ffa04f68_9f48_11eb_9498_0242ac130202row7_col63,#T_ffa04f68_9f48_11eb_9498_0242ac130202row7_col64,#T_ffa04f68_9f48_11eb_9498_0242ac130202row7_col65,#T_ffa04f68_9f48_11eb_9498_0242ac130202row7_col66,#T_ffa04f68_9f48_11eb_9498_0242ac130202row7_col67,#T_ffa04f68_9f48_11eb_9498_0242ac130202row7_col68,#T_ffa04f68_9f48_11eb_9498_0242ac130202row7_col69,#T_ffa04f68_9f48_11eb_9498_0242ac130202row7_col70,#T_ffa04f68_9f48_11eb_9498_0242ac130202row7_col71,#T_ffa04f68_9f48_11eb_9498_0242ac130202row7_col72,#T_ffa04f68_9f48_11eb_9498_0242ac130202row7_col73,#T_ffa04f68_9f48_11eb_9498_0242ac130202row7_col74,#T_ffa04f68_9f48_11eb_9498_0242ac130202row7_col75,#T_ffa04f68_9f48_11eb_9498_0242ac130202row7_col76,#T_ffa04f68_9f48_11eb_9498_0242ac130202row7_col77,#T_ffa04f68_9f48_11eb_9498_0242ac130202row7_col78,#T_ffa04f68_9f48_11eb_9498_0242ac130202row7_col79,#T_ffa04f68_9f48_11eb_9498_0242ac130202row7_col81,#T_ffa04f68_9f48_11eb_9498_0242ac130202row7_col82,#T_ffa04f68_9f48_11eb_9498_0242ac130202row7_col83,#T_ffa04f68_9f48_11eb_9498_0242ac130202row7_col84,#T_ffa04f68_9f48_11eb_9498_0242ac130202row7_col85,#T_ffa04f68_9f48_11eb_9498_0242ac130202row7_col86,#T_ffa04f68_9f48_11eb_9498_0242ac130202row7_col87,#T_ffa04f68_9f48_11eb_9498_0242ac130202row7_col89,#T_ffa04f68_9f48_11eb_9498_0242ac130202row7_col90,#T_ffa04f68_9f48_11eb_9498_0242ac130202row7_col91,#T_ffa04f68_9f48_11eb_9498_0242ac130202row7_col93,#T_ffa04f68_9f48_11eb_9498_0242ac130202row7_col94,#T_ffa04f68_9f48_11eb_9498_0242ac130202row7_col95,#T_ffa04f68_9f48_11eb_9498_0242ac130202row7_col96,#T_ffa04f68_9f48_11eb_9498_0242ac130202row8_col0,#T_ffa04f68_9f48_11eb_9498_0242ac130202row8_col1,#T_ffa04f68_9f48_11eb_9498_0242ac130202row8_col2,#T_ffa04f68_9f48_11eb_9498_0242ac130202row8_col4,#T_ffa04f68_9f48_11eb_9498_0242ac130202row8_col5,#T_ffa04f68_9f48_11eb_9498_0242ac130202row8_col6,#T_ffa04f68_9f48_11eb_9498_0242ac130202row8_col7,#T_ffa04f68_9f48_11eb_9498_0242ac130202row8_col9,#T_ffa04f68_9f48_11eb_9498_0242ac130202row8_col10,#T_ffa04f68_9f48_11eb_9498_0242ac130202row8_col11,#T_ffa04f68_9f48_11eb_9498_0242ac130202row8_col12,#T_ffa04f68_9f48_11eb_9498_0242ac130202row8_col13,#T_ffa04f68_9f48_11eb_9498_0242ac130202row8_col14,#T_ffa04f68_9f48_11eb_9498_0242ac130202row8_col15,#T_ffa04f68_9f48_11eb_9498_0242ac130202row8_col16,#T_ffa04f68_9f48_11eb_9498_0242ac130202row8_col18,#T_ffa04f68_9f48_11eb_9498_0242ac130202row8_col19,#T_ffa04f68_9f48_11eb_9498_0242ac130202row8_col20,#T_ffa04f68_9f48_11eb_9498_0242ac130202row8_col21,#T_ffa04f68_9f48_11eb_9498_0242ac130202row8_col22,#T_ffa04f68_9f48_11eb_9498_0242ac130202row8_col23,#T_ffa04f68_9f48_11eb_9498_0242ac130202row8_col24,#T_ffa04f68_9f48_11eb_9498_0242ac130202row8_col25,#T_ffa04f68_9f48_11eb_9498_0242ac130202row8_col26,#T_ffa04f68_9f48_11eb_9498_0242ac130202row8_col27,#T_ffa04f68_9f48_11eb_9498_0242ac130202row8_col28,#T_ffa04f68_9f48_11eb_9498_0242ac130202row8_col29,#T_ffa04f68_9f48_11eb_9498_0242ac130202row8_col30,#T_ffa04f68_9f48_11eb_9498_0242ac130202row8_col31,#T_ffa04f68_9f48_11eb_9498_0242ac130202row8_col32,#T_ffa04f68_9f48_11eb_9498_0242ac130202row8_col35,#T_ffa04f68_9f48_11eb_9498_0242ac130202row8_col36,#T_ffa04f68_9f48_11eb_9498_0242ac130202row8_col37,#T_ffa04f68_9f48_11eb_9498_0242ac130202row8_col38,#T_ffa04f68_9f48_11eb_9498_0242ac130202row8_col39,#T_ffa04f68_9f48_11eb_9498_0242ac130202row8_col40,#T_ffa04f68_9f48_11eb_9498_0242ac130202row8_col41,#T_ffa04f68_9f48_11eb_9498_0242ac130202row8_col42,#T_ffa04f68_9f48_11eb_9498_0242ac130202row8_col43,#T_ffa04f68_9f48_11eb_9498_0242ac130202row8_col45,#T_ffa04f68_9f48_11eb_9498_0242ac130202row8_col46,#T_ffa04f68_9f48_11eb_9498_0242ac130202row8_col47,#T_ffa04f68_9f48_11eb_9498_0242ac130202row8_col49,#T_ffa04f68_9f48_11eb_9498_0242ac130202row8_col50,#T_ffa04f68_9f48_11eb_9498_0242ac130202row8_col51,#T_ffa04f68_9f48_11eb_9498_0242ac130202row8_col52,#T_ffa04f68_9f48_11eb_9498_0242ac130202row8_col53,#T_ffa04f68_9f48_11eb_9498_0242ac130202row8_col54,#T_ffa04f68_9f48_11eb_9498_0242ac130202row8_col55,#T_ffa04f68_9f48_11eb_9498_0242ac130202row8_col56,#T_ffa04f68_9f48_11eb_9498_0242ac130202row8_col57,#T_ffa04f68_9f48_11eb_9498_0242ac130202row8_col58,#T_ffa04f68_9f48_11eb_9498_0242ac130202row8_col60,#T_ffa04f68_9f48_11eb_9498_0242ac130202row8_col61,#T_ffa04f68_9f48_11eb_9498_0242ac130202row8_col62,#T_ffa04f68_9f48_11eb_9498_0242ac130202row8_col63,#T_ffa04f68_9f48_11eb_9498_0242ac130202row8_col64,#T_ffa04f68_9f48_11eb_9498_0242ac130202row8_col65,#T_ffa04f68_9f48_11eb_9498_0242ac130202row8_col66,#T_ffa04f68_9f48_11eb_9498_0242ac130202row8_col67,#T_ffa04f68_9f48_11eb_9498_0242ac130202row8_col68,#T_ffa04f68_9f48_11eb_9498_0242ac130202row8_col69,#T_ffa04f68_9f48_11eb_9498_0242ac130202row8_col70,#T_ffa04f68_9f48_11eb_9498_0242ac130202row8_col71,#T_ffa04f68_9f48_11eb_9498_0242ac130202row8_col72,#T_ffa04f68_9f48_11eb_9498_0242ac130202row8_col73,#T_ffa04f68_9f48_11eb_9498_0242ac130202row8_col74,#T_ffa04f68_9f48_11eb_9498_0242ac130202row8_col75,#T_ffa04f68_9f48_11eb_9498_0242ac130202row8_col76,#T_ffa04f68_9f48_11eb_9498_0242ac130202row8_col77,#T_ffa04f68_9f48_11eb_9498_0242ac130202row8_col78,#T_ffa04f68_9f48_11eb_9498_0242ac130202row8_col79,#T_ffa04f68_9f48_11eb_9498_0242ac130202row8_col80,#T_ffa04f68_9f48_11eb_9498_0242ac130202row8_col81,#T_ffa04f68_9f48_11eb_9498_0242ac130202row8_col82,#T_ffa04f68_9f48_11eb_9498_0242ac130202row8_col83,#T_ffa04f68_9f48_11eb_9498_0242ac130202row8_col84,#T_ffa04f68_9f48_11eb_9498_0242ac130202row8_col86,#T_ffa04f68_9f48_11eb_9498_0242ac130202row8_col87,#T_ffa04f68_9f48_11eb_9498_0242ac130202row8_col90,#T_ffa04f68_9f48_11eb_9498_0242ac130202row8_col91,#T_ffa04f68_9f48_11eb_9498_0242ac130202row8_col92,#T_ffa04f68_9f48_11eb_9498_0242ac130202row8_col93,#T_ffa04f68_9f48_11eb_9498_0242ac130202row8_col94,#T_ffa04f68_9f48_11eb_9498_0242ac130202row8_col95,#T_ffa04f68_9f48_11eb_9498_0242ac130202row8_col96,#T_ffa04f68_9f48_11eb_9498_0242ac130202row8_col97,#T_ffa04f68_9f48_11eb_9498_0242ac130202row9_col0,#T_ffa04f68_9f48_11eb_9498_0242ac130202row9_col1,#T_ffa04f68_9f48_11eb_9498_0242ac130202row9_col2,#T_ffa04f68_9f48_11eb_9498_0242ac130202row9_col3,#T_ffa04f68_9f48_11eb_9498_0242ac130202row9_col5,#T_ffa04f68_9f48_11eb_9498_0242ac130202row9_col6,#T_ffa04f68_9f48_11eb_9498_0242ac130202row9_col7,#T_ffa04f68_9f48_11eb_9498_0242ac130202row9_col8,#T_ffa04f68_9f48_11eb_9498_0242ac130202row9_col9,#T_ffa04f68_9f48_11eb_9498_0242ac130202row9_col10,#T_ffa04f68_9f48_11eb_9498_0242ac130202row9_col12,#T_ffa04f68_9f48_11eb_9498_0242ac130202row9_col13,#T_ffa04f68_9f48_11eb_9498_0242ac130202row9_col14,#T_ffa04f68_9f48_11eb_9498_0242ac130202row9_col15,#T_ffa04f68_9f48_11eb_9498_0242ac130202row9_col16,#T_ffa04f68_9f48_11eb_9498_0242ac130202row9_col17,#T_ffa04f68_9f48_11eb_9498_0242ac130202row9_col18,#T_ffa04f68_9f48_11eb_9498_0242ac130202row9_col19,#T_ffa04f68_9f48_11eb_9498_0242ac130202row9_col20,#T_ffa04f68_9f48_11eb_9498_0242ac130202row9_col21,#T_ffa04f68_9f48_11eb_9498_0242ac130202row9_col22,#T_ffa04f68_9f48_11eb_9498_0242ac130202row9_col23,#T_ffa04f68_9f48_11eb_9498_0242ac130202row9_col24,#T_ffa04f68_9f48_11eb_9498_0242ac130202row9_col25,#T_ffa04f68_9f48_11eb_9498_0242ac130202row9_col27,#T_ffa04f68_9f48_11eb_9498_0242ac130202row9_col28,#T_ffa04f68_9f48_11eb_9498_0242ac130202row9_col29,#T_ffa04f68_9f48_11eb_9498_0242ac130202row9_col30,#T_ffa04f68_9f48_11eb_9498_0242ac130202row9_col31,#T_ffa04f68_9f48_11eb_9498_0242ac130202row9_col32,#T_ffa04f68_9f48_11eb_9498_0242ac130202row9_col33,#T_ffa04f68_9f48_11eb_9498_0242ac130202row9_col34,#T_ffa04f68_9f48_11eb_9498_0242ac130202row9_col35,#T_ffa04f68_9f48_11eb_9498_0242ac130202row9_col36,#T_ffa04f68_9f48_11eb_9498_0242ac130202row9_col37,#T_ffa04f68_9f48_11eb_9498_0242ac130202row9_col38,#T_ffa04f68_9f48_11eb_9498_0242ac130202row9_col39,#T_ffa04f68_9f48_11eb_9498_0242ac130202row9_col40,#T_ffa04f68_9f48_11eb_9498_0242ac130202row9_col41,#T_ffa04f68_9f48_11eb_9498_0242ac130202row9_col42,#T_ffa04f68_9f48_11eb_9498_0242ac130202row9_col43,#T_ffa04f68_9f48_11eb_9498_0242ac130202row9_col44,#T_ffa04f68_9f48_11eb_9498_0242ac130202row9_col45,#T_ffa04f68_9f48_11eb_9498_0242ac130202row9_col46,#T_ffa04f68_9f48_11eb_9498_0242ac130202row9_col47,#T_ffa04f68_9f48_11eb_9498_0242ac130202row9_col48,#T_ffa04f68_9f48_11eb_9498_0242ac130202row9_col49,#T_ffa04f68_9f48_11eb_9498_0242ac130202row9_col51,#T_ffa04f68_9f48_11eb_9498_0242ac130202row9_col52,#T_ffa04f68_9f48_11eb_9498_0242ac130202row9_col53,#T_ffa04f68_9f48_11eb_9498_0242ac130202row9_col54,#T_ffa04f68_9f48_11eb_9498_0242ac130202row9_col55,#T_ffa04f68_9f48_11eb_9498_0242ac130202row9_col56,#T_ffa04f68_9f48_11eb_9498_0242ac130202row9_col57,#T_ffa04f68_9f48_11eb_9498_0242ac130202row9_col58,#T_ffa04f68_9f48_11eb_9498_0242ac130202row9_col59,#T_ffa04f68_9f48_11eb_9498_0242ac130202row9_col60,#T_ffa04f68_9f48_11eb_9498_0242ac130202row9_col61,#T_ffa04f68_9f48_11eb_9498_0242ac130202row9_col62,#T_ffa04f68_9f48_11eb_9498_0242ac130202row9_col63,#T_ffa04f68_9f48_11eb_9498_0242ac130202row9_col64,#T_ffa04f68_9f48_11eb_9498_0242ac130202row9_col65,#T_ffa04f68_9f48_11eb_9498_0242ac130202row9_col67,#T_ffa04f68_9f48_11eb_9498_0242ac130202row9_col68,#T_ffa04f68_9f48_11eb_9498_0242ac130202row9_col69,#T_ffa04f68_9f48_11eb_9498_0242ac130202row9_col70,#T_ffa04f68_9f48_11eb_9498_0242ac130202row9_col71,#T_ffa04f68_9f48_11eb_9498_0242ac130202row9_col72,#T_ffa04f68_9f48_11eb_9498_0242ac130202row9_col73,#T_ffa04f68_9f48_11eb_9498_0242ac130202row9_col74,#T_ffa04f68_9f48_11eb_9498_0242ac130202row9_col75,#T_ffa04f68_9f48_11eb_9498_0242ac130202row9_col76,#T_ffa04f68_9f48_11eb_9498_0242ac130202row9_col77,#T_ffa04f68_9f48_11eb_9498_0242ac130202row9_col78,#T_ffa04f68_9f48_11eb_9498_0242ac130202row9_col79,#T_ffa04f68_9f48_11eb_9498_0242ac130202row9_col80,#T_ffa04f68_9f48_11eb_9498_0242ac130202row9_col81,#T_ffa04f68_9f48_11eb_9498_0242ac130202row9_col82,#T_ffa04f68_9f48_11eb_9498_0242ac130202row9_col83,#T_ffa04f68_9f48_11eb_9498_0242ac130202row9_col84,#T_ffa04f68_9f48_11eb_9498_0242ac130202row9_col85,#T_ffa04f68_9f48_11eb_9498_0242ac130202row9_col86,#T_ffa04f68_9f48_11eb_9498_0242ac130202row9_col89,#T_ffa04f68_9f48_11eb_9498_0242ac130202row9_col90,#T_ffa04f68_9f48_11eb_9498_0242ac130202row9_col92,#T_ffa04f68_9f48_11eb_9498_0242ac130202row9_col94,#T_ffa04f68_9f48_11eb_9498_0242ac130202row9_col95,#T_ffa04f68_9f48_11eb_9498_0242ac130202row9_col96,#T_ffa04f68_9f48_11eb_9498_0242ac130202row9_col97{\n",
              "            background-color:  ;\n",
              "        }#T_ffa04f68_9f48_11eb_9498_0242ac130202row0_col6,#T_ffa04f68_9f48_11eb_9498_0242ac130202row0_col7,#T_ffa04f68_9f48_11eb_9498_0242ac130202row0_col10,#T_ffa04f68_9f48_11eb_9498_0242ac130202row0_col28,#T_ffa04f68_9f48_11eb_9498_0242ac130202row0_col32,#T_ffa04f68_9f48_11eb_9498_0242ac130202row0_col41,#T_ffa04f68_9f48_11eb_9498_0242ac130202row0_col55,#T_ffa04f68_9f48_11eb_9498_0242ac130202row0_col60,#T_ffa04f68_9f48_11eb_9498_0242ac130202row0_col66,#T_ffa04f68_9f48_11eb_9498_0242ac130202row0_col72,#T_ffa04f68_9f48_11eb_9498_0242ac130202row0_col88,#T_ffa04f68_9f48_11eb_9498_0242ac130202row0_col90,#T_ffa04f68_9f48_11eb_9498_0242ac130202row0_col95,#T_ffa04f68_9f48_11eb_9498_0242ac130202row1_col22,#T_ffa04f68_9f48_11eb_9498_0242ac130202row1_col36,#T_ffa04f68_9f48_11eb_9498_0242ac130202row1_col40,#T_ffa04f68_9f48_11eb_9498_0242ac130202row1_col52,#T_ffa04f68_9f48_11eb_9498_0242ac130202row1_col56,#T_ffa04f68_9f48_11eb_9498_0242ac130202row1_col76,#T_ffa04f68_9f48_11eb_9498_0242ac130202row1_col78,#T_ffa04f68_9f48_11eb_9498_0242ac130202row2_col6,#T_ffa04f68_9f48_11eb_9498_0242ac130202row2_col10,#T_ffa04f68_9f48_11eb_9498_0242ac130202row2_col14,#T_ffa04f68_9f48_11eb_9498_0242ac130202row2_col15,#T_ffa04f68_9f48_11eb_9498_0242ac130202row2_col18,#T_ffa04f68_9f48_11eb_9498_0242ac130202row2_col34,#T_ffa04f68_9f48_11eb_9498_0242ac130202row2_col35,#T_ffa04f68_9f48_11eb_9498_0242ac130202row2_col48,#T_ffa04f68_9f48_11eb_9498_0242ac130202row2_col57,#T_ffa04f68_9f48_11eb_9498_0242ac130202row2_col58,#T_ffa04f68_9f48_11eb_9498_0242ac130202row2_col61,#T_ffa04f68_9f48_11eb_9498_0242ac130202row2_col63,#T_ffa04f68_9f48_11eb_9498_0242ac130202row2_col64,#T_ffa04f68_9f48_11eb_9498_0242ac130202row2_col65,#T_ffa04f68_9f48_11eb_9498_0242ac130202row2_col69,#T_ffa04f68_9f48_11eb_9498_0242ac130202row2_col74,#T_ffa04f68_9f48_11eb_9498_0242ac130202row2_col82,#T_ffa04f68_9f48_11eb_9498_0242ac130202row2_col91,#T_ffa04f68_9f48_11eb_9498_0242ac130202row3_col0,#T_ffa04f68_9f48_11eb_9498_0242ac130202row3_col1,#T_ffa04f68_9f48_11eb_9498_0242ac130202row3_col20,#T_ffa04f68_9f48_11eb_9498_0242ac130202row3_col34,#T_ffa04f68_9f48_11eb_9498_0242ac130202row3_col48,#T_ffa04f68_9f48_11eb_9498_0242ac130202row3_col64,#T_ffa04f68_9f48_11eb_9498_0242ac130202row3_col67,#T_ffa04f68_9f48_11eb_9498_0242ac130202row3_col73,#T_ffa04f68_9f48_11eb_9498_0242ac130202row3_col96,#T_ffa04f68_9f48_11eb_9498_0242ac130202row4_col5,#T_ffa04f68_9f48_11eb_9498_0242ac130202row4_col13,#T_ffa04f68_9f48_11eb_9498_0242ac130202row4_col42,#T_ffa04f68_9f48_11eb_9498_0242ac130202row4_col43,#T_ffa04f68_9f48_11eb_9498_0242ac130202row4_col49,#T_ffa04f68_9f48_11eb_9498_0242ac130202row4_col51,#T_ffa04f68_9f48_11eb_9498_0242ac130202row4_col68,#T_ffa04f68_9f48_11eb_9498_0242ac130202row4_col70,#T_ffa04f68_9f48_11eb_9498_0242ac130202row4_col77,#T_ffa04f68_9f48_11eb_9498_0242ac130202row4_col79,#T_ffa04f68_9f48_11eb_9498_0242ac130202row4_col81,#T_ffa04f68_9f48_11eb_9498_0242ac130202row4_col83,#T_ffa04f68_9f48_11eb_9498_0242ac130202row4_col90,#T_ffa04f68_9f48_11eb_9498_0242ac130202row4_col96,#T_ffa04f68_9f48_11eb_9498_0242ac130202row5_col2,#T_ffa04f68_9f48_11eb_9498_0242ac130202row5_col16,#T_ffa04f68_9f48_11eb_9498_0242ac130202row5_col19,#T_ffa04f68_9f48_11eb_9498_0242ac130202row5_col20,#T_ffa04f68_9f48_11eb_9498_0242ac130202row5_col24,#T_ffa04f68_9f48_11eb_9498_0242ac130202row5_col27,#T_ffa04f68_9f48_11eb_9498_0242ac130202row5_col29,#T_ffa04f68_9f48_11eb_9498_0242ac130202row5_col31,#T_ffa04f68_9f48_11eb_9498_0242ac130202row5_col36,#T_ffa04f68_9f48_11eb_9498_0242ac130202row5_col47,#T_ffa04f68_9f48_11eb_9498_0242ac130202row5_col48,#T_ffa04f68_9f48_11eb_9498_0242ac130202row5_col53,#T_ffa04f68_9f48_11eb_9498_0242ac130202row5_col75,#T_ffa04f68_9f48_11eb_9498_0242ac130202row5_col91,#T_ffa04f68_9f48_11eb_9498_0242ac130202row5_col94,#T_ffa04f68_9f48_11eb_9498_0242ac130202row5_col96,#T_ffa04f68_9f48_11eb_9498_0242ac130202row6_col12,#T_ffa04f68_9f48_11eb_9498_0242ac130202row6_col23,#T_ffa04f68_9f48_11eb_9498_0242ac130202row6_col25,#T_ffa04f68_9f48_11eb_9498_0242ac130202row6_col30,#T_ffa04f68_9f48_11eb_9498_0242ac130202row6_col37,#T_ffa04f68_9f48_11eb_9498_0242ac130202row6_col38,#T_ffa04f68_9f48_11eb_9498_0242ac130202row6_col39,#T_ffa04f68_9f48_11eb_9498_0242ac130202row6_col45,#T_ffa04f68_9f48_11eb_9498_0242ac130202row6_col48,#T_ffa04f68_9f48_11eb_9498_0242ac130202row6_col54,#T_ffa04f68_9f48_11eb_9498_0242ac130202row6_col60,#T_ffa04f68_9f48_11eb_9498_0242ac130202row6_col71,#T_ffa04f68_9f48_11eb_9498_0242ac130202row6_col84,#T_ffa04f68_9f48_11eb_9498_0242ac130202row6_col86,#T_ffa04f68_9f48_11eb_9498_0242ac130202row7_col9,#T_ffa04f68_9f48_11eb_9498_0242ac130202row7_col21,#T_ffa04f68_9f48_11eb_9498_0242ac130202row7_col36,#T_ffa04f68_9f48_11eb_9498_0242ac130202row7_col46,#T_ffa04f68_9f48_11eb_9498_0242ac130202row7_col48,#T_ffa04f68_9f48_11eb_9498_0242ac130202row7_col60,#T_ffa04f68_9f48_11eb_9498_0242ac130202row7_col62,#T_ffa04f68_9f48_11eb_9498_0242ac130202row7_col80,#T_ffa04f68_9f48_11eb_9498_0242ac130202row7_col88,#T_ffa04f68_9f48_11eb_9498_0242ac130202row7_col92,#T_ffa04f68_9f48_11eb_9498_0242ac130202row7_col97,#T_ffa04f68_9f48_11eb_9498_0242ac130202row8_col3,#T_ffa04f68_9f48_11eb_9498_0242ac130202row8_col8,#T_ffa04f68_9f48_11eb_9498_0242ac130202row8_col17,#T_ffa04f68_9f48_11eb_9498_0242ac130202row8_col33,#T_ffa04f68_9f48_11eb_9498_0242ac130202row8_col34,#T_ffa04f68_9f48_11eb_9498_0242ac130202row8_col44,#T_ffa04f68_9f48_11eb_9498_0242ac130202row8_col48,#T_ffa04f68_9f48_11eb_9498_0242ac130202row8_col59,#T_ffa04f68_9f48_11eb_9498_0242ac130202row8_col85,#T_ffa04f68_9f48_11eb_9498_0242ac130202row8_col88,#T_ffa04f68_9f48_11eb_9498_0242ac130202row8_col89,#T_ffa04f68_9f48_11eb_9498_0242ac130202row9_col4,#T_ffa04f68_9f48_11eb_9498_0242ac130202row9_col11,#T_ffa04f68_9f48_11eb_9498_0242ac130202row9_col26,#T_ffa04f68_9f48_11eb_9498_0242ac130202row9_col50,#T_ffa04f68_9f48_11eb_9498_0242ac130202row9_col66,#T_ffa04f68_9f48_11eb_9498_0242ac130202row9_col87,#T_ffa04f68_9f48_11eb_9498_0242ac130202row9_col88,#T_ffa04f68_9f48_11eb_9498_0242ac130202row9_col91,#T_ffa04f68_9f48_11eb_9498_0242ac130202row9_col93{\n",
              "            background-color:  mediumaquamarine;\n",
              "        }</style><table id=\"T_ffa04f68_9f48_11eb_9498_0242ac130202\" ><thead>    <tr>        <th class=\"blank level0\" ></th>        <th class=\"col_heading level0 col0\" >000</th>        <th class=\"col_heading level0 col1\" >13</th>        <th class=\"col_heading level0 col2\" >20</th>        <th class=\"col_heading level0 col3\" >across</th>        <th class=\"col_heading level0 col4\" >afraid</th>        <th class=\"col_heading level0 col5\" >alaska</th>        <th class=\"col_heading level0 col6\" >all</th>        <th class=\"col_heading level0 col7\" >allah</th>        <th class=\"col_heading level0 col8\" >an</th>        <th class=\"col_heading level0 col9\" >and</th>        <th class=\"col_heading level0 col10\" >are</th>        <th class=\"col_heading level0 col11\" >area</th>        <th class=\"col_heading level0 col12\" >areas</th>        <th class=\"col_heading level0 col13\" >as</th>        <th class=\"col_heading level0 col14\" >asked</th>        <th class=\"col_heading level0 col15\" >being</th>        <th class=\"col_heading level0 col16\" >both</th>        <th class=\"col_heading level0 col17\" >building</th>        <th class=\"col_heading level0 col18\" >by</th>        <th class=\"col_heading level0 col19\" >cafire</th>        <th class=\"col_heading level0 col20\" >california</th>        <th class=\"col_heading level0 col21\" >can</th>        <th class=\"col_heading level0 col22\" >canada</th>        <th class=\"col_heading level0 col23\" >causes</th>        <th class=\"col_heading level0 col24\" >closed</th>        <th class=\"col_heading level0 col25\" >colorado</th>        <th class=\"col_heading level0 col26\" >coming</th>        <th class=\"col_heading level0 col27\" >county</th>        <th class=\"col_heading level0 col28\" >deeds</th>        <th class=\"col_heading level0 col29\" >directions</th>        <th class=\"col_heading level0 col30\" >disaster</th>        <th class=\"col_heading level0 col31\" >due</th>        <th class=\"col_heading level0 col32\" >earthquake</th>        <th class=\"col_heading level0 col33\" >emergency</th>        <th class=\"col_heading level0 col34\" >evacuation</th>        <th class=\"col_heading level0 col35\" >expected</th>        <th class=\"col_heading level0 col36\" >fire</th>        <th class=\"col_heading level0 col37\" >flash</th>        <th class=\"col_heading level0 col38\" >flood</th>        <th class=\"col_heading level0 col39\" >flooding</th>        <th class=\"col_heading level0 col40\" >forest</th>        <th class=\"col_heading level0 col41\" >forgive</th>        <th class=\"col_heading level0 col42\" >from</th>        <th class=\"col_heading level0 col43\" >got</th>        <th class=\"col_heading level0 col44\" >happening</th>        <th class=\"col_heading level0 col45\" >heavy</th>        <th class=\"col_heading level0 col46\" >hill</th>        <th class=\"col_heading level0 col47\" >hwy</th>        <th class=\"col_heading level0 col48\" >in</th>        <th class=\"col_heading level0 col49\" >into</th>        <th class=\"col_heading level0 col50\" >is</th>        <th class=\"col_heading level0 col51\" >just</th>        <th class=\"col_heading level0 col52\" >la</th>        <th class=\"col_heading level0 col53\" >lake</th>        <th class=\"col_heading level0 col54\" >manitou</th>        <th class=\"col_heading level0 col55\" >may</th>        <th class=\"col_heading level0 col56\" >near</th>        <th class=\"col_heading level0 col57\" >no</th>        <th class=\"col_heading level0 col58\" >notified</th>        <th class=\"col_heading level0 col59\" >now</th>        <th class=\"col_heading level0 col60\" >of</th>        <th class=\"col_heading level0 col61\" >officers</th>        <th class=\"col_heading level0 col62\" >on</th>        <th class=\"col_heading level0 col63\" >or</th>        <th class=\"col_heading level0 col64\" >orders</th>        <th class=\"col_heading level0 col65\" >other</th>        <th class=\"col_heading level0 col66\" >our</th>        <th class=\"col_heading level0 col67\" >people</th>        <th class=\"col_heading level0 col68\" >photo</th>        <th class=\"col_heading level0 col69\" >place</th>        <th class=\"col_heading level0 col70\" >pours</th>        <th class=\"col_heading level0 col71\" >rain</th>        <th class=\"col_heading level0 col72\" >reason</th>        <th class=\"col_heading level0 col73\" >receive</th>        <th class=\"col_heading level0 col74\" >residents</th>        <th class=\"col_heading level0 col75\" >rockyfire</th>        <th class=\"col_heading level0 col76\" >ronge</th>        <th class=\"col_heading level0 col77\" >ruby</th>        <th class=\"col_heading level0 col78\" >sask</th>        <th class=\"col_heading level0 col79\" >school</th>        <th class=\"col_heading level0 col80\" >see</th>        <th class=\"col_heading level0 col81\" >sent</th>        <th class=\"col_heading level0 col82\" >shelter</th>        <th class=\"col_heading level0 col83\" >smoke</th>        <th class=\"col_heading level0 col84\" >springs</th>        <th class=\"col_heading level0 col85\" >street</th>        <th class=\"col_heading level0 col86\" >streets</th>        <th class=\"col_heading level0 col87\" >that</th>        <th class=\"col_heading level0 col88\" >the</th>        <th class=\"col_heading level0 col89\" >there</th>        <th class=\"col_heading level0 col90\" >this</th>        <th class=\"col_heading level0 col91\" >to</th>        <th class=\"col_heading level0 col92\" >top</th>        <th class=\"col_heading level0 col93\" >tornado</th>        <th class=\"col_heading level0 col94\" >update</th>        <th class=\"col_heading level0 col95\" >us</th>        <th class=\"col_heading level0 col96\" >wildfires</th>        <th class=\"col_heading level0 col97\" >woods</th>    </tr></thead><tbody>\n",
              "                <tr>\n",
              "                        <th id=\"T_ffa04f68_9f48_11eb_9498_0242ac130202level0_row0\" class=\"row_heading level0 row0\" >0</th>\n",
              "                        <td id=\"T_ffa04f68_9f48_11eb_9498_0242ac130202row0_col0\" class=\"data row0 col0\" >0.000000</td>\n",
              "                        <td id=\"T_ffa04f68_9f48_11eb_9498_0242ac130202row0_col1\" class=\"data row0 col1\" >0.000000</td>\n",
              "                        <td id=\"T_ffa04f68_9f48_11eb_9498_0242ac130202row0_col2\" class=\"data row0 col2\" >0.000000</td>\n",
              "                        <td id=\"T_ffa04f68_9f48_11eb_9498_0242ac130202row0_col3\" class=\"data row0 col3\" >0.000000</td>\n",
              "                        <td id=\"T_ffa04f68_9f48_11eb_9498_0242ac130202row0_col4\" class=\"data row0 col4\" >0.000000</td>\n",
              "                        <td id=\"T_ffa04f68_9f48_11eb_9498_0242ac130202row0_col5\" class=\"data row0 col5\" >0.000000</td>\n",
              "                        <td id=\"T_ffa04f68_9f48_11eb_9498_0242ac130202row0_col6\" class=\"data row0 col6\" >0.257710</td>\n",
              "                        <td id=\"T_ffa04f68_9f48_11eb_9498_0242ac130202row0_col7\" class=\"data row0 col7\" >0.303156</td>\n",
              "                        <td id=\"T_ffa04f68_9f48_11eb_9498_0242ac130202row0_col8\" class=\"data row0 col8\" >0.000000</td>\n",
              "                        <td id=\"T_ffa04f68_9f48_11eb_9498_0242ac130202row0_col9\" class=\"data row0 col9\" >0.000000</td>\n",
              "                        <td id=\"T_ffa04f68_9f48_11eb_9498_0242ac130202row0_col10\" class=\"data row0 col10\" >0.257710</td>\n",
              "                        <td id=\"T_ffa04f68_9f48_11eb_9498_0242ac130202row0_col11\" class=\"data row0 col11\" >0.000000</td>\n",
              "                        <td id=\"T_ffa04f68_9f48_11eb_9498_0242ac130202row0_col12\" class=\"data row0 col12\" >0.000000</td>\n",
              "                        <td id=\"T_ffa04f68_9f48_11eb_9498_0242ac130202row0_col13\" class=\"data row0 col13\" >0.000000</td>\n",
              "                        <td id=\"T_ffa04f68_9f48_11eb_9498_0242ac130202row0_col14\" class=\"data row0 col14\" >0.000000</td>\n",
              "                        <td id=\"T_ffa04f68_9f48_11eb_9498_0242ac130202row0_col15\" class=\"data row0 col15\" >0.000000</td>\n",
              "                        <td id=\"T_ffa04f68_9f48_11eb_9498_0242ac130202row0_col16\" class=\"data row0 col16\" >0.000000</td>\n",
              "                        <td id=\"T_ffa04f68_9f48_11eb_9498_0242ac130202row0_col17\" class=\"data row0 col17\" >0.000000</td>\n",
              "                        <td id=\"T_ffa04f68_9f48_11eb_9498_0242ac130202row0_col18\" class=\"data row0 col18\" >0.000000</td>\n",
              "                        <td id=\"T_ffa04f68_9f48_11eb_9498_0242ac130202row0_col19\" class=\"data row0 col19\" >0.000000</td>\n",
              "                        <td id=\"T_ffa04f68_9f48_11eb_9498_0242ac130202row0_col20\" class=\"data row0 col20\" >0.000000</td>\n",
              "                        <td id=\"T_ffa04f68_9f48_11eb_9498_0242ac130202row0_col21\" class=\"data row0 col21\" >0.000000</td>\n",
              "                        <td id=\"T_ffa04f68_9f48_11eb_9498_0242ac130202row0_col22\" class=\"data row0 col22\" >0.000000</td>\n",
              "                        <td id=\"T_ffa04f68_9f48_11eb_9498_0242ac130202row0_col23\" class=\"data row0 col23\" >0.000000</td>\n",
              "                        <td id=\"T_ffa04f68_9f48_11eb_9498_0242ac130202row0_col24\" class=\"data row0 col24\" >0.000000</td>\n",
              "                        <td id=\"T_ffa04f68_9f48_11eb_9498_0242ac130202row0_col25\" class=\"data row0 col25\" >0.000000</td>\n",
              "                        <td id=\"T_ffa04f68_9f48_11eb_9498_0242ac130202row0_col26\" class=\"data row0 col26\" >0.000000</td>\n",
              "                        <td id=\"T_ffa04f68_9f48_11eb_9498_0242ac130202row0_col27\" class=\"data row0 col27\" >0.000000</td>\n",
              "                        <td id=\"T_ffa04f68_9f48_11eb_9498_0242ac130202row0_col28\" class=\"data row0 col28\" >0.303156</td>\n",
              "                        <td id=\"T_ffa04f68_9f48_11eb_9498_0242ac130202row0_col29\" class=\"data row0 col29\" >0.000000</td>\n",
              "                        <td id=\"T_ffa04f68_9f48_11eb_9498_0242ac130202row0_col30\" class=\"data row0 col30\" >0.000000</td>\n",
              "                        <td id=\"T_ffa04f68_9f48_11eb_9498_0242ac130202row0_col31\" class=\"data row0 col31\" >0.000000</td>\n",
              "                        <td id=\"T_ffa04f68_9f48_11eb_9498_0242ac130202row0_col32\" class=\"data row0 col32\" >0.303156</td>\n",
              "                        <td id=\"T_ffa04f68_9f48_11eb_9498_0242ac130202row0_col33\" class=\"data row0 col33\" >0.000000</td>\n",
              "                        <td id=\"T_ffa04f68_9f48_11eb_9498_0242ac130202row0_col34\" class=\"data row0 col34\" >0.000000</td>\n",
              "                        <td id=\"T_ffa04f68_9f48_11eb_9498_0242ac130202row0_col35\" class=\"data row0 col35\" >0.000000</td>\n",
              "                        <td id=\"T_ffa04f68_9f48_11eb_9498_0242ac130202row0_col36\" class=\"data row0 col36\" >0.000000</td>\n",
              "                        <td id=\"T_ffa04f68_9f48_11eb_9498_0242ac130202row0_col37\" class=\"data row0 col37\" >0.000000</td>\n",
              "                        <td id=\"T_ffa04f68_9f48_11eb_9498_0242ac130202row0_col38\" class=\"data row0 col38\" >0.000000</td>\n",
              "                        <td id=\"T_ffa04f68_9f48_11eb_9498_0242ac130202row0_col39\" class=\"data row0 col39\" >0.000000</td>\n",
              "                        <td id=\"T_ffa04f68_9f48_11eb_9498_0242ac130202row0_col40\" class=\"data row0 col40\" >0.000000</td>\n",
              "                        <td id=\"T_ffa04f68_9f48_11eb_9498_0242ac130202row0_col41\" class=\"data row0 col41\" >0.303156</td>\n",
              "                        <td id=\"T_ffa04f68_9f48_11eb_9498_0242ac130202row0_col42\" class=\"data row0 col42\" >0.000000</td>\n",
              "                        <td id=\"T_ffa04f68_9f48_11eb_9498_0242ac130202row0_col43\" class=\"data row0 col43\" >0.000000</td>\n",
              "                        <td id=\"T_ffa04f68_9f48_11eb_9498_0242ac130202row0_col44\" class=\"data row0 col44\" >0.000000</td>\n",
              "                        <td id=\"T_ffa04f68_9f48_11eb_9498_0242ac130202row0_col45\" class=\"data row0 col45\" >0.000000</td>\n",
              "                        <td id=\"T_ffa04f68_9f48_11eb_9498_0242ac130202row0_col46\" class=\"data row0 col46\" >0.000000</td>\n",
              "                        <td id=\"T_ffa04f68_9f48_11eb_9498_0242ac130202row0_col47\" class=\"data row0 col47\" >0.000000</td>\n",
              "                        <td id=\"T_ffa04f68_9f48_11eb_9498_0242ac130202row0_col48\" class=\"data row0 col48\" >0.000000</td>\n",
              "                        <td id=\"T_ffa04f68_9f48_11eb_9498_0242ac130202row0_col49\" class=\"data row0 col49\" >0.000000</td>\n",
              "                        <td id=\"T_ffa04f68_9f48_11eb_9498_0242ac130202row0_col50\" class=\"data row0 col50\" >0.000000</td>\n",
              "                        <td id=\"T_ffa04f68_9f48_11eb_9498_0242ac130202row0_col51\" class=\"data row0 col51\" >0.000000</td>\n",
              "                        <td id=\"T_ffa04f68_9f48_11eb_9498_0242ac130202row0_col52\" class=\"data row0 col52\" >0.000000</td>\n",
              "                        <td id=\"T_ffa04f68_9f48_11eb_9498_0242ac130202row0_col53\" class=\"data row0 col53\" >0.000000</td>\n",
              "                        <td id=\"T_ffa04f68_9f48_11eb_9498_0242ac130202row0_col54\" class=\"data row0 col54\" >0.000000</td>\n",
              "                        <td id=\"T_ffa04f68_9f48_11eb_9498_0242ac130202row0_col55\" class=\"data row0 col55\" >0.303156</td>\n",
              "                        <td id=\"T_ffa04f68_9f48_11eb_9498_0242ac130202row0_col56\" class=\"data row0 col56\" >0.000000</td>\n",
              "                        <td id=\"T_ffa04f68_9f48_11eb_9498_0242ac130202row0_col57\" class=\"data row0 col57\" >0.000000</td>\n",
              "                        <td id=\"T_ffa04f68_9f48_11eb_9498_0242ac130202row0_col58\" class=\"data row0 col58\" >0.000000</td>\n",
              "                        <td id=\"T_ffa04f68_9f48_11eb_9498_0242ac130202row0_col59\" class=\"data row0 col59\" >0.000000</td>\n",
              "                        <td id=\"T_ffa04f68_9f48_11eb_9498_0242ac130202row0_col60\" class=\"data row0 col60\" >0.225466</td>\n",
              "                        <td id=\"T_ffa04f68_9f48_11eb_9498_0242ac130202row0_col61\" class=\"data row0 col61\" >0.000000</td>\n",
              "                        <td id=\"T_ffa04f68_9f48_11eb_9498_0242ac130202row0_col62\" class=\"data row0 col62\" >0.000000</td>\n",
              "                        <td id=\"T_ffa04f68_9f48_11eb_9498_0242ac130202row0_col63\" class=\"data row0 col63\" >0.000000</td>\n",
              "                        <td id=\"T_ffa04f68_9f48_11eb_9498_0242ac130202row0_col64\" class=\"data row0 col64\" >0.000000</td>\n",
              "                        <td id=\"T_ffa04f68_9f48_11eb_9498_0242ac130202row0_col65\" class=\"data row0 col65\" >0.000000</td>\n",
              "                        <td id=\"T_ffa04f68_9f48_11eb_9498_0242ac130202row0_col66\" class=\"data row0 col66\" >0.257710</td>\n",
              "                        <td id=\"T_ffa04f68_9f48_11eb_9498_0242ac130202row0_col67\" class=\"data row0 col67\" >0.000000</td>\n",
              "                        <td id=\"T_ffa04f68_9f48_11eb_9498_0242ac130202row0_col68\" class=\"data row0 col68\" >0.000000</td>\n",
              "                        <td id=\"T_ffa04f68_9f48_11eb_9498_0242ac130202row0_col69\" class=\"data row0 col69\" >0.000000</td>\n",
              "                        <td id=\"T_ffa04f68_9f48_11eb_9498_0242ac130202row0_col70\" class=\"data row0 col70\" >0.000000</td>\n",
              "                        <td id=\"T_ffa04f68_9f48_11eb_9498_0242ac130202row0_col71\" class=\"data row0 col71\" >0.000000</td>\n",
              "                        <td id=\"T_ffa04f68_9f48_11eb_9498_0242ac130202row0_col72\" class=\"data row0 col72\" >0.303156</td>\n",
              "                        <td id=\"T_ffa04f68_9f48_11eb_9498_0242ac130202row0_col73\" class=\"data row0 col73\" >0.000000</td>\n",
              "                        <td id=\"T_ffa04f68_9f48_11eb_9498_0242ac130202row0_col74\" class=\"data row0 col74\" >0.000000</td>\n",
              "                        <td id=\"T_ffa04f68_9f48_11eb_9498_0242ac130202row0_col75\" class=\"data row0 col75\" >0.000000</td>\n",
              "                        <td id=\"T_ffa04f68_9f48_11eb_9498_0242ac130202row0_col76\" class=\"data row0 col76\" >0.000000</td>\n",
              "                        <td id=\"T_ffa04f68_9f48_11eb_9498_0242ac130202row0_col77\" class=\"data row0 col77\" >0.000000</td>\n",
              "                        <td id=\"T_ffa04f68_9f48_11eb_9498_0242ac130202row0_col78\" class=\"data row0 col78\" >0.000000</td>\n",
              "                        <td id=\"T_ffa04f68_9f48_11eb_9498_0242ac130202row0_col79\" class=\"data row0 col79\" >0.000000</td>\n",
              "                        <td id=\"T_ffa04f68_9f48_11eb_9498_0242ac130202row0_col80\" class=\"data row0 col80\" >0.000000</td>\n",
              "                        <td id=\"T_ffa04f68_9f48_11eb_9498_0242ac130202row0_col81\" class=\"data row0 col81\" >0.000000</td>\n",
              "                        <td id=\"T_ffa04f68_9f48_11eb_9498_0242ac130202row0_col82\" class=\"data row0 col82\" >0.000000</td>\n",
              "                        <td id=\"T_ffa04f68_9f48_11eb_9498_0242ac130202row0_col83\" class=\"data row0 col83\" >0.000000</td>\n",
              "                        <td id=\"T_ffa04f68_9f48_11eb_9498_0242ac130202row0_col84\" class=\"data row0 col84\" >0.000000</td>\n",
              "                        <td id=\"T_ffa04f68_9f48_11eb_9498_0242ac130202row0_col85\" class=\"data row0 col85\" >0.000000</td>\n",
              "                        <td id=\"T_ffa04f68_9f48_11eb_9498_0242ac130202row0_col86\" class=\"data row0 col86\" >0.000000</td>\n",
              "                        <td id=\"T_ffa04f68_9f48_11eb_9498_0242ac130202row0_col87\" class=\"data row0 col87\" >0.000000</td>\n",
              "                        <td id=\"T_ffa04f68_9f48_11eb_9498_0242ac130202row0_col88\" class=\"data row0 col88\" >0.200455</td>\n",
              "                        <td id=\"T_ffa04f68_9f48_11eb_9498_0242ac130202row0_col89\" class=\"data row0 col89\" >0.000000</td>\n",
              "                        <td id=\"T_ffa04f68_9f48_11eb_9498_0242ac130202row0_col90\" class=\"data row0 col90\" >0.257710</td>\n",
              "                        <td id=\"T_ffa04f68_9f48_11eb_9498_0242ac130202row0_col91\" class=\"data row0 col91\" >0.000000</td>\n",
              "                        <td id=\"T_ffa04f68_9f48_11eb_9498_0242ac130202row0_col92\" class=\"data row0 col92\" >0.000000</td>\n",
              "                        <td id=\"T_ffa04f68_9f48_11eb_9498_0242ac130202row0_col93\" class=\"data row0 col93\" >0.000000</td>\n",
              "                        <td id=\"T_ffa04f68_9f48_11eb_9498_0242ac130202row0_col94\" class=\"data row0 col94\" >0.000000</td>\n",
              "                        <td id=\"T_ffa04f68_9f48_11eb_9498_0242ac130202row0_col95\" class=\"data row0 col95\" >0.303156</td>\n",
              "                        <td id=\"T_ffa04f68_9f48_11eb_9498_0242ac130202row0_col96\" class=\"data row0 col96\" >0.000000</td>\n",
              "                        <td id=\"T_ffa04f68_9f48_11eb_9498_0242ac130202row0_col97\" class=\"data row0 col97\" >0.000000</td>\n",
              "            </tr>\n",
              "            <tr>\n",
              "                        <th id=\"T_ffa04f68_9f48_11eb_9498_0242ac130202level0_row1\" class=\"row_heading level0 row1\" >1</th>\n",
              "                        <td id=\"T_ffa04f68_9f48_11eb_9498_0242ac130202row1_col0\" class=\"data row1 col0\" >0.000000</td>\n",
              "                        <td id=\"T_ffa04f68_9f48_11eb_9498_0242ac130202row1_col1\" class=\"data row1 col1\" >0.000000</td>\n",
              "                        <td id=\"T_ffa04f68_9f48_11eb_9498_0242ac130202row1_col2\" class=\"data row1 col2\" >0.000000</td>\n",
              "                        <td id=\"T_ffa04f68_9f48_11eb_9498_0242ac130202row1_col3\" class=\"data row1 col3\" >0.000000</td>\n",
              "                        <td id=\"T_ffa04f68_9f48_11eb_9498_0242ac130202row1_col4\" class=\"data row1 col4\" >0.000000</td>\n",
              "                        <td id=\"T_ffa04f68_9f48_11eb_9498_0242ac130202row1_col5\" class=\"data row1 col5\" >0.000000</td>\n",
              "                        <td id=\"T_ffa04f68_9f48_11eb_9498_0242ac130202row1_col6\" class=\"data row1 col6\" >0.000000</td>\n",
              "                        <td id=\"T_ffa04f68_9f48_11eb_9498_0242ac130202row1_col7\" class=\"data row1 col7\" >0.000000</td>\n",
              "                        <td id=\"T_ffa04f68_9f48_11eb_9498_0242ac130202row1_col8\" class=\"data row1 col8\" >0.000000</td>\n",
              "                        <td id=\"T_ffa04f68_9f48_11eb_9498_0242ac130202row1_col9\" class=\"data row1 col9\" >0.000000</td>\n",
              "                        <td id=\"T_ffa04f68_9f48_11eb_9498_0242ac130202row1_col10\" class=\"data row1 col10\" >0.000000</td>\n",
              "                        <td id=\"T_ffa04f68_9f48_11eb_9498_0242ac130202row1_col11\" class=\"data row1 col11\" >0.000000</td>\n",
              "                        <td id=\"T_ffa04f68_9f48_11eb_9498_0242ac130202row1_col12\" class=\"data row1 col12\" >0.000000</td>\n",
              "                        <td id=\"T_ffa04f68_9f48_11eb_9498_0242ac130202row1_col13\" class=\"data row1 col13\" >0.000000</td>\n",
              "                        <td id=\"T_ffa04f68_9f48_11eb_9498_0242ac130202row1_col14\" class=\"data row1 col14\" >0.000000</td>\n",
              "                        <td id=\"T_ffa04f68_9f48_11eb_9498_0242ac130202row1_col15\" class=\"data row1 col15\" >0.000000</td>\n",
              "                        <td id=\"T_ffa04f68_9f48_11eb_9498_0242ac130202row1_col16\" class=\"data row1 col16\" >0.000000</td>\n",
              "                        <td id=\"T_ffa04f68_9f48_11eb_9498_0242ac130202row1_col17\" class=\"data row1 col17\" >0.000000</td>\n",
              "                        <td id=\"T_ffa04f68_9f48_11eb_9498_0242ac130202row1_col18\" class=\"data row1 col18\" >0.000000</td>\n",
              "                        <td id=\"T_ffa04f68_9f48_11eb_9498_0242ac130202row1_col19\" class=\"data row1 col19\" >0.000000</td>\n",
              "                        <td id=\"T_ffa04f68_9f48_11eb_9498_0242ac130202row1_col20\" class=\"data row1 col20\" >0.000000</td>\n",
              "                        <td id=\"T_ffa04f68_9f48_11eb_9498_0242ac130202row1_col21\" class=\"data row1 col21\" >0.000000</td>\n",
              "                        <td id=\"T_ffa04f68_9f48_11eb_9498_0242ac130202row1_col22\" class=\"data row1 col22\" >0.390639</td>\n",
              "                        <td id=\"T_ffa04f68_9f48_11eb_9498_0242ac130202row1_col23\" class=\"data row1 col23\" >0.000000</td>\n",
              "                        <td id=\"T_ffa04f68_9f48_11eb_9498_0242ac130202row1_col24\" class=\"data row1 col24\" >0.000000</td>\n",
              "                        <td id=\"T_ffa04f68_9f48_11eb_9498_0242ac130202row1_col25\" class=\"data row1 col25\" >0.000000</td>\n",
              "                        <td id=\"T_ffa04f68_9f48_11eb_9498_0242ac130202row1_col26\" class=\"data row1 col26\" >0.000000</td>\n",
              "                        <td id=\"T_ffa04f68_9f48_11eb_9498_0242ac130202row1_col27\" class=\"data row1 col27\" >0.000000</td>\n",
              "                        <td id=\"T_ffa04f68_9f48_11eb_9498_0242ac130202row1_col28\" class=\"data row1 col28\" >0.000000</td>\n",
              "                        <td id=\"T_ffa04f68_9f48_11eb_9498_0242ac130202row1_col29\" class=\"data row1 col29\" >0.000000</td>\n",
              "                        <td id=\"T_ffa04f68_9f48_11eb_9498_0242ac130202row1_col30\" class=\"data row1 col30\" >0.000000</td>\n",
              "                        <td id=\"T_ffa04f68_9f48_11eb_9498_0242ac130202row1_col31\" class=\"data row1 col31\" >0.000000</td>\n",
              "                        <td id=\"T_ffa04f68_9f48_11eb_9498_0242ac130202row1_col32\" class=\"data row1 col32\" >0.000000</td>\n",
              "                        <td id=\"T_ffa04f68_9f48_11eb_9498_0242ac130202row1_col33\" class=\"data row1 col33\" >0.000000</td>\n",
              "                        <td id=\"T_ffa04f68_9f48_11eb_9498_0242ac130202row1_col34\" class=\"data row1 col34\" >0.000000</td>\n",
              "                        <td id=\"T_ffa04f68_9f48_11eb_9498_0242ac130202row1_col35\" class=\"data row1 col35\" >0.000000</td>\n",
              "                        <td id=\"T_ffa04f68_9f48_11eb_9498_0242ac130202row1_col36\" class=\"data row1 col36\" >0.290530</td>\n",
              "                        <td id=\"T_ffa04f68_9f48_11eb_9498_0242ac130202row1_col37\" class=\"data row1 col37\" >0.000000</td>\n",
              "                        <td id=\"T_ffa04f68_9f48_11eb_9498_0242ac130202row1_col38\" class=\"data row1 col38\" >0.000000</td>\n",
              "                        <td id=\"T_ffa04f68_9f48_11eb_9498_0242ac130202row1_col39\" class=\"data row1 col39\" >0.000000</td>\n",
              "                        <td id=\"T_ffa04f68_9f48_11eb_9498_0242ac130202row1_col40\" class=\"data row1 col40\" >0.390639</td>\n",
              "                        <td id=\"T_ffa04f68_9f48_11eb_9498_0242ac130202row1_col41\" class=\"data row1 col41\" >0.000000</td>\n",
              "                        <td id=\"T_ffa04f68_9f48_11eb_9498_0242ac130202row1_col42\" class=\"data row1 col42\" >0.000000</td>\n",
              "                        <td id=\"T_ffa04f68_9f48_11eb_9498_0242ac130202row1_col43\" class=\"data row1 col43\" >0.000000</td>\n",
              "                        <td id=\"T_ffa04f68_9f48_11eb_9498_0242ac130202row1_col44\" class=\"data row1 col44\" >0.000000</td>\n",
              "                        <td id=\"T_ffa04f68_9f48_11eb_9498_0242ac130202row1_col45\" class=\"data row1 col45\" >0.000000</td>\n",
              "                        <td id=\"T_ffa04f68_9f48_11eb_9498_0242ac130202row1_col46\" class=\"data row1 col46\" >0.000000</td>\n",
              "                        <td id=\"T_ffa04f68_9f48_11eb_9498_0242ac130202row1_col47\" class=\"data row1 col47\" >0.000000</td>\n",
              "                        <td id=\"T_ffa04f68_9f48_11eb_9498_0242ac130202row1_col48\" class=\"data row1 col48\" >0.000000</td>\n",
              "                        <td id=\"T_ffa04f68_9f48_11eb_9498_0242ac130202row1_col49\" class=\"data row1 col49\" >0.000000</td>\n",
              "                        <td id=\"T_ffa04f68_9f48_11eb_9498_0242ac130202row1_col50\" class=\"data row1 col50\" >0.000000</td>\n",
              "                        <td id=\"T_ffa04f68_9f48_11eb_9498_0242ac130202row1_col51\" class=\"data row1 col51\" >0.000000</td>\n",
              "                        <td id=\"T_ffa04f68_9f48_11eb_9498_0242ac130202row1_col52\" class=\"data row1 col52\" >0.390639</td>\n",
              "                        <td id=\"T_ffa04f68_9f48_11eb_9498_0242ac130202row1_col53\" class=\"data row1 col53\" >0.000000</td>\n",
              "                        <td id=\"T_ffa04f68_9f48_11eb_9498_0242ac130202row1_col54\" class=\"data row1 col54\" >0.000000</td>\n",
              "                        <td id=\"T_ffa04f68_9f48_11eb_9498_0242ac130202row1_col55\" class=\"data row1 col55\" >0.000000</td>\n",
              "                        <td id=\"T_ffa04f68_9f48_11eb_9498_0242ac130202row1_col56\" class=\"data row1 col56\" >0.390639</td>\n",
              "                        <td id=\"T_ffa04f68_9f48_11eb_9498_0242ac130202row1_col57\" class=\"data row1 col57\" >0.000000</td>\n",
              "                        <td id=\"T_ffa04f68_9f48_11eb_9498_0242ac130202row1_col58\" class=\"data row1 col58\" >0.000000</td>\n",
              "                        <td id=\"T_ffa04f68_9f48_11eb_9498_0242ac130202row1_col59\" class=\"data row1 col59\" >0.000000</td>\n",
              "                        <td id=\"T_ffa04f68_9f48_11eb_9498_0242ac130202row1_col60\" class=\"data row1 col60\" >0.000000</td>\n",
              "                        <td id=\"T_ffa04f68_9f48_11eb_9498_0242ac130202row1_col61\" class=\"data row1 col61\" >0.000000</td>\n",
              "                        <td id=\"T_ffa04f68_9f48_11eb_9498_0242ac130202row1_col62\" class=\"data row1 col62\" >0.000000</td>\n",
              "                        <td id=\"T_ffa04f68_9f48_11eb_9498_0242ac130202row1_col63\" class=\"data row1 col63\" >0.000000</td>\n",
              "                        <td id=\"T_ffa04f68_9f48_11eb_9498_0242ac130202row1_col64\" class=\"data row1 col64\" >0.000000</td>\n",
              "                        <td id=\"T_ffa04f68_9f48_11eb_9498_0242ac130202row1_col65\" class=\"data row1 col65\" >0.000000</td>\n",
              "                        <td id=\"T_ffa04f68_9f48_11eb_9498_0242ac130202row1_col66\" class=\"data row1 col66\" >0.000000</td>\n",
              "                        <td id=\"T_ffa04f68_9f48_11eb_9498_0242ac130202row1_col67\" class=\"data row1 col67\" >0.000000</td>\n",
              "                        <td id=\"T_ffa04f68_9f48_11eb_9498_0242ac130202row1_col68\" class=\"data row1 col68\" >0.000000</td>\n",
              "                        <td id=\"T_ffa04f68_9f48_11eb_9498_0242ac130202row1_col69\" class=\"data row1 col69\" >0.000000</td>\n",
              "                        <td id=\"T_ffa04f68_9f48_11eb_9498_0242ac130202row1_col70\" class=\"data row1 col70\" >0.000000</td>\n",
              "                        <td id=\"T_ffa04f68_9f48_11eb_9498_0242ac130202row1_col71\" class=\"data row1 col71\" >0.000000</td>\n",
              "                        <td id=\"T_ffa04f68_9f48_11eb_9498_0242ac130202row1_col72\" class=\"data row1 col72\" >0.000000</td>\n",
              "                        <td id=\"T_ffa04f68_9f48_11eb_9498_0242ac130202row1_col73\" class=\"data row1 col73\" >0.000000</td>\n",
              "                        <td id=\"T_ffa04f68_9f48_11eb_9498_0242ac130202row1_col74\" class=\"data row1 col74\" >0.000000</td>\n",
              "                        <td id=\"T_ffa04f68_9f48_11eb_9498_0242ac130202row1_col75\" class=\"data row1 col75\" >0.000000</td>\n",
              "                        <td id=\"T_ffa04f68_9f48_11eb_9498_0242ac130202row1_col76\" class=\"data row1 col76\" >0.390639</td>\n",
              "                        <td id=\"T_ffa04f68_9f48_11eb_9498_0242ac130202row1_col77\" class=\"data row1 col77\" >0.000000</td>\n",
              "                        <td id=\"T_ffa04f68_9f48_11eb_9498_0242ac130202row1_col78\" class=\"data row1 col78\" >0.390639</td>\n",
              "                        <td id=\"T_ffa04f68_9f48_11eb_9498_0242ac130202row1_col79\" class=\"data row1 col79\" >0.000000</td>\n",
              "                        <td id=\"T_ffa04f68_9f48_11eb_9498_0242ac130202row1_col80\" class=\"data row1 col80\" >0.000000</td>\n",
              "                        <td id=\"T_ffa04f68_9f48_11eb_9498_0242ac130202row1_col81\" class=\"data row1 col81\" >0.000000</td>\n",
              "                        <td id=\"T_ffa04f68_9f48_11eb_9498_0242ac130202row1_col82\" class=\"data row1 col82\" >0.000000</td>\n",
              "                        <td id=\"T_ffa04f68_9f48_11eb_9498_0242ac130202row1_col83\" class=\"data row1 col83\" >0.000000</td>\n",
              "                        <td id=\"T_ffa04f68_9f48_11eb_9498_0242ac130202row1_col84\" class=\"data row1 col84\" >0.000000</td>\n",
              "                        <td id=\"T_ffa04f68_9f48_11eb_9498_0242ac130202row1_col85\" class=\"data row1 col85\" >0.000000</td>\n",
              "                        <td id=\"T_ffa04f68_9f48_11eb_9498_0242ac130202row1_col86\" class=\"data row1 col86\" >0.000000</td>\n",
              "                        <td id=\"T_ffa04f68_9f48_11eb_9498_0242ac130202row1_col87\" class=\"data row1 col87\" >0.000000</td>\n",
              "                        <td id=\"T_ffa04f68_9f48_11eb_9498_0242ac130202row1_col88\" class=\"data row1 col88\" >0.000000</td>\n",
              "                        <td id=\"T_ffa04f68_9f48_11eb_9498_0242ac130202row1_col89\" class=\"data row1 col89\" >0.000000</td>\n",
              "                        <td id=\"T_ffa04f68_9f48_11eb_9498_0242ac130202row1_col90\" class=\"data row1 col90\" >0.000000</td>\n",
              "                        <td id=\"T_ffa04f68_9f48_11eb_9498_0242ac130202row1_col91\" class=\"data row1 col91\" >0.000000</td>\n",
              "                        <td id=\"T_ffa04f68_9f48_11eb_9498_0242ac130202row1_col92\" class=\"data row1 col92\" >0.000000</td>\n",
              "                        <td id=\"T_ffa04f68_9f48_11eb_9498_0242ac130202row1_col93\" class=\"data row1 col93\" >0.000000</td>\n",
              "                        <td id=\"T_ffa04f68_9f48_11eb_9498_0242ac130202row1_col94\" class=\"data row1 col94\" >0.000000</td>\n",
              "                        <td id=\"T_ffa04f68_9f48_11eb_9498_0242ac130202row1_col95\" class=\"data row1 col95\" >0.000000</td>\n",
              "                        <td id=\"T_ffa04f68_9f48_11eb_9498_0242ac130202row1_col96\" class=\"data row1 col96\" >0.000000</td>\n",
              "                        <td id=\"T_ffa04f68_9f48_11eb_9498_0242ac130202row1_col97\" class=\"data row1 col97\" >0.000000</td>\n",
              "            </tr>\n",
              "            <tr>\n",
              "                        <th id=\"T_ffa04f68_9f48_11eb_9498_0242ac130202level0_row2\" class=\"row_heading level0 row2\" >2</th>\n",
              "                        <td id=\"T_ffa04f68_9f48_11eb_9498_0242ac130202row2_col0\" class=\"data row2 col0\" >0.000000</td>\n",
              "                        <td id=\"T_ffa04f68_9f48_11eb_9498_0242ac130202row2_col1\" class=\"data row2 col1\" >0.000000</td>\n",
              "                        <td id=\"T_ffa04f68_9f48_11eb_9498_0242ac130202row2_col2\" class=\"data row2 col2\" >0.000000</td>\n",
              "                        <td id=\"T_ffa04f68_9f48_11eb_9498_0242ac130202row2_col3\" class=\"data row2 col3\" >0.000000</td>\n",
              "                        <td id=\"T_ffa04f68_9f48_11eb_9498_0242ac130202row2_col4\" class=\"data row2 col4\" >0.000000</td>\n",
              "                        <td id=\"T_ffa04f68_9f48_11eb_9498_0242ac130202row2_col5\" class=\"data row2 col5\" >0.000000</td>\n",
              "                        <td id=\"T_ffa04f68_9f48_11eb_9498_0242ac130202row2_col6\" class=\"data row2 col6\" >0.171413</td>\n",
              "                        <td id=\"T_ffa04f68_9f48_11eb_9498_0242ac130202row2_col7\" class=\"data row2 col7\" >0.000000</td>\n",
              "                        <td id=\"T_ffa04f68_9f48_11eb_9498_0242ac130202row2_col8\" class=\"data row2 col8\" >0.000000</td>\n",
              "                        <td id=\"T_ffa04f68_9f48_11eb_9498_0242ac130202row2_col9\" class=\"data row2 col9\" >0.000000</td>\n",
              "                        <td id=\"T_ffa04f68_9f48_11eb_9498_0242ac130202row2_col10\" class=\"data row2 col10\" >0.342825</td>\n",
              "                        <td id=\"T_ffa04f68_9f48_11eb_9498_0242ac130202row2_col11\" class=\"data row2 col11\" >0.000000</td>\n",
              "                        <td id=\"T_ffa04f68_9f48_11eb_9498_0242ac130202row2_col12\" class=\"data row2 col12\" >0.000000</td>\n",
              "                        <td id=\"T_ffa04f68_9f48_11eb_9498_0242ac130202row2_col13\" class=\"data row2 col13\" >0.000000</td>\n",
              "                        <td id=\"T_ffa04f68_9f48_11eb_9498_0242ac130202row2_col14\" class=\"data row2 col14\" >0.201640</td>\n",
              "                        <td id=\"T_ffa04f68_9f48_11eb_9498_0242ac130202row2_col15\" class=\"data row2 col15\" >0.201640</td>\n",
              "                        <td id=\"T_ffa04f68_9f48_11eb_9498_0242ac130202row2_col16\" class=\"data row2 col16\" >0.000000</td>\n",
              "                        <td id=\"T_ffa04f68_9f48_11eb_9498_0242ac130202row2_col17\" class=\"data row2 col17\" >0.000000</td>\n",
              "                        <td id=\"T_ffa04f68_9f48_11eb_9498_0242ac130202row2_col18\" class=\"data row2 col18\" >0.201640</td>\n",
              "                        <td id=\"T_ffa04f68_9f48_11eb_9498_0242ac130202row2_col19\" class=\"data row2 col19\" >0.000000</td>\n",
              "                        <td id=\"T_ffa04f68_9f48_11eb_9498_0242ac130202row2_col20\" class=\"data row2 col20\" >0.000000</td>\n",
              "                        <td id=\"T_ffa04f68_9f48_11eb_9498_0242ac130202row2_col21\" class=\"data row2 col21\" >0.000000</td>\n",
              "                        <td id=\"T_ffa04f68_9f48_11eb_9498_0242ac130202row2_col22\" class=\"data row2 col22\" >0.000000</td>\n",
              "                        <td id=\"T_ffa04f68_9f48_11eb_9498_0242ac130202row2_col23\" class=\"data row2 col23\" >0.000000</td>\n",
              "                        <td id=\"T_ffa04f68_9f48_11eb_9498_0242ac130202row2_col24\" class=\"data row2 col24\" >0.000000</td>\n",
              "                        <td id=\"T_ffa04f68_9f48_11eb_9498_0242ac130202row2_col25\" class=\"data row2 col25\" >0.000000</td>\n",
              "                        <td id=\"T_ffa04f68_9f48_11eb_9498_0242ac130202row2_col26\" class=\"data row2 col26\" >0.000000</td>\n",
              "                        <td id=\"T_ffa04f68_9f48_11eb_9498_0242ac130202row2_col27\" class=\"data row2 col27\" >0.000000</td>\n",
              "                        <td id=\"T_ffa04f68_9f48_11eb_9498_0242ac130202row2_col28\" class=\"data row2 col28\" >0.000000</td>\n",
              "                        <td id=\"T_ffa04f68_9f48_11eb_9498_0242ac130202row2_col29\" class=\"data row2 col29\" >0.000000</td>\n",
              "                        <td id=\"T_ffa04f68_9f48_11eb_9498_0242ac130202row2_col30\" class=\"data row2 col30\" >0.000000</td>\n",
              "                        <td id=\"T_ffa04f68_9f48_11eb_9498_0242ac130202row2_col31\" class=\"data row2 col31\" >0.000000</td>\n",
              "                        <td id=\"T_ffa04f68_9f48_11eb_9498_0242ac130202row2_col32\" class=\"data row2 col32\" >0.000000</td>\n",
              "                        <td id=\"T_ffa04f68_9f48_11eb_9498_0242ac130202row2_col33\" class=\"data row2 col33\" >0.000000</td>\n",
              "                        <td id=\"T_ffa04f68_9f48_11eb_9498_0242ac130202row2_col34\" class=\"data row2 col34\" >0.149966</td>\n",
              "                        <td id=\"T_ffa04f68_9f48_11eb_9498_0242ac130202row2_col35\" class=\"data row2 col35\" >0.201640</td>\n",
              "                        <td id=\"T_ffa04f68_9f48_11eb_9498_0242ac130202row2_col36\" class=\"data row2 col36\" >0.000000</td>\n",
              "                        <td id=\"T_ffa04f68_9f48_11eb_9498_0242ac130202row2_col37\" class=\"data row2 col37\" >0.000000</td>\n",
              "                        <td id=\"T_ffa04f68_9f48_11eb_9498_0242ac130202row2_col38\" class=\"data row2 col38\" >0.000000</td>\n",
              "                        <td id=\"T_ffa04f68_9f48_11eb_9498_0242ac130202row2_col39\" class=\"data row2 col39\" >0.000000</td>\n",
              "                        <td id=\"T_ffa04f68_9f48_11eb_9498_0242ac130202row2_col40\" class=\"data row2 col40\" >0.000000</td>\n",
              "                        <td id=\"T_ffa04f68_9f48_11eb_9498_0242ac130202row2_col41\" class=\"data row2 col41\" >0.000000</td>\n",
              "                        <td id=\"T_ffa04f68_9f48_11eb_9498_0242ac130202row2_col42\" class=\"data row2 col42\" >0.000000</td>\n",
              "                        <td id=\"T_ffa04f68_9f48_11eb_9498_0242ac130202row2_col43\" class=\"data row2 col43\" >0.000000</td>\n",
              "                        <td id=\"T_ffa04f68_9f48_11eb_9498_0242ac130202row2_col44\" class=\"data row2 col44\" >0.000000</td>\n",
              "                        <td id=\"T_ffa04f68_9f48_11eb_9498_0242ac130202row2_col45\" class=\"data row2 col45\" >0.000000</td>\n",
              "                        <td id=\"T_ffa04f68_9f48_11eb_9498_0242ac130202row2_col46\" class=\"data row2 col46\" >0.000000</td>\n",
              "                        <td id=\"T_ffa04f68_9f48_11eb_9498_0242ac130202row2_col47\" class=\"data row2 col47\" >0.000000</td>\n",
              "                        <td id=\"T_ffa04f68_9f48_11eb_9498_0242ac130202row2_col48\" class=\"data row2 col48\" >0.216492</td>\n",
              "                        <td id=\"T_ffa04f68_9f48_11eb_9498_0242ac130202row2_col49\" class=\"data row2 col49\" >0.000000</td>\n",
              "                        <td id=\"T_ffa04f68_9f48_11eb_9498_0242ac130202row2_col50\" class=\"data row2 col50\" >0.000000</td>\n",
              "                        <td id=\"T_ffa04f68_9f48_11eb_9498_0242ac130202row2_col51\" class=\"data row2 col51\" >0.000000</td>\n",
              "                        <td id=\"T_ffa04f68_9f48_11eb_9498_0242ac130202row2_col52\" class=\"data row2 col52\" >0.000000</td>\n",
              "                        <td id=\"T_ffa04f68_9f48_11eb_9498_0242ac130202row2_col53\" class=\"data row2 col53\" >0.000000</td>\n",
              "                        <td id=\"T_ffa04f68_9f48_11eb_9498_0242ac130202row2_col54\" class=\"data row2 col54\" >0.000000</td>\n",
              "                        <td id=\"T_ffa04f68_9f48_11eb_9498_0242ac130202row2_col55\" class=\"data row2 col55\" >0.000000</td>\n",
              "                        <td id=\"T_ffa04f68_9f48_11eb_9498_0242ac130202row2_col56\" class=\"data row2 col56\" >0.000000</td>\n",
              "                        <td id=\"T_ffa04f68_9f48_11eb_9498_0242ac130202row2_col57\" class=\"data row2 col57\" >0.201640</td>\n",
              "                        <td id=\"T_ffa04f68_9f48_11eb_9498_0242ac130202row2_col58\" class=\"data row2 col58\" >0.201640</td>\n",
              "                        <td id=\"T_ffa04f68_9f48_11eb_9498_0242ac130202row2_col59\" class=\"data row2 col59\" >0.000000</td>\n",
              "                        <td id=\"T_ffa04f68_9f48_11eb_9498_0242ac130202row2_col60\" class=\"data row2 col60\" >0.000000</td>\n",
              "                        <td id=\"T_ffa04f68_9f48_11eb_9498_0242ac130202row2_col61\" class=\"data row2 col61\" >0.201640</td>\n",
              "                        <td id=\"T_ffa04f68_9f48_11eb_9498_0242ac130202row2_col62\" class=\"data row2 col62\" >0.000000</td>\n",
              "                        <td id=\"T_ffa04f68_9f48_11eb_9498_0242ac130202row2_col63\" class=\"data row2 col63\" >0.201640</td>\n",
              "                        <td id=\"T_ffa04f68_9f48_11eb_9498_0242ac130202row2_col64\" class=\"data row2 col64\" >0.171413</td>\n",
              "                        <td id=\"T_ffa04f68_9f48_11eb_9498_0242ac130202row2_col65\" class=\"data row2 col65\" >0.201640</td>\n",
              "                        <td id=\"T_ffa04f68_9f48_11eb_9498_0242ac130202row2_col66\" class=\"data row2 col66\" >0.000000</td>\n",
              "                        <td id=\"T_ffa04f68_9f48_11eb_9498_0242ac130202row2_col67\" class=\"data row2 col67\" >0.000000</td>\n",
              "                        <td id=\"T_ffa04f68_9f48_11eb_9498_0242ac130202row2_col68\" class=\"data row2 col68\" >0.000000</td>\n",
              "                        <td id=\"T_ffa04f68_9f48_11eb_9498_0242ac130202row2_col69\" class=\"data row2 col69\" >0.403280</td>\n",
              "                        <td id=\"T_ffa04f68_9f48_11eb_9498_0242ac130202row2_col70\" class=\"data row2 col70\" >0.000000</td>\n",
              "                        <td id=\"T_ffa04f68_9f48_11eb_9498_0242ac130202row2_col71\" class=\"data row2 col71\" >0.000000</td>\n",
              "                        <td id=\"T_ffa04f68_9f48_11eb_9498_0242ac130202row2_col72\" class=\"data row2 col72\" >0.000000</td>\n",
              "                        <td id=\"T_ffa04f68_9f48_11eb_9498_0242ac130202row2_col73\" class=\"data row2 col73\" >0.000000</td>\n",
              "                        <td id=\"T_ffa04f68_9f48_11eb_9498_0242ac130202row2_col74\" class=\"data row2 col74\" >0.201640</td>\n",
              "                        <td id=\"T_ffa04f68_9f48_11eb_9498_0242ac130202row2_col75\" class=\"data row2 col75\" >0.000000</td>\n",
              "                        <td id=\"T_ffa04f68_9f48_11eb_9498_0242ac130202row2_col76\" class=\"data row2 col76\" >0.000000</td>\n",
              "                        <td id=\"T_ffa04f68_9f48_11eb_9498_0242ac130202row2_col77\" class=\"data row2 col77\" >0.000000</td>\n",
              "                        <td id=\"T_ffa04f68_9f48_11eb_9498_0242ac130202row2_col78\" class=\"data row2 col78\" >0.000000</td>\n",
              "                        <td id=\"T_ffa04f68_9f48_11eb_9498_0242ac130202row2_col79\" class=\"data row2 col79\" >0.000000</td>\n",
              "                        <td id=\"T_ffa04f68_9f48_11eb_9498_0242ac130202row2_col80\" class=\"data row2 col80\" >0.000000</td>\n",
              "                        <td id=\"T_ffa04f68_9f48_11eb_9498_0242ac130202row2_col81\" class=\"data row2 col81\" >0.000000</td>\n",
              "                        <td id=\"T_ffa04f68_9f48_11eb_9498_0242ac130202row2_col82\" class=\"data row2 col82\" >0.403280</td>\n",
              "                        <td id=\"T_ffa04f68_9f48_11eb_9498_0242ac130202row2_col83\" class=\"data row2 col83\" >0.000000</td>\n",
              "                        <td id=\"T_ffa04f68_9f48_11eb_9498_0242ac130202row2_col84\" class=\"data row2 col84\" >0.000000</td>\n",
              "                        <td id=\"T_ffa04f68_9f48_11eb_9498_0242ac130202row2_col85\" class=\"data row2 col85\" >0.000000</td>\n",
              "                        <td id=\"T_ffa04f68_9f48_11eb_9498_0242ac130202row2_col86\" class=\"data row2 col86\" >0.000000</td>\n",
              "                        <td id=\"T_ffa04f68_9f48_11eb_9498_0242ac130202row2_col87\" class=\"data row2 col87\" >0.000000</td>\n",
              "                        <td id=\"T_ffa04f68_9f48_11eb_9498_0242ac130202row2_col88\" class=\"data row2 col88\" >0.000000</td>\n",
              "                        <td id=\"T_ffa04f68_9f48_11eb_9498_0242ac130202row2_col89\" class=\"data row2 col89\" >0.000000</td>\n",
              "                        <td id=\"T_ffa04f68_9f48_11eb_9498_0242ac130202row2_col90\" class=\"data row2 col90\" >0.000000</td>\n",
              "                        <td id=\"T_ffa04f68_9f48_11eb_9498_0242ac130202row2_col91\" class=\"data row2 col91\" >0.149966</td>\n",
              "                        <td id=\"T_ffa04f68_9f48_11eb_9498_0242ac130202row2_col92\" class=\"data row2 col92\" >0.000000</td>\n",
              "                        <td id=\"T_ffa04f68_9f48_11eb_9498_0242ac130202row2_col93\" class=\"data row2 col93\" >0.000000</td>\n",
              "                        <td id=\"T_ffa04f68_9f48_11eb_9498_0242ac130202row2_col94\" class=\"data row2 col94\" >0.000000</td>\n",
              "                        <td id=\"T_ffa04f68_9f48_11eb_9498_0242ac130202row2_col95\" class=\"data row2 col95\" >0.000000</td>\n",
              "                        <td id=\"T_ffa04f68_9f48_11eb_9498_0242ac130202row2_col96\" class=\"data row2 col96\" >0.000000</td>\n",
              "                        <td id=\"T_ffa04f68_9f48_11eb_9498_0242ac130202row2_col97\" class=\"data row2 col97\" >0.000000</td>\n",
              "            </tr>\n",
              "            <tr>\n",
              "                        <th id=\"T_ffa04f68_9f48_11eb_9498_0242ac130202level0_row3\" class=\"row_heading level0 row3\" >3</th>\n",
              "                        <td id=\"T_ffa04f68_9f48_11eb_9498_0242ac130202row3_col0\" class=\"data row3 col0\" >0.382366</td>\n",
              "                        <td id=\"T_ffa04f68_9f48_11eb_9498_0242ac130202row3_col1\" class=\"data row3 col1\" >0.382366</td>\n",
              "                        <td id=\"T_ffa04f68_9f48_11eb_9498_0242ac130202row3_col2\" class=\"data row3 col2\" >0.000000</td>\n",
              "                        <td id=\"T_ffa04f68_9f48_11eb_9498_0242ac130202row3_col3\" class=\"data row3 col3\" >0.000000</td>\n",
              "                        <td id=\"T_ffa04f68_9f48_11eb_9498_0242ac130202row3_col4\" class=\"data row3 col4\" >0.000000</td>\n",
              "                        <td id=\"T_ffa04f68_9f48_11eb_9498_0242ac130202row3_col5\" class=\"data row3 col5\" >0.000000</td>\n",
              "                        <td id=\"T_ffa04f68_9f48_11eb_9498_0242ac130202row3_col6\" class=\"data row3 col6\" >0.000000</td>\n",
              "                        <td id=\"T_ffa04f68_9f48_11eb_9498_0242ac130202row3_col7\" class=\"data row3 col7\" >0.000000</td>\n",
              "                        <td id=\"T_ffa04f68_9f48_11eb_9498_0242ac130202row3_col8\" class=\"data row3 col8\" >0.000000</td>\n",
              "                        <td id=\"T_ffa04f68_9f48_11eb_9498_0242ac130202row3_col9\" class=\"data row3 col9\" >0.000000</td>\n",
              "                        <td id=\"T_ffa04f68_9f48_11eb_9498_0242ac130202row3_col10\" class=\"data row3 col10\" >0.000000</td>\n",
              "                        <td id=\"T_ffa04f68_9f48_11eb_9498_0242ac130202row3_col11\" class=\"data row3 col11\" >0.000000</td>\n",
              "                        <td id=\"T_ffa04f68_9f48_11eb_9498_0242ac130202row3_col12\" class=\"data row3 col12\" >0.000000</td>\n",
              "                        <td id=\"T_ffa04f68_9f48_11eb_9498_0242ac130202row3_col13\" class=\"data row3 col13\" >0.000000</td>\n",
              "                        <td id=\"T_ffa04f68_9f48_11eb_9498_0242ac130202row3_col14\" class=\"data row3 col14\" >0.000000</td>\n",
              "                        <td id=\"T_ffa04f68_9f48_11eb_9498_0242ac130202row3_col15\" class=\"data row3 col15\" >0.000000</td>\n",
              "                        <td id=\"T_ffa04f68_9f48_11eb_9498_0242ac130202row3_col16\" class=\"data row3 col16\" >0.000000</td>\n",
              "                        <td id=\"T_ffa04f68_9f48_11eb_9498_0242ac130202row3_col17\" class=\"data row3 col17\" >0.000000</td>\n",
              "                        <td id=\"T_ffa04f68_9f48_11eb_9498_0242ac130202row3_col18\" class=\"data row3 col18\" >0.000000</td>\n",
              "                        <td id=\"T_ffa04f68_9f48_11eb_9498_0242ac130202row3_col19\" class=\"data row3 col19\" >0.000000</td>\n",
              "                        <td id=\"T_ffa04f68_9f48_11eb_9498_0242ac130202row3_col20\" class=\"data row3 col20\" >0.325046</td>\n",
              "                        <td id=\"T_ffa04f68_9f48_11eb_9498_0242ac130202row3_col21\" class=\"data row3 col21\" >0.000000</td>\n",
              "                        <td id=\"T_ffa04f68_9f48_11eb_9498_0242ac130202row3_col22\" class=\"data row3 col22\" >0.000000</td>\n",
              "                        <td id=\"T_ffa04f68_9f48_11eb_9498_0242ac130202row3_col23\" class=\"data row3 col23\" >0.000000</td>\n",
              "                        <td id=\"T_ffa04f68_9f48_11eb_9498_0242ac130202row3_col24\" class=\"data row3 col24\" >0.000000</td>\n",
              "                        <td id=\"T_ffa04f68_9f48_11eb_9498_0242ac130202row3_col25\" class=\"data row3 col25\" >0.000000</td>\n",
              "                        <td id=\"T_ffa04f68_9f48_11eb_9498_0242ac130202row3_col26\" class=\"data row3 col26\" >0.000000</td>\n",
              "                        <td id=\"T_ffa04f68_9f48_11eb_9498_0242ac130202row3_col27\" class=\"data row3 col27\" >0.000000</td>\n",
              "                        <td id=\"T_ffa04f68_9f48_11eb_9498_0242ac130202row3_col28\" class=\"data row3 col28\" >0.000000</td>\n",
              "                        <td id=\"T_ffa04f68_9f48_11eb_9498_0242ac130202row3_col29\" class=\"data row3 col29\" >0.000000</td>\n",
              "                        <td id=\"T_ffa04f68_9f48_11eb_9498_0242ac130202row3_col30\" class=\"data row3 col30\" >0.000000</td>\n",
              "                        <td id=\"T_ffa04f68_9f48_11eb_9498_0242ac130202row3_col31\" class=\"data row3 col31\" >0.000000</td>\n",
              "                        <td id=\"T_ffa04f68_9f48_11eb_9498_0242ac130202row3_col32\" class=\"data row3 col32\" >0.000000</td>\n",
              "                        <td id=\"T_ffa04f68_9f48_11eb_9498_0242ac130202row3_col33\" class=\"data row3 col33\" >0.000000</td>\n",
              "                        <td id=\"T_ffa04f68_9f48_11eb_9498_0242ac130202row3_col34\" class=\"data row3 col34\" >0.284377</td>\n",
              "                        <td id=\"T_ffa04f68_9f48_11eb_9498_0242ac130202row3_col35\" class=\"data row3 col35\" >0.000000</td>\n",
              "                        <td id=\"T_ffa04f68_9f48_11eb_9498_0242ac130202row3_col36\" class=\"data row3 col36\" >0.000000</td>\n",
              "                        <td id=\"T_ffa04f68_9f48_11eb_9498_0242ac130202row3_col37\" class=\"data row3 col37\" >0.000000</td>\n",
              "                        <td id=\"T_ffa04f68_9f48_11eb_9498_0242ac130202row3_col38\" class=\"data row3 col38\" >0.000000</td>\n",
              "                        <td id=\"T_ffa04f68_9f48_11eb_9498_0242ac130202row3_col39\" class=\"data row3 col39\" >0.000000</td>\n",
              "                        <td id=\"T_ffa04f68_9f48_11eb_9498_0242ac130202row3_col40\" class=\"data row3 col40\" >0.000000</td>\n",
              "                        <td id=\"T_ffa04f68_9f48_11eb_9498_0242ac130202row3_col41\" class=\"data row3 col41\" >0.000000</td>\n",
              "                        <td id=\"T_ffa04f68_9f48_11eb_9498_0242ac130202row3_col42\" class=\"data row3 col42\" >0.000000</td>\n",
              "                        <td id=\"T_ffa04f68_9f48_11eb_9498_0242ac130202row3_col43\" class=\"data row3 col43\" >0.000000</td>\n",
              "                        <td id=\"T_ffa04f68_9f48_11eb_9498_0242ac130202row3_col44\" class=\"data row3 col44\" >0.000000</td>\n",
              "                        <td id=\"T_ffa04f68_9f48_11eb_9498_0242ac130202row3_col45\" class=\"data row3 col45\" >0.000000</td>\n",
              "                        <td id=\"T_ffa04f68_9f48_11eb_9498_0242ac130202row3_col46\" class=\"data row3 col46\" >0.000000</td>\n",
              "                        <td id=\"T_ffa04f68_9f48_11eb_9498_0242ac130202row3_col47\" class=\"data row3 col47\" >0.000000</td>\n",
              "                        <td id=\"T_ffa04f68_9f48_11eb_9498_0242ac130202row3_col48\" class=\"data row3 col48\" >0.205265</td>\n",
              "                        <td id=\"T_ffa04f68_9f48_11eb_9498_0242ac130202row3_col49\" class=\"data row3 col49\" >0.000000</td>\n",
              "                        <td id=\"T_ffa04f68_9f48_11eb_9498_0242ac130202row3_col50\" class=\"data row3 col50\" >0.000000</td>\n",
              "                        <td id=\"T_ffa04f68_9f48_11eb_9498_0242ac130202row3_col51\" class=\"data row3 col51\" >0.000000</td>\n",
              "                        <td id=\"T_ffa04f68_9f48_11eb_9498_0242ac130202row3_col52\" class=\"data row3 col52\" >0.000000</td>\n",
              "                        <td id=\"T_ffa04f68_9f48_11eb_9498_0242ac130202row3_col53\" class=\"data row3 col53\" >0.000000</td>\n",
              "                        <td id=\"T_ffa04f68_9f48_11eb_9498_0242ac130202row3_col54\" class=\"data row3 col54\" >0.000000</td>\n",
              "                        <td id=\"T_ffa04f68_9f48_11eb_9498_0242ac130202row3_col55\" class=\"data row3 col55\" >0.000000</td>\n",
              "                        <td id=\"T_ffa04f68_9f48_11eb_9498_0242ac130202row3_col56\" class=\"data row3 col56\" >0.000000</td>\n",
              "                        <td id=\"T_ffa04f68_9f48_11eb_9498_0242ac130202row3_col57\" class=\"data row3 col57\" >0.000000</td>\n",
              "                        <td id=\"T_ffa04f68_9f48_11eb_9498_0242ac130202row3_col58\" class=\"data row3 col58\" >0.000000</td>\n",
              "                        <td id=\"T_ffa04f68_9f48_11eb_9498_0242ac130202row3_col59\" class=\"data row3 col59\" >0.000000</td>\n",
              "                        <td id=\"T_ffa04f68_9f48_11eb_9498_0242ac130202row3_col60\" class=\"data row3 col60\" >0.000000</td>\n",
              "                        <td id=\"T_ffa04f68_9f48_11eb_9498_0242ac130202row3_col61\" class=\"data row3 col61\" >0.000000</td>\n",
              "                        <td id=\"T_ffa04f68_9f48_11eb_9498_0242ac130202row3_col62\" class=\"data row3 col62\" >0.000000</td>\n",
              "                        <td id=\"T_ffa04f68_9f48_11eb_9498_0242ac130202row3_col63\" class=\"data row3 col63\" >0.000000</td>\n",
              "                        <td id=\"T_ffa04f68_9f48_11eb_9498_0242ac130202row3_col64\" class=\"data row3 col64\" >0.325046</td>\n",
              "                        <td id=\"T_ffa04f68_9f48_11eb_9498_0242ac130202row3_col65\" class=\"data row3 col65\" >0.000000</td>\n",
              "                        <td id=\"T_ffa04f68_9f48_11eb_9498_0242ac130202row3_col66\" class=\"data row3 col66\" >0.000000</td>\n",
              "                        <td id=\"T_ffa04f68_9f48_11eb_9498_0242ac130202row3_col67\" class=\"data row3 col67\" >0.382366</td>\n",
              "                        <td id=\"T_ffa04f68_9f48_11eb_9498_0242ac130202row3_col68\" class=\"data row3 col68\" >0.000000</td>\n",
              "                        <td id=\"T_ffa04f68_9f48_11eb_9498_0242ac130202row3_col69\" class=\"data row3 col69\" >0.000000</td>\n",
              "                        <td id=\"T_ffa04f68_9f48_11eb_9498_0242ac130202row3_col70\" class=\"data row3 col70\" >0.000000</td>\n",
              "                        <td id=\"T_ffa04f68_9f48_11eb_9498_0242ac130202row3_col71\" class=\"data row3 col71\" >0.000000</td>\n",
              "                        <td id=\"T_ffa04f68_9f48_11eb_9498_0242ac130202row3_col72\" class=\"data row3 col72\" >0.000000</td>\n",
              "                        <td id=\"T_ffa04f68_9f48_11eb_9498_0242ac130202row3_col73\" class=\"data row3 col73\" >0.382366</td>\n",
              "                        <td id=\"T_ffa04f68_9f48_11eb_9498_0242ac130202row3_col74\" class=\"data row3 col74\" >0.000000</td>\n",
              "                        <td id=\"T_ffa04f68_9f48_11eb_9498_0242ac130202row3_col75\" class=\"data row3 col75\" >0.000000</td>\n",
              "                        <td id=\"T_ffa04f68_9f48_11eb_9498_0242ac130202row3_col76\" class=\"data row3 col76\" >0.000000</td>\n",
              "                        <td id=\"T_ffa04f68_9f48_11eb_9498_0242ac130202row3_col77\" class=\"data row3 col77\" >0.000000</td>\n",
              "                        <td id=\"T_ffa04f68_9f48_11eb_9498_0242ac130202row3_col78\" class=\"data row3 col78\" >0.000000</td>\n",
              "                        <td id=\"T_ffa04f68_9f48_11eb_9498_0242ac130202row3_col79\" class=\"data row3 col79\" >0.000000</td>\n",
              "                        <td id=\"T_ffa04f68_9f48_11eb_9498_0242ac130202row3_col80\" class=\"data row3 col80\" >0.000000</td>\n",
              "                        <td id=\"T_ffa04f68_9f48_11eb_9498_0242ac130202row3_col81\" class=\"data row3 col81\" >0.000000</td>\n",
              "                        <td id=\"T_ffa04f68_9f48_11eb_9498_0242ac130202row3_col82\" class=\"data row3 col82\" >0.000000</td>\n",
              "                        <td id=\"T_ffa04f68_9f48_11eb_9498_0242ac130202row3_col83\" class=\"data row3 col83\" >0.000000</td>\n",
              "                        <td id=\"T_ffa04f68_9f48_11eb_9498_0242ac130202row3_col84\" class=\"data row3 col84\" >0.000000</td>\n",
              "                        <td id=\"T_ffa04f68_9f48_11eb_9498_0242ac130202row3_col85\" class=\"data row3 col85\" >0.000000</td>\n",
              "                        <td id=\"T_ffa04f68_9f48_11eb_9498_0242ac130202row3_col86\" class=\"data row3 col86\" >0.000000</td>\n",
              "                        <td id=\"T_ffa04f68_9f48_11eb_9498_0242ac130202row3_col87\" class=\"data row3 col87\" >0.000000</td>\n",
              "                        <td id=\"T_ffa04f68_9f48_11eb_9498_0242ac130202row3_col88\" class=\"data row3 col88\" >0.000000</td>\n",
              "                        <td id=\"T_ffa04f68_9f48_11eb_9498_0242ac130202row3_col89\" class=\"data row3 col89\" >0.000000</td>\n",
              "                        <td id=\"T_ffa04f68_9f48_11eb_9498_0242ac130202row3_col90\" class=\"data row3 col90\" >0.000000</td>\n",
              "                        <td id=\"T_ffa04f68_9f48_11eb_9498_0242ac130202row3_col91\" class=\"data row3 col91\" >0.000000</td>\n",
              "                        <td id=\"T_ffa04f68_9f48_11eb_9498_0242ac130202row3_col92\" class=\"data row3 col92\" >0.000000</td>\n",
              "                        <td id=\"T_ffa04f68_9f48_11eb_9498_0242ac130202row3_col93\" class=\"data row3 col93\" >0.000000</td>\n",
              "                        <td id=\"T_ffa04f68_9f48_11eb_9498_0242ac130202row3_col94\" class=\"data row3 col94\" >0.000000</td>\n",
              "                        <td id=\"T_ffa04f68_9f48_11eb_9498_0242ac130202row3_col95\" class=\"data row3 col95\" >0.000000</td>\n",
              "                        <td id=\"T_ffa04f68_9f48_11eb_9498_0242ac130202row3_col96\" class=\"data row3 col96\" >0.284377</td>\n",
              "                        <td id=\"T_ffa04f68_9f48_11eb_9498_0242ac130202row3_col97\" class=\"data row3 col97\" >0.000000</td>\n",
              "            </tr>\n",
              "            <tr>\n",
              "                        <th id=\"T_ffa04f68_9f48_11eb_9498_0242ac130202level0_row4\" class=\"row_heading level0 row4\" >4</th>\n",
              "                        <td id=\"T_ffa04f68_9f48_11eb_9498_0242ac130202row4_col0\" class=\"data row4 col0\" >0.000000</td>\n",
              "                        <td id=\"T_ffa04f68_9f48_11eb_9498_0242ac130202row4_col1\" class=\"data row4 col1\" >0.000000</td>\n",
              "                        <td id=\"T_ffa04f68_9f48_11eb_9498_0242ac130202row4_col2\" class=\"data row4 col2\" >0.000000</td>\n",
              "                        <td id=\"T_ffa04f68_9f48_11eb_9498_0242ac130202row4_col3\" class=\"data row4 col3\" >0.000000</td>\n",
              "                        <td id=\"T_ffa04f68_9f48_11eb_9498_0242ac130202row4_col4\" class=\"data row4 col4\" >0.000000</td>\n",
              "                        <td id=\"T_ffa04f68_9f48_11eb_9498_0242ac130202row4_col5\" class=\"data row4 col5\" >0.247873</td>\n",
              "                        <td id=\"T_ffa04f68_9f48_11eb_9498_0242ac130202row4_col6\" class=\"data row4 col6\" >0.000000</td>\n",
              "                        <td id=\"T_ffa04f68_9f48_11eb_9498_0242ac130202row4_col7\" class=\"data row4 col7\" >0.000000</td>\n",
              "                        <td id=\"T_ffa04f68_9f48_11eb_9498_0242ac130202row4_col8\" class=\"data row4 col8\" >0.000000</td>\n",
              "                        <td id=\"T_ffa04f68_9f48_11eb_9498_0242ac130202row4_col9\" class=\"data row4 col9\" >0.000000</td>\n",
              "                        <td id=\"T_ffa04f68_9f48_11eb_9498_0242ac130202row4_col10\" class=\"data row4 col10\" >0.000000</td>\n",
              "                        <td id=\"T_ffa04f68_9f48_11eb_9498_0242ac130202row4_col11\" class=\"data row4 col11\" >0.000000</td>\n",
              "                        <td id=\"T_ffa04f68_9f48_11eb_9498_0242ac130202row4_col12\" class=\"data row4 col12\" >0.000000</td>\n",
              "                        <td id=\"T_ffa04f68_9f48_11eb_9498_0242ac130202row4_col13\" class=\"data row4 col13\" >0.247873</td>\n",
              "                        <td id=\"T_ffa04f68_9f48_11eb_9498_0242ac130202row4_col14\" class=\"data row4 col14\" >0.000000</td>\n",
              "                        <td id=\"T_ffa04f68_9f48_11eb_9498_0242ac130202row4_col15\" class=\"data row4 col15\" >0.000000</td>\n",
              "                        <td id=\"T_ffa04f68_9f48_11eb_9498_0242ac130202row4_col16\" class=\"data row4 col16\" >0.000000</td>\n",
              "                        <td id=\"T_ffa04f68_9f48_11eb_9498_0242ac130202row4_col17\" class=\"data row4 col17\" >0.000000</td>\n",
              "                        <td id=\"T_ffa04f68_9f48_11eb_9498_0242ac130202row4_col18\" class=\"data row4 col18\" >0.000000</td>\n",
              "                        <td id=\"T_ffa04f68_9f48_11eb_9498_0242ac130202row4_col19\" class=\"data row4 col19\" >0.000000</td>\n",
              "                        <td id=\"T_ffa04f68_9f48_11eb_9498_0242ac130202row4_col20\" class=\"data row4 col20\" >0.000000</td>\n",
              "                        <td id=\"T_ffa04f68_9f48_11eb_9498_0242ac130202row4_col21\" class=\"data row4 col21\" >0.000000</td>\n",
              "                        <td id=\"T_ffa04f68_9f48_11eb_9498_0242ac130202row4_col22\" class=\"data row4 col22\" >0.000000</td>\n",
              "                        <td id=\"T_ffa04f68_9f48_11eb_9498_0242ac130202row4_col23\" class=\"data row4 col23\" >0.000000</td>\n",
              "                        <td id=\"T_ffa04f68_9f48_11eb_9498_0242ac130202row4_col24\" class=\"data row4 col24\" >0.000000</td>\n",
              "                        <td id=\"T_ffa04f68_9f48_11eb_9498_0242ac130202row4_col25\" class=\"data row4 col25\" >0.000000</td>\n",
              "                        <td id=\"T_ffa04f68_9f48_11eb_9498_0242ac130202row4_col26\" class=\"data row4 col26\" >0.000000</td>\n",
              "                        <td id=\"T_ffa04f68_9f48_11eb_9498_0242ac130202row4_col27\" class=\"data row4 col27\" >0.000000</td>\n",
              "                        <td id=\"T_ffa04f68_9f48_11eb_9498_0242ac130202row4_col28\" class=\"data row4 col28\" >0.000000</td>\n",
              "                        <td id=\"T_ffa04f68_9f48_11eb_9498_0242ac130202row4_col29\" class=\"data row4 col29\" >0.000000</td>\n",
              "                        <td id=\"T_ffa04f68_9f48_11eb_9498_0242ac130202row4_col30\" class=\"data row4 col30\" >0.000000</td>\n",
              "                        <td id=\"T_ffa04f68_9f48_11eb_9498_0242ac130202row4_col31\" class=\"data row4 col31\" >0.000000</td>\n",
              "                        <td id=\"T_ffa04f68_9f48_11eb_9498_0242ac130202row4_col32\" class=\"data row4 col32\" >0.000000</td>\n",
              "                        <td id=\"T_ffa04f68_9f48_11eb_9498_0242ac130202row4_col33\" class=\"data row4 col33\" >0.000000</td>\n",
              "                        <td id=\"T_ffa04f68_9f48_11eb_9498_0242ac130202row4_col34\" class=\"data row4 col34\" >0.000000</td>\n",
              "                        <td id=\"T_ffa04f68_9f48_11eb_9498_0242ac130202row4_col35\" class=\"data row4 col35\" >0.000000</td>\n",
              "                        <td id=\"T_ffa04f68_9f48_11eb_9498_0242ac130202row4_col36\" class=\"data row4 col36\" >0.000000</td>\n",
              "                        <td id=\"T_ffa04f68_9f48_11eb_9498_0242ac130202row4_col37\" class=\"data row4 col37\" >0.000000</td>\n",
              "                        <td id=\"T_ffa04f68_9f48_11eb_9498_0242ac130202row4_col38\" class=\"data row4 col38\" >0.000000</td>\n",
              "                        <td id=\"T_ffa04f68_9f48_11eb_9498_0242ac130202row4_col39\" class=\"data row4 col39\" >0.000000</td>\n",
              "                        <td id=\"T_ffa04f68_9f48_11eb_9498_0242ac130202row4_col40\" class=\"data row4 col40\" >0.000000</td>\n",
              "                        <td id=\"T_ffa04f68_9f48_11eb_9498_0242ac130202row4_col41\" class=\"data row4 col41\" >0.000000</td>\n",
              "                        <td id=\"T_ffa04f68_9f48_11eb_9498_0242ac130202row4_col42\" class=\"data row4 col42\" >0.495746</td>\n",
              "                        <td id=\"T_ffa04f68_9f48_11eb_9498_0242ac130202row4_col43\" class=\"data row4 col43\" >0.247873</td>\n",
              "                        <td id=\"T_ffa04f68_9f48_11eb_9498_0242ac130202row4_col44\" class=\"data row4 col44\" >0.000000</td>\n",
              "                        <td id=\"T_ffa04f68_9f48_11eb_9498_0242ac130202row4_col45\" class=\"data row4 col45\" >0.000000</td>\n",
              "                        <td id=\"T_ffa04f68_9f48_11eb_9498_0242ac130202row4_col46\" class=\"data row4 col46\" >0.000000</td>\n",
              "                        <td id=\"T_ffa04f68_9f48_11eb_9498_0242ac130202row4_col47\" class=\"data row4 col47\" >0.000000</td>\n",
              "                        <td id=\"T_ffa04f68_9f48_11eb_9498_0242ac130202row4_col48\" class=\"data row4 col48\" >0.000000</td>\n",
              "                        <td id=\"T_ffa04f68_9f48_11eb_9498_0242ac130202row4_col49\" class=\"data row4 col49\" >0.247873</td>\n",
              "                        <td id=\"T_ffa04f68_9f48_11eb_9498_0242ac130202row4_col50\" class=\"data row4 col50\" >0.000000</td>\n",
              "                        <td id=\"T_ffa04f68_9f48_11eb_9498_0242ac130202row4_col51\" class=\"data row4 col51\" >0.247873</td>\n",
              "                        <td id=\"T_ffa04f68_9f48_11eb_9498_0242ac130202row4_col52\" class=\"data row4 col52\" >0.000000</td>\n",
              "                        <td id=\"T_ffa04f68_9f48_11eb_9498_0242ac130202row4_col53\" class=\"data row4 col53\" >0.000000</td>\n",
              "                        <td id=\"T_ffa04f68_9f48_11eb_9498_0242ac130202row4_col54\" class=\"data row4 col54\" >0.000000</td>\n",
              "                        <td id=\"T_ffa04f68_9f48_11eb_9498_0242ac130202row4_col55\" class=\"data row4 col55\" >0.000000</td>\n",
              "                        <td id=\"T_ffa04f68_9f48_11eb_9498_0242ac130202row4_col56\" class=\"data row4 col56\" >0.000000</td>\n",
              "                        <td id=\"T_ffa04f68_9f48_11eb_9498_0242ac130202row4_col57\" class=\"data row4 col57\" >0.000000</td>\n",
              "                        <td id=\"T_ffa04f68_9f48_11eb_9498_0242ac130202row4_col58\" class=\"data row4 col58\" >0.000000</td>\n",
              "                        <td id=\"T_ffa04f68_9f48_11eb_9498_0242ac130202row4_col59\" class=\"data row4 col59\" >0.000000</td>\n",
              "                        <td id=\"T_ffa04f68_9f48_11eb_9498_0242ac130202row4_col60\" class=\"data row4 col60\" >0.000000</td>\n",
              "                        <td id=\"T_ffa04f68_9f48_11eb_9498_0242ac130202row4_col61\" class=\"data row4 col61\" >0.000000</td>\n",
              "                        <td id=\"T_ffa04f68_9f48_11eb_9498_0242ac130202row4_col62\" class=\"data row4 col62\" >0.000000</td>\n",
              "                        <td id=\"T_ffa04f68_9f48_11eb_9498_0242ac130202row4_col63\" class=\"data row4 col63\" >0.000000</td>\n",
              "                        <td id=\"T_ffa04f68_9f48_11eb_9498_0242ac130202row4_col64\" class=\"data row4 col64\" >0.000000</td>\n",
              "                        <td id=\"T_ffa04f68_9f48_11eb_9498_0242ac130202row4_col65\" class=\"data row4 col65\" >0.000000</td>\n",
              "                        <td id=\"T_ffa04f68_9f48_11eb_9498_0242ac130202row4_col66\" class=\"data row4 col66\" >0.000000</td>\n",
              "                        <td id=\"T_ffa04f68_9f48_11eb_9498_0242ac130202row4_col67\" class=\"data row4 col67\" >0.000000</td>\n",
              "                        <td id=\"T_ffa04f68_9f48_11eb_9498_0242ac130202row4_col68\" class=\"data row4 col68\" >0.247873</td>\n",
              "                        <td id=\"T_ffa04f68_9f48_11eb_9498_0242ac130202row4_col69\" class=\"data row4 col69\" >0.000000</td>\n",
              "                        <td id=\"T_ffa04f68_9f48_11eb_9498_0242ac130202row4_col70\" class=\"data row4 col70\" >0.247873</td>\n",
              "                        <td id=\"T_ffa04f68_9f48_11eb_9498_0242ac130202row4_col71\" class=\"data row4 col71\" >0.000000</td>\n",
              "                        <td id=\"T_ffa04f68_9f48_11eb_9498_0242ac130202row4_col72\" class=\"data row4 col72\" >0.000000</td>\n",
              "                        <td id=\"T_ffa04f68_9f48_11eb_9498_0242ac130202row4_col73\" class=\"data row4 col73\" >0.000000</td>\n",
              "                        <td id=\"T_ffa04f68_9f48_11eb_9498_0242ac130202row4_col74\" class=\"data row4 col74\" >0.000000</td>\n",
              "                        <td id=\"T_ffa04f68_9f48_11eb_9498_0242ac130202row4_col75\" class=\"data row4 col75\" >0.000000</td>\n",
              "                        <td id=\"T_ffa04f68_9f48_11eb_9498_0242ac130202row4_col76\" class=\"data row4 col76\" >0.000000</td>\n",
              "                        <td id=\"T_ffa04f68_9f48_11eb_9498_0242ac130202row4_col77\" class=\"data row4 col77\" >0.247873</td>\n",
              "                        <td id=\"T_ffa04f68_9f48_11eb_9498_0242ac130202row4_col78\" class=\"data row4 col78\" >0.000000</td>\n",
              "                        <td id=\"T_ffa04f68_9f48_11eb_9498_0242ac130202row4_col79\" class=\"data row4 col79\" >0.247873</td>\n",
              "                        <td id=\"T_ffa04f68_9f48_11eb_9498_0242ac130202row4_col80\" class=\"data row4 col80\" >0.000000</td>\n",
              "                        <td id=\"T_ffa04f68_9f48_11eb_9498_0242ac130202row4_col81\" class=\"data row4 col81\" >0.247873</td>\n",
              "                        <td id=\"T_ffa04f68_9f48_11eb_9498_0242ac130202row4_col82\" class=\"data row4 col82\" >0.000000</td>\n",
              "                        <td id=\"T_ffa04f68_9f48_11eb_9498_0242ac130202row4_col83\" class=\"data row4 col83\" >0.247873</td>\n",
              "                        <td id=\"T_ffa04f68_9f48_11eb_9498_0242ac130202row4_col84\" class=\"data row4 col84\" >0.000000</td>\n",
              "                        <td id=\"T_ffa04f68_9f48_11eb_9498_0242ac130202row4_col85\" class=\"data row4 col85\" >0.000000</td>\n",
              "                        <td id=\"T_ffa04f68_9f48_11eb_9498_0242ac130202row4_col86\" class=\"data row4 col86\" >0.000000</td>\n",
              "                        <td id=\"T_ffa04f68_9f48_11eb_9498_0242ac130202row4_col87\" class=\"data row4 col87\" >0.000000</td>\n",
              "                        <td id=\"T_ffa04f68_9f48_11eb_9498_0242ac130202row4_col88\" class=\"data row4 col88\" >0.000000</td>\n",
              "                        <td id=\"T_ffa04f68_9f48_11eb_9498_0242ac130202row4_col89\" class=\"data row4 col89\" >0.000000</td>\n",
              "                        <td id=\"T_ffa04f68_9f48_11eb_9498_0242ac130202row4_col90\" class=\"data row4 col90\" >0.210715</td>\n",
              "                        <td id=\"T_ffa04f68_9f48_11eb_9498_0242ac130202row4_col91\" class=\"data row4 col91\" >0.000000</td>\n",
              "                        <td id=\"T_ffa04f68_9f48_11eb_9498_0242ac130202row4_col92\" class=\"data row4 col92\" >0.000000</td>\n",
              "                        <td id=\"T_ffa04f68_9f48_11eb_9498_0242ac130202row4_col93\" class=\"data row4 col93\" >0.000000</td>\n",
              "                        <td id=\"T_ffa04f68_9f48_11eb_9498_0242ac130202row4_col94\" class=\"data row4 col94\" >0.000000</td>\n",
              "                        <td id=\"T_ffa04f68_9f48_11eb_9498_0242ac130202row4_col95\" class=\"data row4 col95\" >0.000000</td>\n",
              "                        <td id=\"T_ffa04f68_9f48_11eb_9498_0242ac130202row4_col96\" class=\"data row4 col96\" >0.184350</td>\n",
              "                        <td id=\"T_ffa04f68_9f48_11eb_9498_0242ac130202row4_col97\" class=\"data row4 col97\" >0.000000</td>\n",
              "            </tr>\n",
              "            <tr>\n",
              "                        <th id=\"T_ffa04f68_9f48_11eb_9498_0242ac130202level0_row5\" class=\"row_heading level0 row5\" >5</th>\n",
              "                        <td id=\"T_ffa04f68_9f48_11eb_9498_0242ac130202row5_col0\" class=\"data row5 col0\" >0.000000</td>\n",
              "                        <td id=\"T_ffa04f68_9f48_11eb_9498_0242ac130202row5_col1\" class=\"data row5 col1\" >0.000000</td>\n",
              "                        <td id=\"T_ffa04f68_9f48_11eb_9498_0242ac130202row5_col2\" class=\"data row5 col2\" >0.270466</td>\n",
              "                        <td id=\"T_ffa04f68_9f48_11eb_9498_0242ac130202row5_col3\" class=\"data row5 col3\" >0.000000</td>\n",
              "                        <td id=\"T_ffa04f68_9f48_11eb_9498_0242ac130202row5_col4\" class=\"data row5 col4\" >0.000000</td>\n",
              "                        <td id=\"T_ffa04f68_9f48_11eb_9498_0242ac130202row5_col5\" class=\"data row5 col5\" >0.000000</td>\n",
              "                        <td id=\"T_ffa04f68_9f48_11eb_9498_0242ac130202row5_col6\" class=\"data row5 col6\" >0.000000</td>\n",
              "                        <td id=\"T_ffa04f68_9f48_11eb_9498_0242ac130202row5_col7\" class=\"data row5 col7\" >0.000000</td>\n",
              "                        <td id=\"T_ffa04f68_9f48_11eb_9498_0242ac130202row5_col8\" class=\"data row5 col8\" >0.000000</td>\n",
              "                        <td id=\"T_ffa04f68_9f48_11eb_9498_0242ac130202row5_col9\" class=\"data row5 col9\" >0.000000</td>\n",
              "                        <td id=\"T_ffa04f68_9f48_11eb_9498_0242ac130202row5_col10\" class=\"data row5 col10\" >0.000000</td>\n",
              "                        <td id=\"T_ffa04f68_9f48_11eb_9498_0242ac130202row5_col11\" class=\"data row5 col11\" >0.000000</td>\n",
              "                        <td id=\"T_ffa04f68_9f48_11eb_9498_0242ac130202row5_col12\" class=\"data row5 col12\" >0.000000</td>\n",
              "                        <td id=\"T_ffa04f68_9f48_11eb_9498_0242ac130202row5_col13\" class=\"data row5 col13\" >0.000000</td>\n",
              "                        <td id=\"T_ffa04f68_9f48_11eb_9498_0242ac130202row5_col14\" class=\"data row5 col14\" >0.000000</td>\n",
              "                        <td id=\"T_ffa04f68_9f48_11eb_9498_0242ac130202row5_col15\" class=\"data row5 col15\" >0.000000</td>\n",
              "                        <td id=\"T_ffa04f68_9f48_11eb_9498_0242ac130202row5_col16\" class=\"data row5 col16\" >0.270466</td>\n",
              "                        <td id=\"T_ffa04f68_9f48_11eb_9498_0242ac130202row5_col17\" class=\"data row5 col17\" >0.000000</td>\n",
              "                        <td id=\"T_ffa04f68_9f48_11eb_9498_0242ac130202row5_col18\" class=\"data row5 col18\" >0.000000</td>\n",
              "                        <td id=\"T_ffa04f68_9f48_11eb_9498_0242ac130202row5_col19\" class=\"data row5 col19\" >0.270466</td>\n",
              "                        <td id=\"T_ffa04f68_9f48_11eb_9498_0242ac130202row5_col20\" class=\"data row5 col20\" >0.229920</td>\n",
              "                        <td id=\"T_ffa04f68_9f48_11eb_9498_0242ac130202row5_col21\" class=\"data row5 col21\" >0.000000</td>\n",
              "                        <td id=\"T_ffa04f68_9f48_11eb_9498_0242ac130202row5_col22\" class=\"data row5 col22\" >0.000000</td>\n",
              "                        <td id=\"T_ffa04f68_9f48_11eb_9498_0242ac130202row5_col23\" class=\"data row5 col23\" >0.000000</td>\n",
              "                        <td id=\"T_ffa04f68_9f48_11eb_9498_0242ac130202row5_col24\" class=\"data row5 col24\" >0.270466</td>\n",
              "                        <td id=\"T_ffa04f68_9f48_11eb_9498_0242ac130202row5_col25\" class=\"data row5 col25\" >0.000000</td>\n",
              "                        <td id=\"T_ffa04f68_9f48_11eb_9498_0242ac130202row5_col26\" class=\"data row5 col26\" >0.000000</td>\n",
              "                        <td id=\"T_ffa04f68_9f48_11eb_9498_0242ac130202row5_col27\" class=\"data row5 col27\" >0.270466</td>\n",
              "                        <td id=\"T_ffa04f68_9f48_11eb_9498_0242ac130202row5_col28\" class=\"data row5 col28\" >0.000000</td>\n",
              "                        <td id=\"T_ffa04f68_9f48_11eb_9498_0242ac130202row5_col29\" class=\"data row5 col29\" >0.270466</td>\n",
              "                        <td id=\"T_ffa04f68_9f48_11eb_9498_0242ac130202row5_col30\" class=\"data row5 col30\" >0.000000</td>\n",
              "                        <td id=\"T_ffa04f68_9f48_11eb_9498_0242ac130202row5_col31\" class=\"data row5 col31\" >0.270466</td>\n",
              "                        <td id=\"T_ffa04f68_9f48_11eb_9498_0242ac130202row5_col32\" class=\"data row5 col32\" >0.000000</td>\n",
              "                        <td id=\"T_ffa04f68_9f48_11eb_9498_0242ac130202row5_col33\" class=\"data row5 col33\" >0.000000</td>\n",
              "                        <td id=\"T_ffa04f68_9f48_11eb_9498_0242ac130202row5_col34\" class=\"data row5 col34\" >0.000000</td>\n",
              "                        <td id=\"T_ffa04f68_9f48_11eb_9498_0242ac130202row5_col35\" class=\"data row5 col35\" >0.000000</td>\n",
              "                        <td id=\"T_ffa04f68_9f48_11eb_9498_0242ac130202row5_col36\" class=\"data row5 col36\" >0.201153</td>\n",
              "                        <td id=\"T_ffa04f68_9f48_11eb_9498_0242ac130202row5_col37\" class=\"data row5 col37\" >0.000000</td>\n",
              "                        <td id=\"T_ffa04f68_9f48_11eb_9498_0242ac130202row5_col38\" class=\"data row5 col38\" >0.000000</td>\n",
              "                        <td id=\"T_ffa04f68_9f48_11eb_9498_0242ac130202row5_col39\" class=\"data row5 col39\" >0.000000</td>\n",
              "                        <td id=\"T_ffa04f68_9f48_11eb_9498_0242ac130202row5_col40\" class=\"data row5 col40\" >0.000000</td>\n",
              "                        <td id=\"T_ffa04f68_9f48_11eb_9498_0242ac130202row5_col41\" class=\"data row5 col41\" >0.000000</td>\n",
              "                        <td id=\"T_ffa04f68_9f48_11eb_9498_0242ac130202row5_col42\" class=\"data row5 col42\" >0.000000</td>\n",
              "                        <td id=\"T_ffa04f68_9f48_11eb_9498_0242ac130202row5_col43\" class=\"data row5 col43\" >0.000000</td>\n",
              "                        <td id=\"T_ffa04f68_9f48_11eb_9498_0242ac130202row5_col44\" class=\"data row5 col44\" >0.000000</td>\n",
              "                        <td id=\"T_ffa04f68_9f48_11eb_9498_0242ac130202row5_col45\" class=\"data row5 col45\" >0.000000</td>\n",
              "                        <td id=\"T_ffa04f68_9f48_11eb_9498_0242ac130202row5_col46\" class=\"data row5 col46\" >0.000000</td>\n",
              "                        <td id=\"T_ffa04f68_9f48_11eb_9498_0242ac130202row5_col47\" class=\"data row5 col47\" >0.270466</td>\n",
              "                        <td id=\"T_ffa04f68_9f48_11eb_9498_0242ac130202row5_col48\" class=\"data row5 col48\" >0.145194</td>\n",
              "                        <td id=\"T_ffa04f68_9f48_11eb_9498_0242ac130202row5_col49\" class=\"data row5 col49\" >0.000000</td>\n",
              "                        <td id=\"T_ffa04f68_9f48_11eb_9498_0242ac130202row5_col50\" class=\"data row5 col50\" >0.000000</td>\n",
              "                        <td id=\"T_ffa04f68_9f48_11eb_9498_0242ac130202row5_col51\" class=\"data row5 col51\" >0.000000</td>\n",
              "                        <td id=\"T_ffa04f68_9f48_11eb_9498_0242ac130202row5_col52\" class=\"data row5 col52\" >0.000000</td>\n",
              "                        <td id=\"T_ffa04f68_9f48_11eb_9498_0242ac130202row5_col53\" class=\"data row5 col53\" >0.270466</td>\n",
              "                        <td id=\"T_ffa04f68_9f48_11eb_9498_0242ac130202row5_col54\" class=\"data row5 col54\" >0.000000</td>\n",
              "                        <td id=\"T_ffa04f68_9f48_11eb_9498_0242ac130202row5_col55\" class=\"data row5 col55\" >0.000000</td>\n",
              "                        <td id=\"T_ffa04f68_9f48_11eb_9498_0242ac130202row5_col56\" class=\"data row5 col56\" >0.000000</td>\n",
              "                        <td id=\"T_ffa04f68_9f48_11eb_9498_0242ac130202row5_col57\" class=\"data row5 col57\" >0.000000</td>\n",
              "                        <td id=\"T_ffa04f68_9f48_11eb_9498_0242ac130202row5_col58\" class=\"data row5 col58\" >0.000000</td>\n",
              "                        <td id=\"T_ffa04f68_9f48_11eb_9498_0242ac130202row5_col59\" class=\"data row5 col59\" >0.000000</td>\n",
              "                        <td id=\"T_ffa04f68_9f48_11eb_9498_0242ac130202row5_col60\" class=\"data row5 col60\" >0.000000</td>\n",
              "                        <td id=\"T_ffa04f68_9f48_11eb_9498_0242ac130202row5_col61\" class=\"data row5 col61\" >0.000000</td>\n",
              "                        <td id=\"T_ffa04f68_9f48_11eb_9498_0242ac130202row5_col62\" class=\"data row5 col62\" >0.000000</td>\n",
              "                        <td id=\"T_ffa04f68_9f48_11eb_9498_0242ac130202row5_col63\" class=\"data row5 col63\" >0.000000</td>\n",
              "                        <td id=\"T_ffa04f68_9f48_11eb_9498_0242ac130202row5_col64\" class=\"data row5 col64\" >0.000000</td>\n",
              "                        <td id=\"T_ffa04f68_9f48_11eb_9498_0242ac130202row5_col65\" class=\"data row5 col65\" >0.000000</td>\n",
              "                        <td id=\"T_ffa04f68_9f48_11eb_9498_0242ac130202row5_col66\" class=\"data row5 col66\" >0.000000</td>\n",
              "                        <td id=\"T_ffa04f68_9f48_11eb_9498_0242ac130202row5_col67\" class=\"data row5 col67\" >0.000000</td>\n",
              "                        <td id=\"T_ffa04f68_9f48_11eb_9498_0242ac130202row5_col68\" class=\"data row5 col68\" >0.000000</td>\n",
              "                        <td id=\"T_ffa04f68_9f48_11eb_9498_0242ac130202row5_col69\" class=\"data row5 col69\" >0.000000</td>\n",
              "                        <td id=\"T_ffa04f68_9f48_11eb_9498_0242ac130202row5_col70\" class=\"data row5 col70\" >0.000000</td>\n",
              "                        <td id=\"T_ffa04f68_9f48_11eb_9498_0242ac130202row5_col71\" class=\"data row5 col71\" >0.000000</td>\n",
              "                        <td id=\"T_ffa04f68_9f48_11eb_9498_0242ac130202row5_col72\" class=\"data row5 col72\" >0.000000</td>\n",
              "                        <td id=\"T_ffa04f68_9f48_11eb_9498_0242ac130202row5_col73\" class=\"data row5 col73\" >0.000000</td>\n",
              "                        <td id=\"T_ffa04f68_9f48_11eb_9498_0242ac130202row5_col74\" class=\"data row5 col74\" >0.000000</td>\n",
              "                        <td id=\"T_ffa04f68_9f48_11eb_9498_0242ac130202row5_col75\" class=\"data row5 col75\" >0.270466</td>\n",
              "                        <td id=\"T_ffa04f68_9f48_11eb_9498_0242ac130202row5_col76\" class=\"data row5 col76\" >0.000000</td>\n",
              "                        <td id=\"T_ffa04f68_9f48_11eb_9498_0242ac130202row5_col77\" class=\"data row5 col77\" >0.000000</td>\n",
              "                        <td id=\"T_ffa04f68_9f48_11eb_9498_0242ac130202row5_col78\" class=\"data row5 col78\" >0.000000</td>\n",
              "                        <td id=\"T_ffa04f68_9f48_11eb_9498_0242ac130202row5_col79\" class=\"data row5 col79\" >0.000000</td>\n",
              "                        <td id=\"T_ffa04f68_9f48_11eb_9498_0242ac130202row5_col80\" class=\"data row5 col80\" >0.000000</td>\n",
              "                        <td id=\"T_ffa04f68_9f48_11eb_9498_0242ac130202row5_col81\" class=\"data row5 col81\" >0.000000</td>\n",
              "                        <td id=\"T_ffa04f68_9f48_11eb_9498_0242ac130202row5_col82\" class=\"data row5 col82\" >0.000000</td>\n",
              "                        <td id=\"T_ffa04f68_9f48_11eb_9498_0242ac130202row5_col83\" class=\"data row5 col83\" >0.000000</td>\n",
              "                        <td id=\"T_ffa04f68_9f48_11eb_9498_0242ac130202row5_col84\" class=\"data row5 col84\" >0.000000</td>\n",
              "                        <td id=\"T_ffa04f68_9f48_11eb_9498_0242ac130202row5_col85\" class=\"data row5 col85\" >0.000000</td>\n",
              "                        <td id=\"T_ffa04f68_9f48_11eb_9498_0242ac130202row5_col86\" class=\"data row5 col86\" >0.000000</td>\n",
              "                        <td id=\"T_ffa04f68_9f48_11eb_9498_0242ac130202row5_col87\" class=\"data row5 col87\" >0.000000</td>\n",
              "                        <td id=\"T_ffa04f68_9f48_11eb_9498_0242ac130202row5_col88\" class=\"data row5 col88\" >0.000000</td>\n",
              "                        <td id=\"T_ffa04f68_9f48_11eb_9498_0242ac130202row5_col89\" class=\"data row5 col89\" >0.000000</td>\n",
              "                        <td id=\"T_ffa04f68_9f48_11eb_9498_0242ac130202row5_col90\" class=\"data row5 col90\" >0.000000</td>\n",
              "                        <td id=\"T_ffa04f68_9f48_11eb_9498_0242ac130202row5_col91\" class=\"data row5 col91\" >0.201153</td>\n",
              "                        <td id=\"T_ffa04f68_9f48_11eb_9498_0242ac130202row5_col92\" class=\"data row5 col92\" >0.000000</td>\n",
              "                        <td id=\"T_ffa04f68_9f48_11eb_9498_0242ac130202row5_col93\" class=\"data row5 col93\" >0.000000</td>\n",
              "                        <td id=\"T_ffa04f68_9f48_11eb_9498_0242ac130202row5_col94\" class=\"data row5 col94\" >0.270466</td>\n",
              "                        <td id=\"T_ffa04f68_9f48_11eb_9498_0242ac130202row5_col95\" class=\"data row5 col95\" >0.000000</td>\n",
              "                        <td id=\"T_ffa04f68_9f48_11eb_9498_0242ac130202row5_col96\" class=\"data row5 col96\" >0.201153</td>\n",
              "                        <td id=\"T_ffa04f68_9f48_11eb_9498_0242ac130202row5_col97\" class=\"data row5 col97\" >0.000000</td>\n",
              "            </tr>\n",
              "            <tr>\n",
              "                        <th id=\"T_ffa04f68_9f48_11eb_9498_0242ac130202level0_row6\" class=\"row_heading level0 row6\" >6</th>\n",
              "                        <td id=\"T_ffa04f68_9f48_11eb_9498_0242ac130202row6_col0\" class=\"data row6 col0\" >0.000000</td>\n",
              "                        <td id=\"T_ffa04f68_9f48_11eb_9498_0242ac130202row6_col1\" class=\"data row6 col1\" >0.000000</td>\n",
              "                        <td id=\"T_ffa04f68_9f48_11eb_9498_0242ac130202row6_col2\" class=\"data row6 col2\" >0.000000</td>\n",
              "                        <td id=\"T_ffa04f68_9f48_11eb_9498_0242ac130202row6_col3\" class=\"data row6 col3\" >0.000000</td>\n",
              "                        <td id=\"T_ffa04f68_9f48_11eb_9498_0242ac130202row6_col4\" class=\"data row6 col4\" >0.000000</td>\n",
              "                        <td id=\"T_ffa04f68_9f48_11eb_9498_0242ac130202row6_col5\" class=\"data row6 col5\" >0.000000</td>\n",
              "                        <td id=\"T_ffa04f68_9f48_11eb_9498_0242ac130202row6_col6\" class=\"data row6 col6\" >0.000000</td>\n",
              "                        <td id=\"T_ffa04f68_9f48_11eb_9498_0242ac130202row6_col7\" class=\"data row6 col7\" >0.000000</td>\n",
              "                        <td id=\"T_ffa04f68_9f48_11eb_9498_0242ac130202row6_col8\" class=\"data row6 col8\" >0.000000</td>\n",
              "                        <td id=\"T_ffa04f68_9f48_11eb_9498_0242ac130202row6_col9\" class=\"data row6 col9\" >0.000000</td>\n",
              "                        <td id=\"T_ffa04f68_9f48_11eb_9498_0242ac130202row6_col10\" class=\"data row6 col10\" >0.000000</td>\n",
              "                        <td id=\"T_ffa04f68_9f48_11eb_9498_0242ac130202row6_col11\" class=\"data row6 col11\" >0.000000</td>\n",
              "                        <td id=\"T_ffa04f68_9f48_11eb_9498_0242ac130202row6_col12\" class=\"data row6 col12\" >0.279058</td>\n",
              "                        <td id=\"T_ffa04f68_9f48_11eb_9498_0242ac130202row6_col13\" class=\"data row6 col13\" >0.000000</td>\n",
              "                        <td id=\"T_ffa04f68_9f48_11eb_9498_0242ac130202row6_col14\" class=\"data row6 col14\" >0.000000</td>\n",
              "                        <td id=\"T_ffa04f68_9f48_11eb_9498_0242ac130202row6_col15\" class=\"data row6 col15\" >0.000000</td>\n",
              "                        <td id=\"T_ffa04f68_9f48_11eb_9498_0242ac130202row6_col16\" class=\"data row6 col16\" >0.000000</td>\n",
              "                        <td id=\"T_ffa04f68_9f48_11eb_9498_0242ac130202row6_col17\" class=\"data row6 col17\" >0.000000</td>\n",
              "                        <td id=\"T_ffa04f68_9f48_11eb_9498_0242ac130202row6_col18\" class=\"data row6 col18\" >0.000000</td>\n",
              "                        <td id=\"T_ffa04f68_9f48_11eb_9498_0242ac130202row6_col19\" class=\"data row6 col19\" >0.000000</td>\n",
              "                        <td id=\"T_ffa04f68_9f48_11eb_9498_0242ac130202row6_col20\" class=\"data row6 col20\" >0.000000</td>\n",
              "                        <td id=\"T_ffa04f68_9f48_11eb_9498_0242ac130202row6_col21\" class=\"data row6 col21\" >0.000000</td>\n",
              "                        <td id=\"T_ffa04f68_9f48_11eb_9498_0242ac130202row6_col22\" class=\"data row6 col22\" >0.000000</td>\n",
              "                        <td id=\"T_ffa04f68_9f48_11eb_9498_0242ac130202row6_col23\" class=\"data row6 col23\" >0.279058</td>\n",
              "                        <td id=\"T_ffa04f68_9f48_11eb_9498_0242ac130202row6_col24\" class=\"data row6 col24\" >0.000000</td>\n",
              "                        <td id=\"T_ffa04f68_9f48_11eb_9498_0242ac130202row6_col25\" class=\"data row6 col25\" >0.279058</td>\n",
              "                        <td id=\"T_ffa04f68_9f48_11eb_9498_0242ac130202row6_col26\" class=\"data row6 col26\" >0.000000</td>\n",
              "                        <td id=\"T_ffa04f68_9f48_11eb_9498_0242ac130202row6_col27\" class=\"data row6 col27\" >0.000000</td>\n",
              "                        <td id=\"T_ffa04f68_9f48_11eb_9498_0242ac130202row6_col28\" class=\"data row6 col28\" >0.000000</td>\n",
              "                        <td id=\"T_ffa04f68_9f48_11eb_9498_0242ac130202row6_col29\" class=\"data row6 col29\" >0.000000</td>\n",
              "                        <td id=\"T_ffa04f68_9f48_11eb_9498_0242ac130202row6_col30\" class=\"data row6 col30\" >0.279058</td>\n",
              "                        <td id=\"T_ffa04f68_9f48_11eb_9498_0242ac130202row6_col31\" class=\"data row6 col31\" >0.000000</td>\n",
              "                        <td id=\"T_ffa04f68_9f48_11eb_9498_0242ac130202row6_col32\" class=\"data row6 col32\" >0.000000</td>\n",
              "                        <td id=\"T_ffa04f68_9f48_11eb_9498_0242ac130202row6_col33\" class=\"data row6 col33\" >0.000000</td>\n",
              "                        <td id=\"T_ffa04f68_9f48_11eb_9498_0242ac130202row6_col34\" class=\"data row6 col34\" >0.000000</td>\n",
              "                        <td id=\"T_ffa04f68_9f48_11eb_9498_0242ac130202row6_col35\" class=\"data row6 col35\" >0.000000</td>\n",
              "                        <td id=\"T_ffa04f68_9f48_11eb_9498_0242ac130202row6_col36\" class=\"data row6 col36\" >0.000000</td>\n",
              "                        <td id=\"T_ffa04f68_9f48_11eb_9498_0242ac130202row6_col37\" class=\"data row6 col37\" >0.279058</td>\n",
              "                        <td id=\"T_ffa04f68_9f48_11eb_9498_0242ac130202row6_col38\" class=\"data row6 col38\" >0.279058</td>\n",
              "                        <td id=\"T_ffa04f68_9f48_11eb_9498_0242ac130202row6_col39\" class=\"data row6 col39\" >0.279058</td>\n",
              "                        <td id=\"T_ffa04f68_9f48_11eb_9498_0242ac130202row6_col40\" class=\"data row6 col40\" >0.000000</td>\n",
              "                        <td id=\"T_ffa04f68_9f48_11eb_9498_0242ac130202row6_col41\" class=\"data row6 col41\" >0.000000</td>\n",
              "                        <td id=\"T_ffa04f68_9f48_11eb_9498_0242ac130202row6_col42\" class=\"data row6 col42\" >0.000000</td>\n",
              "                        <td id=\"T_ffa04f68_9f48_11eb_9498_0242ac130202row6_col43\" class=\"data row6 col43\" >0.000000</td>\n",
              "                        <td id=\"T_ffa04f68_9f48_11eb_9498_0242ac130202row6_col44\" class=\"data row6 col44\" >0.000000</td>\n",
              "                        <td id=\"T_ffa04f68_9f48_11eb_9498_0242ac130202row6_col45\" class=\"data row6 col45\" >0.279058</td>\n",
              "                        <td id=\"T_ffa04f68_9f48_11eb_9498_0242ac130202row6_col46\" class=\"data row6 col46\" >0.000000</td>\n",
              "                        <td id=\"T_ffa04f68_9f48_11eb_9498_0242ac130202row6_col47\" class=\"data row6 col47\" >0.000000</td>\n",
              "                        <td id=\"T_ffa04f68_9f48_11eb_9498_0242ac130202row6_col48\" class=\"data row6 col48\" >0.149806</td>\n",
              "                        <td id=\"T_ffa04f68_9f48_11eb_9498_0242ac130202row6_col49\" class=\"data row6 col49\" >0.000000</td>\n",
              "                        <td id=\"T_ffa04f68_9f48_11eb_9498_0242ac130202row6_col50\" class=\"data row6 col50\" >0.000000</td>\n",
              "                        <td id=\"T_ffa04f68_9f48_11eb_9498_0242ac130202row6_col51\" class=\"data row6 col51\" >0.000000</td>\n",
              "                        <td id=\"T_ffa04f68_9f48_11eb_9498_0242ac130202row6_col52\" class=\"data row6 col52\" >0.000000</td>\n",
              "                        <td id=\"T_ffa04f68_9f48_11eb_9498_0242ac130202row6_col53\" class=\"data row6 col53\" >0.000000</td>\n",
              "                        <td id=\"T_ffa04f68_9f48_11eb_9498_0242ac130202row6_col54\" class=\"data row6 col54\" >0.279058</td>\n",
              "                        <td id=\"T_ffa04f68_9f48_11eb_9498_0242ac130202row6_col55\" class=\"data row6 col55\" >0.000000</td>\n",
              "                        <td id=\"T_ffa04f68_9f48_11eb_9498_0242ac130202row6_col56\" class=\"data row6 col56\" >0.000000</td>\n",
              "                        <td id=\"T_ffa04f68_9f48_11eb_9498_0242ac130202row6_col57\" class=\"data row6 col57\" >0.000000</td>\n",
              "                        <td id=\"T_ffa04f68_9f48_11eb_9498_0242ac130202row6_col58\" class=\"data row6 col58\" >0.000000</td>\n",
              "                        <td id=\"T_ffa04f68_9f48_11eb_9498_0242ac130202row6_col59\" class=\"data row6 col59\" >0.000000</td>\n",
              "                        <td id=\"T_ffa04f68_9f48_11eb_9498_0242ac130202row6_col60\" class=\"data row6 col60\" >0.207544</td>\n",
              "                        <td id=\"T_ffa04f68_9f48_11eb_9498_0242ac130202row6_col61\" class=\"data row6 col61\" >0.000000</td>\n",
              "                        <td id=\"T_ffa04f68_9f48_11eb_9498_0242ac130202row6_col62\" class=\"data row6 col62\" >0.000000</td>\n",
              "                        <td id=\"T_ffa04f68_9f48_11eb_9498_0242ac130202row6_col63\" class=\"data row6 col63\" >0.000000</td>\n",
              "                        <td id=\"T_ffa04f68_9f48_11eb_9498_0242ac130202row6_col64\" class=\"data row6 col64\" >0.000000</td>\n",
              "                        <td id=\"T_ffa04f68_9f48_11eb_9498_0242ac130202row6_col65\" class=\"data row6 col65\" >0.000000</td>\n",
              "                        <td id=\"T_ffa04f68_9f48_11eb_9498_0242ac130202row6_col66\" class=\"data row6 col66\" >0.000000</td>\n",
              "                        <td id=\"T_ffa04f68_9f48_11eb_9498_0242ac130202row6_col67\" class=\"data row6 col67\" >0.000000</td>\n",
              "                        <td id=\"T_ffa04f68_9f48_11eb_9498_0242ac130202row6_col68\" class=\"data row6 col68\" >0.000000</td>\n",
              "                        <td id=\"T_ffa04f68_9f48_11eb_9498_0242ac130202row6_col69\" class=\"data row6 col69\" >0.000000</td>\n",
              "                        <td id=\"T_ffa04f68_9f48_11eb_9498_0242ac130202row6_col70\" class=\"data row6 col70\" >0.000000</td>\n",
              "                        <td id=\"T_ffa04f68_9f48_11eb_9498_0242ac130202row6_col71\" class=\"data row6 col71\" >0.279058</td>\n",
              "                        <td id=\"T_ffa04f68_9f48_11eb_9498_0242ac130202row6_col72\" class=\"data row6 col72\" >0.000000</td>\n",
              "                        <td id=\"T_ffa04f68_9f48_11eb_9498_0242ac130202row6_col73\" class=\"data row6 col73\" >0.000000</td>\n",
              "                        <td id=\"T_ffa04f68_9f48_11eb_9498_0242ac130202row6_col74\" class=\"data row6 col74\" >0.000000</td>\n",
              "                        <td id=\"T_ffa04f68_9f48_11eb_9498_0242ac130202row6_col75\" class=\"data row6 col75\" >0.000000</td>\n",
              "                        <td id=\"T_ffa04f68_9f48_11eb_9498_0242ac130202row6_col76\" class=\"data row6 col76\" >0.000000</td>\n",
              "                        <td id=\"T_ffa04f68_9f48_11eb_9498_0242ac130202row6_col77\" class=\"data row6 col77\" >0.000000</td>\n",
              "                        <td id=\"T_ffa04f68_9f48_11eb_9498_0242ac130202row6_col78\" class=\"data row6 col78\" >0.000000</td>\n",
              "                        <td id=\"T_ffa04f68_9f48_11eb_9498_0242ac130202row6_col79\" class=\"data row6 col79\" >0.000000</td>\n",
              "                        <td id=\"T_ffa04f68_9f48_11eb_9498_0242ac130202row6_col80\" class=\"data row6 col80\" >0.000000</td>\n",
              "                        <td id=\"T_ffa04f68_9f48_11eb_9498_0242ac130202row6_col81\" class=\"data row6 col81\" >0.000000</td>\n",
              "                        <td id=\"T_ffa04f68_9f48_11eb_9498_0242ac130202row6_col82\" class=\"data row6 col82\" >0.000000</td>\n",
              "                        <td id=\"T_ffa04f68_9f48_11eb_9498_0242ac130202row6_col83\" class=\"data row6 col83\" >0.000000</td>\n",
              "                        <td id=\"T_ffa04f68_9f48_11eb_9498_0242ac130202row6_col84\" class=\"data row6 col84\" >0.279058</td>\n",
              "                        <td id=\"T_ffa04f68_9f48_11eb_9498_0242ac130202row6_col85\" class=\"data row6 col85\" >0.000000</td>\n",
              "                        <td id=\"T_ffa04f68_9f48_11eb_9498_0242ac130202row6_col86\" class=\"data row6 col86\" >0.279058</td>\n",
              "                        <td id=\"T_ffa04f68_9f48_11eb_9498_0242ac130202row6_col87\" class=\"data row6 col87\" >0.000000</td>\n",
              "                        <td id=\"T_ffa04f68_9f48_11eb_9498_0242ac130202row6_col88\" class=\"data row6 col88\" >0.000000</td>\n",
              "                        <td id=\"T_ffa04f68_9f48_11eb_9498_0242ac130202row6_col89\" class=\"data row6 col89\" >0.000000</td>\n",
              "                        <td id=\"T_ffa04f68_9f48_11eb_9498_0242ac130202row6_col90\" class=\"data row6 col90\" >0.000000</td>\n",
              "                        <td id=\"T_ffa04f68_9f48_11eb_9498_0242ac130202row6_col91\" class=\"data row6 col91\" >0.000000</td>\n",
              "                        <td id=\"T_ffa04f68_9f48_11eb_9498_0242ac130202row6_col92\" class=\"data row6 col92\" >0.000000</td>\n",
              "                        <td id=\"T_ffa04f68_9f48_11eb_9498_0242ac130202row6_col93\" class=\"data row6 col93\" >0.000000</td>\n",
              "                        <td id=\"T_ffa04f68_9f48_11eb_9498_0242ac130202row6_col94\" class=\"data row6 col94\" >0.000000</td>\n",
              "                        <td id=\"T_ffa04f68_9f48_11eb_9498_0242ac130202row6_col95\" class=\"data row6 col95\" >0.000000</td>\n",
              "                        <td id=\"T_ffa04f68_9f48_11eb_9498_0242ac130202row6_col96\" class=\"data row6 col96\" >0.000000</td>\n",
              "                        <td id=\"T_ffa04f68_9f48_11eb_9498_0242ac130202row6_col97\" class=\"data row6 col97\" >0.000000</td>\n",
              "            </tr>\n",
              "            <tr>\n",
              "                        <th id=\"T_ffa04f68_9f48_11eb_9498_0242ac130202level0_row7\" class=\"row_heading level0 row7\" >7</th>\n",
              "                        <td id=\"T_ffa04f68_9f48_11eb_9498_0242ac130202row7_col0\" class=\"data row7 col0\" >0.000000</td>\n",
              "                        <td id=\"T_ffa04f68_9f48_11eb_9498_0242ac130202row7_col1\" class=\"data row7 col1\" >0.000000</td>\n",
              "                        <td id=\"T_ffa04f68_9f48_11eb_9498_0242ac130202row7_col2\" class=\"data row7 col2\" >0.000000</td>\n",
              "                        <td id=\"T_ffa04f68_9f48_11eb_9498_0242ac130202row7_col3\" class=\"data row7 col3\" >0.000000</td>\n",
              "                        <td id=\"T_ffa04f68_9f48_11eb_9498_0242ac130202row7_col4\" class=\"data row7 col4\" >0.000000</td>\n",
              "                        <td id=\"T_ffa04f68_9f48_11eb_9498_0242ac130202row7_col5\" class=\"data row7 col5\" >0.000000</td>\n",
              "                        <td id=\"T_ffa04f68_9f48_11eb_9498_0242ac130202row7_col6\" class=\"data row7 col6\" >0.000000</td>\n",
              "                        <td id=\"T_ffa04f68_9f48_11eb_9498_0242ac130202row7_col7\" class=\"data row7 col7\" >0.000000</td>\n",
              "                        <td id=\"T_ffa04f68_9f48_11eb_9498_0242ac130202row7_col8\" class=\"data row7 col8\" >0.000000</td>\n",
              "                        <td id=\"T_ffa04f68_9f48_11eb_9498_0242ac130202row7_col9\" class=\"data row7 col9\" >0.313985</td>\n",
              "                        <td id=\"T_ffa04f68_9f48_11eb_9498_0242ac130202row7_col10\" class=\"data row7 col10\" >0.000000</td>\n",
              "                        <td id=\"T_ffa04f68_9f48_11eb_9498_0242ac130202row7_col11\" class=\"data row7 col11\" >0.000000</td>\n",
              "                        <td id=\"T_ffa04f68_9f48_11eb_9498_0242ac130202row7_col12\" class=\"data row7 col12\" >0.000000</td>\n",
              "                        <td id=\"T_ffa04f68_9f48_11eb_9498_0242ac130202row7_col13\" class=\"data row7 col13\" >0.000000</td>\n",
              "                        <td id=\"T_ffa04f68_9f48_11eb_9498_0242ac130202row7_col14\" class=\"data row7 col14\" >0.000000</td>\n",
              "                        <td id=\"T_ffa04f68_9f48_11eb_9498_0242ac130202row7_col15\" class=\"data row7 col15\" >0.000000</td>\n",
              "                        <td id=\"T_ffa04f68_9f48_11eb_9498_0242ac130202row7_col16\" class=\"data row7 col16\" >0.000000</td>\n",
              "                        <td id=\"T_ffa04f68_9f48_11eb_9498_0242ac130202row7_col17\" class=\"data row7 col17\" >0.000000</td>\n",
              "                        <td id=\"T_ffa04f68_9f48_11eb_9498_0242ac130202row7_col18\" class=\"data row7 col18\" >0.000000</td>\n",
              "                        <td id=\"T_ffa04f68_9f48_11eb_9498_0242ac130202row7_col19\" class=\"data row7 col19\" >0.000000</td>\n",
              "                        <td id=\"T_ffa04f68_9f48_11eb_9498_0242ac130202row7_col20\" class=\"data row7 col20\" >0.000000</td>\n",
              "                        <td id=\"T_ffa04f68_9f48_11eb_9498_0242ac130202row7_col21\" class=\"data row7 col21\" >0.313985</td>\n",
              "                        <td id=\"T_ffa04f68_9f48_11eb_9498_0242ac130202row7_col22\" class=\"data row7 col22\" >0.000000</td>\n",
              "                        <td id=\"T_ffa04f68_9f48_11eb_9498_0242ac130202row7_col23\" class=\"data row7 col23\" >0.000000</td>\n",
              "                        <td id=\"T_ffa04f68_9f48_11eb_9498_0242ac130202row7_col24\" class=\"data row7 col24\" >0.000000</td>\n",
              "                        <td id=\"T_ffa04f68_9f48_11eb_9498_0242ac130202row7_col25\" class=\"data row7 col25\" >0.000000</td>\n",
              "                        <td id=\"T_ffa04f68_9f48_11eb_9498_0242ac130202row7_col26\" class=\"data row7 col26\" >0.000000</td>\n",
              "                        <td id=\"T_ffa04f68_9f48_11eb_9498_0242ac130202row7_col27\" class=\"data row7 col27\" >0.000000</td>\n",
              "                        <td id=\"T_ffa04f68_9f48_11eb_9498_0242ac130202row7_col28\" class=\"data row7 col28\" >0.000000</td>\n",
              "                        <td id=\"T_ffa04f68_9f48_11eb_9498_0242ac130202row7_col29\" class=\"data row7 col29\" >0.000000</td>\n",
              "                        <td id=\"T_ffa04f68_9f48_11eb_9498_0242ac130202row7_col30\" class=\"data row7 col30\" >0.000000</td>\n",
              "                        <td id=\"T_ffa04f68_9f48_11eb_9498_0242ac130202row7_col31\" class=\"data row7 col31\" >0.000000</td>\n",
              "                        <td id=\"T_ffa04f68_9f48_11eb_9498_0242ac130202row7_col32\" class=\"data row7 col32\" >0.000000</td>\n",
              "                        <td id=\"T_ffa04f68_9f48_11eb_9498_0242ac130202row7_col33\" class=\"data row7 col33\" >0.000000</td>\n",
              "                        <td id=\"T_ffa04f68_9f48_11eb_9498_0242ac130202row7_col34\" class=\"data row7 col34\" >0.000000</td>\n",
              "                        <td id=\"T_ffa04f68_9f48_11eb_9498_0242ac130202row7_col35\" class=\"data row7 col35\" >0.000000</td>\n",
              "                        <td id=\"T_ffa04f68_9f48_11eb_9498_0242ac130202row7_col36\" class=\"data row7 col36\" >0.233520</td>\n",
              "                        <td id=\"T_ffa04f68_9f48_11eb_9498_0242ac130202row7_col37\" class=\"data row7 col37\" >0.000000</td>\n",
              "                        <td id=\"T_ffa04f68_9f48_11eb_9498_0242ac130202row7_col38\" class=\"data row7 col38\" >0.000000</td>\n",
              "                        <td id=\"T_ffa04f68_9f48_11eb_9498_0242ac130202row7_col39\" class=\"data row7 col39\" >0.000000</td>\n",
              "                        <td id=\"T_ffa04f68_9f48_11eb_9498_0242ac130202row7_col40\" class=\"data row7 col40\" >0.000000</td>\n",
              "                        <td id=\"T_ffa04f68_9f48_11eb_9498_0242ac130202row7_col41\" class=\"data row7 col41\" >0.000000</td>\n",
              "                        <td id=\"T_ffa04f68_9f48_11eb_9498_0242ac130202row7_col42\" class=\"data row7 col42\" >0.000000</td>\n",
              "                        <td id=\"T_ffa04f68_9f48_11eb_9498_0242ac130202row7_col43\" class=\"data row7 col43\" >0.000000</td>\n",
              "                        <td id=\"T_ffa04f68_9f48_11eb_9498_0242ac130202row7_col44\" class=\"data row7 col44\" >0.000000</td>\n",
              "                        <td id=\"T_ffa04f68_9f48_11eb_9498_0242ac130202row7_col45\" class=\"data row7 col45\" >0.000000</td>\n",
              "                        <td id=\"T_ffa04f68_9f48_11eb_9498_0242ac130202row7_col46\" class=\"data row7 col46\" >0.313985</td>\n",
              "                        <td id=\"T_ffa04f68_9f48_11eb_9498_0242ac130202row7_col47\" class=\"data row7 col47\" >0.000000</td>\n",
              "                        <td id=\"T_ffa04f68_9f48_11eb_9498_0242ac130202row7_col48\" class=\"data row7 col48\" >0.168556</td>\n",
              "                        <td id=\"T_ffa04f68_9f48_11eb_9498_0242ac130202row7_col49\" class=\"data row7 col49\" >0.000000</td>\n",
              "                        <td id=\"T_ffa04f68_9f48_11eb_9498_0242ac130202row7_col50\" class=\"data row7 col50\" >0.000000</td>\n",
              "                        <td id=\"T_ffa04f68_9f48_11eb_9498_0242ac130202row7_col51\" class=\"data row7 col51\" >0.000000</td>\n",
              "                        <td id=\"T_ffa04f68_9f48_11eb_9498_0242ac130202row7_col52\" class=\"data row7 col52\" >0.000000</td>\n",
              "                        <td id=\"T_ffa04f68_9f48_11eb_9498_0242ac130202row7_col53\" class=\"data row7 col53\" >0.000000</td>\n",
              "                        <td id=\"T_ffa04f68_9f48_11eb_9498_0242ac130202row7_col54\" class=\"data row7 col54\" >0.000000</td>\n",
              "                        <td id=\"T_ffa04f68_9f48_11eb_9498_0242ac130202row7_col55\" class=\"data row7 col55\" >0.000000</td>\n",
              "                        <td id=\"T_ffa04f68_9f48_11eb_9498_0242ac130202row7_col56\" class=\"data row7 col56\" >0.000000</td>\n",
              "                        <td id=\"T_ffa04f68_9f48_11eb_9498_0242ac130202row7_col57\" class=\"data row7 col57\" >0.000000</td>\n",
              "                        <td id=\"T_ffa04f68_9f48_11eb_9498_0242ac130202row7_col58\" class=\"data row7 col58\" >0.000000</td>\n",
              "                        <td id=\"T_ffa04f68_9f48_11eb_9498_0242ac130202row7_col59\" class=\"data row7 col59\" >0.000000</td>\n",
              "                        <td id=\"T_ffa04f68_9f48_11eb_9498_0242ac130202row7_col60\" class=\"data row7 col60\" >0.233520</td>\n",
              "                        <td id=\"T_ffa04f68_9f48_11eb_9498_0242ac130202row7_col61\" class=\"data row7 col61\" >0.000000</td>\n",
              "                        <td id=\"T_ffa04f68_9f48_11eb_9498_0242ac130202row7_col62\" class=\"data row7 col62\" >0.313985</td>\n",
              "                        <td id=\"T_ffa04f68_9f48_11eb_9498_0242ac130202row7_col63\" class=\"data row7 col63\" >0.000000</td>\n",
              "                        <td id=\"T_ffa04f68_9f48_11eb_9498_0242ac130202row7_col64\" class=\"data row7 col64\" >0.000000</td>\n",
              "                        <td id=\"T_ffa04f68_9f48_11eb_9498_0242ac130202row7_col65\" class=\"data row7 col65\" >0.000000</td>\n",
              "                        <td id=\"T_ffa04f68_9f48_11eb_9498_0242ac130202row7_col66\" class=\"data row7 col66\" >0.000000</td>\n",
              "                        <td id=\"T_ffa04f68_9f48_11eb_9498_0242ac130202row7_col67\" class=\"data row7 col67\" >0.000000</td>\n",
              "                        <td id=\"T_ffa04f68_9f48_11eb_9498_0242ac130202row7_col68\" class=\"data row7 col68\" >0.000000</td>\n",
              "                        <td id=\"T_ffa04f68_9f48_11eb_9498_0242ac130202row7_col69\" class=\"data row7 col69\" >0.000000</td>\n",
              "                        <td id=\"T_ffa04f68_9f48_11eb_9498_0242ac130202row7_col70\" class=\"data row7 col70\" >0.000000</td>\n",
              "                        <td id=\"T_ffa04f68_9f48_11eb_9498_0242ac130202row7_col71\" class=\"data row7 col71\" >0.000000</td>\n",
              "                        <td id=\"T_ffa04f68_9f48_11eb_9498_0242ac130202row7_col72\" class=\"data row7 col72\" >0.000000</td>\n",
              "                        <td id=\"T_ffa04f68_9f48_11eb_9498_0242ac130202row7_col73\" class=\"data row7 col73\" >0.000000</td>\n",
              "                        <td id=\"T_ffa04f68_9f48_11eb_9498_0242ac130202row7_col74\" class=\"data row7 col74\" >0.000000</td>\n",
              "                        <td id=\"T_ffa04f68_9f48_11eb_9498_0242ac130202row7_col75\" class=\"data row7 col75\" >0.000000</td>\n",
              "                        <td id=\"T_ffa04f68_9f48_11eb_9498_0242ac130202row7_col76\" class=\"data row7 col76\" >0.000000</td>\n",
              "                        <td id=\"T_ffa04f68_9f48_11eb_9498_0242ac130202row7_col77\" class=\"data row7 col77\" >0.000000</td>\n",
              "                        <td id=\"T_ffa04f68_9f48_11eb_9498_0242ac130202row7_col78\" class=\"data row7 col78\" >0.000000</td>\n",
              "                        <td id=\"T_ffa04f68_9f48_11eb_9498_0242ac130202row7_col79\" class=\"data row7 col79\" >0.000000</td>\n",
              "                        <td id=\"T_ffa04f68_9f48_11eb_9498_0242ac130202row7_col80\" class=\"data row7 col80\" >0.313985</td>\n",
              "                        <td id=\"T_ffa04f68_9f48_11eb_9498_0242ac130202row7_col81\" class=\"data row7 col81\" >0.000000</td>\n",
              "                        <td id=\"T_ffa04f68_9f48_11eb_9498_0242ac130202row7_col82\" class=\"data row7 col82\" >0.000000</td>\n",
              "                        <td id=\"T_ffa04f68_9f48_11eb_9498_0242ac130202row7_col83\" class=\"data row7 col83\" >0.000000</td>\n",
              "                        <td id=\"T_ffa04f68_9f48_11eb_9498_0242ac130202row7_col84\" class=\"data row7 col84\" >0.000000</td>\n",
              "                        <td id=\"T_ffa04f68_9f48_11eb_9498_0242ac130202row7_col85\" class=\"data row7 col85\" >0.000000</td>\n",
              "                        <td id=\"T_ffa04f68_9f48_11eb_9498_0242ac130202row7_col86\" class=\"data row7 col86\" >0.000000</td>\n",
              "                        <td id=\"T_ffa04f68_9f48_11eb_9498_0242ac130202row7_col87\" class=\"data row7 col87\" >0.000000</td>\n",
              "                        <td id=\"T_ffa04f68_9f48_11eb_9498_0242ac130202row7_col88\" class=\"data row7 col88\" >0.415232</td>\n",
              "                        <td id=\"T_ffa04f68_9f48_11eb_9498_0242ac130202row7_col89\" class=\"data row7 col89\" >0.000000</td>\n",
              "                        <td id=\"T_ffa04f68_9f48_11eb_9498_0242ac130202row7_col90\" class=\"data row7 col90\" >0.000000</td>\n",
              "                        <td id=\"T_ffa04f68_9f48_11eb_9498_0242ac130202row7_col91\" class=\"data row7 col91\" >0.000000</td>\n",
              "                        <td id=\"T_ffa04f68_9f48_11eb_9498_0242ac130202row7_col92\" class=\"data row7 col92\" >0.313985</td>\n",
              "                        <td id=\"T_ffa04f68_9f48_11eb_9498_0242ac130202row7_col93\" class=\"data row7 col93\" >0.000000</td>\n",
              "                        <td id=\"T_ffa04f68_9f48_11eb_9498_0242ac130202row7_col94\" class=\"data row7 col94\" >0.000000</td>\n",
              "                        <td id=\"T_ffa04f68_9f48_11eb_9498_0242ac130202row7_col95\" class=\"data row7 col95\" >0.000000</td>\n",
              "                        <td id=\"T_ffa04f68_9f48_11eb_9498_0242ac130202row7_col96\" class=\"data row7 col96\" >0.000000</td>\n",
              "                        <td id=\"T_ffa04f68_9f48_11eb_9498_0242ac130202row7_col97\" class=\"data row7 col97\" >0.313985</td>\n",
              "            </tr>\n",
              "            <tr>\n",
              "                        <th id=\"T_ffa04f68_9f48_11eb_9498_0242ac130202level0_row8\" class=\"row_heading level0 row8\" >8</th>\n",
              "                        <td id=\"T_ffa04f68_9f48_11eb_9498_0242ac130202row8_col0\" class=\"data row8 col0\" >0.000000</td>\n",
              "                        <td id=\"T_ffa04f68_9f48_11eb_9498_0242ac130202row8_col1\" class=\"data row8 col1\" >0.000000</td>\n",
              "                        <td id=\"T_ffa04f68_9f48_11eb_9498_0242ac130202row8_col2\" class=\"data row8 col2\" >0.000000</td>\n",
              "                        <td id=\"T_ffa04f68_9f48_11eb_9498_0242ac130202row8_col3\" class=\"data row8 col3\" >0.307289</td>\n",
              "                        <td id=\"T_ffa04f68_9f48_11eb_9498_0242ac130202row8_col4\" class=\"data row8 col4\" >0.000000</td>\n",
              "                        <td id=\"T_ffa04f68_9f48_11eb_9498_0242ac130202row8_col5\" class=\"data row8 col5\" >0.000000</td>\n",
              "                        <td id=\"T_ffa04f68_9f48_11eb_9498_0242ac130202row8_col6\" class=\"data row8 col6\" >0.000000</td>\n",
              "                        <td id=\"T_ffa04f68_9f48_11eb_9498_0242ac130202row8_col7\" class=\"data row8 col7\" >0.000000</td>\n",
              "                        <td id=\"T_ffa04f68_9f48_11eb_9498_0242ac130202row8_col8\" class=\"data row8 col8\" >0.307289</td>\n",
              "                        <td id=\"T_ffa04f68_9f48_11eb_9498_0242ac130202row8_col9\" class=\"data row8 col9\" >0.000000</td>\n",
              "                        <td id=\"T_ffa04f68_9f48_11eb_9498_0242ac130202row8_col10\" class=\"data row8 col10\" >0.000000</td>\n",
              "                        <td id=\"T_ffa04f68_9f48_11eb_9498_0242ac130202row8_col11\" class=\"data row8 col11\" >0.000000</td>\n",
              "                        <td id=\"T_ffa04f68_9f48_11eb_9498_0242ac130202row8_col12\" class=\"data row8 col12\" >0.000000</td>\n",
              "                        <td id=\"T_ffa04f68_9f48_11eb_9498_0242ac130202row8_col13\" class=\"data row8 col13\" >0.000000</td>\n",
              "                        <td id=\"T_ffa04f68_9f48_11eb_9498_0242ac130202row8_col14\" class=\"data row8 col14\" >0.000000</td>\n",
              "                        <td id=\"T_ffa04f68_9f48_11eb_9498_0242ac130202row8_col15\" class=\"data row8 col15\" >0.000000</td>\n",
              "                        <td id=\"T_ffa04f68_9f48_11eb_9498_0242ac130202row8_col16\" class=\"data row8 col16\" >0.000000</td>\n",
              "                        <td id=\"T_ffa04f68_9f48_11eb_9498_0242ac130202row8_col17\" class=\"data row8 col17\" >0.307289</td>\n",
              "                        <td id=\"T_ffa04f68_9f48_11eb_9498_0242ac130202row8_col18\" class=\"data row8 col18\" >0.000000</td>\n",
              "                        <td id=\"T_ffa04f68_9f48_11eb_9498_0242ac130202row8_col19\" class=\"data row8 col19\" >0.000000</td>\n",
              "                        <td id=\"T_ffa04f68_9f48_11eb_9498_0242ac130202row8_col20\" class=\"data row8 col20\" >0.000000</td>\n",
              "                        <td id=\"T_ffa04f68_9f48_11eb_9498_0242ac130202row8_col21\" class=\"data row8 col21\" >0.000000</td>\n",
              "                        <td id=\"T_ffa04f68_9f48_11eb_9498_0242ac130202row8_col22\" class=\"data row8 col22\" >0.000000</td>\n",
              "                        <td id=\"T_ffa04f68_9f48_11eb_9498_0242ac130202row8_col23\" class=\"data row8 col23\" >0.000000</td>\n",
              "                        <td id=\"T_ffa04f68_9f48_11eb_9498_0242ac130202row8_col24\" class=\"data row8 col24\" >0.000000</td>\n",
              "                        <td id=\"T_ffa04f68_9f48_11eb_9498_0242ac130202row8_col25\" class=\"data row8 col25\" >0.000000</td>\n",
              "                        <td id=\"T_ffa04f68_9f48_11eb_9498_0242ac130202row8_col26\" class=\"data row8 col26\" >0.000000</td>\n",
              "                        <td id=\"T_ffa04f68_9f48_11eb_9498_0242ac130202row8_col27\" class=\"data row8 col27\" >0.000000</td>\n",
              "                        <td id=\"T_ffa04f68_9f48_11eb_9498_0242ac130202row8_col28\" class=\"data row8 col28\" >0.000000</td>\n",
              "                        <td id=\"T_ffa04f68_9f48_11eb_9498_0242ac130202row8_col29\" class=\"data row8 col29\" >0.000000</td>\n",
              "                        <td id=\"T_ffa04f68_9f48_11eb_9498_0242ac130202row8_col30\" class=\"data row8 col30\" >0.000000</td>\n",
              "                        <td id=\"T_ffa04f68_9f48_11eb_9498_0242ac130202row8_col31\" class=\"data row8 col31\" >0.000000</td>\n",
              "                        <td id=\"T_ffa04f68_9f48_11eb_9498_0242ac130202row8_col32\" class=\"data row8 col32\" >0.000000</td>\n",
              "                        <td id=\"T_ffa04f68_9f48_11eb_9498_0242ac130202row8_col33\" class=\"data row8 col33\" >0.307289</td>\n",
              "                        <td id=\"T_ffa04f68_9f48_11eb_9498_0242ac130202row8_col34\" class=\"data row8 col34\" >0.228540</td>\n",
              "                        <td id=\"T_ffa04f68_9f48_11eb_9498_0242ac130202row8_col35\" class=\"data row8 col35\" >0.000000</td>\n",
              "                        <td id=\"T_ffa04f68_9f48_11eb_9498_0242ac130202row8_col36\" class=\"data row8 col36\" >0.000000</td>\n",
              "                        <td id=\"T_ffa04f68_9f48_11eb_9498_0242ac130202row8_col37\" class=\"data row8 col37\" >0.000000</td>\n",
              "                        <td id=\"T_ffa04f68_9f48_11eb_9498_0242ac130202row8_col38\" class=\"data row8 col38\" >0.000000</td>\n",
              "                        <td id=\"T_ffa04f68_9f48_11eb_9498_0242ac130202row8_col39\" class=\"data row8 col39\" >0.000000</td>\n",
              "                        <td id=\"T_ffa04f68_9f48_11eb_9498_0242ac130202row8_col40\" class=\"data row8 col40\" >0.000000</td>\n",
              "                        <td id=\"T_ffa04f68_9f48_11eb_9498_0242ac130202row8_col41\" class=\"data row8 col41\" >0.000000</td>\n",
              "                        <td id=\"T_ffa04f68_9f48_11eb_9498_0242ac130202row8_col42\" class=\"data row8 col42\" >0.000000</td>\n",
              "                        <td id=\"T_ffa04f68_9f48_11eb_9498_0242ac130202row8_col43\" class=\"data row8 col43\" >0.000000</td>\n",
              "                        <td id=\"T_ffa04f68_9f48_11eb_9498_0242ac130202row8_col44\" class=\"data row8 col44\" >0.307289</td>\n",
              "                        <td id=\"T_ffa04f68_9f48_11eb_9498_0242ac130202row8_col45\" class=\"data row8 col45\" >0.000000</td>\n",
              "                        <td id=\"T_ffa04f68_9f48_11eb_9498_0242ac130202row8_col46\" class=\"data row8 col46\" >0.000000</td>\n",
              "                        <td id=\"T_ffa04f68_9f48_11eb_9498_0242ac130202row8_col47\" class=\"data row8 col47\" >0.000000</td>\n",
              "                        <td id=\"T_ffa04f68_9f48_11eb_9498_0242ac130202row8_col48\" class=\"data row8 col48\" >0.164962</td>\n",
              "                        <td id=\"T_ffa04f68_9f48_11eb_9498_0242ac130202row8_col49\" class=\"data row8 col49\" >0.000000</td>\n",
              "                        <td id=\"T_ffa04f68_9f48_11eb_9498_0242ac130202row8_col50\" class=\"data row8 col50\" >0.000000</td>\n",
              "                        <td id=\"T_ffa04f68_9f48_11eb_9498_0242ac130202row8_col51\" class=\"data row8 col51\" >0.000000</td>\n",
              "                        <td id=\"T_ffa04f68_9f48_11eb_9498_0242ac130202row8_col52\" class=\"data row8 col52\" >0.000000</td>\n",
              "                        <td id=\"T_ffa04f68_9f48_11eb_9498_0242ac130202row8_col53\" class=\"data row8 col53\" >0.000000</td>\n",
              "                        <td id=\"T_ffa04f68_9f48_11eb_9498_0242ac130202row8_col54\" class=\"data row8 col54\" >0.000000</td>\n",
              "                        <td id=\"T_ffa04f68_9f48_11eb_9498_0242ac130202row8_col55\" class=\"data row8 col55\" >0.000000</td>\n",
              "                        <td id=\"T_ffa04f68_9f48_11eb_9498_0242ac130202row8_col56\" class=\"data row8 col56\" >0.000000</td>\n",
              "                        <td id=\"T_ffa04f68_9f48_11eb_9498_0242ac130202row8_col57\" class=\"data row8 col57\" >0.000000</td>\n",
              "                        <td id=\"T_ffa04f68_9f48_11eb_9498_0242ac130202row8_col58\" class=\"data row8 col58\" >0.000000</td>\n",
              "                        <td id=\"T_ffa04f68_9f48_11eb_9498_0242ac130202row8_col59\" class=\"data row8 col59\" >0.307289</td>\n",
              "                        <td id=\"T_ffa04f68_9f48_11eb_9498_0242ac130202row8_col60\" class=\"data row8 col60\" >0.000000</td>\n",
              "                        <td id=\"T_ffa04f68_9f48_11eb_9498_0242ac130202row8_col61\" class=\"data row8 col61\" >0.000000</td>\n",
              "                        <td id=\"T_ffa04f68_9f48_11eb_9498_0242ac130202row8_col62\" class=\"data row8 col62\" >0.000000</td>\n",
              "                        <td id=\"T_ffa04f68_9f48_11eb_9498_0242ac130202row8_col63\" class=\"data row8 col63\" >0.000000</td>\n",
              "                        <td id=\"T_ffa04f68_9f48_11eb_9498_0242ac130202row8_col64\" class=\"data row8 col64\" >0.000000</td>\n",
              "                        <td id=\"T_ffa04f68_9f48_11eb_9498_0242ac130202row8_col65\" class=\"data row8 col65\" >0.000000</td>\n",
              "                        <td id=\"T_ffa04f68_9f48_11eb_9498_0242ac130202row8_col66\" class=\"data row8 col66\" >0.000000</td>\n",
              "                        <td id=\"T_ffa04f68_9f48_11eb_9498_0242ac130202row8_col67\" class=\"data row8 col67\" >0.000000</td>\n",
              "                        <td id=\"T_ffa04f68_9f48_11eb_9498_0242ac130202row8_col68\" class=\"data row8 col68\" >0.000000</td>\n",
              "                        <td id=\"T_ffa04f68_9f48_11eb_9498_0242ac130202row8_col69\" class=\"data row8 col69\" >0.000000</td>\n",
              "                        <td id=\"T_ffa04f68_9f48_11eb_9498_0242ac130202row8_col70\" class=\"data row8 col70\" >0.000000</td>\n",
              "                        <td id=\"T_ffa04f68_9f48_11eb_9498_0242ac130202row8_col71\" class=\"data row8 col71\" >0.000000</td>\n",
              "                        <td id=\"T_ffa04f68_9f48_11eb_9498_0242ac130202row8_col72\" class=\"data row8 col72\" >0.000000</td>\n",
              "                        <td id=\"T_ffa04f68_9f48_11eb_9498_0242ac130202row8_col73\" class=\"data row8 col73\" >0.000000</td>\n",
              "                        <td id=\"T_ffa04f68_9f48_11eb_9498_0242ac130202row8_col74\" class=\"data row8 col74\" >0.000000</td>\n",
              "                        <td id=\"T_ffa04f68_9f48_11eb_9498_0242ac130202row8_col75\" class=\"data row8 col75\" >0.000000</td>\n",
              "                        <td id=\"T_ffa04f68_9f48_11eb_9498_0242ac130202row8_col76\" class=\"data row8 col76\" >0.000000</td>\n",
              "                        <td id=\"T_ffa04f68_9f48_11eb_9498_0242ac130202row8_col77\" class=\"data row8 col77\" >0.000000</td>\n",
              "                        <td id=\"T_ffa04f68_9f48_11eb_9498_0242ac130202row8_col78\" class=\"data row8 col78\" >0.000000</td>\n",
              "                        <td id=\"T_ffa04f68_9f48_11eb_9498_0242ac130202row8_col79\" class=\"data row8 col79\" >0.000000</td>\n",
              "                        <td id=\"T_ffa04f68_9f48_11eb_9498_0242ac130202row8_col80\" class=\"data row8 col80\" >0.000000</td>\n",
              "                        <td id=\"T_ffa04f68_9f48_11eb_9498_0242ac130202row8_col81\" class=\"data row8 col81\" >0.000000</td>\n",
              "                        <td id=\"T_ffa04f68_9f48_11eb_9498_0242ac130202row8_col82\" class=\"data row8 col82\" >0.000000</td>\n",
              "                        <td id=\"T_ffa04f68_9f48_11eb_9498_0242ac130202row8_col83\" class=\"data row8 col83\" >0.000000</td>\n",
              "                        <td id=\"T_ffa04f68_9f48_11eb_9498_0242ac130202row8_col84\" class=\"data row8 col84\" >0.000000</td>\n",
              "                        <td id=\"T_ffa04f68_9f48_11eb_9498_0242ac130202row8_col85\" class=\"data row8 col85\" >0.307289</td>\n",
              "                        <td id=\"T_ffa04f68_9f48_11eb_9498_0242ac130202row8_col86\" class=\"data row8 col86\" >0.000000</td>\n",
              "                        <td id=\"T_ffa04f68_9f48_11eb_9498_0242ac130202row8_col87\" class=\"data row8 col87\" >0.000000</td>\n",
              "                        <td id=\"T_ffa04f68_9f48_11eb_9498_0242ac130202row8_col88\" class=\"data row8 col88\" >0.406377</td>\n",
              "                        <td id=\"T_ffa04f68_9f48_11eb_9498_0242ac130202row8_col89\" class=\"data row8 col89\" >0.307289</td>\n",
              "                        <td id=\"T_ffa04f68_9f48_11eb_9498_0242ac130202row8_col90\" class=\"data row8 col90\" >0.000000</td>\n",
              "                        <td id=\"T_ffa04f68_9f48_11eb_9498_0242ac130202row8_col91\" class=\"data row8 col91\" >0.000000</td>\n",
              "                        <td id=\"T_ffa04f68_9f48_11eb_9498_0242ac130202row8_col92\" class=\"data row8 col92\" >0.000000</td>\n",
              "                        <td id=\"T_ffa04f68_9f48_11eb_9498_0242ac130202row8_col93\" class=\"data row8 col93\" >0.000000</td>\n",
              "                        <td id=\"T_ffa04f68_9f48_11eb_9498_0242ac130202row8_col94\" class=\"data row8 col94\" >0.000000</td>\n",
              "                        <td id=\"T_ffa04f68_9f48_11eb_9498_0242ac130202row8_col95\" class=\"data row8 col95\" >0.000000</td>\n",
              "                        <td id=\"T_ffa04f68_9f48_11eb_9498_0242ac130202row8_col96\" class=\"data row8 col96\" >0.000000</td>\n",
              "                        <td id=\"T_ffa04f68_9f48_11eb_9498_0242ac130202row8_col97\" class=\"data row8 col97\" >0.000000</td>\n",
              "            </tr>\n",
              "            <tr>\n",
              "                        <th id=\"T_ffa04f68_9f48_11eb_9498_0242ac130202level0_row9\" class=\"row_heading level0 row9\" >9</th>\n",
              "                        <td id=\"T_ffa04f68_9f48_11eb_9498_0242ac130202row9_col0\" class=\"data row9 col0\" >0.000000</td>\n",
              "                        <td id=\"T_ffa04f68_9f48_11eb_9498_0242ac130202row9_col1\" class=\"data row9 col1\" >0.000000</td>\n",
              "                        <td id=\"T_ffa04f68_9f48_11eb_9498_0242ac130202row9_col2\" class=\"data row9 col2\" >0.000000</td>\n",
              "                        <td id=\"T_ffa04f68_9f48_11eb_9498_0242ac130202row9_col3\" class=\"data row9 col3\" >0.000000</td>\n",
              "                        <td id=\"T_ffa04f68_9f48_11eb_9498_0242ac130202row9_col4\" class=\"data row9 col4\" >0.360071</td>\n",
              "                        <td id=\"T_ffa04f68_9f48_11eb_9498_0242ac130202row9_col5\" class=\"data row9 col5\" >0.000000</td>\n",
              "                        <td id=\"T_ffa04f68_9f48_11eb_9498_0242ac130202row9_col6\" class=\"data row9 col6\" >0.000000</td>\n",
              "                        <td id=\"T_ffa04f68_9f48_11eb_9498_0242ac130202row9_col7\" class=\"data row9 col7\" >0.000000</td>\n",
              "                        <td id=\"T_ffa04f68_9f48_11eb_9498_0242ac130202row9_col8\" class=\"data row9 col8\" >0.000000</td>\n",
              "                        <td id=\"T_ffa04f68_9f48_11eb_9498_0242ac130202row9_col9\" class=\"data row9 col9\" >0.000000</td>\n",
              "                        <td id=\"T_ffa04f68_9f48_11eb_9498_0242ac130202row9_col10\" class=\"data row9 col10\" >0.000000</td>\n",
              "                        <td id=\"T_ffa04f68_9f48_11eb_9498_0242ac130202row9_col11\" class=\"data row9 col11\" >0.360071</td>\n",
              "                        <td id=\"T_ffa04f68_9f48_11eb_9498_0242ac130202row9_col12\" class=\"data row9 col12\" >0.000000</td>\n",
              "                        <td id=\"T_ffa04f68_9f48_11eb_9498_0242ac130202row9_col13\" class=\"data row9 col13\" >0.000000</td>\n",
              "                        <td id=\"T_ffa04f68_9f48_11eb_9498_0242ac130202row9_col14\" class=\"data row9 col14\" >0.000000</td>\n",
              "                        <td id=\"T_ffa04f68_9f48_11eb_9498_0242ac130202row9_col15\" class=\"data row9 col15\" >0.000000</td>\n",
              "                        <td id=\"T_ffa04f68_9f48_11eb_9498_0242ac130202row9_col16\" class=\"data row9 col16\" >0.000000</td>\n",
              "                        <td id=\"T_ffa04f68_9f48_11eb_9498_0242ac130202row9_col17\" class=\"data row9 col17\" >0.000000</td>\n",
              "                        <td id=\"T_ffa04f68_9f48_11eb_9498_0242ac130202row9_col18\" class=\"data row9 col18\" >0.000000</td>\n",
              "                        <td id=\"T_ffa04f68_9f48_11eb_9498_0242ac130202row9_col19\" class=\"data row9 col19\" >0.000000</td>\n",
              "                        <td id=\"T_ffa04f68_9f48_11eb_9498_0242ac130202row9_col20\" class=\"data row9 col20\" >0.000000</td>\n",
              "                        <td id=\"T_ffa04f68_9f48_11eb_9498_0242ac130202row9_col21\" class=\"data row9 col21\" >0.000000</td>\n",
              "                        <td id=\"T_ffa04f68_9f48_11eb_9498_0242ac130202row9_col22\" class=\"data row9 col22\" >0.000000</td>\n",
              "                        <td id=\"T_ffa04f68_9f48_11eb_9498_0242ac130202row9_col23\" class=\"data row9 col23\" >0.000000</td>\n",
              "                        <td id=\"T_ffa04f68_9f48_11eb_9498_0242ac130202row9_col24\" class=\"data row9 col24\" >0.000000</td>\n",
              "                        <td id=\"T_ffa04f68_9f48_11eb_9498_0242ac130202row9_col25\" class=\"data row9 col25\" >0.000000</td>\n",
              "                        <td id=\"T_ffa04f68_9f48_11eb_9498_0242ac130202row9_col26\" class=\"data row9 col26\" >0.360071</td>\n",
              "                        <td id=\"T_ffa04f68_9f48_11eb_9498_0242ac130202row9_col27\" class=\"data row9 col27\" >0.000000</td>\n",
              "                        <td id=\"T_ffa04f68_9f48_11eb_9498_0242ac130202row9_col28\" class=\"data row9 col28\" >0.000000</td>\n",
              "                        <td id=\"T_ffa04f68_9f48_11eb_9498_0242ac130202row9_col29\" class=\"data row9 col29\" >0.000000</td>\n",
              "                        <td id=\"T_ffa04f68_9f48_11eb_9498_0242ac130202row9_col30\" class=\"data row9 col30\" >0.000000</td>\n",
              "                        <td id=\"T_ffa04f68_9f48_11eb_9498_0242ac130202row9_col31\" class=\"data row9 col31\" >0.000000</td>\n",
              "                        <td id=\"T_ffa04f68_9f48_11eb_9498_0242ac130202row9_col32\" class=\"data row9 col32\" >0.000000</td>\n",
              "                        <td id=\"T_ffa04f68_9f48_11eb_9498_0242ac130202row9_col33\" class=\"data row9 col33\" >0.000000</td>\n",
              "                        <td id=\"T_ffa04f68_9f48_11eb_9498_0242ac130202row9_col34\" class=\"data row9 col34\" >0.000000</td>\n",
              "                        <td id=\"T_ffa04f68_9f48_11eb_9498_0242ac130202row9_col35\" class=\"data row9 col35\" >0.000000</td>\n",
              "                        <td id=\"T_ffa04f68_9f48_11eb_9498_0242ac130202row9_col36\" class=\"data row9 col36\" >0.000000</td>\n",
              "                        <td id=\"T_ffa04f68_9f48_11eb_9498_0242ac130202row9_col37\" class=\"data row9 col37\" >0.000000</td>\n",
              "                        <td id=\"T_ffa04f68_9f48_11eb_9498_0242ac130202row9_col38\" class=\"data row9 col38\" >0.000000</td>\n",
              "                        <td id=\"T_ffa04f68_9f48_11eb_9498_0242ac130202row9_col39\" class=\"data row9 col39\" >0.000000</td>\n",
              "                        <td id=\"T_ffa04f68_9f48_11eb_9498_0242ac130202row9_col40\" class=\"data row9 col40\" >0.000000</td>\n",
              "                        <td id=\"T_ffa04f68_9f48_11eb_9498_0242ac130202row9_col41\" class=\"data row9 col41\" >0.000000</td>\n",
              "                        <td id=\"T_ffa04f68_9f48_11eb_9498_0242ac130202row9_col42\" class=\"data row9 col42\" >0.000000</td>\n",
              "                        <td id=\"T_ffa04f68_9f48_11eb_9498_0242ac130202row9_col43\" class=\"data row9 col43\" >0.000000</td>\n",
              "                        <td id=\"T_ffa04f68_9f48_11eb_9498_0242ac130202row9_col44\" class=\"data row9 col44\" >0.000000</td>\n",
              "                        <td id=\"T_ffa04f68_9f48_11eb_9498_0242ac130202row9_col45\" class=\"data row9 col45\" >0.000000</td>\n",
              "                        <td id=\"T_ffa04f68_9f48_11eb_9498_0242ac130202row9_col46\" class=\"data row9 col46\" >0.000000</td>\n",
              "                        <td id=\"T_ffa04f68_9f48_11eb_9498_0242ac130202row9_col47\" class=\"data row9 col47\" >0.000000</td>\n",
              "                        <td id=\"T_ffa04f68_9f48_11eb_9498_0242ac130202row9_col48\" class=\"data row9 col48\" >0.000000</td>\n",
              "                        <td id=\"T_ffa04f68_9f48_11eb_9498_0242ac130202row9_col49\" class=\"data row9 col49\" >0.000000</td>\n",
              "                        <td id=\"T_ffa04f68_9f48_11eb_9498_0242ac130202row9_col50\" class=\"data row9 col50\" >0.360071</td>\n",
              "                        <td id=\"T_ffa04f68_9f48_11eb_9498_0242ac130202row9_col51\" class=\"data row9 col51\" >0.000000</td>\n",
              "                        <td id=\"T_ffa04f68_9f48_11eb_9498_0242ac130202row9_col52\" class=\"data row9 col52\" >0.000000</td>\n",
              "                        <td id=\"T_ffa04f68_9f48_11eb_9498_0242ac130202row9_col53\" class=\"data row9 col53\" >0.000000</td>\n",
              "                        <td id=\"T_ffa04f68_9f48_11eb_9498_0242ac130202row9_col54\" class=\"data row9 col54\" >0.000000</td>\n",
              "                        <td id=\"T_ffa04f68_9f48_11eb_9498_0242ac130202row9_col55\" class=\"data row9 col55\" >0.000000</td>\n",
              "                        <td id=\"T_ffa04f68_9f48_11eb_9498_0242ac130202row9_col56\" class=\"data row9 col56\" >0.000000</td>\n",
              "                        <td id=\"T_ffa04f68_9f48_11eb_9498_0242ac130202row9_col57\" class=\"data row9 col57\" >0.000000</td>\n",
              "                        <td id=\"T_ffa04f68_9f48_11eb_9498_0242ac130202row9_col58\" class=\"data row9 col58\" >0.000000</td>\n",
              "                        <td id=\"T_ffa04f68_9f48_11eb_9498_0242ac130202row9_col59\" class=\"data row9 col59\" >0.000000</td>\n",
              "                        <td id=\"T_ffa04f68_9f48_11eb_9498_0242ac130202row9_col60\" class=\"data row9 col60\" >0.000000</td>\n",
              "                        <td id=\"T_ffa04f68_9f48_11eb_9498_0242ac130202row9_col61\" class=\"data row9 col61\" >0.000000</td>\n",
              "                        <td id=\"T_ffa04f68_9f48_11eb_9498_0242ac130202row9_col62\" class=\"data row9 col62\" >0.000000</td>\n",
              "                        <td id=\"T_ffa04f68_9f48_11eb_9498_0242ac130202row9_col63\" class=\"data row9 col63\" >0.000000</td>\n",
              "                        <td id=\"T_ffa04f68_9f48_11eb_9498_0242ac130202row9_col64\" class=\"data row9 col64\" >0.000000</td>\n",
              "                        <td id=\"T_ffa04f68_9f48_11eb_9498_0242ac130202row9_col65\" class=\"data row9 col65\" >0.000000</td>\n",
              "                        <td id=\"T_ffa04f68_9f48_11eb_9498_0242ac130202row9_col66\" class=\"data row9 col66\" >0.306093</td>\n",
              "                        <td id=\"T_ffa04f68_9f48_11eb_9498_0242ac130202row9_col67\" class=\"data row9 col67\" >0.000000</td>\n",
              "                        <td id=\"T_ffa04f68_9f48_11eb_9498_0242ac130202row9_col68\" class=\"data row9 col68\" >0.000000</td>\n",
              "                        <td id=\"T_ffa04f68_9f48_11eb_9498_0242ac130202row9_col69\" class=\"data row9 col69\" >0.000000</td>\n",
              "                        <td id=\"T_ffa04f68_9f48_11eb_9498_0242ac130202row9_col70\" class=\"data row9 col70\" >0.000000</td>\n",
              "                        <td id=\"T_ffa04f68_9f48_11eb_9498_0242ac130202row9_col71\" class=\"data row9 col71\" >0.000000</td>\n",
              "                        <td id=\"T_ffa04f68_9f48_11eb_9498_0242ac130202row9_col72\" class=\"data row9 col72\" >0.000000</td>\n",
              "                        <td id=\"T_ffa04f68_9f48_11eb_9498_0242ac130202row9_col73\" class=\"data row9 col73\" >0.000000</td>\n",
              "                        <td id=\"T_ffa04f68_9f48_11eb_9498_0242ac130202row9_col74\" class=\"data row9 col74\" >0.000000</td>\n",
              "                        <td id=\"T_ffa04f68_9f48_11eb_9498_0242ac130202row9_col75\" class=\"data row9 col75\" >0.000000</td>\n",
              "                        <td id=\"T_ffa04f68_9f48_11eb_9498_0242ac130202row9_col76\" class=\"data row9 col76\" >0.000000</td>\n",
              "                        <td id=\"T_ffa04f68_9f48_11eb_9498_0242ac130202row9_col77\" class=\"data row9 col77\" >0.000000</td>\n",
              "                        <td id=\"T_ffa04f68_9f48_11eb_9498_0242ac130202row9_col78\" class=\"data row9 col78\" >0.000000</td>\n",
              "                        <td id=\"T_ffa04f68_9f48_11eb_9498_0242ac130202row9_col79\" class=\"data row9 col79\" >0.000000</td>\n",
              "                        <td id=\"T_ffa04f68_9f48_11eb_9498_0242ac130202row9_col80\" class=\"data row9 col80\" >0.000000</td>\n",
              "                        <td id=\"T_ffa04f68_9f48_11eb_9498_0242ac130202row9_col81\" class=\"data row9 col81\" >0.000000</td>\n",
              "                        <td id=\"T_ffa04f68_9f48_11eb_9498_0242ac130202row9_col82\" class=\"data row9 col82\" >0.000000</td>\n",
              "                        <td id=\"T_ffa04f68_9f48_11eb_9498_0242ac130202row9_col83\" class=\"data row9 col83\" >0.000000</td>\n",
              "                        <td id=\"T_ffa04f68_9f48_11eb_9498_0242ac130202row9_col84\" class=\"data row9 col84\" >0.000000</td>\n",
              "                        <td id=\"T_ffa04f68_9f48_11eb_9498_0242ac130202row9_col85\" class=\"data row9 col85\" >0.000000</td>\n",
              "                        <td id=\"T_ffa04f68_9f48_11eb_9498_0242ac130202row9_col86\" class=\"data row9 col86\" >0.000000</td>\n",
              "                        <td id=\"T_ffa04f68_9f48_11eb_9498_0242ac130202row9_col87\" class=\"data row9 col87\" >0.360071</td>\n",
              "                        <td id=\"T_ffa04f68_9f48_11eb_9498_0242ac130202row9_col88\" class=\"data row9 col88\" >0.238089</td>\n",
              "                        <td id=\"T_ffa04f68_9f48_11eb_9498_0242ac130202row9_col89\" class=\"data row9 col89\" >0.000000</td>\n",
              "                        <td id=\"T_ffa04f68_9f48_11eb_9498_0242ac130202row9_col90\" class=\"data row9 col90\" >0.000000</td>\n",
              "                        <td id=\"T_ffa04f68_9f48_11eb_9498_0242ac130202row9_col91\" class=\"data row9 col91\" >0.267795</td>\n",
              "                        <td id=\"T_ffa04f68_9f48_11eb_9498_0242ac130202row9_col92\" class=\"data row9 col92\" >0.000000</td>\n",
              "                        <td id=\"T_ffa04f68_9f48_11eb_9498_0242ac130202row9_col93\" class=\"data row9 col93\" >0.360071</td>\n",
              "                        <td id=\"T_ffa04f68_9f48_11eb_9498_0242ac130202row9_col94\" class=\"data row9 col94\" >0.000000</td>\n",
              "                        <td id=\"T_ffa04f68_9f48_11eb_9498_0242ac130202row9_col95\" class=\"data row9 col95\" >0.000000</td>\n",
              "                        <td id=\"T_ffa04f68_9f48_11eb_9498_0242ac130202row9_col96\" class=\"data row9 col96\" >0.000000</td>\n",
              "                        <td id=\"T_ffa04f68_9f48_11eb_9498_0242ac130202row9_col97\" class=\"data row9 col97\" >0.000000</td>\n",
              "            </tr>\n",
              "    </tbody></table>"
            ],
            "text/plain": [
              "<pandas.io.formats.style.Styler at 0x7f49f53caad0>"
            ]
          },
          "execution_count": 42,
          "metadata": {},
          "output_type": "execute_result"
        }
      ],
      "source": [
        "tfidf_vectorizer = TfidfVectorizer()\n",
        "text_list = list(text[0:10])\n",
        "\n",
        "tfidf = tfidf_vectorizer.fit_transform(text_list)\n",
        "\n",
        "tfidf_feature_names = tfidf_vectorizer.get_feature_names()\n",
        "\n",
        "print('Term Frequency - Inverse Document Frequency of Document')\n",
        "df = pd.DataFrame(tfidf.toarray(), columns = tfidf_feature_names)\n",
        "df.style.set_caption(\"Term Frequency - Inverse Document Frequency of Document\")\n",
        "df.style.applymap(color)"
      ]
    },
    {
      "cell_type": "markdown",
      "metadata": {
        "papermill": {
          "duration": 0.123359,
          "end_time": "2021-04-17T06:49:04.328298",
          "exception": false,
          "start_time": "2021-04-17T06:49:04.204939",
          "status": "completed"
        },
        "tags": [],
        "id": "C3iOpzLwNxqN"
      },
      "source": [
        "## **Dependency Parser**\n",
        "\n",
        "Stanford dependency parser establishes the relationship between entities in the language using grammatical rules. The output of the parser is a tree structure that is annotated. For example, in the sentence “The funny boy joked,” “funny” is an adjective for the noun “boy.”"
      ]
    },
    {
      "cell_type": "code",
      "execution_count": null,
      "metadata": {
        "execution": {
          "iopub.execute_input": "2021-04-17T06:49:04.681811Z",
          "iopub.status.busy": "2021-04-17T06:49:04.680985Z",
          "iopub.status.idle": "2021-04-17T06:49:04.685851Z",
          "shell.execute_reply": "2021-04-17T06:49:04.686665Z"
        },
        "papermill": {
          "duration": 0.235155,
          "end_time": "2021-04-17T06:49:04.686828",
          "exception": false,
          "start_time": "2021-04-17T06:49:04.451673",
          "status": "completed"
        },
        "tags": [],
        "id": "lL2lPHdONxqO",
        "outputId": "63861096-6816-4f40-ebbd-c4cbc76fcabb"
      },
      "outputs": [
        {
          "name": "stdout",
          "output_type": "stream",
          "text": [
            "Dependency Parse Tree using NLTK: \n",
            "\n",
            "#OVOFest Drake straight body bagging Meek on that OVO stage. => \n",
            "\n",
            "(S\n",
            "  OVOFest/NNP\n",
            "  Drake/NNP\n",
            "  straight/VBD\n",
            "  (NP body/NN)\n",
            "  bagging/VBG\n",
            "  Meek/NNP\n",
            "  on/IN\n",
            "  that/DT\n",
            "  OVO/NNP\n",
            "  (NP stage/NN))\n"
          ]
        }
      ],
      "source": [
        "grammar = \"NP: {<DT>?<JJ>*<NN>}\"\n",
        "\n",
        "parser = nltk.RegexpParser(grammar)\n",
        "parse_tree = parser.parse(tagged_tokens1)\n",
        "\n",
        "print(f'Dependency Parse Tree using NLTK: \\n\\n{sents1[0]} => \\n\\n{parse_tree}')"
      ]
    },
    {
      "cell_type": "code",
      "execution_count": null,
      "metadata": {
        "execution": {
          "iopub.execute_input": "2021-04-17T06:49:05.157306Z",
          "iopub.status.busy": "2021-04-17T06:49:05.156513Z",
          "iopub.status.idle": "2021-04-17T06:49:05.179722Z",
          "shell.execute_reply": "2021-04-17T06:49:05.181063Z"
        },
        "papermill": {
          "duration": 0.267114,
          "end_time": "2021-04-17T06:49:05.181231",
          "exception": false,
          "start_time": "2021-04-17T06:49:04.914117",
          "status": "completed"
        },
        "tags": [],
        "id": "5megtjGmNxqP",
        "outputId": "1ad6744c-6651-4461-90e8-8f0a39790685"
      },
      "outputs": [
        {
          "name": "stdout",
          "output_type": "stream",
          "text": [
            "Dependency Parse Tree using SpaCy\n"
          ]
        },
        {
          "data": {
            "text/html": [
              "<span class=\"tex2jax_ignore\"><svg xmlns=\"http://www.w3.org/2000/svg\" xmlns:xlink=\"http://www.w3.org/1999/xlink\" xml:lang=\"en\" id=\"8dd662f6742949b7bfe03a031a963f22-0\" class=\"displacy\" width=\"1250\" height=\"337.0\" direction=\"ltr\" style=\"max-width: none; height: 337.0px; color: #000000; background: #ffffff; font-family: Arial; direction: ltr\">\n",
              "<text class=\"displacy-token\" fill=\"currentColor\" text-anchor=\"middle\" y=\"247.0\">\n",
              "    <tspan class=\"displacy-word\" fill=\"currentColor\" x=\"50\">#</tspan>\n",
              "    <tspan class=\"displacy-tag\" dy=\"2em\" fill=\"currentColor\" x=\"50\">PUNCT</tspan>\n",
              "</text>\n",
              "\n",
              "<text class=\"displacy-token\" fill=\"currentColor\" text-anchor=\"middle\" y=\"247.0\">\n",
              "    <tspan class=\"displacy-word\" fill=\"currentColor\" x=\"150\">OVOFest</tspan>\n",
              "    <tspan class=\"displacy-tag\" dy=\"2em\" fill=\"currentColor\" x=\"150\">ADJ</tspan>\n",
              "</text>\n",
              "\n",
              "<text class=\"displacy-token\" fill=\"currentColor\" text-anchor=\"middle\" y=\"247.0\">\n",
              "    <tspan class=\"displacy-word\" fill=\"currentColor\" x=\"250\">Drake</tspan>\n",
              "    <tspan class=\"displacy-tag\" dy=\"2em\" fill=\"currentColor\" x=\"250\">PROPN</tspan>\n",
              "</text>\n",
              "\n",
              "<text class=\"displacy-token\" fill=\"currentColor\" text-anchor=\"middle\" y=\"247.0\">\n",
              "    <tspan class=\"displacy-word\" fill=\"currentColor\" x=\"350\">straight</tspan>\n",
              "    <tspan class=\"displacy-tag\" dy=\"2em\" fill=\"currentColor\" x=\"350\">ADJ</tspan>\n",
              "</text>\n",
              "\n",
              "<text class=\"displacy-token\" fill=\"currentColor\" text-anchor=\"middle\" y=\"247.0\">\n",
              "    <tspan class=\"displacy-word\" fill=\"currentColor\" x=\"450\">body</tspan>\n",
              "    <tspan class=\"displacy-tag\" dy=\"2em\" fill=\"currentColor\" x=\"450\">NOUN</tspan>\n",
              "</text>\n",
              "\n",
              "<text class=\"displacy-token\" fill=\"currentColor\" text-anchor=\"middle\" y=\"247.0\">\n",
              "    <tspan class=\"displacy-word\" fill=\"currentColor\" x=\"550\">bagging</tspan>\n",
              "    <tspan class=\"displacy-tag\" dy=\"2em\" fill=\"currentColor\" x=\"550\">VERB</tspan>\n",
              "</text>\n",
              "\n",
              "<text class=\"displacy-token\" fill=\"currentColor\" text-anchor=\"middle\" y=\"247.0\">\n",
              "    <tspan class=\"displacy-word\" fill=\"currentColor\" x=\"650\">Meek</tspan>\n",
              "    <tspan class=\"displacy-tag\" dy=\"2em\" fill=\"currentColor\" x=\"650\">PROPN</tspan>\n",
              "</text>\n",
              "\n",
              "<text class=\"displacy-token\" fill=\"currentColor\" text-anchor=\"middle\" y=\"247.0\">\n",
              "    <tspan class=\"displacy-word\" fill=\"currentColor\" x=\"750\">on</tspan>\n",
              "    <tspan class=\"displacy-tag\" dy=\"2em\" fill=\"currentColor\" x=\"750\">ADP</tspan>\n",
              "</text>\n",
              "\n",
              "<text class=\"displacy-token\" fill=\"currentColor\" text-anchor=\"middle\" y=\"247.0\">\n",
              "    <tspan class=\"displacy-word\" fill=\"currentColor\" x=\"850\">that</tspan>\n",
              "    <tspan class=\"displacy-tag\" dy=\"2em\" fill=\"currentColor\" x=\"850\">DET</tspan>\n",
              "</text>\n",
              "\n",
              "<text class=\"displacy-token\" fill=\"currentColor\" text-anchor=\"middle\" y=\"247.0\">\n",
              "    <tspan class=\"displacy-word\" fill=\"currentColor\" x=\"950\">OVO</tspan>\n",
              "    <tspan class=\"displacy-tag\" dy=\"2em\" fill=\"currentColor\" x=\"950\">PROPN</tspan>\n",
              "</text>\n",
              "\n",
              "<text class=\"displacy-token\" fill=\"currentColor\" text-anchor=\"middle\" y=\"247.0\">\n",
              "    <tspan class=\"displacy-word\" fill=\"currentColor\" x=\"1050\">stage. #</tspan>\n",
              "    <tspan class=\"displacy-tag\" dy=\"2em\" fill=\"currentColor\" x=\"1050\">NOUN</tspan>\n",
              "</text>\n",
              "\n",
              "<text class=\"displacy-token\" fill=\"currentColor\" text-anchor=\"middle\" y=\"247.0\">\n",
              "    <tspan class=\"displacy-word\" fill=\"currentColor\" x=\"1150\">ZIPHIMUP!</tspan>\n",
              "    <tspan class=\"displacy-tag\" dy=\"2em\" fill=\"currentColor\" x=\"1150\">NOUN</tspan>\n",
              "</text>\n",
              "\n",
              "<g class=\"displacy-arrow\">\n",
              "    <path class=\"displacy-arc\" id=\"arrow-8dd662f6742949b7bfe03a031a963f22-0-0\" stroke-width=\"2px\" d=\"M70,202.0 C70,2.0 550.0,2.0 550.0,202.0\" fill=\"none\" stroke=\"currentColor\"/>\n",
              "    <text dy=\"1.25em\" style=\"font-size: 0.8em; letter-spacing: 1px\">\n",
              "        <textPath xlink:href=\"#arrow-8dd662f6742949b7bfe03a031a963f22-0-0\" class=\"displacy-label\" startOffset=\"50%\" side=\"left\" fill=\"currentColor\" text-anchor=\"middle\">dep</textPath>\n",
              "    </text>\n",
              "    <path class=\"displacy-arrowhead\" d=\"M70,204.0 L62,192.0 78,192.0\" fill=\"currentColor\"/>\n",
              "</g>\n",
              "\n",
              "<g class=\"displacy-arrow\">\n",
              "    <path class=\"displacy-arc\" id=\"arrow-8dd662f6742949b7bfe03a031a963f22-0-1\" stroke-width=\"2px\" d=\"M70,202.0 C70,152.0 135.0,152.0 135.0,202.0\" fill=\"none\" stroke=\"currentColor\"/>\n",
              "    <text dy=\"1.25em\" style=\"font-size: 0.8em; letter-spacing: 1px\">\n",
              "        <textPath xlink:href=\"#arrow-8dd662f6742949b7bfe03a031a963f22-0-1\" class=\"displacy-label\" startOffset=\"50%\" side=\"left\" fill=\"currentColor\" text-anchor=\"middle\">prep</textPath>\n",
              "    </text>\n",
              "    <path class=\"displacy-arrowhead\" d=\"M135.0,204.0 L143.0,192.0 127.0,192.0\" fill=\"currentColor\"/>\n",
              "</g>\n",
              "\n",
              "<g class=\"displacy-arrow\">\n",
              "    <path class=\"displacy-arc\" id=\"arrow-8dd662f6742949b7bfe03a031a963f22-0-2\" stroke-width=\"2px\" d=\"M170,202.0 C170,152.0 235.0,152.0 235.0,202.0\" fill=\"none\" stroke=\"currentColor\"/>\n",
              "    <text dy=\"1.25em\" style=\"font-size: 0.8em; letter-spacing: 1px\">\n",
              "        <textPath xlink:href=\"#arrow-8dd662f6742949b7bfe03a031a963f22-0-2\" class=\"displacy-label\" startOffset=\"50%\" side=\"left\" fill=\"currentColor\" text-anchor=\"middle\">pobj</textPath>\n",
              "    </text>\n",
              "    <path class=\"displacy-arrowhead\" d=\"M235.0,204.0 L243.0,192.0 227.0,192.0\" fill=\"currentColor\"/>\n",
              "</g>\n",
              "\n",
              "<g class=\"displacy-arrow\">\n",
              "    <path class=\"displacy-arc\" id=\"arrow-8dd662f6742949b7bfe03a031a963f22-0-3\" stroke-width=\"2px\" d=\"M370,202.0 C370,152.0 435.0,152.0 435.0,202.0\" fill=\"none\" stroke=\"currentColor\"/>\n",
              "    <text dy=\"1.25em\" style=\"font-size: 0.8em; letter-spacing: 1px\">\n",
              "        <textPath xlink:href=\"#arrow-8dd662f6742949b7bfe03a031a963f22-0-3\" class=\"displacy-label\" startOffset=\"50%\" side=\"left\" fill=\"currentColor\" text-anchor=\"middle\">amod</textPath>\n",
              "    </text>\n",
              "    <path class=\"displacy-arrowhead\" d=\"M370,204.0 L362,192.0 378,192.0\" fill=\"currentColor\"/>\n",
              "</g>\n",
              "\n",
              "<g class=\"displacy-arrow\">\n",
              "    <path class=\"displacy-arc\" id=\"arrow-8dd662f6742949b7bfe03a031a963f22-0-4\" stroke-width=\"2px\" d=\"M470,202.0 C470,152.0 535.0,152.0 535.0,202.0\" fill=\"none\" stroke=\"currentColor\"/>\n",
              "    <text dy=\"1.25em\" style=\"font-size: 0.8em; letter-spacing: 1px\">\n",
              "        <textPath xlink:href=\"#arrow-8dd662f6742949b7bfe03a031a963f22-0-4\" class=\"displacy-label\" startOffset=\"50%\" side=\"left\" fill=\"currentColor\" text-anchor=\"middle\">npadvmod</textPath>\n",
              "    </text>\n",
              "    <path class=\"displacy-arrowhead\" d=\"M470,204.0 L462,192.0 478,192.0\" fill=\"currentColor\"/>\n",
              "</g>\n",
              "\n",
              "<g class=\"displacy-arrow\">\n",
              "    <path class=\"displacy-arc\" id=\"arrow-8dd662f6742949b7bfe03a031a963f22-0-5\" stroke-width=\"2px\" d=\"M570,202.0 C570,152.0 635.0,152.0 635.0,202.0\" fill=\"none\" stroke=\"currentColor\"/>\n",
              "    <text dy=\"1.25em\" style=\"font-size: 0.8em; letter-spacing: 1px\">\n",
              "        <textPath xlink:href=\"#arrow-8dd662f6742949b7bfe03a031a963f22-0-5\" class=\"displacy-label\" startOffset=\"50%\" side=\"left\" fill=\"currentColor\" text-anchor=\"middle\">dobj</textPath>\n",
              "    </text>\n",
              "    <path class=\"displacy-arrowhead\" d=\"M635.0,204.0 L643.0,192.0 627.0,192.0\" fill=\"currentColor\"/>\n",
              "</g>\n",
              "\n",
              "<g class=\"displacy-arrow\">\n",
              "    <path class=\"displacy-arc\" id=\"arrow-8dd662f6742949b7bfe03a031a963f22-0-6\" stroke-width=\"2px\" d=\"M570,202.0 C570,102.0 740.0,102.0 740.0,202.0\" fill=\"none\" stroke=\"currentColor\"/>\n",
              "    <text dy=\"1.25em\" style=\"font-size: 0.8em; letter-spacing: 1px\">\n",
              "        <textPath xlink:href=\"#arrow-8dd662f6742949b7bfe03a031a963f22-0-6\" class=\"displacy-label\" startOffset=\"50%\" side=\"left\" fill=\"currentColor\" text-anchor=\"middle\">prep</textPath>\n",
              "    </text>\n",
              "    <path class=\"displacy-arrowhead\" d=\"M740.0,204.0 L748.0,192.0 732.0,192.0\" fill=\"currentColor\"/>\n",
              "</g>\n",
              "\n",
              "<g class=\"displacy-arrow\">\n",
              "    <path class=\"displacy-arc\" id=\"arrow-8dd662f6742949b7bfe03a031a963f22-0-7\" stroke-width=\"2px\" d=\"M870,202.0 C870,102.0 1040.0,102.0 1040.0,202.0\" fill=\"none\" stroke=\"currentColor\"/>\n",
              "    <text dy=\"1.25em\" style=\"font-size: 0.8em; letter-spacing: 1px\">\n",
              "        <textPath xlink:href=\"#arrow-8dd662f6742949b7bfe03a031a963f22-0-7\" class=\"displacy-label\" startOffset=\"50%\" side=\"left\" fill=\"currentColor\" text-anchor=\"middle\">det</textPath>\n",
              "    </text>\n",
              "    <path class=\"displacy-arrowhead\" d=\"M870,204.0 L862,192.0 878,192.0\" fill=\"currentColor\"/>\n",
              "</g>\n",
              "\n",
              "<g class=\"displacy-arrow\">\n",
              "    <path class=\"displacy-arc\" id=\"arrow-8dd662f6742949b7bfe03a031a963f22-0-8\" stroke-width=\"2px\" d=\"M970,202.0 C970,152.0 1035.0,152.0 1035.0,202.0\" fill=\"none\" stroke=\"currentColor\"/>\n",
              "    <text dy=\"1.25em\" style=\"font-size: 0.8em; letter-spacing: 1px\">\n",
              "        <textPath xlink:href=\"#arrow-8dd662f6742949b7bfe03a031a963f22-0-8\" class=\"displacy-label\" startOffset=\"50%\" side=\"left\" fill=\"currentColor\" text-anchor=\"middle\">compound</textPath>\n",
              "    </text>\n",
              "    <path class=\"displacy-arrowhead\" d=\"M970,204.0 L962,192.0 978,192.0\" fill=\"currentColor\"/>\n",
              "</g>\n",
              "\n",
              "<g class=\"displacy-arrow\">\n",
              "    <path class=\"displacy-arc\" id=\"arrow-8dd662f6742949b7bfe03a031a963f22-0-9\" stroke-width=\"2px\" d=\"M770,202.0 C770,52.0 1045.0,52.0 1045.0,202.0\" fill=\"none\" stroke=\"currentColor\"/>\n",
              "    <text dy=\"1.25em\" style=\"font-size: 0.8em; letter-spacing: 1px\">\n",
              "        <textPath xlink:href=\"#arrow-8dd662f6742949b7bfe03a031a963f22-0-9\" class=\"displacy-label\" startOffset=\"50%\" side=\"left\" fill=\"currentColor\" text-anchor=\"middle\">pobj</textPath>\n",
              "    </text>\n",
              "    <path class=\"displacy-arrowhead\" d=\"M1045.0,204.0 L1053.0,192.0 1037.0,192.0\" fill=\"currentColor\"/>\n",
              "</g>\n",
              "</svg></span>"
            ],
            "text/plain": [
              "<IPython.core.display.HTML object>"
            ]
          },
          "metadata": {},
          "output_type": "display_data"
        }
      ],
      "source": [
        "print('Dependency Parse Tree using SpaCy')\n",
        "\n",
        "displacy.render(sp(text[1000]), style = \"dep\", jupyter = True, options = {\"distance\" : 100})"
      ]
    },
    {
      "cell_type": "markdown",
      "metadata": {
        "papermill": {
          "duration": 0.185972,
          "end_time": "2021-04-17T06:49:05.534845",
          "exception": false,
          "start_time": "2021-04-17T06:49:05.348873",
          "status": "completed"
        },
        "tags": [],
        "id": "jndATIfeNxqP"
      },
      "source": [
        "## **Named Entity Recognition**\n",
        "\n",
        "NER - Named Entity Recognition is the process of extracting proper nouns or proper noun phrases. For example, in the sentence 'Robert is interested in Amazon', the entities 'Robert' (Name) and 'Amazon' (Organization) are selected."
      ]
    },
    {
      "cell_type": "code",
      "execution_count": null,
      "metadata": {
        "execution": {
          "iopub.execute_input": "2021-04-17T06:49:05.837585Z",
          "iopub.status.busy": "2021-04-17T06:49:05.836959Z",
          "iopub.status.idle": "2021-04-17T06:49:05.946304Z",
          "shell.execute_reply": "2021-04-17T06:49:05.946778Z"
        },
        "papermill": {
          "duration": 0.237536,
          "end_time": "2021-04-17T06:49:05.946918",
          "exception": false,
          "start_time": "2021-04-17T06:49:05.709382",
          "status": "completed"
        },
        "tags": [],
        "id": "kmvadwHRNxqQ",
        "outputId": "b7cebd78-177f-4deb-ae0a-6cdac4ad3025"
      },
      "outputs": [
        {
          "name": "stdout",
          "output_type": "stream",
          "text": [
            "Named Entity Recognition using NLTK: \n",
            "\n",
            "#OVOFest Drake straight body bagging Meek on that OVO stage. =>\n",
            "\n",
            "  (ORGANIZATION OVOFest/NNP)\n",
            "  (PERSON Drake/NNP)\n",
            "  body/NN\n",
            "  (PERSON Meek/NNP)\n",
            "  OVO/NNP\n",
            "  stage/NN)\n"
          ]
        }
      ],
      "source": [
        "ner_chunk = nltk.ne_chunk(tagged_tokens1)\n",
        "\n",
        "print(f'Named Entity Recognition using NLTK: \\n\\n{sents1[0]} =>\\n')\n",
        "\n",
        "for x in str(ner_chunk).split('\\n'):\n",
        "    if '/NN' in x:\n",
        "        print(x)"
      ]
    },
    {
      "cell_type": "code",
      "execution_count": null,
      "metadata": {
        "execution": {
          "iopub.execute_input": "2021-04-17T06:49:06.202983Z",
          "iopub.status.busy": "2021-04-17T06:49:06.202080Z",
          "iopub.status.idle": "2021-04-17T06:49:06.214165Z",
          "shell.execute_reply": "2021-04-17T06:49:06.214561Z"
        },
        "papermill": {
          "duration": 0.143121,
          "end_time": "2021-04-17T06:49:06.214685",
          "exception": false,
          "start_time": "2021-04-17T06:49:06.071564",
          "status": "completed"
        },
        "tags": [],
        "id": "lc5b2IpLNxqQ",
        "outputId": "84de78d5-de53-4f89-df59-073a41b5e487"
      },
      "outputs": [
        {
          "name": "stdout",
          "output_type": "stream",
          "text": [
            "Named Entity Recognition using SpaCy: \n",
            "\n",
            "Forest fire near La Ronge Sask. Canada =>\n",
            "\n",
            "La Ronge Sask - FAC\n",
            "Canada - GPE\n"
          ]
        }
      ],
      "source": [
        "ner_sent = sp(text[1])\n",
        "\n",
        "print(f'Named Entity Recognition using SpaCy: \\n\\n{ner_sent} =>\\n')\n",
        "\n",
        "for ent in ner_sent.ents:\n",
        "    print(ent.text, '-', ent.label_)"
      ]
    },
    {
      "cell_type": "code",
      "execution_count": null,
      "metadata": {
        "execution": {
          "iopub.execute_input": "2021-04-17T06:49:06.476306Z",
          "iopub.status.busy": "2021-04-17T06:49:06.475364Z",
          "iopub.status.idle": "2021-04-17T06:49:06.479901Z",
          "shell.execute_reply": "2021-04-17T06:49:06.480318Z"
        },
        "papermill": {
          "duration": 0.136554,
          "end_time": "2021-04-17T06:49:06.480425",
          "exception": false,
          "start_time": "2021-04-17T06:49:06.343871",
          "status": "completed"
        },
        "tags": [],
        "id": "7I8Du3YXNxqQ",
        "outputId": "61f95c11-f540-4762-9812-5b0ac81793b6"
      },
      "outputs": [
        {
          "name": "stdout",
          "output_type": "stream",
          "text": [
            "Named Entity Recognition Visualization using SpaCy\n"
          ]
        },
        {
          "data": {
            "text/html": [
              "<span class=\"tex2jax_ignore\"><div class=\"entities\" style=\"line-height: 2.5; direction: ltr\">Forest fire near \n",
              "<mark class=\"entity\" style=\"background: #ddd; padding: 0.45em 0.6em; margin: 0 0.25em; line-height: 1; border-radius: 0.35em;\">\n",
              "    La Ronge Sask\n",
              "    <span style=\"font-size: 0.8em; font-weight: bold; line-height: 1; border-radius: 0.35em; vertical-align: middle; margin-left: 0.5rem\">FAC</span>\n",
              "</mark>\n",
              ". \n",
              "<mark class=\"entity\" style=\"background: #feca74; padding: 0.45em 0.6em; margin: 0 0.25em; line-height: 1; border-radius: 0.35em;\">\n",
              "    Canada\n",
              "    <span style=\"font-size: 0.8em; font-weight: bold; line-height: 1; border-radius: 0.35em; vertical-align: middle; margin-left: 0.5rem\">GPE</span>\n",
              "</mark>\n",
              "</div></span>"
            ],
            "text/plain": [
              "<IPython.core.display.HTML object>"
            ]
          },
          "metadata": {},
          "output_type": "display_data"
        }
      ],
      "source": [
        "print('Named Entity Recognition Visualization using SpaCy')\n",
        "displacy.render(ner_sent, style = 'ent', jupyter = True)"
      ]
    },
    {
      "cell_type": "markdown",
      "metadata": {
        "papermill": {
          "duration": 0.125583,
          "end_time": "2021-04-17T06:49:06.730984",
          "exception": false,
          "start_time": "2021-04-17T06:49:06.605401",
          "status": "completed"
        },
        "tags": [],
        "id": "J8xZytwdNxqR"
      },
      "source": [
        "## **Word Embedding**\n",
        "\n",
        "Word embedding is the process of converting text into numerical data. Since computers work on only numbers and cannot accurately compute data in the form of strings, words are embedded into a unique integer or numerical code. For example, the word “Severe” is fixed as a number “3214”."
      ]
    },
    {
      "cell_type": "code",
      "execution_count": null,
      "metadata": {
        "execution": {
          "iopub.execute_input": "2021-04-17T06:49:06.996060Z",
          "iopub.status.busy": "2021-04-17T06:49:06.995288Z",
          "iopub.status.idle": "2021-04-17T06:49:30.664932Z",
          "shell.execute_reply": "2021-04-17T06:49:30.665351Z"
        },
        "papermill": {
          "duration": 23.808992,
          "end_time": "2021-04-17T06:49:30.665493",
          "exception": false,
          "start_time": "2021-04-17T06:49:06.856501",
          "status": "completed"
        },
        "tags": [],
        "id": "1jFl2EkfNxqR",
        "outputId": "24141487-4aad-4494-d17c-815870825268"
      },
      "outputs": [
        {
          "name": "stdout",
          "output_type": "stream",
          "text": [
            "Word Embeddibng using Word2Vec: \n",
            "\n",
            "Most Similar Words => [('point', 0.9282128810882568), ('morning', 0.8917059302330017), ('afternoon', 0.8750621676445007), ('position', 0.873294472694397), ('season', 0.8730470538139343), ('case', 0.8714810013771057), ('situation', 0.8627615571022034), ('view', 0.8593533635139465), ('condition', 0.8582146167755127), ('particular', 0.8525471687316895)] \n",
            "\n",
            "Word Vector => [-0.16182293  0.7968957  -0.34347868 -0.37316564  0.10660814  0.15159088\n",
            " -0.40781564 -0.51679546 -0.44410038  0.4000168   0.08804912 -0.12547787\n",
            " -0.08969911  0.01946839 -0.07557093  0.3367533  -0.13130945  0.45799625\n",
            "  0.33074886  0.16764027 -0.44088793  0.26248616 -0.35186976  0.2774979\n",
            "  0.20608439  0.00353844 -0.29710415  0.0435726  -0.38641584 -0.03628451\n",
            "  0.07014701  0.21341462  0.0609618   0.16152045  0.40566432  0.17988905\n",
            " -0.37626183 -0.00881807  0.24793386  0.01411415 -0.29568997 -0.07422342\n",
            "  0.348256   -0.04037049  0.04593214 -0.15816034  0.36495936  0.34067744\n",
            "  0.49680448 -0.36443302  0.24852696 -0.09284445  0.660513    0.69937134\n",
            "  0.42275068  0.48239347  0.5356989  -0.44277638  0.24413598  0.02218113\n",
            " -0.18246873  0.02170411 -0.1125342   0.00229754 -0.12048282 -0.23677659\n",
            " -0.37289965 -0.22677092  0.5188759  -0.0953284  -0.09149567  0.49633077\n",
            "  0.11158253 -0.5098916  -0.00158964 -0.41590998  0.15833712 -0.26504225\n",
            " -0.27546537 -0.4204186  -0.04475289 -0.30379316  0.3129137  -0.06537509\n",
            "  0.35391232  0.17174403 -0.25171188  0.21781445  0.3444277  -0.7920212\n",
            "  0.20044951 -0.05827505  0.26561815 -0.5231523   0.22828498 -0.7665841\n",
            " -0.10057352 -0.348235    0.02052212  0.08316091]\n"
          ]
        }
      ],
      "source": [
        "warnings.filterwarnings('ignore')\n",
        "\n",
        "word2vec = gensim.models.Word2Vec(abc.sents())\n",
        "embedding1 = word2vec.most_similar(tokens1[-1])\n",
        "vector1 = word2vec[tokens1[-1]]\n",
        "\n",
        "print(f'Word Embeddibng using Word2Vec: \\n\\nMost Similar Words => {embedding1} \\n\\nWord Vector => {vector1}')"
      ]
    },
    {
      "cell_type": "markdown",
      "metadata": {
        "papermill": {
          "duration": 0.125935,
          "end_time": "2021-04-17T06:49:30.918313",
          "exception": false,
          "start_time": "2021-04-17T06:49:30.792378",
          "status": "completed"
        },
        "tags": [],
        "id": "zJctGCmSNxqR"
      },
      "source": [
        "<div class=\"alert alert-info\" style = 'color:black'>\n",
        "  🤩 Visualizing Word Embedding with Word2Vec using PCA! </div>"
      ]
    },
    {
      "cell_type": "code",
      "execution_count": null,
      "metadata": {
        "execution": {
          "iopub.execute_input": "2021-04-17T06:49:31.203759Z",
          "iopub.status.busy": "2021-04-17T06:49:31.202915Z",
          "iopub.status.idle": "2021-04-17T06:49:31.456991Z",
          "shell.execute_reply": "2021-04-17T06:49:31.457445Z"
        },
        "papermill": {
          "duration": 0.412906,
          "end_time": "2021-04-17T06:49:31.457590",
          "exception": false,
          "start_time": "2021-04-17T06:49:31.044684",
          "status": "completed"
        },
        "tags": [],
        "id": "MB4VOvlRNxqS",
        "outputId": "7d5c030b-b920-49d7-ca08-2342e4279462"
      },
      "outputs": [
        {
          "data": {
            "image/png": "[encoded data removed]",
            "text/plain": [
              "<Figure size 1080x1440 with 1 Axes>"
            ]
          },
          "metadata": {
            "needs_background": "light"
          },
          "output_type": "display_data"
        }
      ],
      "source": [
        "pca = PCA(n_components = 2)\n",
        "\n",
        "X = word2vec[word2vec.wv.vocab]\n",
        "X = X[ : 10, : ]\n",
        "\n",
        "result = pca.fit_transform(X)\n",
        "words = list(word2vec.wv.vocab)\n",
        "words = words[ : 10]\n",
        "\n",
        "plt.figure(figsize = (15, 20))\n",
        "plt.title('Word Embedding using PCA')\n",
        "plt.scatter(result[ : , 0], result[ : , 1])\n",
        "for i, word in enumerate(words):\n",
        "    plt.annotate(word, xy = (result[i, 0], result[i, 1]))\n",
        "plt.show()"
      ]
    },
    {
      "cell_type": "markdown",
      "metadata": {
        "papermill": {
          "duration": 0.124953,
          "end_time": "2021-04-17T06:49:31.713256",
          "exception": false,
          "start_time": "2021-04-17T06:49:31.588303",
          "status": "completed"
        },
        "tags": [],
        "id": "LRw24gOzNxqS"
      },
      "source": [
        "<div class = \"alert alert-info\" style = 'color:black'> 🔦 For Word Embedding using GloVe, the embedding representation 'glove.6B.100d.txt' is used! </div>"
      ]
    },
    {
      "cell_type": "code",
      "execution_count": null,
      "metadata": {
        "execution": {
          "iopub.execute_input": "2021-04-17T06:49:31.971605Z",
          "iopub.status.busy": "2021-04-17T06:49:31.971019Z",
          "iopub.status.idle": "2021-04-17T06:50:44.088366Z",
          "shell.execute_reply": "2021-04-17T06:50:44.089138Z"
        },
        "papermill": {
          "duration": 72.250829,
          "end_time": "2021-04-17T06:50:44.089340",
          "exception": false,
          "start_time": "2021-04-17T06:49:31.838511",
          "status": "completed"
        },
        "tags": [],
        "id": "e9uqOd1TNxqT",
        "outputId": "63fdd59c-50ac-414e-c278-786e6481c25a"
      },
      "outputs": [
        {
          "name": "stdout",
          "output_type": "stream",
          "text": [
            "Word Embedding using GloVe: \n",
            "[('queen', 0.7698541283607483)]\n"
          ]
        }
      ],
      "source": [
        "input_file = '../input/glove6b/glove.6B.100d.txt'\n",
        "output_file = '../glove.6B.100d.txt.word2vec'\n",
        "\n",
        "glove2word2vec(input_file, output_file)\n",
        "\n",
        "model = KeyedVectors.load_word2vec_format(output_file, binary = False)\n",
        "result = model.most_similar(positive = ['king', 'woman'], negative = ['man'], topn = 1)\n",
        "\n",
        "print(f'Word Embedding using GloVe: \\n{result}')"
      ]
    },
    {
      "cell_type": "markdown",
      "metadata": {
        "papermill": {
          "duration": 0.166871,
          "end_time": "2021-04-17T06:50:44.459581",
          "exception": false,
          "start_time": "2021-04-17T06:50:44.292710",
          "status": "completed"
        },
        "tags": [],
        "id": "Hp4ZdGZuNxqT"
      },
      "source": [
        "## **Sentiment Analysis**\n",
        "\n",
        "Sentimental analysis plays a significant role in determining the polarity of a review or a comment. It is used to know whether the person is talking about something in a positive way or a negative way. It can be classified broadly into positive, negative, and neutral. For example, on a tourism website, a person leaves a remark stating, “There are beautiful tourist spots in Switzerland. “The word ‘beautiful’ is positive as it describes Switzerland as pretty.\n"
      ]
    },
    {
      "cell_type": "code",
      "execution_count": null,
      "metadata": {
        "execution": {
          "iopub.execute_input": "2021-04-17T06:50:44.813581Z",
          "iopub.status.busy": "2021-04-17T06:50:44.812926Z",
          "iopub.status.idle": "2021-04-17T06:50:44.831238Z",
          "shell.execute_reply": "2021-04-17T06:50:44.831699Z"
        },
        "papermill": {
          "duration": 0.150204,
          "end_time": "2021-04-17T06:50:44.831820",
          "exception": false,
          "start_time": "2021-04-17T06:50:44.681616",
          "status": "completed"
        },
        "tags": [],
        "id": "2Yy4T4pWNxqT",
        "outputId": "75de88b7-3261-4191-fece-0497825114db"
      },
      "outputs": [
        {
          "name": "stdout",
          "output_type": "stream",
          "text": [
            "Sentiment Analysis using NLTK: \n",
            "Three people died from the heat wave so far => {'neg': 0.31, 'neu': 0.69, 'pos': 0.0, 'compound': -0.5574}\n"
          ]
        }
      ],
      "source": [
        "sia = SentimentIntensityAnalyzer()\n",
        "polarity_scores1 = sia.polarity_scores(text[10])\n",
        "\n",
        "print(f\"Sentiment Analysis using NLTK: \\n{text[10]} => {polarity_scores1}\")"
      ]
    },
    {
      "cell_type": "code",
      "execution_count": null,
      "metadata": {
        "execution": {
          "iopub.execute_input": "2021-04-17T06:50:45.102707Z",
          "iopub.status.busy": "2021-04-17T06:50:45.094907Z",
          "iopub.status.idle": "2021-04-17T06:50:45.266566Z",
          "shell.execute_reply": "2021-04-17T06:50:45.267009Z"
        },
        "papermill": {
          "duration": 0.306805,
          "end_time": "2021-04-17T06:50:45.267130",
          "exception": false,
          "start_time": "2021-04-17T06:50:44.960325",
          "status": "completed"
        },
        "tags": [],
        "id": "w0R9dpcbNxqU",
        "outputId": "1a2b0545-87f0-4122-91f9-7c1d40f21a37"
      },
      "outputs": [
        {
          "data": {
            "image/png": "[encoded data removed]",
            "text/plain": [
              "<Figure size 720x216 with 2 Axes>"
            ]
          },
          "metadata": {
            "needs_background": "light"
          },
          "output_type": "display_data"
        }
      ],
      "source": [
        "x = np.array([[sia.polarity_scores(word)['compound'] for word in word_tokenize(text[10])]])\n",
        "annot = np.array([word_tokenize(text[10])])\n",
        "\n",
        "plt.figure(figsize = (10, 3))\n",
        "sns.heatmap(x, annot = annot, fmt = '')\n",
        "plt.title('Heatmap for Sentiment Analysis')\n",
        "plt.show()"
      ]
    },
    {
      "cell_type": "markdown",
      "metadata": {
        "papermill": {
          "duration": 0.129496,
          "end_time": "2021-04-17T06:50:45.525616",
          "exception": false,
          "start_time": "2021-04-17T06:50:45.396120",
          "status": "completed"
        },
        "tags": [],
        "id": "FCPkaKOxNxqU"
      },
      "source": [
        "## **Subjectivity Detection**\n",
        "\n",
        "Subjectivity Detection relies upon the answer to the question \"Is it based on facts or opinions?\". For example, the sentence 'I love cats' is subjective and the sentence 'Cats have tails' is objective.\n"
      ]
    },
    {
      "cell_type": "code",
      "execution_count": null,
      "metadata": {
        "execution": {
          "iopub.execute_input": "2021-04-17T06:50:45.790362Z",
          "iopub.status.busy": "2021-04-17T06:50:45.789457Z",
          "iopub.status.idle": "2021-04-17T06:50:45.851222Z",
          "shell.execute_reply": "2021-04-17T06:50:45.851810Z"
        },
        "papermill": {
          "duration": 0.197328,
          "end_time": "2021-04-17T06:50:45.851972",
          "exception": false,
          "start_time": "2021-04-17T06:50:45.654644",
          "status": "completed"
        },
        "tags": [],
        "id": "R0Tt70TKNxqU",
        "outputId": "81850cd7-a8db-477f-961f-7d83e84def9d"
      },
      "outputs": [
        {
          "name": "stdout",
          "output_type": "stream",
          "text": [
            "SpaCy using TextBlob: \n",
            "\n",
            "this is ridiculous.... =>\n",
            "\n",
            "Sentiment Analysis: -0.3333333333333333\n",
            "Sentiment Subjectivity: 1.0\n",
            "Sentiment Assessment: [(['ridiculous'], -0.3333333333333333, 1.0, None)]\n"
          ]
        }
      ],
      "source": [
        "sp.add_pipe('spacytextblob')\n",
        "senti_sent = sp(text[20])\n",
        "\n",
        "print(f\"SpaCy using TextBlob: \\n\\n{text[20]} =>\\n\")\n",
        "print(f\"Sentiment Analysis: {senti_sent._.polarity}\")\n",
        "print(f\"Sentiment Subjectivity: {senti_sent._.subjectivity}\")\n",
        "print(f\"Sentiment Assessment: {senti_sent._.assessments}\")\n"
      ]
    },
    {
      "cell_type": "code",
      "execution_count": null,
      "metadata": {
        "execution": {
          "iopub.execute_input": "2021-04-17T06:50:46.128484Z",
          "iopub.status.busy": "2021-04-17T06:50:46.127592Z",
          "iopub.status.idle": "2021-04-17T06:50:46.285917Z",
          "shell.execute_reply": "2021-04-17T06:50:46.286560Z"
        },
        "papermill": {
          "duration": 0.300387,
          "end_time": "2021-04-17T06:50:46.286703",
          "exception": false,
          "start_time": "2021-04-17T06:50:45.986316",
          "status": "completed"
        },
        "tags": [],
        "id": "ej4KAsUONxqV",
        "outputId": "bfa81855-756a-4031-deea-8063eea23f06"
      },
      "outputs": [
        {
          "data": {
            "image/png": "[encoded data removed]",
            "text/plain": [
              "<Figure size 432x216 with 2 Axes>"
            ]
          },
          "metadata": {
            "needs_background": "light"
          },
          "output_type": "display_data"
        }
      ],
      "source": [
        "sub = sp(text[20])\n",
        "x = np.array([[word._.subjectivity for word in sub]])\n",
        "annot = np.array([word_tokenize(text[20])[ : -1]])\n",
        "\n",
        "plt.figure(figsize = (6, 3))\n",
        "sns.heatmap(x, annot = annot, fmt = '')\n",
        "plt.title('Heatmap for Subjectivity Detection')\n",
        "plt.show()"
      ]
    },
    {
      "cell_type": "code",
      "execution_count": null,
      "metadata": {
        "papermill": {
          "duration": 0.132465,
          "end_time": "2021-04-17T06:50:46.555274",
          "exception": false,
          "start_time": "2021-04-17T06:50:46.422809",
          "status": "completed"
        },
        "tags": [],
        "id": "a2WTo00VNxqV"
      },
      "outputs": [],
      "source": []
    }
  ],
  "metadata": {
    "kernelspec": {
      "display_name": "Python 3",
      "language": "python",
      "name": "python3"
    },
    "language_info": {
      "codemirror_mode": {
        "name": "ipython",
        "version": 3
      },
      "file_extension": ".py",
      "mimetype": "text/x-python",
      "name": "python",
      "nbconvert_exporter": "python",
      "pygments_lexer": "ipython3",
      "version": "3.7.6"
    },
    "papermill": {
      "duration": 199.459008,
      "end_time": "2021-04-17T06:50:46.796497",
      "environment_variables": {},
      "exception": null,
      "input_path": "__notebook__.ipynb",
      "output_path": "__notebook__.ipynb",
      "parameters": {},
      "start_time": "2021-04-17T06:47:27.337489",
      "version": "2.1.0"
    },
    "colab": {
      "provenance": [],
      "toc_visible": true,
      "include_colab_link": true
    }
  },
  "nbformat": 4,
  "nbformat_minor": 0
}